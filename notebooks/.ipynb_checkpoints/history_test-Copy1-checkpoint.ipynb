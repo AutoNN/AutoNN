{
 "cells": [
  {
   "cell_type": "code",
   "execution_count": 1,
   "id": "8ad5ca19",
   "metadata": {},
   "outputs": [],
   "source": [
    "import sys\n",
    "import time\n",
    "sys.path.insert(0, '/home/anish/AutoNN')"
   ]
  },
  {
   "cell_type": "code",
   "execution_count": 2,
   "id": "0c2338b6",
   "metadata": {},
   "outputs": [
    {
     "name": "stdout",
     "output_type": "stream",
     "text": [
      "\n",
      "\n",
      "░█▀▀█ █░░█ ▀▀█▀▀ █▀▀█ ▒█▄░▒█ ▒█▄░▒█ \n",
      "▒█▄▄█ █░░█ ░░█░░ █░░█ ▒█▒█▒█ ▒█▒█▒█ \n",
      "▒█░▒█ ░▀▀▀ ░░▀░░ ▀▀▀▀ ▒█░░▀█ ▒█░░▀█\n",
      "\n",
      "An AutoML framework by\n",
      "Anish Konar, Arjun Ghosh, Rajarshi Banerjee, Sagnik Nayak.\n",
      "\n"
     ]
    },
    {
     "name": "stderr",
     "output_type": "stream",
     "text": [
      "2022-10-15 21:21:06.418172: I tensorflow/stream_executor/platform/default/dso_loader.cc:49] Successfully opened dynamic library libcudart.so.10.1\n"
     ]
    }
   ],
   "source": [
    "from AutoNN.preprocessing import data_cleaning\n",
    "from AutoNN.preprocessing import encoding_v2 as enc\n",
    "from AutoNN.main import AutoNN\n",
    "import dask.dataframe as dd\n",
    "from AutoNN.networkbuilding import final\n",
    "import numpy as np\n",
    "import pandas as pd"
   ]
  },
  {
   "cell_type": "code",
   "execution_count": 3,
   "id": "ed39e30f",
   "metadata": {},
   "outputs": [],
   "source": [
    "import time"
   ]
  },
  {
   "cell_type": "code",
   "execution_count": 4,
   "id": "0d5da3a1",
   "metadata": {},
   "outputs": [],
   "source": [
    "# autonn = AutoNN(\"/home/anish/Downloads/winequality-red.csv\", \"quality\")\n",
    "autonn = AutoNN(\"/home/anish/Downloads/diabetes1.csv\", \"Outcome\")\n",
    "# autonn = AutoNN(\"/home/anish/Downloads/house-prices-advanced-regression-techniques/train.csv\", \"SalePrice\")"
   ]
  },
  {
   "cell_type": "code",
   "execution_count": 5,
   "id": "e2b3e614",
   "metadata": {},
   "outputs": [
    {
     "name": "stdout",
     "output_type": "stream",
     "text": [
      "[(0.008375209380234505, 'BMI'), (0.008375209380234505, 'Glucose'), (0.035175879396984924, 'BloodPressure'), (0.135678391959799, 'Pregnancies')]\n",
      "(597, 1)\n"
     ]
    }
   ],
   "source": [
    "start = time.time()\n",
    "autonn.preprocessing()\n",
    "end = time.time()"
   ]
  },
  {
   "cell_type": "code",
   "execution_count": 6,
   "id": "c9d44fa6",
   "metadata": {},
   "outputs": [
    {
     "name": "stdout",
     "output_type": "stream",
     "text": [
      "Time Taken 1.5275356769561768s\n"
     ]
    }
   ],
   "source": [
    "print(f\"Time Taken {end-start}s\")"
   ]
  },
  {
   "cell_type": "code",
   "execution_count": 7,
   "id": "96419d12",
   "metadata": {},
   "outputs": [
    {
     "name": "stderr",
     "output_type": "stream",
     "text": [
      "2022-10-15 21:21:10.915260: I tensorflow/compiler/jit/xla_cpu_device.cc:41] Not creating XLA devices, tf_xla_enable_xla_devices not set\n",
      "2022-10-15 21:21:10.916164: I tensorflow/stream_executor/platform/default/dso_loader.cc:49] Successfully opened dynamic library libcuda.so.1\n",
      "2022-10-15 21:21:11.011298: I tensorflow/stream_executor/cuda/cuda_gpu_executor.cc:941] successful NUMA node read from SysFS had negative value (-1), but there must be at least one NUMA node, so returning NUMA node zero\n",
      "2022-10-15 21:21:11.011602: I tensorflow/core/common_runtime/gpu/gpu_device.cc:1720] Found device 0 with properties: \n",
      "pciBusID: 0000:01:00.0 name: NVIDIA GeForce RTX 2060 computeCapability: 7.5\n",
      "coreClock: 1.695GHz coreCount: 30 deviceMemorySize: 5.79GiB deviceMemoryBandwidth: 312.97GiB/s\n",
      "2022-10-15 21:21:11.011660: I tensorflow/stream_executor/platform/default/dso_loader.cc:49] Successfully opened dynamic library libcudart.so.10.1\n",
      "2022-10-15 21:21:11.014466: I tensorflow/stream_executor/platform/default/dso_loader.cc:49] Successfully opened dynamic library libcublas.so.10\n",
      "2022-10-15 21:21:11.014536: I tensorflow/stream_executor/platform/default/dso_loader.cc:49] Successfully opened dynamic library libcublasLt.so.10\n",
      "2022-10-15 21:21:11.016681: I tensorflow/stream_executor/platform/default/dso_loader.cc:49] Successfully opened dynamic library libcufft.so.10\n",
      "2022-10-15 21:21:11.017076: I tensorflow/stream_executor/platform/default/dso_loader.cc:49] Successfully opened dynamic library libcurand.so.10\n",
      "2022-10-15 21:21:11.019603: I tensorflow/stream_executor/platform/default/dso_loader.cc:49] Successfully opened dynamic library libcusolver.so.10\n",
      "2022-10-15 21:21:11.020811: I tensorflow/stream_executor/platform/default/dso_loader.cc:49] Successfully opened dynamic library libcusparse.so.10\n",
      "2022-10-15 21:21:11.025254: I tensorflow/stream_executor/platform/default/dso_loader.cc:49] Successfully opened dynamic library libcudnn.so.7\n",
      "2022-10-15 21:21:11.025411: I tensorflow/stream_executor/cuda/cuda_gpu_executor.cc:941] successful NUMA node read from SysFS had negative value (-1), but there must be at least one NUMA node, so returning NUMA node zero\n",
      "2022-10-15 21:21:11.025648: I tensorflow/stream_executor/cuda/cuda_gpu_executor.cc:941] successful NUMA node read from SysFS had negative value (-1), but there must be at least one NUMA node, so returning NUMA node zero\n",
      "2022-10-15 21:21:11.025784: I tensorflow/core/common_runtime/gpu/gpu_device.cc:1862] Adding visible gpu devices: 0\n",
      "2022-10-15 21:21:11.026053: I tensorflow/core/platform/cpu_feature_guard.cc:142] This TensorFlow binary is optimized with oneAPI Deep Neural Network Library (oneDNN) to use the following CPU instructions in performance-critical operations:  SSE4.1 SSE4.2 AVX AVX2 FMA\n",
      "To enable them in other operations, rebuild TensorFlow with the appropriate compiler flags.\n",
      "2022-10-15 21:21:11.026373: I tensorflow/compiler/jit/xla_gpu_device.cc:99] Not creating XLA devices, tf_xla_enable_xla_devices not set\n",
      "2022-10-15 21:21:11.026478: I tensorflow/stream_executor/cuda/cuda_gpu_executor.cc:941] successful NUMA node read from SysFS had negative value (-1), but there must be at least one NUMA node, so returning NUMA node zero\n",
      "2022-10-15 21:21:11.026624: I tensorflow/core/common_runtime/gpu/gpu_device.cc:1720] Found device 0 with properties: \n",
      "pciBusID: 0000:01:00.0 name: NVIDIA GeForce RTX 2060 computeCapability: 7.5\n",
      "coreClock: 1.695GHz coreCount: 30 deviceMemorySize: 5.79GiB deviceMemoryBandwidth: 312.97GiB/s\n",
      "2022-10-15 21:21:11.026662: I tensorflow/stream_executor/platform/default/dso_loader.cc:49] Successfully opened dynamic library libcudart.so.10.1\n",
      "2022-10-15 21:21:11.026688: I tensorflow/stream_executor/platform/default/dso_loader.cc:49] Successfully opened dynamic library libcublas.so.10\n",
      "2022-10-15 21:21:11.026710: I tensorflow/stream_executor/platform/default/dso_loader.cc:49] Successfully opened dynamic library libcublasLt.so.10\n",
      "2022-10-15 21:21:11.026732: I tensorflow/stream_executor/platform/default/dso_loader.cc:49] Successfully opened dynamic library libcufft.so.10\n",
      "2022-10-15 21:21:11.026753: I tensorflow/stream_executor/platform/default/dso_loader.cc:49] Successfully opened dynamic library libcurand.so.10\n",
      "2022-10-15 21:21:11.026776: I tensorflow/stream_executor/platform/default/dso_loader.cc:49] Successfully opened dynamic library libcusolver.so.10\n",
      "2022-10-15 21:21:11.026799: I tensorflow/stream_executor/platform/default/dso_loader.cc:49] Successfully opened dynamic library libcusparse.so.10\n",
      "2022-10-15 21:21:11.026821: I tensorflow/stream_executor/platform/default/dso_loader.cc:49] Successfully opened dynamic library libcudnn.so.7\n",
      "2022-10-15 21:21:11.026896: I tensorflow/stream_executor/cuda/cuda_gpu_executor.cc:941] successful NUMA node read from SysFS had negative value (-1), but there must be at least one NUMA node, so returning NUMA node zero\n",
      "2022-10-15 21:21:11.027090: I tensorflow/stream_executor/cuda/cuda_gpu_executor.cc:941] successful NUMA node read from SysFS had negative value (-1), but there must be at least one NUMA node, so returning NUMA node zero\n",
      "2022-10-15 21:21:11.027220: I tensorflow/core/common_runtime/gpu/gpu_device.cc:1862] Adding visible gpu devices: 0\n",
      "2022-10-15 21:21:11.027266: I tensorflow/stream_executor/platform/default/dso_loader.cc:49] Successfully opened dynamic library libcudart.so.10.1\n",
      "2022-10-15 21:21:11.470412: I tensorflow/core/common_runtime/gpu/gpu_device.cc:1261] Device interconnect StreamExecutor with strength 1 edge matrix:\n",
      "2022-10-15 21:21:11.470438: I tensorflow/core/common_runtime/gpu/gpu_device.cc:1267]      0 \n",
      "2022-10-15 21:21:11.470444: I tensorflow/core/common_runtime/gpu/gpu_device.cc:1280] 0:   N \n",
      "2022-10-15 21:21:11.470623: I tensorflow/stream_executor/cuda/cuda_gpu_executor.cc:941] successful NUMA node read from SysFS had negative value (-1), but there must be at least one NUMA node, so returning NUMA node zero\n",
      "2022-10-15 21:21:11.470802: I tensorflow/stream_executor/cuda/cuda_gpu_executor.cc:941] successful NUMA node read from SysFS had negative value (-1), but there must be at least one NUMA node, so returning NUMA node zero\n",
      "2022-10-15 21:21:11.470942: I tensorflow/stream_executor/cuda/cuda_gpu_executor.cc:941] successful NUMA node read from SysFS had negative value (-1), but there must be at least one NUMA node, so returning NUMA node zero\n",
      "2022-10-15 21:21:11.471048: I tensorflow/core/common_runtime/gpu/gpu_device.cc:1406] Created TensorFlow device (/job:localhost/replica:0/task:0/device:GPU:0 with 4993 MB memory) -> physical GPU (device: 0, name: NVIDIA GeForce RTX 2060, pci bus id: 0000:01:00.0, compute capability: 7.5)\n",
      "2022-10-15 21:21:11.697267: I tensorflow/compiler/mlir/mlir_graph_optimization_pass.cc:116] None of the MLIR optimization passes are enabled (registered 2)\n",
      "2022-10-15 21:21:11.717407: I tensorflow/core/platform/profile_utils/cpu_utils.cc:112] CPU Frequency: 2899885000 Hz\n",
      "2022-10-15 21:21:13.346037: I tensorflow/stream_executor/platform/default/dso_loader.cc:49] Successfully opened dynamic library libcublas.so.10\n"
     ]
    },
    {
     "name": "stdout",
     "output_type": "stream",
     "text": [
      "\n",
      " \n",
      " \n",
      "\n",
      "loss  :  3.9365103244781494 , TEST :  3.784498691558838\n",
      "output_layer_dense_16_16_loss  :  0.44355905055999756 , TEST :  0.42416876554489136\n",
      "output_layer_dense_16_64_loss  :  0.44310903549194336 , TEST :  0.41540735960006714\n",
      "output_layer_dense_16_128_loss  :  0.45243003964424133 , TEST :  0.43784594535827637\n",
      "output_layer_dense_64_16_loss  :  0.44557809829711914 , TEST :  0.4258297085762024\n",
      "output_layer_dense_64_64_loss  :  0.43159037828445435 , TEST :  0.4168785810470581\n",
      "output_layer_dense_64_128_loss  :  0.43202999234199524 , TEST :  0.41063591837882996\n",
      "output_layer_dense_128_16_loss  :  0.4395289421081543 , TEST :  0.4149712026119232\n",
      "output_layer_dense_128_64_loss  :  0.42592063546180725 , TEST :  0.41903388500213623\n",
      "output_layer_dense_128_128_loss  :  0.4227645695209503 , TEST :  0.4197273850440979\n",
      "\n",
      " \n",
      " \n",
      "\n",
      "loss  :  4.292679786682129 , TEST :  4.186764240264893\n",
      "output_layer_dense_16_16_16_loss  :  0.44518694281578064 , TEST :  0.417339026927948\n",
      "output_layer_dense_16_16_64_loss  :  0.4386580288410187 , TEST :  0.41333556175231934\n",
      "output_layer_dense_16_16_128_loss  :  0.43326336145401 , TEST :  0.40666452050209045\n",
      "output_layer_dense_16_64_16_loss  :  0.43971168994903564 , TEST :  0.41925641894340515\n",
      "output_layer_dense_16_64_64_loss  :  0.4295632839202881 , TEST :  0.3971704840660095\n",
      "output_layer_dense_16_64_128_loss  :  0.4112599492073059 , TEST :  0.4314057528972626\n",
      "output_layer_dense_16_128_16_loss  :  0.4348936378955841 , TEST :  0.41758012771606445\n",
      "output_layer_dense_16_128_64_loss  :  0.4226953387260437 , TEST :  0.4168587028980255\n",
      "output_layer_dense_16_128_128_loss  :  0.40546363592147827 , TEST :  0.452271044254303\n",
      "output_layer_dense_64_16_16_loss  :  0.43198397755622864 , TEST :  0.4148824214935303\n",
      "\n",
      " \n",
      " \n",
      "\n",
      "loss  :  4.129112243652344 , TEST :  4.154003620147705\n",
      "output_layer_dense_64_64_16_loss  :  0.4238802194595337 , TEST :  0.4217734932899475\n",
      "output_layer_dense_64_64_64_loss  :  0.41179829835891724 , TEST :  0.4162173271179199\n",
      "output_layer_dense_64_64_128_loss  :  0.41507747769355774 , TEST :  0.41806596517562866\n",
      "output_layer_dense_64_128_16_loss  :  0.4217558205127716 , TEST :  0.4167135953903198\n",
      "output_layer_dense_64_128_64_loss  :  0.3936271667480469 , TEST :  0.4163801074028015\n",
      "output_layer_dense_64_128_128_loss  :  0.394440621137619 , TEST :  0.4041520059108734\n",
      "output_layer_dense_128_16_16_loss  :  0.4264985918998718 , TEST :  0.4080757796764374\n",
      "output_layer_dense_128_64_16_loss  :  0.4171704947948456 , TEST :  0.4244143068790436\n",
      "output_layer_dense_128_64_64_loss  :  0.41753387451171875 , TEST :  0.4181116223335266\n",
      "output_layer_dense_128_128_16_loss  :  0.4073299765586853 , TEST :  0.4101000428199768\n",
      "\n",
      " \n",
      " \n",
      "\n",
      "loss  :  0.7860451936721802 , TEST :  0.8482769727706909\n",
      "output_layer_dense_128_128_64_loss  :  0.3933757245540619 , TEST :  0.41208750009536743\n",
      "output_layer_dense_128_128_128_loss  :  0.39266955852508545 , TEST :  0.4361893832683563\n",
      "\n",
      "-------------------------------------------------------------------------------\n",
      "[{'model_name': 'dense_16_64_64', 'score': 0.3971704840660095, 'path_weights': '/home/anish/AutoNN_test_weights/dense_16_64_64', 'model_conf': ['', 6, 3, 'relu', {'layer1': 16, 'layer2': 64, 'layer3': 64}, [1, 'sigmoid']], 'model': <tensorflow.python.keras.engine.functional.Functional object at 0x7f2f04312760>}, {'model_name': 'dense_64_128_128', 'score': 0.4041520059108734, 'path_weights': '/home/anish/AutoNN_test_weights/dense_64_128_128', 'model_conf': ['', 6, 3, 'relu', {'layer1': 64, 'layer2': 128, 'layer3': 128}, [1, 'sigmoid']], 'model': <tensorflow.python.keras.engine.functional.Functional object at 0x7f2f28729e80>}, {'model_name': 'dense_16_16_128', 'score': 0.40666452050209045, 'path_weights': '/home/anish/AutoNN_test_weights/dense_16_16_128', 'model_conf': ['', 6, 3, 'relu', {'layer1': 16, 'layer2': 16, 'layer3': 128}, [1, 'sigmoid']], 'model': <tensorflow.python.keras.engine.functional.Functional object at 0x7f2f04312ca0>}]\n",
      "\n",
      "-------------------------------------------------------------------------------\n",
      "--------------------------------------------------------------------------------\n",
      "Model Name : dense_16_64_64_dr\n",
      "\n",
      "BEST HYPERPARAMETERS : BEST_LOSS : 0.407859206199646, BEST_ACTIVATION : relu, BEST_INITIALIZER : HeUniform, BEST_LEARINING_RATE : 0.01, BEST_BATCHSIZE : 32, BEST_DROPOUT_RATE : 0.5, BEST_DROPOUT_LOSS : 0.0007032155990600586\n",
      "\n",
      " \n",
      " \n",
      "\n",
      "loss  :  0.4171951413154602 , TEST :  0.4591003358364105\n",
      "--------------------------------------------------------------------------------\n",
      "Model Name : dense_64_128_128_dr\n",
      "\n",
      "BEST HYPERPARAMETERS : BEST_LOSS : 0.40846818685531616, BEST_ACTIVATION : relu, BEST_INITIALIZER : HeUniform, BEST_LEARINING_RATE : 0.00158, BEST_BATCHSIZE : 16, BEST_DROPOUT_RATE : 0.5, BEST_DROPOUT_LOSS : 0.07081463932991028\n",
      "\n",
      " \n",
      " \n",
      "\n",
      "loss  :  0.27344831824302673 , TEST :  0.6640315651893616\n",
      "--------------------------------------------------------------------------------\n",
      "Model Name : dense_16_16_128_dr\n",
      "\n",
      "BEST HYPERPARAMETERS : BEST_LOSS : 0.4316543638706207, BEST_ACTIVATION : relu, BEST_INITIALIZER : HeUniform, BEST_LEARINING_RATE : 0.01, BEST_BATCHSIZE : 64, BEST_DROPOUT_RATE : 0.5, BEST_DROPOUT_LOSS : 0.0027106106281280518\n",
      "\n",
      " \n",
      " \n",
      "\n",
      "loss  :  0.3985910415649414 , TEST :  0.43841999769210815\n",
      "[{'model_name': 'dense_16_16_128_dr', 'score': 0.43841999769210815, 'path_weights': '/home/anish/AutoNN_test_weights/candidate_models/dense_16_16_128_dr', 'model_conf': ['', 6, 3, 'relu', {'layer1': 16, 'layer2': 16, 'layer3': 128}, [1, 'sigmoid'], True], 'model': <tensorflow.python.keras.engine.functional.Functional object at 0x7f2cfff94f70>, 'model_history': <tensorflow.python.keras.callbacks.History object at 0x7f2cc4086eb0>}, {'model_name': 'dense_16_64_64_dr', 'score': 0.4591003358364105, 'path_weights': '/home/anish/AutoNN_test_weights/candidate_models/dense_16_64_64_dr', 'model_conf': ['', 6, 3, 'relu', {'layer1': 16, 'layer2': 64, 'layer3': 64}, [1, 'sigmoid'], True], 'model': <tensorflow.python.keras.engine.functional.Functional object at 0x7f2da8341580>, 'model_history': <tensorflow.python.keras.callbacks.History object at 0x7f2d415e9850>}, {'model_name': 'dense_64_128_128_dr', 'score': 0.6640315651893616, 'path_weights': '/home/anish/AutoNN_test_weights/candidate_models/dense_64_128_128_dr', 'model_conf': ['', 6, 3, 'relu', {'layer1': 64, 'layer2': 128, 'layer3': 128}, [1, 'sigmoid'], True], 'model': <tensorflow.python.keras.engine.functional.Functional object at 0x7f2d40b4ec10>, 'model_history': <tensorflow.python.keras.callbacks.History object at 0x7f2d03128b20>}]\n"
     ]
    },
    {
     "name": "stderr",
     "output_type": "stream",
     "text": [
      "2022-10-15 21:30:44.933298: W tensorflow/python/util/util.cc:348] Sets are not currently considered sequences, but this may change in the future, so consider avoiding using them.\n"
     ]
    },
    {
     "name": "stdout",
     "output_type": "stream",
     "text": [
      "INFO:tensorflow:Assets written to: /home/anish/AutoNN_test_weights/candidate_models/dense_16_16_128_dr/assets\n",
      "INFO:tensorflow:Assets written to: /home/anish/AutoNN_test_weights/candidate_models/dense_16_64_64_dr/assets\n",
      "INFO:tensorflow:Assets written to: /home/anish/AutoNN_test_weights/candidate_models/dense_64_128_128_dr/assets\n"
     ]
    }
   ],
   "source": [
    "start = time.time()\n",
    "autonn.neuralnetworkgeneration()\n",
    "end = time.time()"
   ]
  },
  {
   "cell_type": "code",
   "execution_count": 8,
   "id": "36eaddff",
   "metadata": {},
   "outputs": [
    {
     "name": "stdout",
     "output_type": "stream",
     "text": [
      "Time Taken 580.2157762050629s\n"
     ]
    }
   ],
   "source": [
    "print(f\"Time Taken {end-start}s\")"
   ]
  },
  {
   "cell_type": "code",
   "execution_count": 9,
   "id": "06f9d8fa",
   "metadata": {},
   "outputs": [
    {
     "name": "stdout",
     "output_type": "stream",
     "text": [
      "[<tensorflow.python.keras.callbacks.History object at 0x7f2cc4086eb0>, <tensorflow.python.keras.callbacks.History object at 0x7f2d415e9850>, <tensorflow.python.keras.callbacks.History object at 0x7f2d03128b20>]\n"
     ]
    }
   ],
   "source": [
    "print(autonn.history_list)"
   ]
  },
  {
   "cell_type": "code",
   "execution_count": 10,
   "id": "48130896",
   "metadata": {},
   "outputs": [],
   "source": [
    "from matplotlib import pyplot as plt"
   ]
  },
  {
   "cell_type": "code",
   "execution_count": 11,
   "id": "3f6e1486",
   "metadata": {},
   "outputs": [
    {
     "data": {
      "image/png": "[encoded data removed]",
      "text/plain": [
       "<Figure size 432x288 with 1 Axes>"
      ]
     },
     "metadata": {
      "needs_background": "light"
     },
     "output_type": "display_data"
    }
   ],
   "source": [
    "history = autonn.history_list[0]\n",
    "plt.plot(history.history['loss'])\n",
    "plt.plot(history.history['val_loss'])\n",
    "plt.title('model accuracy')\n",
    "plt.ylabel('loss')\n",
    "plt.xlabel('epoch')\n",
    "plt.ylim(0,1)\n",
    "plt.legend(['train', 'val'], loc='upper left')\n",
    "plt.show()"
   ]
  },
  {
   "cell_type": "code",
   "execution_count": 12,
   "id": "0c8b3040",
   "metadata": {},
   "outputs": [
    {
     "data": {
      "image/png": "[encoded data removed]",
      "text/plain": [
       "<Figure size 432x288 with 1 Axes>"
      ]
     },
     "metadata": {
      "needs_background": "light"
     },
     "output_type": "display_data"
    }
   ],
   "source": [
    "history = autonn.history_list[1]\n",
    "plt.plot(history.history['loss'])\n",
    "plt.plot(history.history['val_loss'])\n",
    "plt.title('model accuracy')\n",
    "plt.ylabel('loss')\n",
    "plt.xlabel('epoch')\n",
    "plt.ylim(0,1)\n",
    "plt.legend(['train', 'val'], loc='upper left')\n",
    "plt.show()"
   ]
  },
  {
   "cell_type": "code",
   "execution_count": 13,
   "id": "3ecfbf60",
   "metadata": {},
   "outputs": [
    {
     "data": {
      "image/png": "[encoded data removed]",
      "text/plain": [
       "<Figure size 432x288 with 1 Axes>"
      ]
     },
     "metadata": {
      "needs_background": "light"
     },
     "output_type": "display_data"
    }
   ],
   "source": [
    "history = autonn.history_list[2]\n",
    "plt.plot(history.history['loss'])\n",
    "plt.plot(history.history['val_loss'])\n",
    "plt.title('model accuracy')\n",
    "plt.ylabel('loss')\n",
    "plt.xlabel('epoch')\n",
    "plt.ylim(0,1)\n",
    "plt.legend(['train', 'val'], loc='upper left')\n",
    "plt.show()"
   ]
  },
  {
   "cell_type": "code",
   "execution_count": null,
   "id": "7354a8f7",
   "metadata": {},
   "outputs": [],
   "source": []
  },
  {
   "cell_type": "code",
   "execution_count": null,
   "id": "00544d73",
   "metadata": {},
   "outputs": [],
   "source": []
  }
 ],
 "metadata": {
  "kernelspec": {
   "display_name": "Python 3 (ipykernel)",
   "language": "python",
   "name": "python3"
  },
  "language_info": {
   "codemirror_mode": {
    "name": "ipython",
    "version": 3
   },
   "file_extension": ".py",
   "mimetype": "text/x-python",
   "name": "python",
   "nbconvert_exporter": "python",
   "pygments_lexer": "ipython3",
   "version": "3.9.13"
  }
 },
 "nbformat": 4,
 "nbformat_minor": 5
}
