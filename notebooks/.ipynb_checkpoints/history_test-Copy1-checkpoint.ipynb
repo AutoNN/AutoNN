{
 "cells": [
  {
   "cell_type": "code",
   "execution_count": 1,
   "id": "8ad5ca19",
   "metadata": {},
   "outputs": [],
   "source": [
    "import sys\n",
    "import time\n",
    "sys.path.insert(0, '/home/anish/AutoNN')"
   ]
  },
  {
   "cell_type": "code",
   "execution_count": 2,
   "id": "0c2338b6",
   "metadata": {},
   "outputs": [
    {
     "name": "stdout",
     "output_type": "stream",
     "text": [
      "\n",
      "\n",
      "░█▀▀█ █░░█ ▀▀█▀▀ █▀▀█ ▒█▄░▒█ ▒█▄░▒█ \n",
      "▒█▄▄█ █░░█ ░░█░░ █░░█ ▒█▒█▒█ ▒█▒█▒█ \n",
      "▒█░▒█ ░▀▀▀ ░░▀░░ ▀▀▀▀ ▒█░░▀█ ▒█░░▀█\n",
      "\n",
      "An AutoML framework by\n",
      "Anish Konar, Arjun Ghosh, Rajarshi Banerjee, Sagnik Nayak.\n",
      "\n"
     ]
    },
    {
     "name": "stderr",
     "output_type": "stream",
     "text": [
      "2022-10-15 20:15:52.546899: I tensorflow/stream_executor/platform/default/dso_loader.cc:49] Successfully opened dynamic library libcudart.so.10.1\n"
     ]
    }
   ],
   "source": [
    "from AutoNN.preprocessing import data_cleaning\n",
    "from AutoNN.preprocessing import encoding_v2 as enc\n",
    "from AutoNN.main import AutoNN\n",
    "import dask.dataframe as dd\n",
    "from AutoNN.networkbuilding import final\n",
    "import numpy as np\n",
    "import pandas as pd"
   ]
  },
  {
   "cell_type": "code",
   "execution_count": 3,
   "id": "ed39e30f",
   "metadata": {},
   "outputs": [],
   "source": [
    "import time"
   ]
  },
  {
   "cell_type": "code",
   "execution_count": 4,
   "id": "0d5da3a1",
   "metadata": {},
   "outputs": [],
   "source": [
    "# autonn = AutoNN(\"/home/anish/Downloads/winequality-red.csv\", \"quality\")\n",
    "autonn = AutoNN(\"/home/anish/Downloads/diabetes1.csv\", \"Outcome\")\n",
    "# autonn = AutoNN(\"/home/anish/Downloads/house-prices-advanced-regression-techniques/train.csv\", \"SalePrice\")"
   ]
  },
  {
   "cell_type": "code",
   "execution_count": 5,
   "id": "e2b3e614",
   "metadata": {},
   "outputs": [
    {
     "name": "stdout",
     "output_type": "stream",
     "text": [
      "[(0.0046875, 'Glucose'), (0.0109375, 'BMI'), (0.0484375, 'BloodPressure'), (0.1484375, 'Pregnancies')]\n",
      "(640, 1)\n"
     ]
    }
   ],
   "source": [
    "start = time.time()\n",
    "autonn.preprocessing()\n",
    "end = time.time()"
   ]
  },
  {
   "cell_type": "code",
   "execution_count": 6,
   "id": "c9d44fa6",
   "metadata": {},
   "outputs": [
    {
     "name": "stdout",
     "output_type": "stream",
     "text": [
      "Time Taken 1.7548491954803467s\n"
     ]
    }
   ],
   "source": [
    "print(f\"Time Taken {end-start}s\")"
   ]
  },
  {
   "cell_type": "code",
   "execution_count": 7,
   "id": "96419d12",
   "metadata": {},
   "outputs": [
    {
     "name": "stderr",
     "output_type": "stream",
     "text": [
      "2022-10-15 20:15:55.056526: I tensorflow/compiler/jit/xla_cpu_device.cc:41] Not creating XLA devices, tf_xla_enable_xla_devices not set\n",
      "2022-10-15 20:15:55.057329: I tensorflow/stream_executor/platform/default/dso_loader.cc:49] Successfully opened dynamic library libcuda.so.1\n",
      "2022-10-15 20:15:55.137292: I tensorflow/stream_executor/cuda/cuda_gpu_executor.cc:941] successful NUMA node read from SysFS had negative value (-1), but there must be at least one NUMA node, so returning NUMA node zero\n",
      "2022-10-15 20:15:55.137736: I tensorflow/core/common_runtime/gpu/gpu_device.cc:1720] Found device 0 with properties: \n",
      "pciBusID: 0000:01:00.0 name: NVIDIA GeForce RTX 2060 computeCapability: 7.5\n",
      "coreClock: 1.695GHz coreCount: 30 deviceMemorySize: 5.79GiB deviceMemoryBandwidth: 312.97GiB/s\n",
      "2022-10-15 20:15:55.137825: I tensorflow/stream_executor/platform/default/dso_loader.cc:49] Successfully opened dynamic library libcudart.so.10.1\n",
      "2022-10-15 20:15:55.142333: I tensorflow/stream_executor/platform/default/dso_loader.cc:49] Successfully opened dynamic library libcublas.so.10\n",
      "2022-10-15 20:15:55.142472: I tensorflow/stream_executor/platform/default/dso_loader.cc:49] Successfully opened dynamic library libcublasLt.so.10\n",
      "2022-10-15 20:15:55.145729: I tensorflow/stream_executor/platform/default/dso_loader.cc:49] Successfully opened dynamic library libcufft.so.10\n",
      "2022-10-15 20:15:55.146307: I tensorflow/stream_executor/platform/default/dso_loader.cc:49] Successfully opened dynamic library libcurand.so.10\n",
      "2022-10-15 20:15:55.149722: I tensorflow/stream_executor/platform/default/dso_loader.cc:49] Successfully opened dynamic library libcusolver.so.10\n",
      "2022-10-15 20:15:55.151291: I tensorflow/stream_executor/platform/default/dso_loader.cc:49] Successfully opened dynamic library libcusparse.so.10\n",
      "2022-10-15 20:15:55.156692: I tensorflow/stream_executor/platform/default/dso_loader.cc:49] Successfully opened dynamic library libcudnn.so.7\n",
      "2022-10-15 20:15:55.156891: I tensorflow/stream_executor/cuda/cuda_gpu_executor.cc:941] successful NUMA node read from SysFS had negative value (-1), but there must be at least one NUMA node, so returning NUMA node zero\n",
      "2022-10-15 20:15:55.157201: I tensorflow/stream_executor/cuda/cuda_gpu_executor.cc:941] successful NUMA node read from SysFS had negative value (-1), but there must be at least one NUMA node, so returning NUMA node zero\n",
      "2022-10-15 20:15:55.157374: I tensorflow/core/common_runtime/gpu/gpu_device.cc:1862] Adding visible gpu devices: 0\n",
      "2022-10-15 20:15:55.157716: I tensorflow/core/platform/cpu_feature_guard.cc:142] This TensorFlow binary is optimized with oneAPI Deep Neural Network Library (oneDNN) to use the following CPU instructions in performance-critical operations:  SSE4.1 SSE4.2 AVX AVX2 FMA\n",
      "To enable them in other operations, rebuild TensorFlow with the appropriate compiler flags.\n",
      "2022-10-15 20:15:55.158334: I tensorflow/compiler/jit/xla_gpu_device.cc:99] Not creating XLA devices, tf_xla_enable_xla_devices not set\n",
      "2022-10-15 20:15:55.158471: I tensorflow/stream_executor/cuda/cuda_gpu_executor.cc:941] successful NUMA node read from SysFS had negative value (-1), but there must be at least one NUMA node, so returning NUMA node zero\n",
      "2022-10-15 20:15:55.158649: I tensorflow/core/common_runtime/gpu/gpu_device.cc:1720] Found device 0 with properties: \n",
      "pciBusID: 0000:01:00.0 name: NVIDIA GeForce RTX 2060 computeCapability: 7.5\n",
      "coreClock: 1.695GHz coreCount: 30 deviceMemorySize: 5.79GiB deviceMemoryBandwidth: 312.97GiB/s\n",
      "2022-10-15 20:15:55.158694: I tensorflow/stream_executor/platform/default/dso_loader.cc:49] Successfully opened dynamic library libcudart.so.10.1\n",
      "2022-10-15 20:15:55.158726: I tensorflow/stream_executor/platform/default/dso_loader.cc:49] Successfully opened dynamic library libcublas.so.10\n",
      "2022-10-15 20:15:55.158755: I tensorflow/stream_executor/platform/default/dso_loader.cc:49] Successfully opened dynamic library libcublasLt.so.10\n",
      "2022-10-15 20:15:55.158784: I tensorflow/stream_executor/platform/default/dso_loader.cc:49] Successfully opened dynamic library libcufft.so.10\n",
      "2022-10-15 20:15:55.158813: I tensorflow/stream_executor/platform/default/dso_loader.cc:49] Successfully opened dynamic library libcurand.so.10\n",
      "2022-10-15 20:15:55.158842: I tensorflow/stream_executor/platform/default/dso_loader.cc:49] Successfully opened dynamic library libcusolver.so.10\n",
      "2022-10-15 20:15:55.158873: I tensorflow/stream_executor/platform/default/dso_loader.cc:49] Successfully opened dynamic library libcusparse.so.10\n",
      "2022-10-15 20:15:55.158902: I tensorflow/stream_executor/platform/default/dso_loader.cc:49] Successfully opened dynamic library libcudnn.so.7\n",
      "2022-10-15 20:15:55.158997: I tensorflow/stream_executor/cuda/cuda_gpu_executor.cc:941] successful NUMA node read from SysFS had negative value (-1), but there must be at least one NUMA node, so returning NUMA node zero\n",
      "2022-10-15 20:15:55.159201: I tensorflow/stream_executor/cuda/cuda_gpu_executor.cc:941] successful NUMA node read from SysFS had negative value (-1), but there must be at least one NUMA node, so returning NUMA node zero\n",
      "2022-10-15 20:15:55.159336: I tensorflow/core/common_runtime/gpu/gpu_device.cc:1862] Adding visible gpu devices: 0\n",
      "2022-10-15 20:15:55.159380: I tensorflow/stream_executor/platform/default/dso_loader.cc:49] Successfully opened dynamic library libcudart.so.10.1\n",
      "2022-10-15 20:15:55.599234: I tensorflow/core/common_runtime/gpu/gpu_device.cc:1261] Device interconnect StreamExecutor with strength 1 edge matrix:\n",
      "2022-10-15 20:15:55.599257: I tensorflow/core/common_runtime/gpu/gpu_device.cc:1267]      0 \n",
      "2022-10-15 20:15:55.599263: I tensorflow/core/common_runtime/gpu/gpu_device.cc:1280] 0:   N \n",
      "2022-10-15 20:15:55.599443: I tensorflow/stream_executor/cuda/cuda_gpu_executor.cc:941] successful NUMA node read from SysFS had negative value (-1), but there must be at least one NUMA node, so returning NUMA node zero\n",
      "2022-10-15 20:15:55.599627: I tensorflow/stream_executor/cuda/cuda_gpu_executor.cc:941] successful NUMA node read from SysFS had negative value (-1), but there must be at least one NUMA node, so returning NUMA node zero\n",
      "2022-10-15 20:15:55.599768: I tensorflow/stream_executor/cuda/cuda_gpu_executor.cc:941] successful NUMA node read from SysFS had negative value (-1), but there must be at least one NUMA node, so returning NUMA node zero\n",
      "2022-10-15 20:15:55.599876: I tensorflow/core/common_runtime/gpu/gpu_device.cc:1406] Created TensorFlow device (/job:localhost/replica:0/task:0/device:GPU:0 with 4992 MB memory) -> physical GPU (device: 0, name: NVIDIA GeForce RTX 2060, pci bus id: 0000:01:00.0, compute capability: 7.5)\n",
      "2022-10-15 20:15:55.828492: I tensorflow/compiler/mlir/mlir_graph_optimization_pass.cc:116] None of the MLIR optimization passes are enabled (registered 2)\n",
      "2022-10-15 20:15:55.845448: I tensorflow/core/platform/profile_utils/cpu_utils.cc:112] CPU Frequency: 2899885000 Hz\n",
      "2022-10-15 20:15:57.172641: I tensorflow/stream_executor/platform/default/dso_loader.cc:49] Successfully opened dynamic library libcublas.so.10\n"
     ]
    },
    {
     "name": "stdout",
     "output_type": "stream",
     "text": [
      "\n",
      " \n",
      " \n",
      "\n",
      "loss  :  3.7752811908721924 , TEST :  4.4790520668029785\n",
      "output_layer_dense_16_16_loss  :  0.43962517380714417 , TEST :  0.49344950914382935\n",
      "output_layer_dense_16_64_loss  :  0.4236289858818054 , TEST :  0.5037107467651367\n",
      "output_layer_dense_16_128_loss  :  0.4269086718559265 , TEST :  0.496690034866333\n",
      "output_layer_dense_64_16_loss  :  0.431107759475708 , TEST :  0.4927660822868347\n",
      "output_layer_dense_64_64_loss  :  0.41753730177879333 , TEST :  0.49346911907196045\n",
      "output_layer_dense_64_128_loss  :  0.41137629747390747 , TEST :  0.49777108430862427\n",
      "output_layer_dense_128_16_loss  :  0.4191809594631195 , TEST :  0.49557051062583923\n",
      "output_layer_dense_128_64_loss  :  0.40601834654808044 , TEST :  0.5003530383110046\n",
      "output_layer_dense_128_128_loss  :  0.3998972475528717 , TEST :  0.5052723288536072\n",
      "\n",
      " \n",
      " \n",
      "\n",
      "loss  :  4.10782527923584 , TEST :  5.01396369934082\n",
      "output_layer_dense_16_16_16_loss  :  0.4229429364204407 , TEST :  0.4951390326023102\n",
      "output_layer_dense_16_16_64_loss  :  0.42360323667526245 , TEST :  0.4942985475063324\n",
      "output_layer_dense_16_16_128_loss  :  0.3975275754928589 , TEST :  0.5135709047317505\n",
      "output_layer_dense_16_64_16_loss  :  0.4175892472267151 , TEST :  0.5018166303634644\n",
      "output_layer_dense_16_64_64_loss  :  0.40607112646102905 , TEST :  0.5035859942436218\n",
      "output_layer_dense_16_64_128_loss  :  0.41489917039871216 , TEST :  0.5097750425338745\n",
      "output_layer_dense_16_128_16_loss  :  0.4097142219543457 , TEST :  0.4929330348968506\n",
      "output_layer_dense_16_128_64_loss  :  0.4089933931827545 , TEST :  0.5053418278694153\n",
      "output_layer_dense_16_128_128_loss  :  0.3894231915473938 , TEST :  0.49974262714385986\n",
      "output_layer_dense_64_16_16_loss  :  0.41706210374832153 , TEST :  0.49775999784469604\n",
      "\n",
      " \n",
      " \n",
      "\n",
      "loss  :  3.92712664604187 , TEST :  5.041036605834961\n",
      "output_layer_dense_64_64_16_loss  :  0.4026114344596863 , TEST :  0.502764880657196\n",
      "output_layer_dense_64_64_64_loss  :  0.3834378719329834 , TEST :  0.5037373304367065\n",
      "output_layer_dense_64_64_128_loss  :  0.38768842816352844 , TEST :  0.501632571220398\n",
      "output_layer_dense_64_128_16_loss  :  0.40489301085472107 , TEST :  0.48911812901496887\n",
      "output_layer_dense_64_128_64_loss  :  0.3746102452278137 , TEST :  0.5072439908981323\n",
      "output_layer_dense_64_128_128_loss  :  0.37694263458251953 , TEST :  0.5316789150238037\n",
      "output_layer_dense_128_16_16_loss  :  0.40858545899391174 , TEST :  0.4990697503089905\n",
      "output_layer_dense_128_64_16_loss  :  0.40144485235214233 , TEST :  0.49783948063850403\n",
      "output_layer_dense_128_64_64_loss  :  0.3934890627861023 , TEST :  0.5041872262954712\n",
      "output_layer_dense_128_128_16_loss  :  0.39342355728149414 , TEST :  0.503764271736145\n",
      "\n",
      " \n",
      " \n",
      "\n",
      "loss  :  0.8075031042098999 , TEST :  1.0634034872055054\n",
      "output_layer_dense_128_128_64_loss  :  0.4091234803199768 , TEST :  0.5256762504577637\n",
      "output_layer_dense_128_128_128_loss  :  0.3983796536922455 , TEST :  0.5377271771430969\n",
      "\n",
      "-------------------------------------------------------------------------------\n",
      "[{'model_name': 'dense_64_128_16', 'score': 0.48911812901496887, 'path_weights': '/home/anish/AutoNN_test_weights/dense_64_128_16', 'model_conf': ['', 6, 3, 'relu', {'layer1': 64, 'layer2': 128, 'layer3': 16}, [1, 'sigmoid']], 'model': <tensorflow.python.keras.engine.functional.Functional object at 0x7ff4443d47c0>}, {'model_name': 'dense_64_16', 'score': 0.4927660822868347, 'path_weights': '/home/anish/AutoNN_test_weights/dense_64_16', 'model_conf': ['', 6, 2, 'relu', {'layer1': 64, 'layer2': 16}, [1, 'sigmoid']], 'model': <tensorflow.python.keras.engine.functional.Functional object at 0x7ff4243387f0>}, {'model_name': 'dense_16_128_16', 'score': 0.4929330348968506, 'path_weights': '/home/anish/AutoNN_test_weights/dense_16_128_16', 'model_conf': ['', 6, 3, 'relu', {'layer1': 16, 'layer2': 128, 'layer3': 16}, [1, 'sigmoid']], 'model': <tensorflow.python.keras.engine.functional.Functional object at 0x7ff3c06f8730>}]\n",
      "\n",
      "-------------------------------------------------------------------------------\n",
      "--------------------------------------------------------------------------------\n",
      "Model Name : dense_64_128_16_dr\n",
      "\n",
      "BEST HYPERPARAMETERS : BEST_LOSS : 0.3799261152744293, BEST_ACTIVATION : relu, BEST_INITIALIZER : HeUniform, BEST_LEARINING_RATE : 0.01259, BEST_BATCHSIZE : 64, BEST_DROPOUT_RATE : 0.0, BEST_DROPOUT_LOSS : 0.33609694242477417\n",
      "\n",
      " \n",
      " \n",
      "\n",
      "loss  :  0.21548505127429962 , TEST :  0.9479576349258423\n",
      "--------------------------------------------------------------------------------\n",
      "Model Name : dense_64_16_dr\n",
      "\n",
      "BEST HYPERPARAMETERS : BEST_LOSS : 0.405215322971344, BEST_ACTIVATION : relu, BEST_INITIALIZER : HeUniform, BEST_LEARINING_RATE : 0.02512, BEST_BATCHSIZE : 16, BEST_DROPOUT_RATE : 0.0, BEST_DROPOUT_LOSS : 0.3991954028606415\n",
      "\n",
      " \n",
      " \n",
      "\n",
      "loss  :  0.3701559901237488 , TEST :  0.5129856467247009\n",
      "--------------------------------------------------------------------------------\n",
      "Model Name : dense_16_128_16_dr\n",
      "\n",
      "BEST HYPERPARAMETERS : BEST_LOSS : 0.4004936218261719, BEST_ACTIVATION : relu, BEST_INITIALIZER : HeUniform, BEST_LEARINING_RATE : 0.00316, BEST_BATCHSIZE : 16, BEST_DROPOUT_RATE : 0.0, BEST_DROPOUT_LOSS : 0.3831917345523834\n",
      "\n",
      " \n",
      " \n",
      "\n",
      "loss  :  0.3255552351474762 , TEST :  0.6212160587310791\n",
      "[{'model_name': 'dense_64_16_dr', 'score': 0.5129856467247009, 'path_weights': '/home/anish/AutoNN_test_weights/candidate_models/dense_64_16_dr', 'model_conf': ['', 6, 2, 'relu', {'layer1': 64, 'layer2': 16}, [1, 'sigmoid'], True], 'model': <tensorflow.python.keras.engine.functional.Functional object at 0x7ff444083820>, 'model_history': <tensorflow.python.keras.callbacks.History object at 0x7ff186190070>}, {'model_name': 'dense_16_128_16_dr', 'score': 0.6212160587310791, 'path_weights': '/home/anish/AutoNN_test_weights/candidate_models/dense_16_128_16_dr', 'model_conf': ['', 6, 3, 'relu', {'layer1': 16, 'layer2': 128, 'layer3': 16}, [1, 'sigmoid'], True], 'model': <tensorflow.python.keras.engine.functional.Functional object at 0x7ff184035700>, 'model_history': <tensorflow.python.keras.callbacks.History object at 0x7ff147a3ccd0>}, {'model_name': 'dense_64_128_16_dr', 'score': 0.9479576349258423, 'path_weights': '/home/anish/AutoNN_test_weights/candidate_models/dense_64_128_16_dr', 'model_conf': ['', 6, 3, 'relu', {'layer1': 64, 'layer2': 128, 'layer3': 16}, [1, 'sigmoid'], True], 'model': <tensorflow.python.keras.engine.functional.Functional object at 0x7ff4442cc070>, 'model_history': <tensorflow.python.keras.callbacks.History object at 0x7ff1c47a5c40>}]\n"
     ]
    },
    {
     "name": "stderr",
     "output_type": "stream",
     "text": [
      "2022-10-15 20:22:41.427521: W tensorflow/python/util/util.cc:348] Sets are not currently considered sequences, but this may change in the future, so consider avoiding using them.\n"
     ]
    },
    {
     "name": "stdout",
     "output_type": "stream",
     "text": [
      "INFO:tensorflow:Assets written to: /home/anish/AutoNN_test_weights/candidate_models/dense_64_16_dr/assets\n",
      "INFO:tensorflow:Assets written to: /home/anish/AutoNN_test_weights/candidate_models/dense_16_128_16_dr/assets\n",
      "INFO:tensorflow:Assets written to: /home/anish/AutoNN_test_weights/candidate_models/dense_64_128_16_dr/assets\n"
     ]
    }
   ],
   "source": [
    "start = time.time()\n",
    "autonn.neuralnetworkgeneration()\n",
    "end = time.time()"
   ]
  },
  {
   "cell_type": "code",
   "execution_count": 8,
   "id": "36eaddff",
   "metadata": {},
   "outputs": [
    {
     "name": "stdout",
     "output_type": "stream",
     "text": [
      "Time Taken 407.6424388885498s\n"
     ]
    }
   ],
   "source": [
    "print(f\"Time Taken {end-start}s\")"
   ]
  },
  {
   "cell_type": "code",
   "execution_count": 9,
   "id": "06f9d8fa",
   "metadata": {},
   "outputs": [
    {
     "name": "stdout",
     "output_type": "stream",
     "text": [
      "[<tensorflow.python.keras.callbacks.History object at 0x7ff186190070>, <tensorflow.python.keras.callbacks.History object at 0x7ff147a3ccd0>, <tensorflow.python.keras.callbacks.History object at 0x7ff1c47a5c40>]\n"
     ]
    }
   ],
   "source": [
    "print(autonn.history_list)"
   ]
  },
  {
   "cell_type": "code",
   "execution_count": 10,
   "id": "48130896",
   "metadata": {},
   "outputs": [],
   "source": [
    "from matplotlib import pyplot as plt"
   ]
  },
  {
   "cell_type": "code",
   "execution_count": 16,
   "id": "3f6e1486",
   "metadata": {},
   "outputs": [
    {
     "data": {
      "image/png": "[encoded data removed]",
      "text/plain": [
       "<Figure size 432x288 with 1 Axes>"
      ]
     },
     "metadata": {
      "needs_background": "light"
     },
     "output_type": "display_data"
    }
   ],
   "source": [
    "history = autonn.history_list[0]\n",
    "plt.plot(history.history['loss'])\n",
    "plt.plot(history.history['val_loss'])\n",
    "plt.title('model accuracy')\n",
    "plt.ylabel('loss')\n",
    "plt.xlabel('epoch')\n",
    "plt.ylim(0,1)\n",
    "plt.legend(['train', 'val'], loc='upper left')\n",
    "plt.show()"
   ]
  },
  {
   "cell_type": "code",
   "execution_count": 17,
   "id": "0c8b3040",
   "metadata": {},
   "outputs": [
    {
     "data": {
      "image/png": "[encoded data removed]",
      "text/plain": [
       "<Figure size 432x288 with 1 Axes>"
      ]
     },
     "metadata": {
      "needs_background": "light"
     },
     "output_type": "display_data"
    }
   ],
   "source": [
    "history = autonn.history_list[1]\n",
    "plt.plot(history.history['loss'])\n",
    "plt.plot(history.history['val_loss'])\n",
    "plt.title('model accuracy')\n",
    "plt.ylabel('loss')\n",
    "plt.xlabel('epoch')\n",
    "plt.ylim(0,1)\n",
    "plt.legend(['train', 'val'], loc='upper left')\n",
    "plt.show()"
   ]
  },
  {
   "cell_type": "code",
   "execution_count": 18,
   "id": "3ecfbf60",
   "metadata": {},
   "outputs": [
    {
     "data": {
      "image/png": "[encoded data removed]",
      "text/plain": [
       "<Figure size 432x288 with 1 Axes>"
      ]
     },
     "metadata": {
      "needs_background": "light"
     },
     "output_type": "display_data"
    }
   ],
   "source": [
    "history = autonn.history_list[2]\n",
    "plt.plot(history.history['loss'])\n",
    "plt.plot(history.history['val_loss'])\n",
    "plt.title('model accuracy')\n",
    "plt.ylabel('loss')\n",
    "plt.xlabel('epoch')\n",
    "plt.ylim(0,1)\n",
    "plt.legend(['train', 'val'], loc='upper left')\n",
    "plt.show()"
   ]
  },
  {
   "cell_type": "code",
   "execution_count": null,
   "id": "7354a8f7",
   "metadata": {},
   "outputs": [],
   "source": []
  },
  {
   "cell_type": "code",
   "execution_count": null,
   "id": "00544d73",
   "metadata": {},
   "outputs": [],
   "source": []
  }
 ],
 "metadata": {
  "kernelspec": {
   "display_name": "Python 3 (ipykernel)",
   "language": "python",
   "name": "python3"
  },
  "language_info": {
   "codemirror_mode": {
    "name": "ipython",
    "version": 3
   },
   "file_extension": ".py",
   "mimetype": "text/x-python",
   "name": "python",
   "nbconvert_exporter": "python",
   "pygments_lexer": "ipython3",
   "version": "3.9.13"
  }
 },
 "nbformat": 4,
 "nbformat_minor": 5
}
