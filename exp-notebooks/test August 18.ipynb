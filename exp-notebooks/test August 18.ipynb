{
 "cells": [
  {
   "cell_type": "code",
   "execution_count": null,
   "id": "b1b73c40",
   "metadata": {},
   "outputs": [],
   "source": [
    "import sys\n",
    "import time\n",
    "sys.path.insert(0, '/home/anish/ASC_ML')"
   ]
  },
  {
   "cell_type": "code",
   "execution_count": null,
   "id": "226d408d",
   "metadata": {},
   "outputs": [],
   "source": [
    "from ASC_ML.networkbuilding import multiple_model_gen_v3 as multiple\n",
    "from ASC_ML.networkbuilding import dataframe_extractor as de\n",
    "from ASC_ML.networkbuilding import model_generation as model_gen\n",
    "# from ASC_ML import model_gen_train_test as testing\n",
    "from dask_ml.preprocessing import LabelEncoder\n",
    "# from dask_ml.preprocessing import MinMaxScaler\n",
    "from sklearn.preprocessing import MinMaxScaler"
   ]
  },
  {
   "cell_type": "code",
   "execution_count": null,
   "id": "1b709ec7",
   "metadata": {},
   "outputs": [],
   "source": [
    "# m = multiple.Multiple_Model_Gen(max_no_layers = 2, model_per_batch = 10)"
   ]
  },
  {
   "cell_type": "code",
   "execution_count": null,
   "id": "c3c356ab",
   "metadata": {},
   "outputs": [],
   "source": [
    "# import dask.dataframe as dd\n",
    "# import pandas as pd\n",
    "# data = dd.from_pandas(pd.Series(['a', 'a', 'b'], dtype='category'),\n",
    "#                      npartitions=1)\n",
    "# le = LabelEncoder()\n",
    "# le.fit_transform(data).compute()\n",
    "# print(type(le.fit_transform(data).compute()))"
   ]
  },
  {
   "cell_type": "code",
   "execution_count": null,
   "id": "c3e8faf9",
   "metadata": {},
   "outputs": [],
   "source": [
    "#For House Prediction Dataset https://www.kaggle.com/c/house-prices-advanced-regression-techniques/data?select=train.csv\n",
    "directory1 = \"/home/anish/ASC-ML-EXP-DATASETS/LinReg-tabular/house-prices-advanced-regression-techniques/train.csv\"\n",
    "\n",
    "\n",
    "# returns list of dask dataframe [singular_df_x, singular_df_y] or [train_df_x, train_df_y, test_df_x, test_df_y]\n",
    "dataset_list = de.DataframeExtractor_csv(directory1, label_names = [\"SalePrice\"]).df_list\n",
    "\n",
    "print(\"Train Dataset X Columns\")\n",
    "dataset_list[0].head()"
   ]
  },
  {
   "cell_type": "code",
   "execution_count": null,
   "id": "2faff3be",
   "metadata": {},
   "outputs": [],
   "source": [
    "dataset_list[1].head()"
   ]
  },
  {
   "cell_type": "code",
   "execution_count": null,
   "id": "ba39374d",
   "metadata": {},
   "outputs": [],
   "source": [
    "train_x = dataset_list[0].copy()"
   ]
  },
  {
   "cell_type": "code",
   "execution_count": null,
   "id": "17da251f",
   "metadata": {},
   "outputs": [],
   "source": [
    "train_x = train_x.fillna(0)"
   ]
  },
  {
   "cell_type": "code",
   "execution_count": null,
   "id": "e80b3956",
   "metadata": {},
   "outputs": [],
   "source": [
    "train_x.head()"
   ]
  },
  {
   "cell_type": "code",
   "execution_count": null,
   "id": "3c2b0130",
   "metadata": {},
   "outputs": [],
   "source": [
    "train_x['MSSubClass'] = train_x['MSSubClass'].apply(str)\n",
    "\n",
    "train_x['OverallCond'] = train_x['OverallCond'].astype(str)\n",
    "\n",
    "train_x['YrSold'] = train_x['YrSold'].astype(str)\n",
    "train_x['MoSold'] = train_x['MoSold'].astype(str)\n",
    "train_x.head()"
   ]
  },
  {
   "cell_type": "code",
   "execution_count": null,
   "id": "91e3cb54",
   "metadata": {},
   "outputs": [],
   "source": [
    "# a = train_x['LotShape']"
   ]
  },
  {
   "cell_type": "code",
   "execution_count": null,
   "id": "26e217e1",
   "metadata": {},
   "outputs": [],
   "source": [
    "# le = LabelEncoder() \n",
    "# le.fit_transform(a).compute()\n",
    "# train_x['LotShape'] = le.fit_transform(train_x['LotShape'])"
   ]
  },
  {
   "cell_type": "code",
   "execution_count": null,
   "id": "b03357de",
   "metadata": {},
   "outputs": [],
   "source": [
    "# train_x.head()"
   ]
  },
  {
   "cell_type": "code",
   "execution_count": null,
   "id": "18b5c4e1",
   "metadata": {},
   "outputs": [],
   "source": [
    "def keyval(allkeys):\n",
    "    i = 0\n",
    "    keyvalpairs = list()\n",
    "    for key in allkeys:\n",
    "        keyvalpairs.append((key,i))\n",
    "        i+=1\n",
    "    return dict(keyvalpairs)"
   ]
  },
  {
   "cell_type": "code",
   "execution_count": null,
   "id": "85582bfb",
   "metadata": {},
   "outputs": [],
   "source": [
    "# cols = ['FireplaceQu', 'LotShape']\n",
    "cols = ['FireplaceQu', 'BsmtQual', 'BsmtCond', 'GarageQual', 'GarageCond', \n",
    "        'ExterQual', 'ExterCond','HeatingQC', 'PoolQC', 'KitchenQual', 'BsmtFinType1', \n",
    "        'BsmtFinType2', 'Functional', 'Fence', 'BsmtExposure', 'GarageFinish', 'LandSlope',\n",
    "        'LotShape', 'PavedDrive', 'Street', 'Alley', 'CentralAir', 'MSSubClass', 'OverallCond', \n",
    "        'YrSold', 'MoSold']\n",
    "keys = {}\n",
    "for col in cols:\n",
    "    key = train_x[col].unique()\n",
    "    keyvalpairs = keyval(key)\n",
    "    keys.update({col:keyvalpairs})\n"
   ]
  },
  {
   "cell_type": "code",
   "execution_count": null,
   "id": "e27019f2",
   "metadata": {},
   "outputs": [],
   "source": [
    "keys"
   ]
  },
  {
   "cell_type": "code",
   "execution_count": null,
   "id": "7b866ae8",
   "metadata": {},
   "outputs": [],
   "source": [
    "train_X = train_x.replace(keys).copy()"
   ]
  },
  {
   "cell_type": "code",
   "execution_count": null,
   "id": "beed42ed",
   "metadata": {},
   "outputs": [],
   "source": [
    "train_X['FireplaceQu'].unique().compute()"
   ]
  },
  {
   "cell_type": "code",
   "execution_count": null,
   "id": "2244a3f4",
   "metadata": {},
   "outputs": [],
   "source": [
    "train_X.head()"
   ]
  },
  {
   "cell_type": "code",
   "execution_count": null,
   "id": "a98174b8",
   "metadata": {},
   "outputs": [],
   "source": [
    "cols_to_remove = []\n",
    "for col in train_X.columns:\n",
    "#     print(type(col))\n",
    "    try:\n",
    "        a = train_X[col].astype(float).compute()\n",
    "    except ValueError:\n",
    "#         print('Couldn\\'t covert %s to float' % col)\n",
    "        cols_to_remove.append(col)\n",
    "        pass\n",
    "\n",
    "# keep only the columns in df that do not contain string\n",
    "train_X = train_X[[col for col in train_X.columns if col not in cols_to_remove]]"
   ]
  },
  {
   "cell_type": "code",
   "execution_count": null,
   "id": "aa2c3b02",
   "metadata": {},
   "outputs": [],
   "source": [
    "print(cols_to_remove)"
   ]
  },
  {
   "cell_type": "code",
   "execution_count": null,
   "id": "ecf3891f",
   "metadata": {},
   "outputs": [],
   "source": [
    "train_X = train_X.drop([\"Id\"], axis = 1)"
   ]
  },
  {
   "cell_type": "code",
   "execution_count": null,
   "id": "4eff4a58",
   "metadata": {},
   "outputs": [],
   "source": [
    "# tsklearn.preprocessing.MinMaxScalerrain_X.head()"
   ]
  },
  {
   "cell_type": "code",
   "execution_count": null,
   "id": "fb1c660c",
   "metadata": {},
   "outputs": [],
   "source": [
    "len(train_X.columns)"
   ]
  },
  {
   "cell_type": "code",
   "execution_count": null,
   "id": "e66f991c",
   "metadata": {},
   "outputs": [],
   "source": [
    "len(dataset_list[1].columns)"
   ]
  },
  {
   "cell_type": "code",
   "execution_count": null,
   "id": "6455e8d1",
   "metadata": {},
   "outputs": [],
   "source": [
    "scaler_x = MinMaxScaler()\n",
    "scaler_x.fit(train_X)\n",
    "train_X_scaled = scaler_x.transform(train_X)\n",
    "\n",
    "scaler_y = MinMaxScaler()\n",
    "scaler_y.fit(dataset_list[1])\n",
    "train_Y_scaled = scaler_y.transform(dataset_list[1])"
   ]
  },
  {
   "cell_type": "code",
   "execution_count": null,
   "id": "bdc2d260",
   "metadata": {},
   "outputs": [],
   "source": [
    "# col = train_X.columns.to_list()\n",
    "# scaler_d = MinMaxScaler()\n",
    "# train_X.columns = list(train_X.columns)\n",
    "# scaled_train_X = scaler_d.fit_transform(train_X[col])"
   ]
  },
  {
   "cell_type": "code",
   "execution_count": null,
   "id": "f430d875",
   "metadata": {},
   "outputs": [],
   "source": [
    "train_X_scaled\n",
    "# train_Y_scaled"
   ]
  },
  {
   "cell_type": "code",
   "execution_count": null,
   "id": "e295c810",
   "metadata": {},
   "outputs": [],
   "source": [
    "train_Y_scaled"
   ]
  },
  {
   "cell_type": "code",
   "execution_count": null,
   "id": "f65360e5",
   "metadata": {},
   "outputs": [],
   "source": [
    "print(train_X_scaled.shape)\n",
    "print(train_Y_scaled.shape)"
   ]
  },
  {
   "cell_type": "code",
   "execution_count": null,
   "id": "64a87105",
   "metadata": {},
   "outputs": [],
   "source": [
    "import numpy as np\n",
    "total_data = np.append(train_X_scaled, train_Y_scaled, axis = 1)"
   ]
  },
  {
   "cell_type": "code",
   "execution_count": null,
   "id": "cced174c",
   "metadata": {},
   "outputs": [],
   "source": [
    "print(total_data.shape)"
   ]
  },
  {
   "cell_type": "code",
   "execution_count": null,
   "id": "41b333f5",
   "metadata": {},
   "outputs": [],
   "source": [
    "from sklearn.model_selection import train_test_split\n",
    "(train, test) = train_test_split(total_data, test_size=0.25, random_state=42)"
   ]
  },
  {
   "cell_type": "code",
   "execution_count": null,
   "id": "23f66f54",
   "metadata": {},
   "outputs": [],
   "source": [
    "trainX = train[:,:58]\n",
    "trainY = train[:,-1]\n",
    "testX = test[:,:58]\n",
    "testY = test[:,-1]\n",
    "print(trainX.shape)\n",
    "print(trainY.shape)"
   ]
  },
  {
   "cell_type": "code",
   "execution_count": null,
   "id": "eb7e0b9d",
   "metadata": {},
   "outputs": [],
   "source": [
    "train_Y_scaled"
   ]
  },
  {
   "cell_type": "code",
   "execution_count": null,
   "id": "46b0bc13",
   "metadata": {},
   "outputs": [],
   "source": [
    "trainY = trainY.reshape((trainY.shape[0],1))\n",
    "print(trainY.shape)"
   ]
  },
  {
   "cell_type": "code",
   "execution_count": null,
   "id": "5fb86d3c",
   "metadata": {},
   "outputs": [],
   "source": [
    "testY = testY.reshape((testY.shape[0],1))"
   ]
  },
  {
   "cell_type": "code",
   "execution_count": null,
   "id": "5eaaa596",
   "metadata": {},
   "outputs": [],
   "source": []
  },
  {
   "cell_type": "code",
   "execution_count": null,
   "id": "2817ab6b",
   "metadata": {},
   "outputs": [],
   "source": []
  },
  {
   "cell_type": "code",
   "execution_count": null,
   "id": "d3060e31",
   "metadata": {},
   "outputs": [],
   "source": []
  },
  {
   "cell_type": "code",
   "execution_count": null,
   "id": "4bfd898d",
   "metadata": {},
   "outputs": [],
   "source": [
    "start = time.time()\n",
    "m = multiple.Multiple_Model_Gen_V3(trainX, trainY, testX, testY, 10, 128, input_shape = 58, \n",
    "                                   max_no_layers = 3, model_per_batch = 10, \n",
    "                                   save_dir = \"/home/anish/ASC_ML_test_weights/\")\n",
    "m.get_model_confs()\n",
    "m.get_best_models()\n",
    "end = time.time()\n",
    "print(\"Time Taken : \", (end-start))"
   ]
  },
  {
   "cell_type": "code",
   "execution_count": null,
   "id": "ee0aae0a",
   "metadata": {},
   "outputs": [],
   "source": [
    "a = (int)t"
   ]
  },
  {
   "cell_type": "markdown",
   "id": "90d8e9d1",
   "metadata": {},
   "source": [
    "## 2,3 Hidden Layers, 100 epochs, time taken = 147s (model saved)"
   ]
  },
  {
   "cell_type": "code",
   "execution_count": null,
   "id": "8e021759",
   "metadata": {},
   "outputs": [],
   "source": [
    "start = time.time()\n",
    "m = multiple.Multiple_Model_Gen_V3(trainX, trainY, testX, testY, 10, 128, input_shape = 58, \n",
    "                                   max_no_layers = 3, model_per_batch = 10, \n",
    "                                   save_dir = \"/home/anish/ASC_ML_test_weights/\")\n",
    "m.get_model_confs()\n",
    "m.get_best_models()\n",
    "end = time.time()\n",
    "print(\"Time Taken : \", (end-start))"
   ]
  },
  {
   "cell_type": "code",
   "execution_count": null,
   "id": "9682172f",
   "metadata": {},
   "outputs": [],
   "source": [
    "m.evaluate_dict_list"
   ]
  },
  {
   "cell_type": "code",
   "execution_count": null,
   "id": "6a9650bd",
   "metadata": {},
   "outputs": [],
   "source": []
  },
  {
   "cell_type": "code",
   "execution_count": null,
   "id": "43cfde50",
   "metadata": {},
   "outputs": [],
   "source": []
  },
  {
   "cell_type": "code",
   "execution_count": null,
   "id": "34552a74",
   "metadata": {},
   "outputs": [],
   "source": []
  },
  {
   "cell_type": "code",
   "execution_count": null,
   "id": "65ce5f11",
   "metadata": {},
   "outputs": [],
   "source": []
  }
 ],
 "metadata": {
  "kernelspec": {
   "display_name": "Python 3 (ipykernel)",
   "language": "python",
   "name": "python3"
  },
  "language_info": {
   "codemirror_mode": {
    "name": "ipython",
    "version": 3
   },
   "file_extension": ".py",
   "mimetype": "text/x-python",
   "name": "python",
   "nbconvert_exporter": "python",
   "pygments_lexer": "ipython3",
   "version": "3.9.12"
  }
 },
 "nbformat": 4,
 "nbformat_minor": 5
}
