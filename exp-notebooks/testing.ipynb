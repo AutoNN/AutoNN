{
 "cells": [
  {
   "cell_type": "code",
   "execution_count": 1,
   "metadata": {},
   "outputs": [],
   "source": [
    "import sys\n",
    "import time\n",
    "sys.path.insert(0, '/home/anish/AutoNN')"
   ]
  },
  {
   "cell_type": "code",
   "execution_count": 2,
   "metadata": {},
   "outputs": [],
   "source": [
    "from ASC_ML.preprocessing import data_cleaning as dc\n",
    "import dask.dataframe as dd"
   ]
  },
  {
   "cell_type": "code",
   "execution_count": 3,
   "metadata": {},
   "outputs": [],
   "source": [
    "df = dd.read_csv(\"/home/anish/Downloads/diabetes1.csv\", assume_missing=True)"
   ]
  },
  {
   "cell_type": "code",
   "execution_count": 4,
   "metadata": {},
   "outputs": [
    {
     "data": {
      "text/html": [
       "<div>\n",
       "<style scoped>\n",
       "    .dataframe tbody tr th:only-of-type {\n",
       "        vertical-align: middle;\n",
       "    }\n",
       "\n",
       "    .dataframe tbody tr th {\n",
       "        vertical-align: top;\n",
       "    }\n",
       "\n",
       "    .dataframe thead th {\n",
       "        text-align: right;\n",
       "    }\n",
       "</style>\n",
       "<table border=\"1\" class=\"dataframe\">\n",
       "  <thead>\n",
       "    <tr style=\"text-align: right;\">\n",
       "      <th></th>\n",
       "      <th>Pregnancies</th>\n",
       "      <th>Glucose</th>\n",
       "      <th>BloodPressure</th>\n",
       "      <th>SkinThickness</th>\n",
       "      <th>Insulin</th>\n",
       "      <th>BMI</th>\n",
       "      <th>DiabetesPedigreeFunction</th>\n",
       "      <th>Age</th>\n",
       "      <th>Outcome</th>\n",
       "    </tr>\n",
       "  </thead>\n",
       "  <tbody>\n",
       "    <tr>\n",
       "      <th>0</th>\n",
       "      <td>6.0</td>\n",
       "      <td>148.0</td>\n",
       "      <td>72.0</td>\n",
       "      <td>35.0</td>\n",
       "      <td>NaN</td>\n",
       "      <td>33.6</td>\n",
       "      <td>0.627</td>\n",
       "      <td>50.0</td>\n",
       "      <td>yes</td>\n",
       "    </tr>\n",
       "    <tr>\n",
       "      <th>1</th>\n",
       "      <td>1.0</td>\n",
       "      <td>85.0</td>\n",
       "      <td>66.0</td>\n",
       "      <td>29.0</td>\n",
       "      <td>NaN</td>\n",
       "      <td>26.6</td>\n",
       "      <td>0.351</td>\n",
       "      <td>31.0</td>\n",
       "      <td>no</td>\n",
       "    </tr>\n",
       "    <tr>\n",
       "      <th>2</th>\n",
       "      <td>8.0</td>\n",
       "      <td>183.0</td>\n",
       "      <td>64.0</td>\n",
       "      <td>NaN</td>\n",
       "      <td>NaN</td>\n",
       "      <td>23.3</td>\n",
       "      <td>0.672</td>\n",
       "      <td>32.0</td>\n",
       "      <td>yes</td>\n",
       "    </tr>\n",
       "    <tr>\n",
       "      <th>3</th>\n",
       "      <td>1.0</td>\n",
       "      <td>89.0</td>\n",
       "      <td>66.0</td>\n",
       "      <td>23.0</td>\n",
       "      <td>94.0</td>\n",
       "      <td>28.1</td>\n",
       "      <td>0.167</td>\n",
       "      <td>21.0</td>\n",
       "      <td>no</td>\n",
       "    </tr>\n",
       "    <tr>\n",
       "      <th>4</th>\n",
       "      <td>NaN</td>\n",
       "      <td>137.0</td>\n",
       "      <td>40.0</td>\n",
       "      <td>35.0</td>\n",
       "      <td>168.0</td>\n",
       "      <td>43.1</td>\n",
       "      <td>2.288</td>\n",
       "      <td>33.0</td>\n",
       "      <td>yes</td>\n",
       "    </tr>\n",
       "  </tbody>\n",
       "</table>\n",
       "</div>"
      ],
      "text/plain": [
       "   Pregnancies  Glucose  BloodPressure  SkinThickness  Insulin   BMI  \\\n",
       "0          6.0    148.0           72.0           35.0      NaN  33.6   \n",
       "1          1.0     85.0           66.0           29.0      NaN  26.6   \n",
       "2          8.0    183.0           64.0            NaN      NaN  23.3   \n",
       "3          1.0     89.0           66.0           23.0     94.0  28.1   \n",
       "4          NaN    137.0           40.0           35.0    168.0  43.1   \n",
       "\n",
       "   DiabetesPedigreeFunction   Age Outcome  \n",
       "0                     0.627  50.0     yes  \n",
       "1                     0.351  31.0      no  \n",
       "2                     0.672  32.0     yes  \n",
       "3                     0.167  21.0      no  \n",
       "4                     2.288  33.0     yes  "
      ]
     },
     "execution_count": 4,
     "metadata": {},
     "output_type": "execute_result"
    }
   ],
   "source": [
    "df.head(5)"
   ]
  },
  {
   "cell_type": "code",
   "execution_count": 5,
   "metadata": {},
   "outputs": [],
   "source": [
    "df = df.dropna()\n",
    "df = df.reset_index(drop=True)"
   ]
  },
  {
   "cell_type": "code",
   "execution_count": 6,
   "metadata": {},
   "outputs": [
    {
     "data": {
      "text/html": [
       "<div>\n",
       "<style scoped>\n",
       "    .dataframe tbody tr th:only-of-type {\n",
       "        vertical-align: middle;\n",
       "    }\n",
       "\n",
       "    .dataframe tbody tr th {\n",
       "        vertical-align: top;\n",
       "    }\n",
       "\n",
       "    .dataframe thead th {\n",
       "        text-align: right;\n",
       "    }\n",
       "</style>\n",
       "<table border=\"1\" class=\"dataframe\">\n",
       "  <thead>\n",
       "    <tr style=\"text-align: right;\">\n",
       "      <th></th>\n",
       "      <th>Pregnancies</th>\n",
       "      <th>Glucose</th>\n",
       "      <th>BloodPressure</th>\n",
       "      <th>SkinThickness</th>\n",
       "      <th>Insulin</th>\n",
       "      <th>BMI</th>\n",
       "      <th>DiabetesPedigreeFunction</th>\n",
       "      <th>Age</th>\n",
       "      <th>Outcome</th>\n",
       "    </tr>\n",
       "  </thead>\n",
       "  <tbody>\n",
       "    <tr>\n",
       "      <th>0</th>\n",
       "      <td>1.0</td>\n",
       "      <td>89.0</td>\n",
       "      <td>66.0</td>\n",
       "      <td>23.0</td>\n",
       "      <td>94.0</td>\n",
       "      <td>28.1</td>\n",
       "      <td>0.167</td>\n",
       "      <td>21.0</td>\n",
       "      <td>no</td>\n",
       "    </tr>\n",
       "    <tr>\n",
       "      <th>1</th>\n",
       "      <td>3.0</td>\n",
       "      <td>78.0</td>\n",
       "      <td>50.0</td>\n",
       "      <td>32.0</td>\n",
       "      <td>88.0</td>\n",
       "      <td>31.0</td>\n",
       "      <td>0.248</td>\n",
       "      <td>26.0</td>\n",
       "      <td>yes</td>\n",
       "    </tr>\n",
       "    <tr>\n",
       "      <th>2</th>\n",
       "      <td>2.0</td>\n",
       "      <td>197.0</td>\n",
       "      <td>70.0</td>\n",
       "      <td>45.0</td>\n",
       "      <td>543.0</td>\n",
       "      <td>30.5</td>\n",
       "      <td>0.158</td>\n",
       "      <td>53.0</td>\n",
       "      <td>yes</td>\n",
       "    </tr>\n",
       "    <tr>\n",
       "      <th>3</th>\n",
       "      <td>1.0</td>\n",
       "      <td>189.0</td>\n",
       "      <td>60.0</td>\n",
       "      <td>23.0</td>\n",
       "      <td>846.0</td>\n",
       "      <td>30.1</td>\n",
       "      <td>0.398</td>\n",
       "      <td>59.0</td>\n",
       "      <td>yes</td>\n",
       "    </tr>\n",
       "    <tr>\n",
       "      <th>4</th>\n",
       "      <td>5.0</td>\n",
       "      <td>166.0</td>\n",
       "      <td>72.0</td>\n",
       "      <td>19.0</td>\n",
       "      <td>175.0</td>\n",
       "      <td>25.8</td>\n",
       "      <td>0.587</td>\n",
       "      <td>51.0</td>\n",
       "      <td>yes</td>\n",
       "    </tr>\n",
       "  </tbody>\n",
       "</table>\n",
       "</div>"
      ],
      "text/plain": [
       "   Pregnancies  Glucose  BloodPressure  SkinThickness  Insulin   BMI  \\\n",
       "0          1.0     89.0           66.0           23.0     94.0  28.1   \n",
       "1          3.0     78.0           50.0           32.0     88.0  31.0   \n",
       "2          2.0    197.0           70.0           45.0    543.0  30.5   \n",
       "3          1.0    189.0           60.0           23.0    846.0  30.1   \n",
       "4          5.0    166.0           72.0           19.0    175.0  25.8   \n",
       "\n",
       "   DiabetesPedigreeFunction   Age Outcome  \n",
       "0                     0.167  21.0      no  \n",
       "1                     0.248  26.0     yes  \n",
       "2                     0.158  53.0     yes  \n",
       "3                     0.398  59.0     yes  \n",
       "4                     0.587  51.0     yes  "
      ]
     },
     "execution_count": 6,
     "metadata": {},
     "output_type": "execute_result"
    }
   ],
   "source": [
    "df.head()"
   ]
  },
  {
   "cell_type": "code",
   "execution_count": 7,
   "metadata": {},
   "outputs": [],
   "source": [
    "data_cl = dc.DataCleaning(train_dataframe=df, label=['Outcome'])"
   ]
  },
  {
   "cell_type": "code",
   "execution_count": 8,
   "metadata": {},
   "outputs": [
    {
     "data": {
      "text/html": [
       "<div>\n",
       "<style scoped>\n",
       "    .dataframe tbody tr th:only-of-type {\n",
       "        vertical-align: middle;\n",
       "    }\n",
       "\n",
       "    .dataframe tbody tr th {\n",
       "        vertical-align: top;\n",
       "    }\n",
       "\n",
       "    .dataframe thead th {\n",
       "        text-align: right;\n",
       "    }\n",
       "</style>\n",
       "<table border=\"1\" class=\"dataframe\">\n",
       "  <thead>\n",
       "    <tr style=\"text-align: right;\">\n",
       "      <th></th>\n",
       "      <th>Pregnancies</th>\n",
       "      <th>Glucose</th>\n",
       "      <th>BloodPressure</th>\n",
       "      <th>SkinThickness</th>\n",
       "      <th>Insulin</th>\n",
       "      <th>BMI</th>\n",
       "      <th>DiabetesPedigreeFunction</th>\n",
       "      <th>Age</th>\n",
       "      <th>Outcome</th>\n",
       "    </tr>\n",
       "  </thead>\n",
       "  <tbody>\n",
       "    <tr>\n",
       "      <th>0</th>\n",
       "      <td>1.0</td>\n",
       "      <td>89.0</td>\n",
       "      <td>66.0</td>\n",
       "      <td>23.0</td>\n",
       "      <td>94.0</td>\n",
       "      <td>28.1</td>\n",
       "      <td>0.167</td>\n",
       "      <td>21.0</td>\n",
       "      <td>no</td>\n",
       "    </tr>\n",
       "    <tr>\n",
       "      <th>1</th>\n",
       "      <td>3.0</td>\n",
       "      <td>78.0</td>\n",
       "      <td>50.0</td>\n",
       "      <td>32.0</td>\n",
       "      <td>88.0</td>\n",
       "      <td>31.0</td>\n",
       "      <td>0.248</td>\n",
       "      <td>26.0</td>\n",
       "      <td>yes</td>\n",
       "    </tr>\n",
       "    <tr>\n",
       "      <th>2</th>\n",
       "      <td>2.0</td>\n",
       "      <td>197.0</td>\n",
       "      <td>70.0</td>\n",
       "      <td>45.0</td>\n",
       "      <td>543.0</td>\n",
       "      <td>30.5</td>\n",
       "      <td>0.158</td>\n",
       "      <td>53.0</td>\n",
       "      <td>yes</td>\n",
       "    </tr>\n",
       "    <tr>\n",
       "      <th>3</th>\n",
       "      <td>1.0</td>\n",
       "      <td>189.0</td>\n",
       "      <td>60.0</td>\n",
       "      <td>23.0</td>\n",
       "      <td>846.0</td>\n",
       "      <td>30.1</td>\n",
       "      <td>0.398</td>\n",
       "      <td>59.0</td>\n",
       "      <td>yes</td>\n",
       "    </tr>\n",
       "    <tr>\n",
       "      <th>4</th>\n",
       "      <td>5.0</td>\n",
       "      <td>166.0</td>\n",
       "      <td>72.0</td>\n",
       "      <td>19.0</td>\n",
       "      <td>175.0</td>\n",
       "      <td>25.8</td>\n",
       "      <td>0.587</td>\n",
       "      <td>51.0</td>\n",
       "      <td>yes</td>\n",
       "    </tr>\n",
       "  </tbody>\n",
       "</table>\n",
       "</div>"
      ],
      "text/plain": [
       "   Pregnancies  Glucose  BloodPressure  SkinThickness  Insulin   BMI  \\\n",
       "0          1.0     89.0           66.0           23.0     94.0  28.1   \n",
       "1          3.0     78.0           50.0           32.0     88.0  31.0   \n",
       "2          2.0    197.0           70.0           45.0    543.0  30.5   \n",
       "3          1.0    189.0           60.0           23.0    846.0  30.1   \n",
       "4          5.0    166.0           72.0           19.0    175.0  25.8   \n",
       "\n",
       "   DiabetesPedigreeFunction   Age Outcome  \n",
       "0                     0.167  21.0      no  \n",
       "1                     0.248  26.0     yes  \n",
       "2                     0.158  53.0     yes  \n",
       "3                     0.398  59.0     yes  \n",
       "4                     0.587  51.0     yes  "
      ]
     },
     "execution_count": 8,
     "metadata": {},
     "output_type": "execute_result"
    }
   ],
   "source": [
    "data_cl.dataset.get()[0].head()"
   ]
  },
  {
   "cell_type": "code",
   "execution_count": 9,
   "metadata": {},
   "outputs": [
    {
     "data": {
      "text/plain": [
       "{'Pregnancies': {'dtype': dtype('float64'),\n",
       "  'is_label': False,\n",
       "  'missing': 0.0,\n",
       "  'cardinality': 16},\n",
       " 'Glucose': {'dtype': dtype('float64'),\n",
       "  'is_label': False,\n",
       "  'missing': 0.0,\n",
       "  'cardinality': 111},\n",
       " 'BloodPressure': {'dtype': dtype('float64'),\n",
       "  'is_label': False,\n",
       "  'missing': 0.0,\n",
       "  'cardinality': 36},\n",
       " 'SkinThickness': {'dtype': dtype('float64'),\n",
       "  'is_label': False,\n",
       "  'missing': 0.0,\n",
       "  'cardinality': 45},\n",
       " 'Insulin': {'dtype': dtype('float64'),\n",
       "  'is_label': False,\n",
       "  'missing': 0.0,\n",
       "  'cardinality': 168},\n",
       " 'BMI': {'dtype': dtype('float64'),\n",
       "  'is_label': False,\n",
       "  'missing': 0.0,\n",
       "  'cardinality': 175},\n",
       " 'DiabetesPedigreeFunction': {'dtype': dtype('float64'),\n",
       "  'is_label': False,\n",
       "  'missing': 0.0,\n",
       "  'cardinality': 289},\n",
       " 'Age': {'dtype': dtype('float64'),\n",
       "  'is_label': False,\n",
       "  'missing': 0.0,\n",
       "  'cardinality': 43},\n",
       " 'Outcome': {'dtype': dtype('O'),\n",
       "  'is_label': True,\n",
       "  'missing': 0.0,\n",
       "  'cardinality': 2}}"
      ]
     },
     "execution_count": 9,
     "metadata": {},
     "output_type": "execute_result"
    }
   ],
   "source": [
    "data_cl.col_info"
   ]
  },
  {
   "cell_type": "code",
   "execution_count": 10,
   "metadata": {},
   "outputs": [],
   "source": [
    "data_cl.encode()"
   ]
  },
  {
   "cell_type": "code",
   "execution_count": 11,
   "metadata": {},
   "outputs": [
    {
     "data": {
      "text/html": [
       "<div>\n",
       "<style scoped>\n",
       "    .dataframe tbody tr th:only-of-type {\n",
       "        vertical-align: middle;\n",
       "    }\n",
       "\n",
       "    .dataframe tbody tr th {\n",
       "        vertical-align: top;\n",
       "    }\n",
       "\n",
       "    .dataframe thead th {\n",
       "        text-align: right;\n",
       "    }\n",
       "</style>\n",
       "<table border=\"1\" class=\"dataframe\">\n",
       "  <thead>\n",
       "    <tr style=\"text-align: right;\">\n",
       "      <th></th>\n",
       "      <th>Pregnancies</th>\n",
       "      <th>Glucose</th>\n",
       "      <th>BloodPressure</th>\n",
       "      <th>SkinThickness</th>\n",
       "      <th>Insulin</th>\n",
       "      <th>BMI</th>\n",
       "      <th>DiabetesPedigreeFunction</th>\n",
       "      <th>Age</th>\n",
       "      <th>Outcome</th>\n",
       "    </tr>\n",
       "  </thead>\n",
       "  <tbody>\n",
       "    <tr>\n",
       "      <th>0</th>\n",
       "      <td>1.0</td>\n",
       "      <td>89.0</td>\n",
       "      <td>66.0</td>\n",
       "      <td>23.0</td>\n",
       "      <td>94.0</td>\n",
       "      <td>28.1</td>\n",
       "      <td>0.167</td>\n",
       "      <td>21.0</td>\n",
       "      <td>0</td>\n",
       "    </tr>\n",
       "    <tr>\n",
       "      <th>1</th>\n",
       "      <td>3.0</td>\n",
       "      <td>78.0</td>\n",
       "      <td>50.0</td>\n",
       "      <td>32.0</td>\n",
       "      <td>88.0</td>\n",
       "      <td>31.0</td>\n",
       "      <td>0.248</td>\n",
       "      <td>26.0</td>\n",
       "      <td>1</td>\n",
       "    </tr>\n",
       "    <tr>\n",
       "      <th>2</th>\n",
       "      <td>2.0</td>\n",
       "      <td>197.0</td>\n",
       "      <td>70.0</td>\n",
       "      <td>45.0</td>\n",
       "      <td>543.0</td>\n",
       "      <td>30.5</td>\n",
       "      <td>0.158</td>\n",
       "      <td>53.0</td>\n",
       "      <td>1</td>\n",
       "    </tr>\n",
       "    <tr>\n",
       "      <th>3</th>\n",
       "      <td>1.0</td>\n",
       "      <td>189.0</td>\n",
       "      <td>60.0</td>\n",
       "      <td>23.0</td>\n",
       "      <td>846.0</td>\n",
       "      <td>30.1</td>\n",
       "      <td>0.398</td>\n",
       "      <td>59.0</td>\n",
       "      <td>1</td>\n",
       "    </tr>\n",
       "    <tr>\n",
       "      <th>4</th>\n",
       "      <td>5.0</td>\n",
       "      <td>166.0</td>\n",
       "      <td>72.0</td>\n",
       "      <td>19.0</td>\n",
       "      <td>175.0</td>\n",
       "      <td>25.8</td>\n",
       "      <td>0.587</td>\n",
       "      <td>51.0</td>\n",
       "      <td>1</td>\n",
       "    </tr>\n",
       "  </tbody>\n",
       "</table>\n",
       "</div>"
      ],
      "text/plain": [
       "   Pregnancies  Glucose  BloodPressure  SkinThickness  Insulin   BMI  \\\n",
       "0          1.0     89.0           66.0           23.0     94.0  28.1   \n",
       "1          3.0     78.0           50.0           32.0     88.0  31.0   \n",
       "2          2.0    197.0           70.0           45.0    543.0  30.5   \n",
       "3          1.0    189.0           60.0           23.0    846.0  30.1   \n",
       "4          5.0    166.0           72.0           19.0    175.0  25.8   \n",
       "\n",
       "   DiabetesPedigreeFunction   Age  Outcome  \n",
       "0                     0.167  21.0        0  \n",
       "1                     0.248  26.0        1  \n",
       "2                     0.158  53.0        1  \n",
       "3                     0.398  59.0        1  \n",
       "4                     0.587  51.0        1  "
      ]
     },
     "execution_count": 11,
     "metadata": {},
     "output_type": "execute_result"
    }
   ],
   "source": [
    "data_cl.dataset.get()[0].head()"
   ]
  },
  {
   "cell_type": "code",
   "execution_count": 12,
   "metadata": {},
   "outputs": [],
   "source": [
    "from sklearn.preprocessing import MinMaxScaler"
   ]
  },
  {
   "cell_type": "code",
   "execution_count": 13,
   "metadata": {},
   "outputs": [],
   "source": [
    "scaler_x = MinMaxScaler()\n",
    "scaler_x.fit(data_cl.dataset.get()[0])\n",
    "scaled_np_arr = scaler_x.transform(data_cl.dataset.get()[0])"
   ]
  },
  {
   "cell_type": "code",
   "execution_count": 14,
   "metadata": {},
   "outputs": [
    {
     "data": {
      "text/plain": [
       "array([[0.        , 0.23404255, 0.48837209, ..., 0.03654189, 0.        ,\n",
       "        0.        ],\n",
       "       [0.125     , 0.15602837, 0.30232558, ..., 0.07263815, 0.08333333,\n",
       "        1.        ],\n",
       "       [0.0625    , 1.        , 0.53488372, ..., 0.03253119, 0.53333333,\n",
       "        1.        ],\n",
       "       ...,\n",
       "       [0.0625    , 0.22695035, 0.39534884, ..., 0.30347594, 0.01666667,\n",
       "        0.        ],\n",
       "       [0.5625    , 0.31914894, 0.60465116, ..., 0.03832442, 0.7       ,\n",
       "        0.        ],\n",
       "       [0.25      , 0.46099291, 0.55813953, ..., 0.07130125, 0.15      ,\n",
       "        0.        ]])"
      ]
     },
     "execution_count": 14,
     "metadata": {},
     "output_type": "execute_result"
    }
   ],
   "source": [
    "scaled_np_arr"
   ]
  },
  {
   "cell_type": "code",
   "execution_count": 15,
   "metadata": {},
   "outputs": [],
   "source": [
    "import numpy as np"
   ]
  },
  {
   "cell_type": "code",
   "execution_count": 16,
   "metadata": {},
   "outputs": [
    {
     "name": "stderr",
     "output_type": "stream",
     "text": [
      "2022-09-15 14:14:21.990218: I tensorflow/stream_executor/platform/default/dso_loader.cc:49] Successfully opened dynamic library libcudart.so.10.1\n"
     ]
    }
   ],
   "source": [
    "from ASC_ML.networkbuilding import final"
   ]
  },
  {
   "cell_type": "code",
   "execution_count": 17,
   "metadata": {},
   "outputs": [],
   "source": [
    "data_cl.dataset.train_test_split()"
   ]
  },
  {
   "cell_type": "code",
   "execution_count": 18,
   "metadata": {},
   "outputs": [],
   "source": [
    "[traindf, testdf] = data_cl.dataset.get(types=['train', 'test'])"
   ]
  },
  {
   "cell_type": "code",
   "execution_count": 19,
   "metadata": {},
   "outputs": [
    {
     "data": {
      "text/html": [
       "<div>\n",
       "<style scoped>\n",
       "    .dataframe tbody tr th:only-of-type {\n",
       "        vertical-align: middle;\n",
       "    }\n",
       "\n",
       "    .dataframe tbody tr th {\n",
       "        vertical-align: top;\n",
       "    }\n",
       "\n",
       "    .dataframe thead th {\n",
       "        text-align: right;\n",
       "    }\n",
       "</style>\n",
       "<table border=\"1\" class=\"dataframe\">\n",
       "  <thead>\n",
       "    <tr style=\"text-align: right;\">\n",
       "      <th></th>\n",
       "      <th>Pregnancies</th>\n",
       "      <th>Glucose</th>\n",
       "      <th>BloodPressure</th>\n",
       "      <th>SkinThickness</th>\n",
       "      <th>Insulin</th>\n",
       "      <th>BMI</th>\n",
       "      <th>DiabetesPedigreeFunction</th>\n",
       "      <th>Age</th>\n",
       "      <th>Outcome</th>\n",
       "    </tr>\n",
       "  </thead>\n",
       "  <tbody>\n",
       "    <tr>\n",
       "      <th>93</th>\n",
       "      <td>6.0</td>\n",
       "      <td>125.0</td>\n",
       "      <td>68.0</td>\n",
       "      <td>30.0</td>\n",
       "      <td>120.0</td>\n",
       "      <td>30.0</td>\n",
       "      <td>0.464</td>\n",
       "      <td>32.0</td>\n",
       "      <td>0</td>\n",
       "    </tr>\n",
       "    <tr>\n",
       "      <th>249</th>\n",
       "      <td>4.0</td>\n",
       "      <td>154.0</td>\n",
       "      <td>72.0</td>\n",
       "      <td>29.0</td>\n",
       "      <td>126.0</td>\n",
       "      <td>31.3</td>\n",
       "      <td>0.338</td>\n",
       "      <td>37.0</td>\n",
       "      <td>0</td>\n",
       "    </tr>\n",
       "    <tr>\n",
       "      <th>317</th>\n",
       "      <td>1.0</td>\n",
       "      <td>149.0</td>\n",
       "      <td>68.0</td>\n",
       "      <td>29.0</td>\n",
       "      <td>127.0</td>\n",
       "      <td>29.3</td>\n",
       "      <td>0.349</td>\n",
       "      <td>42.0</td>\n",
       "      <td>1</td>\n",
       "    </tr>\n",
       "    <tr>\n",
       "      <th>84</th>\n",
       "      <td>4.0</td>\n",
       "      <td>109.0</td>\n",
       "      <td>64.0</td>\n",
       "      <td>44.0</td>\n",
       "      <td>99.0</td>\n",
       "      <td>34.8</td>\n",
       "      <td>0.905</td>\n",
       "      <td>26.0</td>\n",
       "      <td>1</td>\n",
       "    </tr>\n",
       "    <tr>\n",
       "      <th>38</th>\n",
       "      <td>1.0</td>\n",
       "      <td>71.0</td>\n",
       "      <td>48.0</td>\n",
       "      <td>18.0</td>\n",
       "      <td>76.0</td>\n",
       "      <td>20.4</td>\n",
       "      <td>0.323</td>\n",
       "      <td>22.0</td>\n",
       "      <td>0</td>\n",
       "    </tr>\n",
       "    <tr>\n",
       "      <th>...</th>\n",
       "      <td>...</td>\n",
       "      <td>...</td>\n",
       "      <td>...</td>\n",
       "      <td>...</td>\n",
       "      <td>...</td>\n",
       "      <td>...</td>\n",
       "      <td>...</td>\n",
       "      <td>...</td>\n",
       "      <td>...</td>\n",
       "    </tr>\n",
       "    <tr>\n",
       "      <th>247</th>\n",
       "      <td>1.0</td>\n",
       "      <td>99.0</td>\n",
       "      <td>72.0</td>\n",
       "      <td>30.0</td>\n",
       "      <td>18.0</td>\n",
       "      <td>38.6</td>\n",
       "      <td>0.412</td>\n",
       "      <td>21.0</td>\n",
       "      <td>0</td>\n",
       "    </tr>\n",
       "    <tr>\n",
       "      <th>14</th>\n",
       "      <td>4.0</td>\n",
       "      <td>103.0</td>\n",
       "      <td>60.0</td>\n",
       "      <td>33.0</td>\n",
       "      <td>192.0</td>\n",
       "      <td>24.0</td>\n",
       "      <td>0.966</td>\n",
       "      <td>33.0</td>\n",
       "      <td>0</td>\n",
       "    </tr>\n",
       "    <tr>\n",
       "      <th>330</th>\n",
       "      <td>3.0</td>\n",
       "      <td>187.0</td>\n",
       "      <td>70.0</td>\n",
       "      <td>22.0</td>\n",
       "      <td>200.0</td>\n",
       "      <td>36.4</td>\n",
       "      <td>0.408</td>\n",
       "      <td>36.0</td>\n",
       "      <td>1</td>\n",
       "    </tr>\n",
       "    <tr>\n",
       "      <th>160</th>\n",
       "      <td>1.0</td>\n",
       "      <td>133.0</td>\n",
       "      <td>102.0</td>\n",
       "      <td>28.0</td>\n",
       "      <td>140.0</td>\n",
       "      <td>32.8</td>\n",
       "      <td>0.234</td>\n",
       "      <td>45.0</td>\n",
       "      <td>1</td>\n",
       "    </tr>\n",
       "    <tr>\n",
       "      <th>283</th>\n",
       "      <td>5.0</td>\n",
       "      <td>123.0</td>\n",
       "      <td>74.0</td>\n",
       "      <td>40.0</td>\n",
       "      <td>77.0</td>\n",
       "      <td>34.1</td>\n",
       "      <td>0.269</td>\n",
       "      <td>28.0</td>\n",
       "      <td>0</td>\n",
       "    </tr>\n",
       "  </tbody>\n",
       "</table>\n",
       "<p>261 rows × 9 columns</p>\n",
       "</div>"
      ],
      "text/plain": [
       "     Pregnancies  Glucose  BloodPressure  SkinThickness  Insulin   BMI  \\\n",
       "93           6.0    125.0           68.0           30.0    120.0  30.0   \n",
       "249          4.0    154.0           72.0           29.0    126.0  31.3   \n",
       "317          1.0    149.0           68.0           29.0    127.0  29.3   \n",
       "84           4.0    109.0           64.0           44.0     99.0  34.8   \n",
       "38           1.0     71.0           48.0           18.0     76.0  20.4   \n",
       "..           ...      ...            ...            ...      ...   ...   \n",
       "247          1.0     99.0           72.0           30.0     18.0  38.6   \n",
       "14           4.0    103.0           60.0           33.0    192.0  24.0   \n",
       "330          3.0    187.0           70.0           22.0    200.0  36.4   \n",
       "160          1.0    133.0          102.0           28.0    140.0  32.8   \n",
       "283          5.0    123.0           74.0           40.0     77.0  34.1   \n",
       "\n",
       "     DiabetesPedigreeFunction   Age  Outcome  \n",
       "93                      0.464  32.0        0  \n",
       "249                     0.338  37.0        0  \n",
       "317                     0.349  42.0        1  \n",
       "84                      0.905  26.0        1  \n",
       "38                      0.323  22.0        0  \n",
       "..                        ...   ...      ...  \n",
       "247                     0.412  21.0        0  \n",
       "14                      0.966  33.0        0  \n",
       "330                     0.408  36.0        1  \n",
       "160                     0.234  45.0        1  \n",
       "283                     0.269  28.0        0  \n",
       "\n",
       "[261 rows x 9 columns]"
      ]
     },
     "execution_count": 19,
     "metadata": {},
     "output_type": "execute_result"
    }
   ],
   "source": [
    "traindf.compute()"
   ]
  },
  {
   "cell_type": "code",
   "execution_count": 20,
   "metadata": {},
   "outputs": [],
   "source": [
    "y_train = traindf.pop(data_cl.get_label()[0])\n",
    "X_train = traindf"
   ]
  },
  {
   "cell_type": "code",
   "execution_count": 21,
   "metadata": {},
   "outputs": [],
   "source": [
    "y_test = testdf.pop(data_cl.get_label()[0])\n",
    "X_test = testdf"
   ]
  },
  {
   "cell_type": "code",
   "execution_count": 22,
   "metadata": {},
   "outputs": [
    {
     "data": {
      "text/plain": [
       "(75, 8)"
      ]
     },
     "execution_count": 22,
     "metadata": {},
     "output_type": "execute_result"
    }
   ],
   "source": [
    "testdf.compute().shape"
   ]
  },
  {
   "cell_type": "code",
   "execution_count": 23,
   "metadata": {},
   "outputs": [],
   "source": [
    "scaler_x = MinMaxScaler()\n",
    "scaler_x.fit(X_train)\n",
    "X_train = scaler_x.transform(X_train)\n",
    "X_test = scaler_x.transform(X_test)"
   ]
  },
  {
   "cell_type": "code",
   "execution_count": 24,
   "metadata": {},
   "outputs": [],
   "source": [
    "y_train = np.asarray(y_train).reshape([-1, 1])\n",
    "y_test = np.asarray(y_test).reshape([-1, 1])"
   ]
  },
  {
   "cell_type": "code",
   "execution_count": 25,
   "metadata": {},
   "outputs": [
    {
     "data": {
      "text/plain": [
       "(261, 1)"
      ]
     },
     "execution_count": 25,
     "metadata": {},
     "output_type": "execute_result"
    }
   ],
   "source": [
    "y_train.shape"
   ]
  },
  {
   "cell_type": "code",
   "execution_count": 26,
   "metadata": {},
   "outputs": [
    {
     "name": "stderr",
     "output_type": "stream",
     "text": [
      "2022-09-15 14:14:22.833072: I tensorflow/compiler/jit/xla_cpu_device.cc:41] Not creating XLA devices, tf_xla_enable_xla_devices not set\n",
      "2022-09-15 14:14:22.833805: I tensorflow/stream_executor/platform/default/dso_loader.cc:49] Successfully opened dynamic library libcuda.so.1\n",
      "2022-09-15 14:14:22.895273: I tensorflow/stream_executor/cuda/cuda_gpu_executor.cc:941] successful NUMA node read from SysFS had negative value (-1), but there must be at least one NUMA node, so returning NUMA node zero\n",
      "2022-09-15 14:14:22.895420: I tensorflow/core/common_runtime/gpu/gpu_device.cc:1720] Found device 0 with properties: \n",
      "pciBusID: 0000:01:00.0 name: NVIDIA GeForce RTX 2060 computeCapability: 7.5\n",
      "coreClock: 1.695GHz coreCount: 30 deviceMemorySize: 5.79GiB deviceMemoryBandwidth: 312.97GiB/s\n",
      "2022-09-15 14:14:22.895445: I tensorflow/stream_executor/platform/default/dso_loader.cc:49] Successfully opened dynamic library libcudart.so.10.1\n",
      "2022-09-15 14:14:22.896914: I tensorflow/stream_executor/platform/default/dso_loader.cc:49] Successfully opened dynamic library libcublas.so.10\n",
      "2022-09-15 14:14:22.896954: I tensorflow/stream_executor/platform/default/dso_loader.cc:49] Successfully opened dynamic library libcublasLt.so.10\n",
      "2022-09-15 14:14:22.898243: I tensorflow/stream_executor/platform/default/dso_loader.cc:49] Successfully opened dynamic library libcufft.so.10\n",
      "2022-09-15 14:14:22.898471: I tensorflow/stream_executor/platform/default/dso_loader.cc:49] Successfully opened dynamic library libcurand.so.10\n",
      "2022-09-15 14:14:22.900010: I tensorflow/stream_executor/platform/default/dso_loader.cc:49] Successfully opened dynamic library libcusolver.so.10\n",
      "2022-09-15 14:14:22.900840: I tensorflow/stream_executor/platform/default/dso_loader.cc:49] Successfully opened dynamic library libcusparse.so.10\n",
      "2022-09-15 14:14:22.904015: I tensorflow/stream_executor/platform/default/dso_loader.cc:49] Successfully opened dynamic library libcudnn.so.7\n",
      "2022-09-15 14:14:22.904159: I tensorflow/stream_executor/cuda/cuda_gpu_executor.cc:941] successful NUMA node read from SysFS had negative value (-1), but there must be at least one NUMA node, so returning NUMA node zero\n",
      "2022-09-15 14:14:22.904354: I tensorflow/stream_executor/cuda/cuda_gpu_executor.cc:941] successful NUMA node read from SysFS had negative value (-1), but there must be at least one NUMA node, so returning NUMA node zero\n",
      "2022-09-15 14:14:22.904460: I tensorflow/core/common_runtime/gpu/gpu_device.cc:1862] Adding visible gpu devices: 0\n",
      "2022-09-15 14:14:22.904812: I tensorflow/core/platform/cpu_feature_guard.cc:142] This TensorFlow binary is optimized with oneAPI Deep Neural Network Library (oneDNN) to use the following CPU instructions in performance-critical operations:  SSE4.1 SSE4.2 AVX AVX2 FMA\n",
      "To enable them in other operations, rebuild TensorFlow with the appropriate compiler flags.\n",
      "2022-09-15 14:14:22.905182: I tensorflow/compiler/jit/xla_gpu_device.cc:99] Not creating XLA devices, tf_xla_enable_xla_devices not set\n",
      "2022-09-15 14:14:22.905275: I tensorflow/stream_executor/cuda/cuda_gpu_executor.cc:941] successful NUMA node read from SysFS had negative value (-1), but there must be at least one NUMA node, so returning NUMA node zero\n",
      "2022-09-15 14:14:22.905392: I tensorflow/core/common_runtime/gpu/gpu_device.cc:1720] Found device 0 with properties: \n",
      "pciBusID: 0000:01:00.0 name: NVIDIA GeForce RTX 2060 computeCapability: 7.5\n",
      "coreClock: 1.695GHz coreCount: 30 deviceMemorySize: 5.79GiB deviceMemoryBandwidth: 312.97GiB/s\n",
      "2022-09-15 14:14:22.905424: I tensorflow/stream_executor/platform/default/dso_loader.cc:49] Successfully opened dynamic library libcudart.so.10.1\n",
      "2022-09-15 14:14:22.905444: I tensorflow/stream_executor/platform/default/dso_loader.cc:49] Successfully opened dynamic library libcublas.so.10\n",
      "2022-09-15 14:14:22.905461: I tensorflow/stream_executor/platform/default/dso_loader.cc:49] Successfully opened dynamic library libcublasLt.so.10\n",
      "2022-09-15 14:14:22.905487: I tensorflow/stream_executor/platform/default/dso_loader.cc:49] Successfully opened dynamic library libcufft.so.10\n",
      "2022-09-15 14:14:22.905506: I tensorflow/stream_executor/platform/default/dso_loader.cc:49] Successfully opened dynamic library libcurand.so.10\n",
      "2022-09-15 14:14:22.905523: I tensorflow/stream_executor/platform/default/dso_loader.cc:49] Successfully opened dynamic library libcusolver.so.10\n",
      "2022-09-15 14:14:22.905541: I tensorflow/stream_executor/platform/default/dso_loader.cc:49] Successfully opened dynamic library libcusparse.so.10\n",
      "2022-09-15 14:14:22.905558: I tensorflow/stream_executor/platform/default/dso_loader.cc:49] Successfully opened dynamic library libcudnn.so.7\n",
      "2022-09-15 14:14:22.905616: I tensorflow/stream_executor/cuda/cuda_gpu_executor.cc:941] successful NUMA node read from SysFS had negative value (-1), but there must be at least one NUMA node, so returning NUMA node zero\n",
      "2022-09-15 14:14:22.905769: I tensorflow/stream_executor/cuda/cuda_gpu_executor.cc:941] successful NUMA node read from SysFS had negative value (-1), but there must be at least one NUMA node, so returning NUMA node zero\n",
      "2022-09-15 14:14:22.905870: I tensorflow/core/common_runtime/gpu/gpu_device.cc:1862] Adding visible gpu devices: 0\n",
      "2022-09-15 14:14:22.905903: I tensorflow/stream_executor/platform/default/dso_loader.cc:49] Successfully opened dynamic library libcudart.so.10.1\n",
      "2022-09-15 14:14:23.332612: I tensorflow/core/common_runtime/gpu/gpu_device.cc:1261] Device interconnect StreamExecutor with strength 1 edge matrix:\n",
      "2022-09-15 14:14:23.332636: I tensorflow/core/common_runtime/gpu/gpu_device.cc:1267]      0 \n",
      "2022-09-15 14:14:23.332642: I tensorflow/core/common_runtime/gpu/gpu_device.cc:1280] 0:   N \n",
      "2022-09-15 14:14:23.332825: I tensorflow/stream_executor/cuda/cuda_gpu_executor.cc:941] successful NUMA node read from SysFS had negative value (-1), but there must be at least one NUMA node, so returning NUMA node zero\n",
      "2022-09-15 14:14:23.333007: I tensorflow/stream_executor/cuda/cuda_gpu_executor.cc:941] successful NUMA node read from SysFS had negative value (-1), but there must be at least one NUMA node, so returning NUMA node zero\n",
      "2022-09-15 14:14:23.333147: I tensorflow/stream_executor/cuda/cuda_gpu_executor.cc:941] successful NUMA node read from SysFS had negative value (-1), but there must be at least one NUMA node, so returning NUMA node zero\n",
      "2022-09-15 14:14:23.333255: I tensorflow/core/common_runtime/gpu/gpu_device.cc:1406] Created TensorFlow device (/job:localhost/replica:0/task:0/device:GPU:0 with 4872 MB memory) -> physical GPU (device: 0, name: NVIDIA GeForce RTX 2060, pci bus id: 0000:01:00.0, compute capability: 7.5)\n",
      "2022-09-15 14:14:23.482798: I tensorflow/compiler/mlir/mlir_graph_optimization_pass.cc:116] None of the MLIR optimization passes are enabled (registered 2)\n",
      "2022-09-15 14:14:23.483100: I tensorflow/core/platform/profile_utils/cpu_utils.cc:112] CPU Frequency: 2899885000 Hz\n",
      "2022-09-15 14:14:24.205826: I tensorflow/stream_executor/platform/default/dso_loader.cc:49] Successfully opened dynamic library libcublas.so.10\n"
     ]
    },
    {
     "name": "stdout",
     "output_type": "stream",
     "text": [
      "\n",
      " \n",
      " \n",
      "\n",
      "loss  :  1.6616716384887695 , TEST :  2.2900843620300293\n",
      "output_layer_dense_16_16_loss  :  0.44972655177116394 , TEST :  0.5605043768882751\n",
      "output_layer_dense_16_64_loss  :  0.4166172444820404 , TEST :  0.5964493155479431\n",
      "output_layer_dense_64_16_loss  :  0.40481191873550415 , TEST :  0.5720726847648621\n",
      "output_layer_dense_64_64_loss  :  0.39051592350006104 , TEST :  0.5610580444335938\n",
      "\n",
      " \n",
      " \n",
      "\n",
      "loss  :  2.738340139389038 , TEST :  3.9179484844207764\n",
      "output_layer_dense_16_16_16_loss  :  0.4031601548194885 , TEST :  0.5560451149940491\n",
      "output_layer_dense_16_16_64_loss  :  0.3935670852661133 , TEST :  0.5721688866615295\n",
      "output_layer_dense_16_64_16_loss  :  0.3935438394546509 , TEST :  0.5432027578353882\n",
      "output_layer_dense_16_64_64_loss  :  0.3811275064945221 , TEST :  0.5510898232460022\n",
      "output_layer_dense_64_16_16_loss  :  0.4056299328804016 , TEST :  0.5826535820960999\n",
      "output_layer_dense_64_64_16_loss  :  0.3896806240081787 , TEST :  0.5739006400108337\n",
      "output_layer_dense_64_64_64_loss  :  0.3716312646865845 , TEST :  0.5388879179954529\n",
      "\n",
      "-------------------------------------------------------------------------------\n",
      "[{'model_name': 'dense_64_64_64', 'score': 0.5388879179954529, 'path_weights': '/home/anish/ASC_ML_test_weights/dense_64_64_64', 'model_conf': ['', 8, 3, 'relu', {'layer1': 64, 'layer2': 64, 'layer3': 64}, [1, 'sigmoid']], 'model': <tensorflow.python.keras.engine.functional.Functional object at 0x7f879c280e80>}, {'model_name': 'dense_16_64_16', 'score': 0.5432027578353882, 'path_weights': '/home/anish/ASC_ML_test_weights/dense_16_64_16', 'model_conf': ['', 8, 3, 'relu', {'layer1': 16, 'layer2': 64, 'layer3': 16}, [1, 'sigmoid']], 'model': <tensorflow.python.keras.engine.functional.Functional object at 0x7f879c3ce5b0>}]\n",
      "\n",
      "-------------------------------------------------------------------------------\n",
      "--------------------------------------------------------------------------------\n",
      "Model Name : dense_64_64_64_dr\n",
      "\n",
      "BEST HYPERPARAMETERS : BEST_LOSS : 0.2488480508327484, BEST_ACTIVATION : relu, BEST_INITIALIZER : GlorotNormal, BEST_LEARINING_RATE : 0.00398, BEST_BATCHSIZE : 16, BEST_DROPOUT_RATE : 0.5, BEST_DROPOUT_LOSS : 0.24131925404071808\n",
      "\n",
      " \n",
      " \n",
      "\n",
      "loss  :  0.1881014108657837 , TEST :  0.9605575799942017\n"
     ]
    },
    {
     "name": "stderr",
     "output_type": "stream",
     "text": [
      "2022-09-15 14:15:26.914619: W tensorflow/python/util/util.cc:348] Sets are not currently considered sequences, but this may change in the future, so consider avoiding using them.\n"
     ]
    },
    {
     "name": "stdout",
     "output_type": "stream",
     "text": [
      "INFO:tensorflow:Assets written to: /home/anish/ASC_ML_test_weights/candidate_models/dense_64_64_64_dr/assets\n",
      "--------------------------------------------------------------------------------\n",
      "Model Name : dense_16_64_16_dr\n",
      "\n",
      "BEST HYPERPARAMETERS : BEST_LOSS : 0.30013036727905273, BEST_ACTIVATION : relu, BEST_INITIALIZER : GlorotUniform, BEST_LEARINING_RATE : 0.01, BEST_BATCHSIZE : 16, BEST_DROPOUT_RATE : 0.2, BEST_DROPOUT_LOSS : 0.31088772416114807\n",
      "\n",
      " \n",
      " \n",
      "\n",
      "loss  :  0.28876492381095886 , TEST :  0.5361804962158203\n",
      "INFO:tensorflow:Assets written to: /home/anish/ASC_ML_test_weights/candidate_models/dense_16_64_16_dr/assets\n",
      "-------------------------------------------------------------------------------------------------------------------\n",
      "dense_64_64_64_dr_st_dense_64_64_64_dr\n",
      "Model: \"dense_64_64_64_dr_st_dense_64_64_64_dr\"\n",
      "_________________________________________________________________\n",
      "Layer (type)                 Output Shape              Param #   \n",
      "=================================================================\n",
      "input_layer_dense_64_64_64_d [(None, 8)]               0         \n",
      "_________________________________________________________________\n",
      "layer1_dense_64_64_64_dr (De (None, 64)                576       \n",
      "_________________________________________________________________\n",
      "layer2_dense_64_64_64_dr (De (None, 64)                4160      \n",
      "_________________________________________________________________\n",
      "layer3_dense_64_64_64_dr (De (None, 64)                4160      \n",
      "_________________________________________________________________\n",
      "dropout_3 (Dropout)          (None, 64)                0         \n",
      "_________________________________________________________________\n",
      "layer1_dense_64_64_64_dr_2nd (None, 64)                4160      \n",
      "_________________________________________________________________\n",
      "layer2_dense_64_64_64_dr_2nd (None, 64)                4160      \n",
      "_________________________________________________________________\n",
      "layer3_dense_64_64_64_dr_2nd (None, 64)                4160      \n",
      "_________________________________________________________________\n",
      "dropout_4 (Dropout)          (None, 64)                0         \n",
      "_________________________________________________________________\n",
      "output_layer_dense_64_64_64_ (None, 1)                 65        \n",
      "=================================================================\n",
      "Total params: 21,441\n",
      "Trainable params: 21,441\n",
      "Non-trainable params: 0\n",
      "_________________________________________________________________\n",
      "None\n",
      "BEST HYPERPARAMETERS : BEST_LOSS : 0.2450793981552124, BEST_ACTIVATION : relu, BEST_INITIALIZER : GlorotNormal, BEST_LEARINING_RATE : 0.00158, BEST_BATCHSIZE : 16, BEST_DROPOUT_RATE : None, BEST_DROPOUT_LOSS : None\n",
      "GlorotNormal\n"
     ]
    },
    {
     "ename": "NameError",
     "evalue": "name 'GlorotNormal' is not defined",
     "output_type": "error",
     "traceback": [
      "\u001b[0;31m---------------------------------------------------------------------------\u001b[0m",
      "\u001b[0;31mNameError\u001b[0m                                 Traceback (most recent call last)",
      "Input \u001b[0;32mIn [26]\u001b[0m, in \u001b[0;36m<cell line: 3>\u001b[0;34m()\u001b[0m\n\u001b[1;32m      1\u001b[0m f \u001b[38;5;241m=\u001b[39m final\u001b[38;5;241m.\u001b[39mFinal(X_train, y_train, X_test, y_test, \u001b[38;5;124m\"\u001b[39m\u001b[38;5;124mbinary_crossentropy\u001b[39m\u001b[38;5;124m\"\u001b[39m, \u001b[38;5;241m75\u001b[39m, \u001b[38;5;241m64\u001b[39m, input_shape \u001b[38;5;241m=\u001b[39m \u001b[38;5;241m8\u001b[39m, \n\u001b[1;32m      2\u001b[0m                                    max_no_layers \u001b[38;5;241m=\u001b[39m \u001b[38;5;241m3\u001b[39m, model_per_batch \u001b[38;5;241m=\u001b[39m \u001b[38;5;241m10\u001b[39m, output_activation \u001b[38;5;241m=\u001b[39m \u001b[38;5;124m\"\u001b[39m\u001b[38;5;124msigmoid\u001b[39m\u001b[38;5;124m\"\u001b[39m)\n\u001b[0;32m----> 3\u001b[0m \u001b[43mf\u001b[49m\u001b[38;5;241;43m.\u001b[39;49m\u001b[43mget_all_best_models\u001b[49m\u001b[43m(\u001b[49m\u001b[43m)\u001b[49m\n",
      "File \u001b[0;32m~/AutoNN/ASC_ML/networkbuilding/final.py:34\u001b[0m, in \u001b[0;36mFinal.get_all_best_models\u001b[0;34m(self)\u001b[0m\n\u001b[1;32m     32\u001b[0m opt\u001b[38;5;241m.\u001b[39moptimize_models(save\u001b[38;5;241m=\u001b[39m\u001b[38;5;28;01mTrue\u001b[39;00m)\n\u001b[1;32m     33\u001b[0m stacked_models \u001b[38;5;241m=\u001b[39m model_stacking\u001b[38;5;241m.\u001b[39mModel_Stacking(\u001b[38;5;28mself\u001b[39m\u001b[38;5;241m.\u001b[39m_train_x, \u001b[38;5;28mself\u001b[39m\u001b[38;5;241m.\u001b[39m_train_y, \u001b[38;5;28mself\u001b[39m\u001b[38;5;241m.\u001b[39m_test_x, \u001b[38;5;28mself\u001b[39m\u001b[38;5;241m.\u001b[39m_test_y, \u001b[38;5;28mself\u001b[39m\u001b[38;5;241m.\u001b[39m_loss_fn, opt\u001b[38;5;241m.\u001b[39msaved_paths, opt\u001b[38;5;241m.\u001b[39mmodel_confs, save_dir \u001b[38;5;241m=\u001b[39m \u001b[38;5;124m\"\u001b[39m\u001b[38;5;124m/home/anish/ASC_ML_test_weights/stacked_models/\u001b[39m\u001b[38;5;124m\"\u001b[39m)\n\u001b[0;32m---> 34\u001b[0m \u001b[43mstacked_models\u001b[49m\u001b[38;5;241;43m.\u001b[39;49m\u001b[43moptimize_stacked_models\u001b[49m\u001b[43m(\u001b[49m\u001b[43m)\u001b[49m\n",
      "File \u001b[0;32m~/AutoNN/ASC_ML/networkbuilding/model_stacking.py:56\u001b[0m, in \u001b[0;36mModel_Stacking.optimize_stacked_models\u001b[0;34m(self)\u001b[0m\n\u001b[1;32m     53\u001b[0m \u001b[38;5;28mself\u001b[39m\u001b[38;5;241m.\u001b[39m_reinitialize_model(model, best_initializer)\n\u001b[1;32m     55\u001b[0m dr \u001b[38;5;241m=\u001b[39m Dropout_Optimization(\u001b[38;5;28mself\u001b[39m\u001b[38;5;241m.\u001b[39m_train_x, \u001b[38;5;28mself\u001b[39m\u001b[38;5;241m.\u001b[39m_train_y, \u001b[38;5;28mself\u001b[39m\u001b[38;5;241m.\u001b[39m_test_x, \u001b[38;5;28mself\u001b[39m\u001b[38;5;241m.\u001b[39m_test_y, \u001b[38;5;28mself\u001b[39m\u001b[38;5;241m.\u001b[39m_loss_fn, epochs \u001b[38;5;241m=\u001b[39m \u001b[38;5;241m100\u001b[39m, model \u001b[38;5;241m=\u001b[39m model)\n\u001b[0;32m---> 56\u001b[0m best_dropout_rates \u001b[38;5;241m=\u001b[39m \u001b[43mdr\u001b[49m\u001b[38;5;241;43m.\u001b[39;49m\u001b[43mdropout_optimization\u001b[49m\u001b[43m(\u001b[49m\u001b[43mlr\u001b[49m\u001b[43m \u001b[49m\u001b[38;5;241;43m=\u001b[39;49m\u001b[43m \u001b[49m\u001b[43mbest_lr\u001b[49m\u001b[43m,\u001b[49m\u001b[43m \u001b[49m\u001b[43mbatch_size\u001b[49m\u001b[43m \u001b[49m\u001b[38;5;241;43m=\u001b[39;49m\u001b[43m \u001b[49m\u001b[43mbest_batch_size\u001b[49m\u001b[43m,\u001b[49m\u001b[43m \u001b[49m\n\u001b[1;32m     57\u001b[0m \u001b[43m                                                    \u001b[49m\u001b[43mactivation\u001b[49m\u001b[43m \u001b[49m\u001b[38;5;241;43m=\u001b[39;49m\u001b[43m \u001b[49m\u001b[43mbest_activation\u001b[49m\u001b[43m,\u001b[49m\u001b[43m \u001b[49m\u001b[43minitializer\u001b[49m\u001b[43m \u001b[49m\u001b[38;5;241;43m=\u001b[39;49m\u001b[43m \u001b[49m\u001b[43mbest_initializer\u001b[49m\u001b[43m,\u001b[49m\u001b[43m \u001b[49m\u001b[43mepoch\u001b[49m\u001b[43m \u001b[49m\u001b[38;5;241;43m=\u001b[39;49m\u001b[43m \u001b[49m\u001b[38;5;241;43m100\u001b[39;49m\u001b[43m)\u001b[49m\n\u001b[1;32m     58\u001b[0m \u001b[38;5;28mprint\u001b[39m(\u001b[38;5;124mf\u001b[39m\u001b[38;5;124m\"\u001b[39m\u001b[38;5;124mDROPOUT RATES : \u001b[39m\u001b[38;5;132;01m{\u001b[39;00mbest_dropout_rates\u001b[38;5;132;01m}\u001b[39;00m\u001b[38;5;124m\"\u001b[39m)\n\u001b[1;32m     60\u001b[0m model \u001b[38;5;241m=\u001b[39m \u001b[38;5;28mself\u001b[39m\u001b[38;5;241m.\u001b[39m_train_models(model \u001b[38;5;241m=\u001b[39m model, lr \u001b[38;5;241m=\u001b[39m best_lr, batch_size \u001b[38;5;241m=\u001b[39m best_batch_size)\n",
      "File \u001b[0;32m~/AutoNN/ASC_ML/networkbuilding/dropout_optimization.py:25\u001b[0m, in \u001b[0;36mDropout_Optimization.dropout_optimization\u001b[0;34m(self, lr, batch_size, activation, initializer, epoch)\u001b[0m\n\u001b[1;32m     22\u001b[0m \u001b[38;5;28mself\u001b[39m\u001b[38;5;241m.\u001b[39m_model\u001b[38;5;241m.\u001b[39mlayers[dropout_indices[\u001b[38;5;241m1\u001b[39m]]\u001b[38;5;241m.\u001b[39mrate \u001b[38;5;241m=\u001b[39m dropout1\n\u001b[1;32m     23\u001b[0m dropout_comb_list\u001b[38;5;241m.\u001b[39mappend([dropout0,dropout1])\n\u001b[0;32m---> 25\u001b[0m \u001b[38;5;28;43mself\u001b[39;49m\u001b[38;5;241;43m.\u001b[39;49m\u001b[43m_reinitialize_model\u001b[49m\u001b[43m(\u001b[49m\u001b[38;5;28;43mself\u001b[39;49m\u001b[38;5;241;43m.\u001b[39;49m\u001b[43m_model\u001b[49m\u001b[43m,\u001b[49m\u001b[43m \u001b[49m\u001b[43minitializer\u001b[49m\u001b[43m)\u001b[49m\n\u001b[1;32m     26\u001b[0m \u001b[38;5;28mself\u001b[39m\u001b[38;5;241m.\u001b[39m_set_activation(\u001b[38;5;28mself\u001b[39m\u001b[38;5;241m.\u001b[39m_model, activation)\n\u001b[1;32m     27\u001b[0m optimizer \u001b[38;5;241m=\u001b[39m Adam(lr \u001b[38;5;241m=\u001b[39m lr)\n",
      "File \u001b[0;32m~/AutoNN/ASC_ML/networkbuilding/dropout_optimization.py:60\u001b[0m, in \u001b[0;36mDropout_Optimization._reinitialize_model\u001b[0;34m(model, initializer_str)\u001b[0m\n\u001b[1;32m     58\u001b[0m     initializer \u001b[38;5;241m=\u001b[39m HeUniform(seed \u001b[38;5;241m=\u001b[39m \u001b[38;5;241m420\u001b[39m)\n\u001b[1;32m     59\u001b[0m \u001b[38;5;28;01melif\u001b[39;00m initializer_str \u001b[38;5;241m==\u001b[39m \u001b[38;5;124m\"\u001b[39m\u001b[38;5;124mGlorotNormal\u001b[39m\u001b[38;5;124m\"\u001b[39m:\n\u001b[0;32m---> 60\u001b[0m     initializer \u001b[38;5;241m=\u001b[39m \u001b[43mGlorotNormal\u001b[49m(seed \u001b[38;5;241m=\u001b[39m \u001b[38;5;241m420\u001b[39m)\n\u001b[1;32m     61\u001b[0m \u001b[38;5;28;01melif\u001b[39;00m initializer_str \u001b[38;5;241m==\u001b[39m \u001b[38;5;124m\"\u001b[39m\u001b[38;5;124mHeNormal\u001b[39m\u001b[38;5;124m\"\u001b[39m:\n\u001b[1;32m     62\u001b[0m     initializer \u001b[38;5;241m=\u001b[39m HeNormal(seed \u001b[38;5;241m=\u001b[39m \u001b[38;5;241m420\u001b[39m)\n",
      "\u001b[0;31mNameError\u001b[0m: name 'GlorotNormal' is not defined"
     ]
    }
   ],
   "source": [
    "f = final.Final(X_train, y_train, X_test, y_test, \"binary_crossentropy\", 75, 64, input_shape = 8, \n",
    "                                   max_no_layers = 3, model_per_batch = 10, output_activation = \"sigmoid\")\n",
    "f.get_all_best_models()"
   ]
  },
  {
   "cell_type": "code",
   "execution_count": null,
   "metadata": {},
   "outputs": [],
   "source": [
    "from tensorflow.keras.models import load_model"
   ]
  },
  {
   "cell_type": "code",
   "execution_count": null,
   "metadata": {},
   "outputs": [],
   "source": [
    "model = load_model(\"/home/anish/ASC_ML_test_weights/candidate_models/dense_16_64_64_dr\")\n",
    "model.compile(loss='binary_crossentropy', optimizer='adam', metrics=['accuracy'])"
   ]
  },
  {
   "cell_type": "code",
   "execution_count": null,
   "metadata": {},
   "outputs": [],
   "source": [
    "model.evaluate(X_train, y_train)"
   ]
  },
  {
   "cell_type": "code",
   "execution_count": null,
   "metadata": {},
   "outputs": [],
   "source": [
    "model.evaluate(X_test, y_test)"
   ]
  },
  {
   "cell_type": "code",
   "execution_count": null,
   "metadata": {},
   "outputs": [],
   "source": [
    "model = load_model(\"/home/anish/ASC_ML_test_weights/candidate_models/dense_32_512_64_dr\")\n",
    "model.compile(loss='binary_crossentropy', optimizer='adam', metrics=['accuracy'])"
   ]
  },
  {
   "cell_type": "code",
   "execution_count": null,
   "metadata": {},
   "outputs": [],
   "source": [
    "model.evaluate(X_train, y_train)"
   ]
  },
  {
   "cell_type": "code",
   "execution_count": null,
   "metadata": {},
   "outputs": [],
   "source": [
    "model.evaluate(X_test, y_test)"
   ]
  },
  {
   "cell_type": "code",
   "execution_count": null,
   "metadata": {},
   "outputs": [],
   "source": [
    "model = load_model(\"/home/anish/ASC_ML_test_weights/candidate_models/dense_32_64_128_dr\")\n",
    "model.compile(loss='binary_crossentropy', optimizer='adam', metrics=['accuracy'])"
   ]
  },
  {
   "cell_type": "code",
   "execution_count": null,
   "metadata": {},
   "outputs": [],
   "source": [
    "model.evaluate(X_train, y_train)"
   ]
  },
  {
   "cell_type": "code",
   "execution_count": null,
   "metadata": {},
   "outputs": [],
   "source": [
    "model.evaluate(X_test, y_test)"
   ]
  },
  {
   "cell_type": "code",
   "execution_count": null,
   "metadata": {},
   "outputs": [],
   "source": [
    "model = load_model(\"/home/anish/ASC_ML_test_weights/candidate_models/dense_16_64_16_dr\")\n",
    "model.compile(loss='binary_crossentropy', optimizer='adam', metrics=['accuracy'])"
   ]
  },
  {
   "cell_type": "code",
   "execution_count": null,
   "metadata": {},
   "outputs": [],
   "source": [
    "model = load_model(\"/home/anish/ASC_ML_test_weights/stacked_models/dense_32_64_st_dense_32_64\")\n",
    "model.compile(loss='binary_crossentropy', optimizer='adam', metrics=['accuracy'])"
   ]
  },
  {
   "cell_type": "code",
   "execution_count": null,
   "metadata": {},
   "outputs": [],
   "source": [
    "model.evaluate(X_train, y_train)"
   ]
  },
  {
   "cell_type": "code",
   "execution_count": null,
   "metadata": {},
   "outputs": [],
   "source": [
    "model.evaluate(X_test, y_test)"
   ]
  },
  {
   "cell_type": "code",
   "execution_count": null,
   "metadata": {},
   "outputs": [],
   "source": []
  }
 ],
 "metadata": {
  "kernelspec": {
   "display_name": "Python 3 (ipykernel)",
   "language": "python",
   "name": "python3"
  },
  "language_info": {
   "codemirror_mode": {
    "name": "ipython",
    "version": 3
   },
   "file_extension": ".py",
   "mimetype": "text/x-python",
   "name": "python",
   "nbconvert_exporter": "python",
   "pygments_lexer": "ipython3",
   "version": "3.9.13"
  },
  "vscode": {
   "interpreter": {
    "hash": "441a79e7978ad007ee49ac1a1197fffc94e685236b0df2483283c16abedd4251"
   }
  }
 },
 "nbformat": 4,
 "nbformat_minor": 2
}
