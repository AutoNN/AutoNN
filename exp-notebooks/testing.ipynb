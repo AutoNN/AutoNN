{
 "cells": [
  {
   "cell_type": "code",
   "execution_count": 1,
   "metadata": {},
   "outputs": [],
   "source": [
    "import sys\n",
    "import time\n",
    "sys.path.insert(0, '/home/anish/AutoNN')"
   ]
  },
  {
   "cell_type": "code",
   "execution_count": 2,
   "metadata": {},
   "outputs": [],
   "source": [
    "from ASC_ML.preprocessing import data_cleaning as dc\n",
    "import dask.dataframe as dd"
   ]
  },
  {
   "cell_type": "code",
   "execution_count": 3,
   "metadata": {},
   "outputs": [],
   "source": [
    "df = dd.read_csv(\"/home/anish/Downloads/diabetes1.csv\", assume_missing=True)"
   ]
  },
  {
   "cell_type": "code",
   "execution_count": 4,
   "metadata": {},
   "outputs": [
    {
     "data": {
      "text/html": [
       "<div>\n",
       "<style scoped>\n",
       "    .dataframe tbody tr th:only-of-type {\n",
       "        vertical-align: middle;\n",
       "    }\n",
       "\n",
       "    .dataframe tbody tr th {\n",
       "        vertical-align: top;\n",
       "    }\n",
       "\n",
       "    .dataframe thead th {\n",
       "        text-align: right;\n",
       "    }\n",
       "</style>\n",
       "<table border=\"1\" class=\"dataframe\">\n",
       "  <thead>\n",
       "    <tr style=\"text-align: right;\">\n",
       "      <th></th>\n",
       "      <th>Pregnancies</th>\n",
       "      <th>Glucose</th>\n",
       "      <th>BloodPressure</th>\n",
       "      <th>SkinThickness</th>\n",
       "      <th>Insulin</th>\n",
       "      <th>BMI</th>\n",
       "      <th>DiabetesPedigreeFunction</th>\n",
       "      <th>Age</th>\n",
       "      <th>Outcome</th>\n",
       "    </tr>\n",
       "  </thead>\n",
       "  <tbody>\n",
       "    <tr>\n",
       "      <th>0</th>\n",
       "      <td>6.0</td>\n",
       "      <td>148.0</td>\n",
       "      <td>72.0</td>\n",
       "      <td>35.0</td>\n",
       "      <td>NaN</td>\n",
       "      <td>33.6</td>\n",
       "      <td>0.627</td>\n",
       "      <td>50.0</td>\n",
       "      <td>yes</td>\n",
       "    </tr>\n",
       "    <tr>\n",
       "      <th>1</th>\n",
       "      <td>1.0</td>\n",
       "      <td>85.0</td>\n",
       "      <td>66.0</td>\n",
       "      <td>29.0</td>\n",
       "      <td>NaN</td>\n",
       "      <td>26.6</td>\n",
       "      <td>0.351</td>\n",
       "      <td>31.0</td>\n",
       "      <td>no</td>\n",
       "    </tr>\n",
       "    <tr>\n",
       "      <th>2</th>\n",
       "      <td>8.0</td>\n",
       "      <td>183.0</td>\n",
       "      <td>64.0</td>\n",
       "      <td>NaN</td>\n",
       "      <td>NaN</td>\n",
       "      <td>23.3</td>\n",
       "      <td>0.672</td>\n",
       "      <td>32.0</td>\n",
       "      <td>yes</td>\n",
       "    </tr>\n",
       "    <tr>\n",
       "      <th>3</th>\n",
       "      <td>1.0</td>\n",
       "      <td>89.0</td>\n",
       "      <td>66.0</td>\n",
       "      <td>23.0</td>\n",
       "      <td>94.0</td>\n",
       "      <td>28.1</td>\n",
       "      <td>0.167</td>\n",
       "      <td>21.0</td>\n",
       "      <td>no</td>\n",
       "    </tr>\n",
       "    <tr>\n",
       "      <th>4</th>\n",
       "      <td>NaN</td>\n",
       "      <td>137.0</td>\n",
       "      <td>40.0</td>\n",
       "      <td>35.0</td>\n",
       "      <td>168.0</td>\n",
       "      <td>43.1</td>\n",
       "      <td>2.288</td>\n",
       "      <td>33.0</td>\n",
       "      <td>yes</td>\n",
       "    </tr>\n",
       "  </tbody>\n",
       "</table>\n",
       "</div>"
      ],
      "text/plain": [
       "   Pregnancies  Glucose  BloodPressure  SkinThickness  Insulin   BMI  \\\n",
       "0          6.0    148.0           72.0           35.0      NaN  33.6   \n",
       "1          1.0     85.0           66.0           29.0      NaN  26.6   \n",
       "2          8.0    183.0           64.0            NaN      NaN  23.3   \n",
       "3          1.0     89.0           66.0           23.0     94.0  28.1   \n",
       "4          NaN    137.0           40.0           35.0    168.0  43.1   \n",
       "\n",
       "   DiabetesPedigreeFunction   Age Outcome  \n",
       "0                     0.627  50.0     yes  \n",
       "1                     0.351  31.0      no  \n",
       "2                     0.672  32.0     yes  \n",
       "3                     0.167  21.0      no  \n",
       "4                     2.288  33.0     yes  "
      ]
     },
     "execution_count": 4,
     "metadata": {},
     "output_type": "execute_result"
    }
   ],
   "source": [
    "df.head(5)"
   ]
  },
  {
   "cell_type": "code",
   "execution_count": 5,
   "metadata": {},
   "outputs": [],
   "source": [
    "df = df.dropna()\n",
    "df = df.reset_index(drop=True)"
   ]
  },
  {
   "cell_type": "code",
   "execution_count": 6,
   "metadata": {},
   "outputs": [
    {
     "data": {
      "text/html": [
       "<div>\n",
       "<style scoped>\n",
       "    .dataframe tbody tr th:only-of-type {\n",
       "        vertical-align: middle;\n",
       "    }\n",
       "\n",
       "    .dataframe tbody tr th {\n",
       "        vertical-align: top;\n",
       "    }\n",
       "\n",
       "    .dataframe thead th {\n",
       "        text-align: right;\n",
       "    }\n",
       "</style>\n",
       "<table border=\"1\" class=\"dataframe\">\n",
       "  <thead>\n",
       "    <tr style=\"text-align: right;\">\n",
       "      <th></th>\n",
       "      <th>Pregnancies</th>\n",
       "      <th>Glucose</th>\n",
       "      <th>BloodPressure</th>\n",
       "      <th>SkinThickness</th>\n",
       "      <th>Insulin</th>\n",
       "      <th>BMI</th>\n",
       "      <th>DiabetesPedigreeFunction</th>\n",
       "      <th>Age</th>\n",
       "      <th>Outcome</th>\n",
       "    </tr>\n",
       "  </thead>\n",
       "  <tbody>\n",
       "    <tr>\n",
       "      <th>0</th>\n",
       "      <td>1.0</td>\n",
       "      <td>89.0</td>\n",
       "      <td>66.0</td>\n",
       "      <td>23.0</td>\n",
       "      <td>94.0</td>\n",
       "      <td>28.1</td>\n",
       "      <td>0.167</td>\n",
       "      <td>21.0</td>\n",
       "      <td>no</td>\n",
       "    </tr>\n",
       "    <tr>\n",
       "      <th>1</th>\n",
       "      <td>3.0</td>\n",
       "      <td>78.0</td>\n",
       "      <td>50.0</td>\n",
       "      <td>32.0</td>\n",
       "      <td>88.0</td>\n",
       "      <td>31.0</td>\n",
       "      <td>0.248</td>\n",
       "      <td>26.0</td>\n",
       "      <td>yes</td>\n",
       "    </tr>\n",
       "    <tr>\n",
       "      <th>2</th>\n",
       "      <td>2.0</td>\n",
       "      <td>197.0</td>\n",
       "      <td>70.0</td>\n",
       "      <td>45.0</td>\n",
       "      <td>543.0</td>\n",
       "      <td>30.5</td>\n",
       "      <td>0.158</td>\n",
       "      <td>53.0</td>\n",
       "      <td>yes</td>\n",
       "    </tr>\n",
       "    <tr>\n",
       "      <th>3</th>\n",
       "      <td>1.0</td>\n",
       "      <td>189.0</td>\n",
       "      <td>60.0</td>\n",
       "      <td>23.0</td>\n",
       "      <td>846.0</td>\n",
       "      <td>30.1</td>\n",
       "      <td>0.398</td>\n",
       "      <td>59.0</td>\n",
       "      <td>yes</td>\n",
       "    </tr>\n",
       "    <tr>\n",
       "      <th>4</th>\n",
       "      <td>5.0</td>\n",
       "      <td>166.0</td>\n",
       "      <td>72.0</td>\n",
       "      <td>19.0</td>\n",
       "      <td>175.0</td>\n",
       "      <td>25.8</td>\n",
       "      <td>0.587</td>\n",
       "      <td>51.0</td>\n",
       "      <td>yes</td>\n",
       "    </tr>\n",
       "  </tbody>\n",
       "</table>\n",
       "</div>"
      ],
      "text/plain": [
       "   Pregnancies  Glucose  BloodPressure  SkinThickness  Insulin   BMI  \\\n",
       "0          1.0     89.0           66.0           23.0     94.0  28.1   \n",
       "1          3.0     78.0           50.0           32.0     88.0  31.0   \n",
       "2          2.0    197.0           70.0           45.0    543.0  30.5   \n",
       "3          1.0    189.0           60.0           23.0    846.0  30.1   \n",
       "4          5.0    166.0           72.0           19.0    175.0  25.8   \n",
       "\n",
       "   DiabetesPedigreeFunction   Age Outcome  \n",
       "0                     0.167  21.0      no  \n",
       "1                     0.248  26.0     yes  \n",
       "2                     0.158  53.0     yes  \n",
       "3                     0.398  59.0     yes  \n",
       "4                     0.587  51.0     yes  "
      ]
     },
     "execution_count": 6,
     "metadata": {},
     "output_type": "execute_result"
    }
   ],
   "source": [
    "df.head()"
   ]
  },
  {
   "cell_type": "code",
   "execution_count": 7,
   "metadata": {},
   "outputs": [],
   "source": [
    "data_cl = dc.DataCleaning(train_dataframe=df, label=['Outcome'])"
   ]
  },
  {
   "cell_type": "code",
   "execution_count": 8,
   "metadata": {},
   "outputs": [
    {
     "data": {
      "text/html": [
       "<div>\n",
       "<style scoped>\n",
       "    .dataframe tbody tr th:only-of-type {\n",
       "        vertical-align: middle;\n",
       "    }\n",
       "\n",
       "    .dataframe tbody tr th {\n",
       "        vertical-align: top;\n",
       "    }\n",
       "\n",
       "    .dataframe thead th {\n",
       "        text-align: right;\n",
       "    }\n",
       "</style>\n",
       "<table border=\"1\" class=\"dataframe\">\n",
       "  <thead>\n",
       "    <tr style=\"text-align: right;\">\n",
       "      <th></th>\n",
       "      <th>Pregnancies</th>\n",
       "      <th>Glucose</th>\n",
       "      <th>BloodPressure</th>\n",
       "      <th>SkinThickness</th>\n",
       "      <th>Insulin</th>\n",
       "      <th>BMI</th>\n",
       "      <th>DiabetesPedigreeFunction</th>\n",
       "      <th>Age</th>\n",
       "      <th>Outcome</th>\n",
       "    </tr>\n",
       "  </thead>\n",
       "  <tbody>\n",
       "    <tr>\n",
       "      <th>0</th>\n",
       "      <td>1.0</td>\n",
       "      <td>89.0</td>\n",
       "      <td>66.0</td>\n",
       "      <td>23.0</td>\n",
       "      <td>94.0</td>\n",
       "      <td>28.1</td>\n",
       "      <td>0.167</td>\n",
       "      <td>21.0</td>\n",
       "      <td>no</td>\n",
       "    </tr>\n",
       "    <tr>\n",
       "      <th>1</th>\n",
       "      <td>3.0</td>\n",
       "      <td>78.0</td>\n",
       "      <td>50.0</td>\n",
       "      <td>32.0</td>\n",
       "      <td>88.0</td>\n",
       "      <td>31.0</td>\n",
       "      <td>0.248</td>\n",
       "      <td>26.0</td>\n",
       "      <td>yes</td>\n",
       "    </tr>\n",
       "    <tr>\n",
       "      <th>2</th>\n",
       "      <td>2.0</td>\n",
       "      <td>197.0</td>\n",
       "      <td>70.0</td>\n",
       "      <td>45.0</td>\n",
       "      <td>543.0</td>\n",
       "      <td>30.5</td>\n",
       "      <td>0.158</td>\n",
       "      <td>53.0</td>\n",
       "      <td>yes</td>\n",
       "    </tr>\n",
       "    <tr>\n",
       "      <th>3</th>\n",
       "      <td>1.0</td>\n",
       "      <td>189.0</td>\n",
       "      <td>60.0</td>\n",
       "      <td>23.0</td>\n",
       "      <td>846.0</td>\n",
       "      <td>30.1</td>\n",
       "      <td>0.398</td>\n",
       "      <td>59.0</td>\n",
       "      <td>yes</td>\n",
       "    </tr>\n",
       "    <tr>\n",
       "      <th>4</th>\n",
       "      <td>5.0</td>\n",
       "      <td>166.0</td>\n",
       "      <td>72.0</td>\n",
       "      <td>19.0</td>\n",
       "      <td>175.0</td>\n",
       "      <td>25.8</td>\n",
       "      <td>0.587</td>\n",
       "      <td>51.0</td>\n",
       "      <td>yes</td>\n",
       "    </tr>\n",
       "  </tbody>\n",
       "</table>\n",
       "</div>"
      ],
      "text/plain": [
       "   Pregnancies  Glucose  BloodPressure  SkinThickness  Insulin   BMI  \\\n",
       "0          1.0     89.0           66.0           23.0     94.0  28.1   \n",
       "1          3.0     78.0           50.0           32.0     88.0  31.0   \n",
       "2          2.0    197.0           70.0           45.0    543.0  30.5   \n",
       "3          1.0    189.0           60.0           23.0    846.0  30.1   \n",
       "4          5.0    166.0           72.0           19.0    175.0  25.8   \n",
       "\n",
       "   DiabetesPedigreeFunction   Age Outcome  \n",
       "0                     0.167  21.0      no  \n",
       "1                     0.248  26.0     yes  \n",
       "2                     0.158  53.0     yes  \n",
       "3                     0.398  59.0     yes  \n",
       "4                     0.587  51.0     yes  "
      ]
     },
     "execution_count": 8,
     "metadata": {},
     "output_type": "execute_result"
    }
   ],
   "source": [
    "data_cl.dataset.get()[0].head()"
   ]
  },
  {
   "cell_type": "code",
   "execution_count": 9,
   "metadata": {},
   "outputs": [
    {
     "data": {
      "text/plain": [
       "{'Pregnancies': {'dtype': dtype('float64'),\n",
       "  'is_label': False,\n",
       "  'missing': 0.0,\n",
       "  'cardinality': 16},\n",
       " 'Glucose': {'dtype': dtype('float64'),\n",
       "  'is_label': False,\n",
       "  'missing': 0.0,\n",
       "  'cardinality': 111},\n",
       " 'BloodPressure': {'dtype': dtype('float64'),\n",
       "  'is_label': False,\n",
       "  'missing': 0.0,\n",
       "  'cardinality': 36},\n",
       " 'SkinThickness': {'dtype': dtype('float64'),\n",
       "  'is_label': False,\n",
       "  'missing': 0.0,\n",
       "  'cardinality': 45},\n",
       " 'Insulin': {'dtype': dtype('float64'),\n",
       "  'is_label': False,\n",
       "  'missing': 0.0,\n",
       "  'cardinality': 168},\n",
       " 'BMI': {'dtype': dtype('float64'),\n",
       "  'is_label': False,\n",
       "  'missing': 0.0,\n",
       "  'cardinality': 175},\n",
       " 'DiabetesPedigreeFunction': {'dtype': dtype('float64'),\n",
       "  'is_label': False,\n",
       "  'missing': 0.0,\n",
       "  'cardinality': 289},\n",
       " 'Age': {'dtype': dtype('float64'),\n",
       "  'is_label': False,\n",
       "  'missing': 0.0,\n",
       "  'cardinality': 43},\n",
       " 'Outcome': {'dtype': dtype('O'),\n",
       "  'is_label': True,\n",
       "  'missing': 0.0,\n",
       "  'cardinality': 2}}"
      ]
     },
     "execution_count": 9,
     "metadata": {},
     "output_type": "execute_result"
    }
   ],
   "source": [
    "data_cl.col_info"
   ]
  },
  {
   "cell_type": "code",
   "execution_count": 10,
   "metadata": {},
   "outputs": [],
   "source": [
    "data_cl.encode()"
   ]
  },
  {
   "cell_type": "code",
   "execution_count": 11,
   "metadata": {},
   "outputs": [
    {
     "data": {
      "text/html": [
       "<div>\n",
       "<style scoped>\n",
       "    .dataframe tbody tr th:only-of-type {\n",
       "        vertical-align: middle;\n",
       "    }\n",
       "\n",
       "    .dataframe tbody tr th {\n",
       "        vertical-align: top;\n",
       "    }\n",
       "\n",
       "    .dataframe thead th {\n",
       "        text-align: right;\n",
       "    }\n",
       "</style>\n",
       "<table border=\"1\" class=\"dataframe\">\n",
       "  <thead>\n",
       "    <tr style=\"text-align: right;\">\n",
       "      <th></th>\n",
       "      <th>Pregnancies</th>\n",
       "      <th>Glucose</th>\n",
       "      <th>BloodPressure</th>\n",
       "      <th>SkinThickness</th>\n",
       "      <th>Insulin</th>\n",
       "      <th>BMI</th>\n",
       "      <th>DiabetesPedigreeFunction</th>\n",
       "      <th>Age</th>\n",
       "      <th>Outcome</th>\n",
       "    </tr>\n",
       "  </thead>\n",
       "  <tbody>\n",
       "    <tr>\n",
       "      <th>0</th>\n",
       "      <td>1.0</td>\n",
       "      <td>89.0</td>\n",
       "      <td>66.0</td>\n",
       "      <td>23.0</td>\n",
       "      <td>94.0</td>\n",
       "      <td>28.1</td>\n",
       "      <td>0.167</td>\n",
       "      <td>21.0</td>\n",
       "      <td>0</td>\n",
       "    </tr>\n",
       "    <tr>\n",
       "      <th>1</th>\n",
       "      <td>3.0</td>\n",
       "      <td>78.0</td>\n",
       "      <td>50.0</td>\n",
       "      <td>32.0</td>\n",
       "      <td>88.0</td>\n",
       "      <td>31.0</td>\n",
       "      <td>0.248</td>\n",
       "      <td>26.0</td>\n",
       "      <td>1</td>\n",
       "    </tr>\n",
       "    <tr>\n",
       "      <th>2</th>\n",
       "      <td>2.0</td>\n",
       "      <td>197.0</td>\n",
       "      <td>70.0</td>\n",
       "      <td>45.0</td>\n",
       "      <td>543.0</td>\n",
       "      <td>30.5</td>\n",
       "      <td>0.158</td>\n",
       "      <td>53.0</td>\n",
       "      <td>1</td>\n",
       "    </tr>\n",
       "    <tr>\n",
       "      <th>3</th>\n",
       "      <td>1.0</td>\n",
       "      <td>189.0</td>\n",
       "      <td>60.0</td>\n",
       "      <td>23.0</td>\n",
       "      <td>846.0</td>\n",
       "      <td>30.1</td>\n",
       "      <td>0.398</td>\n",
       "      <td>59.0</td>\n",
       "      <td>1</td>\n",
       "    </tr>\n",
       "    <tr>\n",
       "      <th>4</th>\n",
       "      <td>5.0</td>\n",
       "      <td>166.0</td>\n",
       "      <td>72.0</td>\n",
       "      <td>19.0</td>\n",
       "      <td>175.0</td>\n",
       "      <td>25.8</td>\n",
       "      <td>0.587</td>\n",
       "      <td>51.0</td>\n",
       "      <td>1</td>\n",
       "    </tr>\n",
       "  </tbody>\n",
       "</table>\n",
       "</div>"
      ],
      "text/plain": [
       "   Pregnancies  Glucose  BloodPressure  SkinThickness  Insulin   BMI  \\\n",
       "0          1.0     89.0           66.0           23.0     94.0  28.1   \n",
       "1          3.0     78.0           50.0           32.0     88.0  31.0   \n",
       "2          2.0    197.0           70.0           45.0    543.0  30.5   \n",
       "3          1.0    189.0           60.0           23.0    846.0  30.1   \n",
       "4          5.0    166.0           72.0           19.0    175.0  25.8   \n",
       "\n",
       "   DiabetesPedigreeFunction   Age  Outcome  \n",
       "0                     0.167  21.0        0  \n",
       "1                     0.248  26.0        1  \n",
       "2                     0.158  53.0        1  \n",
       "3                     0.398  59.0        1  \n",
       "4                     0.587  51.0        1  "
      ]
     },
     "execution_count": 11,
     "metadata": {},
     "output_type": "execute_result"
    }
   ],
   "source": [
    "data_cl.dataset.get()[0].head()"
   ]
  },
  {
   "cell_type": "code",
   "execution_count": 12,
   "metadata": {},
   "outputs": [],
   "source": [
    "from sklearn.preprocessing import MinMaxScaler"
   ]
  },
  {
   "cell_type": "code",
   "execution_count": 13,
   "metadata": {},
   "outputs": [],
   "source": [
    "scaler_x = MinMaxScaler()\n",
    "scaler_x.fit(data_cl.dataset.get()[0])\n",
    "scaled_np_arr = scaler_x.transform(data_cl.dataset.get()[0])"
   ]
  },
  {
   "cell_type": "code",
   "execution_count": 14,
   "metadata": {},
   "outputs": [
    {
     "data": {
      "text/plain": [
       "array([[0.        , 0.23404255, 0.48837209, ..., 0.03654189, 0.        ,\n",
       "        0.        ],\n",
       "       [0.125     , 0.15602837, 0.30232558, ..., 0.07263815, 0.08333333,\n",
       "        1.        ],\n",
       "       [0.0625    , 1.        , 0.53488372, ..., 0.03253119, 0.53333333,\n",
       "        1.        ],\n",
       "       ...,\n",
       "       [0.0625    , 0.22695035, 0.39534884, ..., 0.30347594, 0.01666667,\n",
       "        0.        ],\n",
       "       [0.5625    , 0.31914894, 0.60465116, ..., 0.03832442, 0.7       ,\n",
       "        0.        ],\n",
       "       [0.25      , 0.46099291, 0.55813953, ..., 0.07130125, 0.15      ,\n",
       "        0.        ]])"
      ]
     },
     "execution_count": 14,
     "metadata": {},
     "output_type": "execute_result"
    }
   ],
   "source": [
    "scaled_np_arr"
   ]
  },
  {
   "cell_type": "code",
   "execution_count": 15,
   "metadata": {},
   "outputs": [],
   "source": [
    "import numpy as np"
   ]
  },
  {
   "cell_type": "code",
   "execution_count": 16,
   "metadata": {},
   "outputs": [
    {
     "name": "stderr",
     "output_type": "stream",
     "text": [
      "2022-09-15 13:29:34.578642: I tensorflow/stream_executor/platform/default/dso_loader.cc:49] Successfully opened dynamic library libcudart.so.10.1\n"
     ]
    }
   ],
   "source": [
    "from ASC_ML.networkbuilding import final"
   ]
  },
  {
   "cell_type": "code",
   "execution_count": 17,
   "metadata": {},
   "outputs": [],
   "source": [
    "data_cl.dataset.train_test_split()"
   ]
  },
  {
   "cell_type": "code",
   "execution_count": 18,
   "metadata": {},
   "outputs": [],
   "source": [
    "[traindf, testdf] = data_cl.dataset.get(types=['train', 'test'])"
   ]
  },
  {
   "cell_type": "code",
   "execution_count": 19,
   "metadata": {},
   "outputs": [
    {
     "data": {
      "text/html": [
       "<div>\n",
       "<style scoped>\n",
       "    .dataframe tbody tr th:only-of-type {\n",
       "        vertical-align: middle;\n",
       "    }\n",
       "\n",
       "    .dataframe tbody tr th {\n",
       "        vertical-align: top;\n",
       "    }\n",
       "\n",
       "    .dataframe thead th {\n",
       "        text-align: right;\n",
       "    }\n",
       "</style>\n",
       "<table border=\"1\" class=\"dataframe\">\n",
       "  <thead>\n",
       "    <tr style=\"text-align: right;\">\n",
       "      <th></th>\n",
       "      <th>Pregnancies</th>\n",
       "      <th>Glucose</th>\n",
       "      <th>BloodPressure</th>\n",
       "      <th>SkinThickness</th>\n",
       "      <th>Insulin</th>\n",
       "      <th>BMI</th>\n",
       "      <th>DiabetesPedigreeFunction</th>\n",
       "      <th>Age</th>\n",
       "      <th>Outcome</th>\n",
       "    </tr>\n",
       "  </thead>\n",
       "  <tbody>\n",
       "    <tr>\n",
       "      <th>118</th>\n",
       "      <td>7.0</td>\n",
       "      <td>136.0</td>\n",
       "      <td>74.0</td>\n",
       "      <td>26.0</td>\n",
       "      <td>135.0</td>\n",
       "      <td>26.0</td>\n",
       "      <td>0.647</td>\n",
       "      <td>51.0</td>\n",
       "      <td>0</td>\n",
       "    </tr>\n",
       "    <tr>\n",
       "      <th>62</th>\n",
       "      <td>2.0</td>\n",
       "      <td>106.0</td>\n",
       "      <td>64.0</td>\n",
       "      <td>35.0</td>\n",
       "      <td>119.0</td>\n",
       "      <td>30.5</td>\n",
       "      <td>1.400</td>\n",
       "      <td>34.0</td>\n",
       "      <td>0</td>\n",
       "    </tr>\n",
       "    <tr>\n",
       "      <th>91</th>\n",
       "      <td>12.0</td>\n",
       "      <td>151.0</td>\n",
       "      <td>70.0</td>\n",
       "      <td>40.0</td>\n",
       "      <td>271.0</td>\n",
       "      <td>41.8</td>\n",
       "      <td>0.742</td>\n",
       "      <td>38.0</td>\n",
       "      <td>1</td>\n",
       "    </tr>\n",
       "    <tr>\n",
       "      <th>324</th>\n",
       "      <td>11.0</td>\n",
       "      <td>120.0</td>\n",
       "      <td>80.0</td>\n",
       "      <td>37.0</td>\n",
       "      <td>150.0</td>\n",
       "      <td>42.3</td>\n",
       "      <td>0.785</td>\n",
       "      <td>48.0</td>\n",
       "      <td>1</td>\n",
       "    </tr>\n",
       "    <tr>\n",
       "      <th>293</th>\n",
       "      <td>9.0</td>\n",
       "      <td>154.0</td>\n",
       "      <td>78.0</td>\n",
       "      <td>30.0</td>\n",
       "      <td>100.0</td>\n",
       "      <td>30.9</td>\n",
       "      <td>0.164</td>\n",
       "      <td>45.0</td>\n",
       "      <td>0</td>\n",
       "    </tr>\n",
       "    <tr>\n",
       "      <th>...</th>\n",
       "      <td>...</td>\n",
       "      <td>...</td>\n",
       "      <td>...</td>\n",
       "      <td>...</td>\n",
       "      <td>...</td>\n",
       "      <td>...</td>\n",
       "      <td>...</td>\n",
       "      <td>...</td>\n",
       "      <td>...</td>\n",
       "    </tr>\n",
       "    <tr>\n",
       "      <th>183</th>\n",
       "      <td>1.0</td>\n",
       "      <td>143.0</td>\n",
       "      <td>74.0</td>\n",
       "      <td>22.0</td>\n",
       "      <td>61.0</td>\n",
       "      <td>26.2</td>\n",
       "      <td>0.256</td>\n",
       "      <td>21.0</td>\n",
       "      <td>0</td>\n",
       "    </tr>\n",
       "    <tr>\n",
       "      <th>31</th>\n",
       "      <td>2.0</td>\n",
       "      <td>110.0</td>\n",
       "      <td>74.0</td>\n",
       "      <td>29.0</td>\n",
       "      <td>125.0</td>\n",
       "      <td>32.4</td>\n",
       "      <td>0.698</td>\n",
       "      <td>27.0</td>\n",
       "      <td>0</td>\n",
       "    </tr>\n",
       "    <tr>\n",
       "      <th>163</th>\n",
       "      <td>2.0</td>\n",
       "      <td>122.0</td>\n",
       "      <td>52.0</td>\n",
       "      <td>43.0</td>\n",
       "      <td>158.0</td>\n",
       "      <td>36.2</td>\n",
       "      <td>0.816</td>\n",
       "      <td>28.0</td>\n",
       "      <td>0</td>\n",
       "    </tr>\n",
       "    <tr>\n",
       "      <th>162</th>\n",
       "      <td>2.0</td>\n",
       "      <td>105.0</td>\n",
       "      <td>58.0</td>\n",
       "      <td>40.0</td>\n",
       "      <td>94.0</td>\n",
       "      <td>34.9</td>\n",
       "      <td>0.225</td>\n",
       "      <td>25.0</td>\n",
       "      <td>0</td>\n",
       "    </tr>\n",
       "    <tr>\n",
       "      <th>315</th>\n",
       "      <td>1.0</td>\n",
       "      <td>108.0</td>\n",
       "      <td>60.0</td>\n",
       "      <td>46.0</td>\n",
       "      <td>178.0</td>\n",
       "      <td>35.5</td>\n",
       "      <td>0.415</td>\n",
       "      <td>24.0</td>\n",
       "      <td>0</td>\n",
       "    </tr>\n",
       "  </tbody>\n",
       "</table>\n",
       "<p>289 rows × 9 columns</p>\n",
       "</div>"
      ],
      "text/plain": [
       "     Pregnancies  Glucose  BloodPressure  SkinThickness  Insulin   BMI  \\\n",
       "118          7.0    136.0           74.0           26.0    135.0  26.0   \n",
       "62           2.0    106.0           64.0           35.0    119.0  30.5   \n",
       "91          12.0    151.0           70.0           40.0    271.0  41.8   \n",
       "324         11.0    120.0           80.0           37.0    150.0  42.3   \n",
       "293          9.0    154.0           78.0           30.0    100.0  30.9   \n",
       "..           ...      ...            ...            ...      ...   ...   \n",
       "183          1.0    143.0           74.0           22.0     61.0  26.2   \n",
       "31           2.0    110.0           74.0           29.0    125.0  32.4   \n",
       "163          2.0    122.0           52.0           43.0    158.0  36.2   \n",
       "162          2.0    105.0           58.0           40.0     94.0  34.9   \n",
       "315          1.0    108.0           60.0           46.0    178.0  35.5   \n",
       "\n",
       "     DiabetesPedigreeFunction   Age  Outcome  \n",
       "118                     0.647  51.0        0  \n",
       "62                      1.400  34.0        0  \n",
       "91                      0.742  38.0        1  \n",
       "324                     0.785  48.0        1  \n",
       "293                     0.164  45.0        0  \n",
       "..                        ...   ...      ...  \n",
       "183                     0.256  21.0        0  \n",
       "31                      0.698  27.0        0  \n",
       "163                     0.816  28.0        0  \n",
       "162                     0.225  25.0        0  \n",
       "315                     0.415  24.0        0  \n",
       "\n",
       "[289 rows x 9 columns]"
      ]
     },
     "execution_count": 19,
     "metadata": {},
     "output_type": "execute_result"
    }
   ],
   "source": [
    "traindf.compute()"
   ]
  },
  {
   "cell_type": "code",
   "execution_count": 20,
   "metadata": {},
   "outputs": [],
   "source": [
    "y_train = traindf.pop(data_cl.get_label()[0])\n",
    "X_train = traindf"
   ]
  },
  {
   "cell_type": "code",
   "execution_count": 21,
   "metadata": {},
   "outputs": [],
   "source": [
    "y_test = testdf.pop(data_cl.get_label()[0])\n",
    "X_test = testdf"
   ]
  },
  {
   "cell_type": "code",
   "execution_count": 22,
   "metadata": {},
   "outputs": [
    {
     "data": {
      "text/plain": [
       "(47, 8)"
      ]
     },
     "execution_count": 22,
     "metadata": {},
     "output_type": "execute_result"
    }
   ],
   "source": [
    "testdf.compute().shape"
   ]
  },
  {
   "cell_type": "code",
   "execution_count": 23,
   "metadata": {},
   "outputs": [],
   "source": [
    "scaler_x = MinMaxScaler()\n",
    "scaler_x.fit(X_train)\n",
    "X_train = scaler_x.transform(X_train)\n",
    "X_test = scaler_x.transform(X_test)"
   ]
  },
  {
   "cell_type": "code",
   "execution_count": 24,
   "metadata": {},
   "outputs": [],
   "source": [
    "y_train = np.asarray(y_train).reshape([-1, 1])\n",
    "y_test = np.asarray(y_test).reshape([-1, 1])"
   ]
  },
  {
   "cell_type": "code",
   "execution_count": 25,
   "metadata": {},
   "outputs": [
    {
     "data": {
      "text/plain": [
       "(289, 1)"
      ]
     },
     "execution_count": 25,
     "metadata": {},
     "output_type": "execute_result"
    }
   ],
   "source": [
    "y_train.shape"
   ]
  },
  {
   "cell_type": "code",
   "execution_count": 26,
   "metadata": {},
   "outputs": [
    {
     "name": "stderr",
     "output_type": "stream",
     "text": [
      "2022-09-15 13:29:35.747205: I tensorflow/compiler/jit/xla_cpu_device.cc:41] Not creating XLA devices, tf_xla_enable_xla_devices not set\n",
      "2022-09-15 13:29:35.750008: I tensorflow/stream_executor/platform/default/dso_loader.cc:49] Successfully opened dynamic library libcuda.so.1\n",
      "2022-09-15 13:29:35.811716: I tensorflow/stream_executor/cuda/cuda_gpu_executor.cc:941] successful NUMA node read from SysFS had negative value (-1), but there must be at least one NUMA node, so returning NUMA node zero\n",
      "2022-09-15 13:29:35.811917: I tensorflow/core/common_runtime/gpu/gpu_device.cc:1720] Found device 0 with properties: \n",
      "pciBusID: 0000:01:00.0 name: NVIDIA GeForce RTX 2060 computeCapability: 7.5\n",
      "coreClock: 1.695GHz coreCount: 30 deviceMemorySize: 5.79GiB deviceMemoryBandwidth: 312.97GiB/s\n",
      "2022-09-15 13:29:35.811964: I tensorflow/stream_executor/platform/default/dso_loader.cc:49] Successfully opened dynamic library libcudart.so.10.1\n",
      "2022-09-15 13:29:35.825840: I tensorflow/stream_executor/platform/default/dso_loader.cc:49] Successfully opened dynamic library libcublas.so.10\n",
      "2022-09-15 13:29:35.825942: I tensorflow/stream_executor/platform/default/dso_loader.cc:49] Successfully opened dynamic library libcublasLt.so.10\n",
      "2022-09-15 13:29:35.833261: I tensorflow/stream_executor/platform/default/dso_loader.cc:49] Successfully opened dynamic library libcufft.so.10\n",
      "2022-09-15 13:29:35.835320: I tensorflow/stream_executor/platform/default/dso_loader.cc:49] Successfully opened dynamic library libcurand.so.10\n",
      "2022-09-15 13:29:35.848072: I tensorflow/stream_executor/platform/default/dso_loader.cc:49] Successfully opened dynamic library libcusolver.so.10\n",
      "2022-09-15 13:29:35.850462: I tensorflow/stream_executor/platform/default/dso_loader.cc:49] Successfully opened dynamic library libcusparse.so.10\n",
      "2022-09-15 13:29:35.874154: I tensorflow/stream_executor/platform/default/dso_loader.cc:49] Successfully opened dynamic library libcudnn.so.7\n",
      "2022-09-15 13:29:35.874315: I tensorflow/stream_executor/cuda/cuda_gpu_executor.cc:941] successful NUMA node read from SysFS had negative value (-1), but there must be at least one NUMA node, so returning NUMA node zero\n",
      "2022-09-15 13:29:35.874511: I tensorflow/stream_executor/cuda/cuda_gpu_executor.cc:941] successful NUMA node read from SysFS had negative value (-1), but there must be at least one NUMA node, so returning NUMA node zero\n",
      "2022-09-15 13:29:35.874612: I tensorflow/core/common_runtime/gpu/gpu_device.cc:1862] Adding visible gpu devices: 0\n",
      "2022-09-15 13:29:35.874900: I tensorflow/core/platform/cpu_feature_guard.cc:142] This TensorFlow binary is optimized with oneAPI Deep Neural Network Library (oneDNN) to use the following CPU instructions in performance-critical operations:  SSE4.1 SSE4.2 AVX AVX2 FMA\n",
      "To enable them in other operations, rebuild TensorFlow with the appropriate compiler flags.\n",
      "2022-09-15 13:29:35.875271: I tensorflow/compiler/jit/xla_gpu_device.cc:99] Not creating XLA devices, tf_xla_enable_xla_devices not set\n",
      "2022-09-15 13:29:35.875366: I tensorflow/stream_executor/cuda/cuda_gpu_executor.cc:941] successful NUMA node read from SysFS had negative value (-1), but there must be at least one NUMA node, so returning NUMA node zero\n",
      "2022-09-15 13:29:35.875481: I tensorflow/core/common_runtime/gpu/gpu_device.cc:1720] Found device 0 with properties: \n",
      "pciBusID: 0000:01:00.0 name: NVIDIA GeForce RTX 2060 computeCapability: 7.5\n",
      "coreClock: 1.695GHz coreCount: 30 deviceMemorySize: 5.79GiB deviceMemoryBandwidth: 312.97GiB/s\n",
      "2022-09-15 13:29:35.875514: I tensorflow/stream_executor/platform/default/dso_loader.cc:49] Successfully opened dynamic library libcudart.so.10.1\n",
      "2022-09-15 13:29:35.875533: I tensorflow/stream_executor/platform/default/dso_loader.cc:49] Successfully opened dynamic library libcublas.so.10\n",
      "2022-09-15 13:29:35.875550: I tensorflow/stream_executor/platform/default/dso_loader.cc:49] Successfully opened dynamic library libcublasLt.so.10\n",
      "2022-09-15 13:29:35.875566: I tensorflow/stream_executor/platform/default/dso_loader.cc:49] Successfully opened dynamic library libcufft.so.10\n",
      "2022-09-15 13:29:35.875581: I tensorflow/stream_executor/platform/default/dso_loader.cc:49] Successfully opened dynamic library libcurand.so.10\n",
      "2022-09-15 13:29:35.875597: I tensorflow/stream_executor/platform/default/dso_loader.cc:49] Successfully opened dynamic library libcusolver.so.10\n",
      "2022-09-15 13:29:35.875614: I tensorflow/stream_executor/platform/default/dso_loader.cc:49] Successfully opened dynamic library libcusparse.so.10\n",
      "2022-09-15 13:29:35.875630: I tensorflow/stream_executor/platform/default/dso_loader.cc:49] Successfully opened dynamic library libcudnn.so.7\n",
      "2022-09-15 13:29:35.875684: I tensorflow/stream_executor/cuda/cuda_gpu_executor.cc:941] successful NUMA node read from SysFS had negative value (-1), but there must be at least one NUMA node, so returning NUMA node zero\n",
      "2022-09-15 13:29:35.875829: I tensorflow/stream_executor/cuda/cuda_gpu_executor.cc:941] successful NUMA node read from SysFS had negative value (-1), but there must be at least one NUMA node, so returning NUMA node zero\n",
      "2022-09-15 13:29:35.875927: I tensorflow/core/common_runtime/gpu/gpu_device.cc:1862] Adding visible gpu devices: 0\n",
      "2022-09-15 13:29:35.876213: I tensorflow/stream_executor/platform/default/dso_loader.cc:49] Successfully opened dynamic library libcudart.so.10.1\n",
      "2022-09-15 13:29:36.539487: I tensorflow/core/common_runtime/gpu/gpu_device.cc:1261] Device interconnect StreamExecutor with strength 1 edge matrix:\n",
      "2022-09-15 13:29:36.539514: I tensorflow/core/common_runtime/gpu/gpu_device.cc:1267]      0 \n",
      "2022-09-15 13:29:36.539520: I tensorflow/core/common_runtime/gpu/gpu_device.cc:1280] 0:   N \n",
      "2022-09-15 13:29:36.539945: I tensorflow/stream_executor/cuda/cuda_gpu_executor.cc:941] successful NUMA node read from SysFS had negative value (-1), but there must be at least one NUMA node, so returning NUMA node zero\n",
      "2022-09-15 13:29:36.540138: I tensorflow/stream_executor/cuda/cuda_gpu_executor.cc:941] successful NUMA node read from SysFS had negative value (-1), but there must be at least one NUMA node, so returning NUMA node zero\n",
      "2022-09-15 13:29:36.540282: I tensorflow/stream_executor/cuda/cuda_gpu_executor.cc:941] successful NUMA node read from SysFS had negative value (-1), but there must be at least one NUMA node, so returning NUMA node zero\n",
      "2022-09-15 13:29:36.540391: I tensorflow/core/common_runtime/gpu/gpu_device.cc:1406] Created TensorFlow device (/job:localhost/replica:0/task:0/device:GPU:0 with 5034 MB memory) -> physical GPU (device: 0, name: NVIDIA GeForce RTX 2060, pci bus id: 0000:01:00.0, compute capability: 7.5)\n",
      "2022-09-15 13:29:36.811560: I tensorflow/compiler/mlir/mlir_graph_optimization_pass.cc:116] None of the MLIR optimization passes are enabled (registered 2)\n",
      "2022-09-15 13:29:36.829692: I tensorflow/core/platform/profile_utils/cpu_utils.cc:112] CPU Frequency: 2899885000 Hz\n",
      "2022-09-15 13:29:38.677327: I tensorflow/stream_executor/platform/default/dso_loader.cc:49] Successfully opened dynamic library libcublas.so.10\n"
     ]
    },
    {
     "name": "stdout",
     "output_type": "stream",
     "text": [
      "\n",
      " \n",
      " \n",
      "\n",
      "loss  :  3.907437324523926 , TEST :  5.003721237182617\n",
      "output_layer_dense_16_16_loss  :  0.42284154891967773 , TEST :  0.5024435520172119\n",
      "output_layer_dense_16_32_loss  :  0.41764533519744873 , TEST :  0.4799252450466156\n",
      "output_layer_dense_16_64_loss  :  0.3929566442966461 , TEST :  0.5012499094009399\n",
      "output_layer_dense_16_128_loss  :  0.3943565785884857 , TEST :  0.5027443766593933\n",
      "output_layer_dense_16_512_loss  :  0.3603574335575104 , TEST :  0.49834445118904114\n",
      "output_layer_dense_16_1024_loss  :  0.3404233455657959 , TEST :  0.5240064859390259\n",
      "output_layer_dense_32_16_loss  :  0.42566415667533875 , TEST :  0.4917132556438446\n",
      "output_layer_dense_32_32_loss  :  0.4185679256916046 , TEST :  0.4958576560020447\n",
      "output_layer_dense_32_64_loss  :  0.3908844590187073 , TEST :  0.4884059727191925\n",
      "output_layer_dense_32_128_loss  :  0.34373974800109863 , TEST :  0.5190306901931763\n",
      "\n",
      " \n",
      " \n",
      "\n",
      "loss  :  3.552832841873169 , TEST :  5.195138454437256\n",
      "output_layer_dense_32_512_loss  :  0.3480910062789917 , TEST :  0.4793093204498291\n",
      "output_layer_dense_32_1024_loss  :  0.3295769989490509 , TEST :  0.581117570400238\n",
      "output_layer_dense_64_16_loss  :  0.4022369980812073 , TEST :  0.4863394796848297\n",
      "output_layer_dense_64_32_loss  :  0.38806354999542236 , TEST :  0.48744234442710876\n",
      "output_layer_dense_64_64_loss  :  0.3683033585548401 , TEST :  0.5064111948013306\n",
      "output_layer_dense_64_128_loss  :  0.34760618209838867 , TEST :  0.5292753577232361\n",
      "output_layer_dense_64_512_loss  :  0.3111226558685303 , TEST :  0.5778210163116455\n",
      "output_layer_dense_64_1024_loss  :  0.3061310648918152 , TEST :  0.5722113251686096\n",
      "output_layer_dense_128_16_loss  :  0.38538846373558044 , TEST :  0.4867851436138153\n",
      "output_layer_dense_128_32_loss  :  0.36631277203559875 , TEST :  0.48842567205429077\n",
      "\n",
      " \n",
      " \n",
      "\n",
      "loss  :  2.912173271179199 , TEST :  5.583998680114746\n",
      "output_layer_dense_128_64_loss  :  0.33209359645843506 , TEST :  0.5070639848709106\n",
      "output_layer_dense_128_128_loss  :  0.319659948348999 , TEST :  0.5674899220466614\n",
      "output_layer_dense_128_512_loss  :  0.2919985353946686 , TEST :  0.5556541085243225\n",
      "output_layer_dense_128_1024_loss  :  0.2535620331764221 , TEST :  0.571616530418396\n",
      "output_layer_dense_512_16_loss  :  0.35035669803619385 , TEST :  0.4968786835670471\n",
      "output_layer_dense_512_32_loss  :  0.32647183537483215 , TEST :  0.49988847970962524\n",
      "output_layer_dense_512_64_loss  :  0.30052241683006287 , TEST :  0.5338020920753479\n",
      "output_layer_dense_512_128_loss  :  0.2893473505973816 , TEST :  0.5366185903549194\n",
      "output_layer_dense_512_512_loss  :  0.24705101549625397 , TEST :  0.6384546160697937\n",
      "output_layer_dense_512_1024_loss  :  0.20110979676246643 , TEST :  0.6765317916870117\n",
      "\n",
      " \n",
      " \n",
      "\n",
      "loss  :  1.6538218259811401 , TEST :  3.5226452350616455\n",
      "output_layer_dense_1024_16_loss  :  0.349475234746933 , TEST :  0.5188773274421692\n",
      "output_layer_dense_1024_32_loss  :  0.3094825744628906 , TEST :  0.5162336230278015\n",
      "output_layer_dense_1024_64_loss  :  0.2808230221271515 , TEST :  0.5446584820747375\n",
      "output_layer_dense_1024_128_loss  :  0.2674909830093384 , TEST :  0.5698220133781433\n",
      "output_layer_dense_1024_512_loss  :  0.24448809027671814 , TEST :  0.6864309906959534\n",
      "output_layer_dense_1024_1024_loss  :  0.2020619660615921 , TEST :  0.6866227984428406\n",
      "\n",
      " \n",
      " \n",
      "\n",
      "loss  :  3.7032902240753174 , TEST :  5.029336929321289\n",
      "output_layer_dense_16_16_16_loss  :  0.4098951816558838 , TEST :  0.48589447140693665\n",
      "output_layer_dense_16_16_32_loss  :  0.38657134771347046 , TEST :  0.5129125714302063\n",
      "output_layer_dense_16_16_64_loss  :  0.36786356568336487 , TEST :  0.506675124168396\n",
      "output_layer_dense_16_16_128_loss  :  0.3585541248321533 , TEST :  0.5226699113845825\n",
      "output_layer_dense_16_16_512_loss  :  0.348436176776886 , TEST :  0.4524809718132019\n",
      "output_layer_dense_16_16_1024_loss  :  0.31269410252571106 , TEST :  0.5182421207427979\n",
      "output_layer_dense_16_32_16_loss  :  0.38321390748023987 , TEST :  0.5228182673454285\n",
      "output_layer_dense_16_32_32_loss  :  0.37909749150276184 , TEST :  0.4960147440433502\n",
      "output_layer_dense_16_32_64_loss  :  0.3691066801548004 , TEST :  0.5260269641876221\n",
      "output_layer_dense_16_32_128_loss  :  0.38785770535469055 , TEST :  0.48560211062431335\n",
      "\n",
      " \n",
      " \n",
      "\n",
      "loss  :  3.381378650665283 , TEST :  5.274806022644043\n",
      "output_layer_dense_16_32_512_loss  :  0.3082701861858368 , TEST :  0.5232316851615906\n",
      "output_layer_dense_16_32_1024_loss  :  0.295825332403183 , TEST :  0.6349125504493713\n",
      "output_layer_dense_16_64_16_loss  :  0.3802323043346405 , TEST :  0.45042288303375244\n",
      "output_layer_dense_16_64_32_loss  :  0.3539282977581024 , TEST :  0.5104096531867981\n",
      "output_layer_dense_16_64_64_loss  :  0.36371904611587524 , TEST :  0.5391407608985901\n",
      "output_layer_dense_16_64_128_loss  :  0.3386960029602051 , TEST :  0.5290377140045166\n",
      "output_layer_dense_16_64_512_loss  :  0.29852384328842163 , TEST :  0.5693129897117615\n",
      "output_layer_dense_16_64_1024_loss  :  0.31216710805892944 , TEST :  0.5657405257225037\n",
      "output_layer_dense_16_128_16_loss  :  0.381661057472229 , TEST :  0.4410207271575928\n",
      "output_layer_dense_16_128_32_loss  :  0.3483559489250183 , TEST :  0.5115765333175659\n",
      "\n",
      " \n",
      " \n",
      "\n",
      "loss  :  2.9848005771636963 , TEST :  5.7682318687438965\n",
      "output_layer_dense_16_128_64_loss  :  0.37279409170150757 , TEST :  0.5093724131584167\n",
      "output_layer_dense_16_128_128_loss  :  0.33049142360687256 , TEST :  0.5221437215805054\n",
      "output_layer_dense_16_128_512_loss  :  0.2646099328994751 , TEST :  0.5711036324501038\n",
      "output_layer_dense_16_128_1024_loss  :  0.3062169551849365 , TEST :  0.49168387055397034\n",
      "output_layer_dense_16_512_16_loss  :  0.3728111982345581 , TEST :  0.48825567960739136\n",
      "output_layer_dense_16_512_32_loss  :  0.3084816336631775 , TEST :  0.5807957053184509\n",
      "output_layer_dense_16_512_64_loss  :  0.29208940267562866 , TEST :  0.5023626089096069\n",
      "output_layer_dense_16_512_128_loss  :  0.2724154591560364 , TEST :  0.6164252758026123\n",
      "output_layer_dense_16_512_512_loss  :  0.2514960467815399 , TEST :  0.7490110993385315\n",
      "output_layer_dense_16_512_1024_loss  :  0.2133944034576416 , TEST :  0.7370782494544983\n",
      "\n",
      " \n",
      " \n",
      "\n",
      "loss  :  3.100034236907959 , TEST :  5.599226474761963\n",
      "output_layer_dense_16_1024_16_loss  :  0.27540576457977295 , TEST :  0.6157235503196716\n",
      "output_layer_dense_16_1024_32_loss  :  0.3182852566242218 , TEST :  0.5026025176048279\n",
      "output_layer_dense_16_1024_64_loss  :  0.29521194100379944 , TEST :  0.6175777912139893\n",
      "output_layer_dense_16_1024_128_loss  :  0.25774213671684265 , TEST :  0.5953198671340942\n",
      "output_layer_dense_16_1024_512_loss  :  0.2063124179840088 , TEST :  0.61623615026474\n",
      "output_layer_dense_16_1024_1024_loss  :  0.24436412751674652 , TEST :  0.6398230195045471\n",
      "output_layer_dense_32_16_16_loss  :  0.3770945072174072 , TEST :  0.49108317494392395\n",
      "output_layer_dense_32_32_16_loss  :  0.3643137514591217 , TEST :  0.5160310864448547\n",
      "output_layer_dense_32_32_32_loss  :  0.3913405239582062 , TEST :  0.5041444897651672\n",
      "output_layer_dense_32_32_64_loss  :  0.36996400356292725 , TEST :  0.5006844401359558\n",
      "\n",
      " \n",
      " \n",
      "\n",
      "loss  :  3.025869846343994 , TEST :  5.635335922241211\n",
      "output_layer_dense_32_32_128_loss  :  0.30994391441345215 , TEST :  0.5115259289741516\n",
      "output_layer_dense_32_32_512_loss  :  0.25833016633987427 , TEST :  0.6213170289993286\n",
      "output_layer_dense_32_32_1024_loss  :  0.2857975959777832 , TEST :  0.5812278389930725\n",
      "output_layer_dense_32_64_16_loss  :  0.36776241660118103 , TEST :  0.5007925629615784\n",
      "output_layer_dense_32_64_32_loss  :  0.3385635018348694 , TEST :  0.5101920366287231\n",
      "output_layer_dense_32_64_64_loss  :  0.37505781650543213 , TEST :  0.516671895980835\n",
      "output_layer_dense_32_64_128_loss  :  0.33124256134033203 , TEST :  0.4717617332935333\n",
      "output_layer_dense_32_64_512_loss  :  0.24699223041534424 , TEST :  0.6056855916976929\n",
      "output_layer_dense_32_64_1024_loss  :  0.21965090930461884 , TEST :  0.6611303687095642\n",
      "output_layer_dense_32_128_16_loss  :  0.2925286889076233 , TEST :  0.6550306081771851\n",
      "\n",
      " \n",
      " \n",
      "\n",
      "loss  :  2.68222713470459 , TEST :  5.643890857696533\n",
      "output_layer_dense_32_128_32_loss  :  0.3513890206813812 , TEST :  0.4892151653766632\n",
      "output_layer_dense_32_128_64_loss  :  0.3205128312110901 , TEST :  0.5046901106834412\n",
      "output_layer_dense_32_128_128_loss  :  0.27911919355392456 , TEST :  0.5078564882278442\n",
      "output_layer_dense_32_128_512_loss  :  0.22378453612327576 , TEST :  0.6955565810203552\n",
      "output_layer_dense_32_128_1024_loss  :  0.20145070552825928 , TEST :  0.5968037247657776\n",
      "output_layer_dense_32_512_16_loss  :  0.3042687773704529 , TEST :  0.502885639667511\n",
      "output_layer_dense_32_512_32_loss  :  0.25410929322242737 , TEST :  0.5968735218048096\n",
      "output_layer_dense_32_512_64_loss  :  0.27785661816596985 , TEST :  0.4654366374015808\n",
      "output_layer_dense_32_512_128_loss  :  0.26005619764328003 , TEST :  0.5782840251922607\n",
      "output_layer_dense_32_512_512_loss  :  0.20967991650104523 , TEST :  0.706288754940033\n"
     ]
    },
    {
     "name": "stdout",
     "output_type": "stream",
     "text": [
      "\n",
      " \n",
      " \n",
      "\n",
      "loss  :  2.399620294570923 , TEST :  6.095789432525635\n",
      "output_layer_dense_32_512_1024_loss  :  0.12093748152256012 , TEST :  0.6621399521827698\n",
      "output_layer_dense_32_1024_16_loss  :  0.283865362405777 , TEST :  0.5542937517166138\n",
      "output_layer_dense_32_1024_32_loss  :  0.26544666290283203 , TEST :  0.5137775540351868\n",
      "output_layer_dense_32_1024_64_loss  :  0.2793351113796234 , TEST :  0.5075693130493164\n",
      "output_layer_dense_32_1024_128_loss  :  0.2019050270318985 , TEST :  0.6048728227615356\n",
      "output_layer_dense_32_1024_512_loss  :  0.12315233796834946 , TEST :  0.784998893737793\n",
      "output_layer_dense_32_1024_1024_loss  :  0.10450627654790878 , TEST :  0.9409993886947632\n",
      "output_layer_dense_64_16_16_loss  :  0.35436075925827026 , TEST :  0.4984053373336792\n",
      "output_layer_dense_64_32_16_loss  :  0.3305712342262268 , TEST :  0.5252542495727539\n",
      "output_layer_dense_64_32_32_loss  :  0.33554020524024963 , TEST :  0.5034778118133545\n",
      "\n",
      " \n",
      " \n",
      "\n",
      "loss  :  2.8397538661956787 , TEST :  5.729366302490234\n",
      "output_layer_dense_64_64_16_loss  :  0.33194786310195923 , TEST :  0.5190298557281494\n",
      "output_layer_dense_64_64_32_loss  :  0.31703752279281616 , TEST :  0.5384632349014282\n",
      "output_layer_dense_64_64_64_loss  :  0.3069852888584137 , TEST :  0.5328921675682068\n",
      "output_layer_dense_64_64_128_loss  :  0.29255250096321106 , TEST :  0.5503284931182861\n",
      "output_layer_dense_64_64_512_loss  :  0.24622561037540436 , TEST :  0.6345410346984863\n",
      "output_layer_dense_64_64_1024_loss  :  0.207189679145813 , TEST :  0.6148653030395508\n",
      "output_layer_dense_64_128_16_loss  :  0.34022411704063416 , TEST :  0.4999372661113739\n",
      "output_layer_dense_64_128_32_loss  :  0.27068886160850525 , TEST :  0.5667132139205933\n",
      "output_layer_dense_64_128_64_loss  :  0.2694067060947418 , TEST :  0.6268374919891357\n",
      "output_layer_dense_64_128_128_loss  :  0.257495641708374 , TEST :  0.6457578539848328\n",
      "\n",
      " \n",
      " \n",
      "\n",
      "loss  :  2.048011541366577 , TEST :  7.461750507354736\n",
      "output_layer_dense_64_128_512_loss  :  0.2123633176088333 , TEST :  0.630112886428833\n",
      "output_layer_dense_64_128_1024_loss  :  0.1883280724287033 , TEST :  0.705227792263031\n",
      "output_layer_dense_64_512_16_loss  :  0.2831171154975891 , TEST :  0.6138377785682678\n",
      "output_layer_dense_64_512_32_loss  :  0.26017165184020996 , TEST :  0.6718893051147461\n",
      "output_layer_dense_64_512_64_loss  :  0.25125792622566223 , TEST :  0.5818765759468079\n",
      "output_layer_dense_64_512_128_loss  :  0.20759566128253937 , TEST :  0.6141886711120605\n",
      "output_layer_dense_64_512_512_loss  :  0.12755906581878662 , TEST :  0.9090872406959534\n",
      "output_layer_dense_64_512_1024_loss  :  0.0705689787864685 , TEST :  1.2725906372070312\n",
      "output_layer_dense_64_1024_16_loss  :  0.23627708852291107 , TEST :  0.734636664390564\n",
      "output_layer_dense_64_1024_32_loss  :  0.21077270805835724 , TEST :  0.728303074836731\n",
      "\n",
      " \n",
      " \n",
      "\n",
      "loss  :  2.55018949508667 , TEST :  6.150308609008789\n",
      "output_layer_dense_64_1024_64_loss  :  0.23239487409591675 , TEST :  0.6797844767570496\n",
      "output_layer_dense_64_1024_128_loss  :  0.16551437973976135 , TEST :  0.7778612375259399\n",
      "output_layer_dense_64_1024_512_loss  :  0.10355598479509354 , TEST :  0.817487359046936\n",
      "output_layer_dense_64_1024_1024_loss  :  0.11216280609369278 , TEST :  0.7192900776863098\n",
      "output_layer_dense_128_16_16_loss  :  0.34643763303756714 , TEST :  0.4973638951778412\n",
      "output_layer_dense_128_32_16_loss  :  0.3200204372406006 , TEST :  0.5213279128074646\n",
      "output_layer_dense_128_32_32_loss  :  0.34035855531692505 , TEST :  0.5244323015213013\n",
      "output_layer_dense_128_64_16_loss  :  0.3188047409057617 , TEST :  0.5551605820655823\n",
      "output_layer_dense_128_64_32_loss  :  0.3053790330886841 , TEST :  0.5339928269386292\n",
      "output_layer_dense_128_64_64_loss  :  0.30556103587150574 , TEST :  0.5236075520515442\n",
      "\n",
      " \n",
      " \n",
      "\n",
      "loss  :  2.3059146404266357 , TEST :  6.402660846710205\n",
      "output_layer_dense_128_128_16_loss  :  0.2970879077911377 , TEST :  0.521389365196228\n",
      "output_layer_dense_128_128_32_loss  :  0.29350748658180237 , TEST :  0.5388696789741516\n",
      "output_layer_dense_128_128_64_loss  :  0.2805887460708618 , TEST :  0.5786334276199341\n",
      "output_layer_dense_128_128_128_loss  :  0.21304969489574432 , TEST :  0.6069028973579407\n",
      "output_layer_dense_128_128_512_loss  :  0.17964677512645721 , TEST :  0.7808570861816406\n",
      "output_layer_dense_128_128_1024_loss  :  0.18871921300888062 , TEST :  0.8630329966545105\n",
      "output_layer_dense_128_512_16_loss  :  0.24977916479110718 , TEST :  0.5701057314872742\n",
      "output_layer_dense_128_512_32_loss  :  0.2001468539237976 , TEST :  0.6200414896011353\n",
      "output_layer_dense_128_512_64_loss  :  0.22361472249031067 , TEST :  0.6349549293518066\n",
      "output_layer_dense_128_512_128_loss  :  0.17977374792099 , TEST :  0.6878728866577148\n",
      "\n",
      " \n",
      " \n",
      "\n",
      "loss  :  1.546828031539917 , TEST :  8.277128219604492\n",
      "output_layer_dense_128_512_512_loss  :  0.09201955050230026 , TEST :  0.755423367023468\n",
      "output_layer_dense_128_512_1024_loss  :  0.06402947753667831 , TEST :  1.066188931465149\n",
      "output_layer_dense_128_1024_16_loss  :  0.2310398519039154 , TEST :  0.6816971302032471\n",
      "output_layer_dense_128_1024_32_loss  :  0.17163650691509247 , TEST :  0.709007203578949\n",
      "output_layer_dense_128_1024_64_loss  :  0.1408957690000534 , TEST :  0.8632520437240601\n",
      "output_layer_dense_128_1024_128_loss  :  0.1332012414932251 , TEST :  0.7583591341972351\n",
      "output_layer_dense_128_1024_512_loss  :  0.04630409553647041 , TEST :  1.3907653093338013\n",
      "output_layer_dense_128_1024_1024_loss  :  0.04698391631245613 , TEST :  1.0314924716949463\n",
      "output_layer_dense_512_16_16_loss  :  0.33124634623527527 , TEST :  0.5066461563110352\n",
      "output_layer_dense_512_32_16_loss  :  0.289471298456192 , TEST :  0.5142970681190491\n",
      "\n",
      " \n",
      " \n",
      "\n",
      "loss  :  2.595381498336792 , TEST :  6.124483108520508\n",
      "output_layer_dense_512_32_32_loss  :  0.28620436787605286 , TEST :  0.5553165078163147\n",
      "output_layer_dense_512_64_16_loss  :  0.2787587344646454 , TEST :  0.5336595773696899\n",
      "output_layer_dense_512_64_32_loss  :  0.27565744519233704 , TEST :  0.5425140857696533\n",
      "output_layer_dense_512_64_64_loss  :  0.2618744671344757 , TEST :  0.5753976702690125\n",
      "output_layer_dense_512_128_16_loss  :  0.2606322467327118 , TEST :  0.5860798358917236\n",
      "output_layer_dense_512_128_32_loss  :  0.2653864026069641 , TEST :  0.5603538751602173\n",
      "output_layer_dense_512_128_64_loss  :  0.24168795347213745 , TEST :  0.6808911561965942\n",
      "output_layer_dense_512_128_128_loss  :  0.24441754817962646 , TEST :  0.7020274996757507\n",
      "output_layer_dense_512_512_16_loss  :  0.26991236209869385 , TEST :  0.6241441369056702\n",
      "output_layer_dense_512_512_32_loss  :  0.21085016429424286 , TEST :  0.7640989422798157\n",
      "\n",
      " \n",
      " \n",
      "\n",
      "loss  :  1.1881746053695679 , TEST :  9.987472534179688\n",
      "output_layer_dense_512_512_64_loss  :  0.17012783885002136 , TEST :  0.8259866833686829\n",
      "output_layer_dense_512_512_128_loss  :  0.12078128755092621 , TEST :  0.8836491107940674\n",
      "output_layer_dense_512_512_512_loss  :  0.04471961408853531 , TEST :  1.1789084672927856\n",
      "output_layer_dense_512_512_1024_loss  :  0.07473552227020264 , TEST :  1.2564213275909424\n",
      "output_layer_dense_512_1024_16_loss  :  0.2412727326154709 , TEST :  0.6458374261856079\n",
      "output_layer_dense_512_1024_32_loss  :  0.24074509739875793 , TEST :  0.802093505859375\n",
      "output_layer_dense_512_1024_64_loss  :  0.13572897017002106 , TEST :  0.8507934808731079\n",
      "output_layer_dense_512_1024_128_loss  :  0.07988077402114868 , TEST :  1.0178815126419067\n",
      "output_layer_dense_512_1024_512_loss  :  0.04870226979255676 , TEST :  1.0545783042907715\n",
      "output_layer_dense_512_1024_1024_loss  :  0.031480494886636734 , TEST :  1.471322774887085\n",
      "\n",
      " \n",
      " \n",
      "\n",
      "loss  :  2.5015735626220703 , TEST :  5.923518180847168\n",
      "output_layer_dense_1024_16_16_loss  :  0.3000507354736328 , TEST :  0.5365445613861084\n",
      "output_layer_dense_1024_32_16_loss  :  0.28901469707489014 , TEST :  0.5280619859695435\n",
      "output_layer_dense_1024_32_32_loss  :  0.2758640646934509 , TEST :  0.5247257947921753\n",
      "output_layer_dense_1024_64_16_loss  :  0.2773760259151459 , TEST :  0.5255445241928101\n",
      "output_layer_dense_1024_64_32_loss  :  0.26808062195777893 , TEST :  0.5904819965362549\n",
      "output_layer_dense_1024_64_64_loss  :  0.24423764646053314 , TEST :  0.5823286175727844\n",
      "output_layer_dense_1024_128_16_loss  :  0.224083811044693 , TEST :  0.6159434914588928\n",
      "output_layer_dense_1024_128_32_loss  :  0.21737278997898102 , TEST :  0.6865935921669006\n",
      "output_layer_dense_1024_128_64_loss  :  0.2201961725950241 , TEST :  0.6360800862312317\n",
      "output_layer_dense_1024_128_128_loss  :  0.18529696762561798 , TEST :  0.6972137093544006\n"
     ]
    },
    {
     "name": "stdout",
     "output_type": "stream",
     "text": [
      "\n",
      " \n",
      " \n",
      "\n",
      "loss  :  1.7305999994277954 , TEST :  8.122880935668945\n",
      "output_layer_dense_1024_512_16_loss  :  0.22930514812469482 , TEST :  0.6693615913391113\n",
      "output_layer_dense_1024_512_32_loss  :  0.20310913026332855 , TEST :  0.6427775025367737\n",
      "output_layer_dense_1024_512_64_loss  :  0.14521655440330505 , TEST :  0.7802624106407166\n",
      "output_layer_dense_1024_512_128_loss  :  0.13750873506069183 , TEST :  0.7962825298309326\n",
      "output_layer_dense_1024_512_512_loss  :  0.08277315646409988 , TEST :  0.9079158902168274\n",
      "output_layer_dense_1024_1024_16_loss  :  0.32586514949798584 , TEST :  0.5221296548843384\n",
      "output_layer_dense_1024_1024_32_loss  :  0.20737634599208832 , TEST :  0.7248876094818115\n",
      "output_layer_dense_1024_1024_64_loss  :  0.1497902125120163 , TEST :  0.7812138795852661\n",
      "output_layer_dense_1024_1024_128_loss  :  0.1275721788406372 , TEST :  0.8861424326896667\n",
      "output_layer_dense_1024_1024_512_loss  :  0.122083380818367 , TEST :  1.411907434463501\n",
      "\n",
      " \n",
      " \n",
      "\n",
      "loss  :  0.03312566503882408 , TEST :  1.2488106489181519\n",
      "\n",
      "-------------------------------------------------------------------------------\n",
      "[{'model_name': 'dense_16_128_16', 'score': 0.4410207271575928, 'path_weights': '/home/anish/ASC_ML_test_weights/dense_16_128_16', 'model_conf': ['', 8, 3, 'relu', {'layer1': 16, 'layer2': 128, 'layer3': 16}, [1, 'sigmoid']], 'model': <tensorflow.python.keras.engine.functional.Functional object at 0x7fba90554880>}, {'model_name': 'dense_16_64_16', 'score': 0.45042288303375244, 'path_weights': '/home/anish/ASC_ML_test_weights/dense_16_64_16', 'model_conf': ['', 8, 3, 'relu', {'layer1': 16, 'layer2': 64, 'layer3': 16}, [1, 'sigmoid']], 'model': <tensorflow.python.keras.engine.functional.Functional object at 0x7fba905632b0>}, {'model_name': 'dense_16_16_512', 'score': 0.4524809718132019, 'path_weights': '/home/anish/ASC_ML_test_weights/dense_16_16_512', 'model_conf': ['', 8, 3, 'relu', {'layer1': 16, 'layer2': 16, 'layer3': 512}, [1, 'sigmoid']], 'model': <tensorflow.python.keras.engine.functional.Functional object at 0x7fba9c4c0280>}, {'model_name': 'dense_32_512_64', 'score': 0.4654366374015808, 'path_weights': '/home/anish/ASC_ML_test_weights/dense_32_512_64', 'model_conf': ['', 8, 3, 'relu', {'layer1': 32, 'layer2': 512, 'layer3': 64}, [1, 'sigmoid']], 'model': <tensorflow.python.keras.engine.functional.Functional object at 0x7fba9025d160>}, {'model_name': 'dense_32_64_128', 'score': 0.4717617332935333, 'path_weights': '/home/anish/ASC_ML_test_weights/dense_32_64_128', 'model_conf': ['', 8, 3, 'relu', {'layer1': 32, 'layer2': 64, 'layer3': 128}, [1, 'sigmoid']], 'model': <tensorflow.python.keras.engine.functional.Functional object at 0x7fba88e75460>}]\n",
      "\n",
      "-------------------------------------------------------------------------------\n",
      "--------------------------------------------------------------------------------\n",
      "Model Name : dense_16_128_16_dr\n",
      "\n",
      "DROPOUT 0.0\n",
      "DROPOUT 0.2\n",
      "DROPOUT 0.5\n",
      "BEST HYPERPARAMETERS : BEST_LOSS : 0.31052497029304504, BEST_ACTIVATION : relu, BEST_INITIALIZER : GlorotUniform, BEST_LEARINING_RATE : 0.03981, BEST_BATCHSIZE : 64, BEST_DROPOUT_RATE : 0.0, BEST_DROPOUT_LOSS : 0.38744431734085083\n",
      "\n",
      " \n",
      " \n",
      "\n",
      "loss  :  0.3086724579334259 , TEST :  0.8033078908920288\n"
     ]
    },
    {
     "name": "stderr",
     "output_type": "stream",
     "text": [
      "2022-09-15 13:33:44.371567: W tensorflow/python/util/util.cc:348] Sets are not currently considered sequences, but this may change in the future, so consider avoiding using them.\n"
     ]
    },
    {
     "name": "stdout",
     "output_type": "stream",
     "text": [
      "INFO:tensorflow:Assets written to: /home/anish/ASC_ML_test_weights/candidate_models/dense_16_128_16_dr/assets\n",
      "--------------------------------------------------------------------------------\n",
      "Model Name : dense_16_64_16_dr\n",
      "\n",
      "DROPOUT 0.0\n",
      "DROPOUT 0.2\n",
      "DROPOUT 0.5\n",
      "BEST HYPERPARAMETERS : BEST_LOSS : 0.30798283219337463, BEST_ACTIVATION : selu, BEST_INITIALIZER : LecunUniform, BEST_LEARINING_RATE : 0.03981, BEST_BATCHSIZE : 64, BEST_DROPOUT_RATE : 0.2, BEST_DROPOUT_LOSS : 0.35392263531684875\n",
      "\n",
      " \n",
      " \n",
      "\n",
      "loss  :  0.31420132517814636 , TEST :  0.8019171953201294\n",
      "INFO:tensorflow:Assets written to: /home/anish/ASC_ML_test_weights/candidate_models/dense_16_64_16_dr/assets\n",
      "--------------------------------------------------------------------------------\n",
      "Model Name : dense_16_16_512_dr\n",
      "\n",
      "DROPOUT 0.0\n",
      "DROPOUT 0.2\n",
      "DROPOUT 0.5\n",
      "BEST HYPERPARAMETERS : BEST_LOSS : 0.35226401686668396, BEST_ACTIVATION : relu, BEST_INITIALIZER : GlorotUniform, BEST_LEARINING_RATE : 0.02512, BEST_BATCHSIZE : 128, BEST_DROPOUT_RATE : 0.2, BEST_DROPOUT_LOSS : 0.3445514738559723\n",
      "\n",
      " \n",
      " \n",
      "\n",
      "loss  :  0.32704201340675354 , TEST :  0.64071124792099\n",
      "INFO:tensorflow:Assets written to: /home/anish/ASC_ML_test_weights/candidate_models/dense_16_16_512_dr/assets\n",
      "--------------------------------------------------------------------------------\n",
      "Model Name : dense_32_512_64_dr\n",
      "\n",
      "DROPOUT 0.0\n",
      "DROPOUT 0.2\n",
      "DROPOUT 0.5\n",
      "BEST HYPERPARAMETERS : BEST_LOSS : 0.233465313911438, BEST_ACTIVATION : relu, BEST_INITIALIZER : GlorotNormal, BEST_LEARINING_RATE : 0.00794, BEST_BATCHSIZE : 64, BEST_DROPOUT_RATE : 0.2, BEST_DROPOUT_LOSS : 0.25110483169555664\n",
      "\n",
      " \n",
      " \n",
      "\n",
      "loss  :  0.14749915897846222 , TEST :  0.877328097820282\n",
      "INFO:tensorflow:Assets written to: /home/anish/ASC_ML_test_weights/candidate_models/dense_32_512_64_dr/assets\n",
      "--------------------------------------------------------------------------------\n",
      "Model Name : dense_32_64_128_dr\n",
      "\n",
      "DROPOUT 0.0\n",
      "DROPOUT 0.2\n",
      "DROPOUT 0.5\n",
      "BEST HYPERPARAMETERS : BEST_LOSS : 0.2850085198879242, BEST_ACTIVATION : relu, BEST_INITIALIZER : GlorotUniform, BEST_LEARINING_RATE : 0.01995, BEST_BATCHSIZE : 64, BEST_DROPOUT_RATE : 0.2, BEST_DROPOUT_LOSS : 0.2632448673248291\n",
      "\n",
      " \n",
      " \n",
      "\n",
      "loss  :  0.21876798570156097 , TEST :  0.7651997208595276\n",
      "INFO:tensorflow:Assets written to: /home/anish/ASC_ML_test_weights/candidate_models/dense_32_64_128_dr/assets\n"
     ]
    },
    {
     "ename": "KeyError",
     "evalue": "'activation'",
     "output_type": "error",
     "traceback": [
      "\u001b[0;31m---------------------------------------------------------------------------\u001b[0m",
      "\u001b[0;31mKeyError\u001b[0m                                  Traceback (most recent call last)",
      "Input \u001b[0;32mIn [26]\u001b[0m, in \u001b[0;36m<cell line: 3>\u001b[0;34m()\u001b[0m\n\u001b[1;32m      1\u001b[0m f \u001b[38;5;241m=\u001b[39m final\u001b[38;5;241m.\u001b[39mFinal(X_train, y_train, X_test, y_test, \u001b[38;5;124m\"\u001b[39m\u001b[38;5;124mbinary_crossentropy\u001b[39m\u001b[38;5;124m\"\u001b[39m, \u001b[38;5;241m75\u001b[39m, \u001b[38;5;241m64\u001b[39m, input_shape \u001b[38;5;241m=\u001b[39m \u001b[38;5;241m8\u001b[39m, \n\u001b[1;32m      2\u001b[0m                                    max_no_layers \u001b[38;5;241m=\u001b[39m \u001b[38;5;241m3\u001b[39m, model_per_batch \u001b[38;5;241m=\u001b[39m \u001b[38;5;241m10\u001b[39m, output_activation \u001b[38;5;241m=\u001b[39m \u001b[38;5;124m\"\u001b[39m\u001b[38;5;124msigmoid\u001b[39m\u001b[38;5;124m\"\u001b[39m)\n\u001b[0;32m----> 3\u001b[0m \u001b[43mf\u001b[49m\u001b[38;5;241;43m.\u001b[39;49m\u001b[43mget_all_best_models\u001b[49m\u001b[43m(\u001b[49m\u001b[43m)\u001b[49m\n",
      "File \u001b[0;32m~/AutoNN/ASC_ML/networkbuilding/final.py:34\u001b[0m, in \u001b[0;36mFinal.get_all_best_models\u001b[0;34m(self)\u001b[0m\n\u001b[1;32m     32\u001b[0m opt\u001b[38;5;241m.\u001b[39moptimize_models(save\u001b[38;5;241m=\u001b[39m\u001b[38;5;28;01mTrue\u001b[39;00m)\n\u001b[1;32m     33\u001b[0m stacked_models \u001b[38;5;241m=\u001b[39m model_stacking\u001b[38;5;241m.\u001b[39mModel_Stacking(\u001b[38;5;28mself\u001b[39m\u001b[38;5;241m.\u001b[39m_train_x, \u001b[38;5;28mself\u001b[39m\u001b[38;5;241m.\u001b[39m_train_y, \u001b[38;5;28mself\u001b[39m\u001b[38;5;241m.\u001b[39m_test_x, \u001b[38;5;28mself\u001b[39m\u001b[38;5;241m.\u001b[39m_test_y, \u001b[38;5;28mself\u001b[39m\u001b[38;5;241m.\u001b[39m_loss_fn, opt\u001b[38;5;241m.\u001b[39msaved_paths, opt\u001b[38;5;241m.\u001b[39mmodel_confs, save_dir \u001b[38;5;241m=\u001b[39m \u001b[38;5;124m\"\u001b[39m\u001b[38;5;124m/home/anish/ASC_ML_test_weights/stacked_models/\u001b[39m\u001b[38;5;124m\"\u001b[39m)\n\u001b[0;32m---> 34\u001b[0m \u001b[43mstacked_models\u001b[49m\u001b[38;5;241;43m.\u001b[39;49m\u001b[43moptimize_stacked_models\u001b[49m\u001b[43m(\u001b[49m\u001b[43m)\u001b[49m\n",
      "File \u001b[0;32m~/AutoNN/ASC_ML/networkbuilding/model_stacking.py:46\u001b[0m, in \u001b[0;36mModel_Stacking.optimize_stacked_models\u001b[0;34m(self)\u001b[0m\n\u001b[1;32m     44\u001b[0m \u001b[38;5;28;01mdef\u001b[39;00m \u001b[38;5;21moptimize_stacked_models\u001b[39m(\u001b[38;5;28mself\u001b[39m):\n\u001b[1;32m     45\u001b[0m     stacked_model_generator \u001b[38;5;241m=\u001b[39m \u001b[38;5;28mself\u001b[39m\u001b[38;5;241m.\u001b[39m_stacked_model_generator()\n\u001b[0;32m---> 46\u001b[0m     \u001b[38;5;28;01mfor\u001b[39;00m model \u001b[38;5;129;01min\u001b[39;00m stacked_model_generator:\n\u001b[1;32m     47\u001b[0m         \u001b[38;5;28mprint\u001b[39m(\u001b[38;5;124m\"\u001b[39m\u001b[38;5;124m-------------------------------------------------------------------------------------------------------------------\u001b[39m\u001b[38;5;124m\"\u001b[39m)\n\u001b[1;32m     48\u001b[0m         \u001b[38;5;28mprint\u001b[39m(model\u001b[38;5;241m.\u001b[39mname)\n",
      "File \u001b[0;32m~/AutoNN/ASC_ML/networkbuilding/model_stacking.py:28\u001b[0m, in \u001b[0;36mModel_Stacking._stacked_model_generator\u001b[0;34m(self)\u001b[0m\n\u001b[1;32m     26\u001b[0m \u001b[38;5;28;01mfor\u001b[39;00m model_conf \u001b[38;5;129;01min\u001b[39;00m \u001b[38;5;28mself\u001b[39m\u001b[38;5;241m.\u001b[39m_model_conf_list:\n\u001b[1;32m     27\u001b[0m     model1 \u001b[38;5;241m=\u001b[39m load_model(path)\n\u001b[0;32m---> 28\u001b[0m     activation \u001b[38;5;241m=\u001b[39m \u001b[43mmodel1\u001b[49m\u001b[38;5;241;43m.\u001b[39;49m\u001b[43mlayers\u001b[49m\u001b[43m[\u001b[49m\u001b[38;5;241;43m-\u001b[39;49m\u001b[38;5;241;43m2\u001b[39;49m\u001b[43m]\u001b[49m\u001b[38;5;241;43m.\u001b[39;49m\u001b[43mget_config\u001b[49m\u001b[43m(\u001b[49m\u001b[43m)\u001b[49m\u001b[43m[\u001b[49m\u001b[38;5;124;43m\"\u001b[39;49m\u001b[38;5;124;43mactivation\u001b[39;49m\u001b[38;5;124;43m\"\u001b[39;49m\u001b[43m]\u001b[49m\n\u001b[1;32m     29\u001b[0m     reduced_model1 \u001b[38;5;241m=\u001b[39m Model(name \u001b[38;5;241m=\u001b[39m model1\u001b[38;5;241m.\u001b[39mname\u001b[38;5;241m+\u001b[39m\u001b[38;5;124m\"\u001b[39m\u001b[38;5;124m_reduced\u001b[39m\u001b[38;5;124m\"\u001b[39m, inputs \u001b[38;5;241m=\u001b[39m model1\u001b[38;5;241m.\u001b[39minput, outputs \u001b[38;5;241m=\u001b[39m model1\u001b[38;5;241m.\u001b[39mlayers[\u001b[38;5;241m-\u001b[39m\u001b[38;5;241m2\u001b[39m]\u001b[38;5;241m.\u001b[39moutput)\n\u001b[1;32m     30\u001b[0m     last_layer \u001b[38;5;241m=\u001b[39m reduced_model1\u001b[38;5;241m.\u001b[39moutput\n",
      "\u001b[0;31mKeyError\u001b[0m: 'activation'"
     ]
    }
   ],
   "source": [
    "f = final.Final(X_train, y_train, X_test, y_test, \"binary_crossentropy\", 75, 64, input_shape = 8, \n",
    "                                   max_no_layers = 3, model_per_batch = 10, output_activation = \"sigmoid\")\n",
    "f.get_all_best_models()"
   ]
  },
  {
   "cell_type": "code",
   "execution_count": 27,
   "metadata": {},
   "outputs": [],
   "source": [
    "from tensorflow.keras.models import load_model"
   ]
  },
  {
   "cell_type": "code",
   "execution_count": 28,
   "metadata": {},
   "outputs": [],
   "source": [
    "model = load_model(\"/home/anish/ASC_ML_test_weights/candidate_models/dense_16_16_512_dr\")\n",
    "model.compile(loss='binary_crossentropy', optimizer='adam', metrics=['accuracy'])"
   ]
  },
  {
   "cell_type": "code",
   "execution_count": 29,
   "metadata": {},
   "outputs": [
    {
     "name": "stdout",
     "output_type": "stream",
     "text": [
      "10/10 [==============================] - 0s 2ms/step - loss: 0.3371 - accuracy: 0.8456\n"
     ]
    },
    {
     "data": {
      "text/plain": [
       "[0.32704201340675354, 0.85467129945755]"
      ]
     },
     "execution_count": 29,
     "metadata": {},
     "output_type": "execute_result"
    }
   ],
   "source": [
    "model.evaluate(X_train, y_train)"
   ]
  },
  {
   "cell_type": "code",
   "execution_count": 30,
   "metadata": {},
   "outputs": [
    {
     "name": "stdout",
     "output_type": "stream",
     "text": [
      "2/2 [==============================] - 0s 2ms/step - loss: 0.6407 - accuracy: 0.6809\n"
     ]
    },
    {
     "data": {
      "text/plain": [
       "[0.64071124792099, 0.6808510422706604]"
      ]
     },
     "execution_count": 30,
     "metadata": {},
     "output_type": "execute_result"
    }
   ],
   "source": [
    "model.evaluate(X_test, y_test)"
   ]
  },
  {
   "cell_type": "code",
   "execution_count": 31,
   "metadata": {},
   "outputs": [],
   "source": [
    "model = load_model(\"/home/anish/ASC_ML_test_weights/candidate_models/dense_32_512_64_dr\")\n",
    "model.compile(loss='binary_crossentropy', optimizer='adam', metrics=['accuracy'])"
   ]
  },
  {
   "cell_type": "code",
   "execution_count": 32,
   "metadata": {},
   "outputs": [
    {
     "name": "stdout",
     "output_type": "stream",
     "text": [
      "10/10 [==============================] - 0s 1ms/step - loss: 0.1200 - accuracy: 0.9614\n"
     ]
    },
    {
     "data": {
      "text/plain": [
       "[0.14749915897846222, 0.9446367025375366]"
      ]
     },
     "execution_count": 32,
     "metadata": {},
     "output_type": "execute_result"
    }
   ],
   "source": [
    "model.evaluate(X_train, y_train)"
   ]
  },
  {
   "cell_type": "code",
   "execution_count": 33,
   "metadata": {},
   "outputs": [
    {
     "name": "stdout",
     "output_type": "stream",
     "text": [
      "2/2 [==============================] - 0s 3ms/step - loss: 0.8773 - accuracy: 0.7447\n"
     ]
    },
    {
     "data": {
      "text/plain": [
       "[0.877328097820282, 0.7446808218955994]"
      ]
     },
     "execution_count": 33,
     "metadata": {},
     "output_type": "execute_result"
    }
   ],
   "source": [
    "model.evaluate(X_test, y_test)"
   ]
  },
  {
   "cell_type": "code",
   "execution_count": 37,
   "metadata": {},
   "outputs": [],
   "source": [
    "model = load_model(\"/home/anish/ASC_ML_test_weights/candidate_models/dense_32_64_128_dr\")\n",
    "model.compile(loss='binary_crossentropy', optimizer='adam', metrics=['accuracy'])"
   ]
  },
  {
   "cell_type": "code",
   "execution_count": 38,
   "metadata": {},
   "outputs": [
    {
     "name": "stdout",
     "output_type": "stream",
     "text": [
      "10/10 [==============================] - 0s 1ms/step - loss: 0.2221 - accuracy: 0.9144\n"
     ]
    },
    {
     "data": {
      "text/plain": [
       "[0.21876798570156097, 0.9134948253631592]"
      ]
     },
     "execution_count": 38,
     "metadata": {},
     "output_type": "execute_result"
    }
   ],
   "source": [
    "model.evaluate(X_train, y_train)"
   ]
  },
  {
   "cell_type": "code",
   "execution_count": 39,
   "metadata": {},
   "outputs": [
    {
     "name": "stdout",
     "output_type": "stream",
     "text": [
      "2/2 [==============================] - 0s 2ms/step - loss: 0.7652 - accuracy: 0.6596\n"
     ]
    },
    {
     "data": {
      "text/plain": [
       "[0.7651997208595276, 0.6595744490623474]"
      ]
     },
     "execution_count": 39,
     "metadata": {},
     "output_type": "execute_result"
    }
   ],
   "source": [
    "model.evaluate(X_test, y_test)"
   ]
  },
  {
   "cell_type": "code",
   "execution_count": null,
   "metadata": {},
   "outputs": [],
   "source": [
    "model = load_model(\"/home/anish/ASC_ML_test_weights/candidate_models/dense_16_64_16_dr\")\n",
    "model.compile(loss='binary_crossentropy', optimizer='adam', metrics=['accuracy'])"
   ]
  },
  {
   "cell_type": "code",
   "execution_count": null,
   "metadata": {},
   "outputs": [],
   "source": [
    "model = load_model(\"/home/anish/ASC_ML_test_weights/stacked_models/dense_32_64_st_dense_32_64\")\n",
    "model.compile(loss='binary_crossentropy', optimizer='adam', metrics=['accuracy'])"
   ]
  },
  {
   "cell_type": "code",
   "execution_count": null,
   "metadata": {},
   "outputs": [],
   "source": [
    "model.evaluate(X_train, y_train)"
   ]
  },
  {
   "cell_type": "code",
   "execution_count": null,
   "metadata": {},
   "outputs": [],
   "source": [
    "model.evaluate(X_test, y_test)"
   ]
  },
  {
   "cell_type": "code",
   "execution_count": null,
   "metadata": {},
   "outputs": [],
   "source": []
  }
 ],
 "metadata": {
  "kernelspec": {
   "display_name": "Python 3 (ipykernel)",
   "language": "python",
   "name": "python3"
  },
  "language_info": {
   "codemirror_mode": {
    "name": "ipython",
    "version": 3
   },
   "file_extension": ".py",
   "mimetype": "text/x-python",
   "name": "python",
   "nbconvert_exporter": "python",
   "pygments_lexer": "ipython3",
   "version": "3.9.13"
  },
  "vscode": {
   "interpreter": {
    "hash": "441a79e7978ad007ee49ac1a1197fffc94e685236b0df2483283c16abedd4251"
   }
  }
 },
 "nbformat": 4,
 "nbformat_minor": 2
}
