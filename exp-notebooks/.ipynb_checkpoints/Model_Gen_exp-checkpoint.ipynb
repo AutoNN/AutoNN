{
 "cells": [
  {
   "cell_type": "code",
   "execution_count": 1,
   "metadata": {},
   "outputs": [],
   "source": [
    "import sys\n",
    "sys.path.insert(0, '/home/anish/ASC_ML')"
   ]
  },
  {
   "cell_type": "code",
   "execution_count": 2,
   "metadata": {},
   "outputs": [
    {
     "name": "stderr",
     "output_type": "stream",
     "text": [
      "2022-05-24 17:13:48.626896: I tensorflow/stream_executor/platform/default/dso_loader.cc:49] Successfully opened dynamic library libcudart.so.10.1\n"
     ]
    }
   ],
   "source": [
    "from ASC_ML import model_generation as model_gen"
   ]
  },
  {
   "cell_type": "code",
   "execution_count": 3,
   "metadata": {},
   "outputs": [],
   "source": [
    "layer_conf = {\"layer1\":8, \"layer2\":16, \"layer3\":32, \"layer4\":8}"
   ]
  },
  {
   "cell_type": "code",
   "execution_count": 4,
   "metadata": {},
   "outputs": [
    {
     "name": "stderr",
     "output_type": "stream",
     "text": [
      "2022-05-24 17:13:49.668142: I tensorflow/compiler/jit/xla_cpu_device.cc:41] Not creating XLA devices, tf_xla_enable_xla_devices not set\n",
      "2022-05-24 17:13:49.668770: I tensorflow/stream_executor/platform/default/dso_loader.cc:49] Successfully opened dynamic library libcuda.so.1\n",
      "2022-05-24 17:13:49.715271: E tensorflow/stream_executor/cuda/cuda_driver.cc:328] failed call to cuInit: CUDA_ERROR_COMPAT_NOT_SUPPORTED_ON_DEVICE: forward compatibility was attempted on non supported HW\n",
      "2022-05-24 17:13:49.715338: I tensorflow/stream_executor/cuda/cuda_diagnostics.cc:169] retrieving CUDA diagnostic information for host: anish-desktop\n",
      "2022-05-24 17:13:49.715356: I tensorflow/stream_executor/cuda/cuda_diagnostics.cc:176] hostname: anish-desktop\n",
      "2022-05-24 17:13:49.715489: I tensorflow/stream_executor/cuda/cuda_diagnostics.cc:200] libcuda reported version is: 510.73.5\n",
      "2022-05-24 17:13:49.715545: I tensorflow/stream_executor/cuda/cuda_diagnostics.cc:204] kernel reported version is: 510.60.2\n",
      "2022-05-24 17:13:49.715563: E tensorflow/stream_executor/cuda/cuda_diagnostics.cc:313] kernel version 510.60.2 does not match DSO version 510.73.5 -- cannot find working devices in this configuration\n",
      "2022-05-24 17:13:49.716206: I tensorflow/core/platform/cpu_feature_guard.cc:142] This TensorFlow binary is optimized with oneAPI Deep Neural Network Library (oneDNN) to use the following CPU instructions in performance-critical operations:  SSE4.1 SSE4.2 AVX AVX2 FMA\n",
      "To enable them in other operations, rebuild TensorFlow with the appropriate compiler flags.\n",
      "2022-05-24 17:13:49.716674: I tensorflow/compiler/jit/xla_gpu_device.cc:99] Not creating XLA devices, tf_xla_enable_xla_devices not set\n"
     ]
    }
   ],
   "source": [
    "nn_model_1 = model_gen.NN_ModelGeneration(model_name = \"model_X\", input_shape = 8, init_no_layers = 4, init_activation_fn = \"relu\", init_layer_conf = layer_conf)"
   ]
  },
  {
   "cell_type": "code",
   "execution_count": 5,
   "metadata": {},
   "outputs": [
    {
     "name": "stdout",
     "output_type": "stream",
     "text": [
      "Model: \"model_X\"\n",
      "_________________________________________________________________\n",
      "Layer (type)                 Output Shape              Param #   \n",
      "=================================================================\n",
      "input_layer (InputLayer)     [(None, 8)]               0         \n",
      "_________________________________________________________________\n",
      "layer1 (Dense)               (None, 8)                 72        \n",
      "_________________________________________________________________\n",
      "layer2 (Dense)               (None, 16)                144       \n",
      "_________________________________________________________________\n",
      "layer3 (Dense)               (None, 32)                544       \n",
      "_________________________________________________________________\n",
      "layer4 (Dense)               (None, 8)                 264       \n",
      "_________________________________________________________________\n",
      "output_layer (Dense)         (None, 1)                 9         \n",
      "=================================================================\n",
      "Total params: 1,033\n",
      "Trainable params: 1,033\n",
      "Non-trainable params: 0\n",
      "_________________________________________________________________\n"
     ]
    }
   ],
   "source": [
    "nn_model_1.model.summary()"
   ]
  },
  {
   "cell_type": "code",
   "execution_count": 6,
   "metadata": {},
   "outputs": [
    {
     "data": {
      "text/plain": [
       "[8, 4, 'relu', {'layer1': 8, 'layer2': 16, 'layer3': 32, 'layer4': 8}]"
      ]
     },
     "execution_count": 6,
     "metadata": {},
     "output_type": "execute_result"
    }
   ],
   "source": [
    "nn_model_1.model_specs"
   ]
  },
  {
   "cell_type": "code",
   "execution_count": 7,
   "metadata": {},
   "outputs": [],
   "source": [
    "layer_conf = {\"layer_append1\":8, \"layer_append2\":4}"
   ]
  },
  {
   "cell_type": "code",
   "execution_count": 8,
   "metadata": {},
   "outputs": [],
   "source": [
    "nn_model_1.append_model(no_layers = 2, layer_conf = layer_conf)"
   ]
  },
  {
   "cell_type": "code",
   "execution_count": 9,
   "metadata": {},
   "outputs": [
    {
     "name": "stdout",
     "output_type": "stream",
     "text": [
      "Model: \"model_X\"\n",
      "_________________________________________________________________\n",
      "Layer (type)                 Output Shape              Param #   \n",
      "=================================================================\n",
      "input_layer (InputLayer)     [(None, 8)]               0         \n",
      "_________________________________________________________________\n",
      "layer1 (Dense)               (None, 8)                 72        \n",
      "_________________________________________________________________\n",
      "layer2 (Dense)               (None, 16)                144       \n",
      "_________________________________________________________________\n",
      "layer3 (Dense)               (None, 32)                544       \n",
      "_________________________________________________________________\n",
      "layer4 (Dense)               (None, 8)                 264       \n",
      "_________________________________________________________________\n",
      "layer_append1 (Dense)        (None, 8)                 72        \n",
      "_________________________________________________________________\n",
      "layer_append2 (Dense)        (None, 4)                 36        \n",
      "_________________________________________________________________\n",
      "output_layer (Dense)         (None, 1)                 5         \n",
      "=================================================================\n",
      "Total params: 1,137\n",
      "Trainable params: 1,137\n",
      "Non-trainable params: 0\n",
      "_________________________________________________________________\n"
     ]
    }
   ],
   "source": [
    "nn_model_1.model.summary()"
   ]
  },
  {
   "cell_type": "code",
   "execution_count": 10,
   "metadata": {},
   "outputs": [
    {
     "data": {
      "text/plain": [
       "[8,\n",
       " 6,\n",
       " 'relu',\n",
       " {'layer1': 8,\n",
       "  'layer2': 16,\n",
       "  'layer3': 32,\n",
       "  'layer4': 8,\n",
       "  'layer_append1': 8,\n",
       "  'layer_append2': 4}]"
      ]
     },
     "execution_count": 10,
     "metadata": {},
     "output_type": "execute_result"
    }
   ],
   "source": [
    "nn_model_1.model_specs"
   ]
  },
  {
   "cell_type": "code",
   "execution_count": null,
   "metadata": {},
   "outputs": [],
   "source": []
  }
 ],
 "metadata": {
  "kernelspec": {
   "display_name": "Python 3 (ipykernel)",
   "language": "python",
   "name": "python3"
  },
  "language_info": {
   "codemirror_mode": {
    "name": "ipython",
    "version": 3
   },
   "file_extension": ".py",
   "mimetype": "text/x-python",
   "name": "python",
   "nbconvert_exporter": "python",
   "pygments_lexer": "ipython3",
   "version": "3.9.7"
  }
 },
 "nbformat": 4,
 "nbformat_minor": 4
}
