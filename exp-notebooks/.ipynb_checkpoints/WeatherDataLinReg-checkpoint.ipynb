{
 "cells": [
  {
   "cell_type": "code",
   "execution_count": 25,
   "id": "29fcabb9",
   "metadata": {},
   "outputs": [],
   "source": [
    "import numpy as np\n",
    "import tensorflow as tf\n",
    "from sklearn import preprocessing\n",
    "from tensorflow.keras.callbacks import LearningRateScheduler\n",
    "from tensorflow.keras.models import Sequential, Model\n",
    "from tensorflow.keras.layers import Dense, Concatenate, Flatten, Input, Conv2D\n",
    "from tensorflow.keras.activations import tanh\n",
    "from tensorflow.keras.optimizers import Adam\n",
    "from tensorflow.keras.models import load_model\n",
    "from tensorflow.keras.wrappers.scikit_learn import KerasRegressor\n",
    "from sklearn.model_selection import cross_val_score\n",
    "from sklearn.model_selection import KFold\n",
    "\n",
    "import time"
   ]
  },
  {
   "cell_type": "code",
   "execution_count": 2,
   "id": "8d06375c",
   "metadata": {},
   "outputs": [],
   "source": [
    "import os\n",
    "import dask.dataframe as dd\n",
    "\n",
    "\n",
    "#Takes path of directory and finds train.csv, test.csv or direct path of singular .csv file\n",
    "#and returns list of dask dataframe [singular_df_x, singular_df_y] or [train_df_x, train_df_y, test_df_x, test_df_y]\n",
    "class DataframeExtractor_csv:\n",
    "    def __init__(self, directory_path, label_names = []):\n",
    "        self._directory_path = directory_path\n",
    "        self._label_names = label_names\n",
    "        self._df_list = []\n",
    "        self.get_df_list()\n",
    "        \n",
    "    @property\n",
    "    def directory_path(self):\n",
    "        return self._directory_path\n",
    "    \n",
    "    @property\n",
    "    def labels(self):\n",
    "        return self._labels\n",
    "    \n",
    "    @property\n",
    "    def df_list(self):\n",
    "        return self._df_list\n",
    "    \n",
    "    #returns list of dask dataframes\n",
    "    def get_df_list(self):\n",
    "        \n",
    "        #If csv file path has been entered\n",
    "        if self._directory_path.endswith(\".csv\"):\n",
    "            print(f\"Reading single csv from {self._directory_path}\")\n",
    "            csv_df = dd.read_csv(self._directory_path, assume_missing = True, sample_rows=1000)\n",
    "            self._df_list.append(csv_df.loc[:, ~csv_df.columns.isin(self._label_names)])\n",
    "            self._df_list.append(csv_df[self._label_names])\n",
    "            \n",
    "        elif self._no_of_csv(self._directory_path) == 1:\n",
    "            csv_dir = self._get_csv_path(self._directory_path)\n",
    "            self._check_dir_exists(csv_dir)\n",
    "            csv_df = dd.read_csv(csv_dir, assume_missing = True, sample_rows=1000)\n",
    "            self._df_list.append(csv_df.loc[:, ~csv_df.columns.isin(self._label_names)])\n",
    "            self._df_list.append(csv_df[self._label_names])\n",
    "            \n",
    "        #Finding train.csv and test.csv from directory\n",
    "        else:            \n",
    "            print(f\"Reading train.csv and test.csv of directory {self._directory_path}\")\n",
    "            \n",
    "            train_dir = os.path.join(self._directory_path, \"train.csv\")\n",
    "            self._check_dir_exists(train_dir)\n",
    "            csv_df = dd.read_csv(train_dir, assume_missing = True, sample_rows=1000)\n",
    "            self._df_list.append(csv_df.loc[:, ~csv_df.columns.isin(self._label_names)])\n",
    "            self._df_list.append(csv_df[self._label_names])\n",
    "            \n",
    "            \n",
    "            test_dir = os.path.join(self._directory_path, \"test.csv\")\n",
    "            self._check_dir_exists(test_dir)\n",
    "            csv_df = dd.read_csv(test_dir, assume_missing = True, sample_rows=1000)\n",
    "            self._df_list.append(csv_df.loc[:, ~csv_df.columns.isin(self._label_names)])\n",
    "            self._df_list.append(csv_df[self._label_names])\n",
    "\n",
    "        \n",
    "        #If no datasets are found\n",
    "        if not self._df_list:\n",
    "            raise EmptyListError(\"No Datasets found\")\n",
    "            \n",
    "        \n",
    "    @staticmethod\n",
    "    def _check_dir_exists(directory):\n",
    "        if(not os.path.isfile(directory)):\n",
    "            raise FileNotFoundError(f\"Directory {directory} does not exist\")\n",
    "            \n",
    "    @staticmethod\n",
    "    def _no_of_csv(directory):\n",
    "        i = 0\n",
    "        filenames = os.listdir(directory)\n",
    "        for filename in filenames:\n",
    "            if filename.endswith(\".csv\"):\n",
    "                i = i+1\n",
    "        return i\n",
    "    @staticmethod\n",
    "    def _get_csv_path(directory):\n",
    "        filenames = os.listdir(directory)\n",
    "        for filename in filenames:\n",
    "            if filename.endswith(\".csv\"):\n",
    "                return os.path.join(directory,filename)"
   ]
  },
  {
   "cell_type": "code",
   "execution_count": 3,
   "id": "0657a548",
   "metadata": {},
   "outputs": [
    {
     "name": "stdout",
     "output_type": "stream",
     "text": [
      "Reading single csv from /home/anish/ASC-ML-EXP-DATASETS/LinReg-tabular/weather-history-dataset/weatherHistory.csv\n"
     ]
    }
   ],
   "source": [
    "directory = \"/home/anish/ASC-ML-EXP-DATASETS/LinReg-tabular/weather-history-dataset/weatherHistory.csv\"\n",
    "dataset_list = DataframeExtractor_csv(directory, label_names = [\"Apparent Temperature (C)\"]).df_list"
   ]
  },
  {
   "cell_type": "code",
   "execution_count": 4,
   "id": "5fbee73e",
   "metadata": {},
   "outputs": [
    {
     "data": {
      "text/html": [
       "<div>\n",
       "<style scoped>\n",
       "    .dataframe tbody tr th:only-of-type {\n",
       "        vertical-align: middle;\n",
       "    }\n",
       "\n",
       "    .dataframe tbody tr th {\n",
       "        vertical-align: top;\n",
       "    }\n",
       "\n",
       "    .dataframe thead th {\n",
       "        text-align: right;\n",
       "    }\n",
       "</style>\n",
       "<table border=\"1\" class=\"dataframe\">\n",
       "  <thead>\n",
       "    <tr style=\"text-align: right;\">\n",
       "      <th></th>\n",
       "      <th>Formatted Date</th>\n",
       "      <th>Summary</th>\n",
       "      <th>Precip Type</th>\n",
       "      <th>Temperature (C)</th>\n",
       "      <th>Humidity</th>\n",
       "      <th>Wind Speed (km/h)</th>\n",
       "      <th>Wind Bearing (degrees)</th>\n",
       "      <th>Visibility (km)</th>\n",
       "      <th>Loud Cover</th>\n",
       "      <th>Pressure (millibars)</th>\n",
       "      <th>Daily Summary</th>\n",
       "    </tr>\n",
       "  </thead>\n",
       "  <tbody>\n",
       "    <tr>\n",
       "      <th>0</th>\n",
       "      <td>2006-04-01 00:00:00.000 +0200</td>\n",
       "      <td>Partly Cloudy</td>\n",
       "      <td>rain</td>\n",
       "      <td>9.472222</td>\n",
       "      <td>0.89</td>\n",
       "      <td>14.1197</td>\n",
       "      <td>251.0</td>\n",
       "      <td>15.8263</td>\n",
       "      <td>0.0</td>\n",
       "      <td>1015.13</td>\n",
       "      <td>Partly cloudy throughout the day.</td>\n",
       "    </tr>\n",
       "    <tr>\n",
       "      <th>1</th>\n",
       "      <td>2006-04-01 01:00:00.000 +0200</td>\n",
       "      <td>Partly Cloudy</td>\n",
       "      <td>rain</td>\n",
       "      <td>9.355556</td>\n",
       "      <td>0.86</td>\n",
       "      <td>14.2646</td>\n",
       "      <td>259.0</td>\n",
       "      <td>15.8263</td>\n",
       "      <td>0.0</td>\n",
       "      <td>1015.63</td>\n",
       "      <td>Partly cloudy throughout the day.</td>\n",
       "    </tr>\n",
       "    <tr>\n",
       "      <th>2</th>\n",
       "      <td>2006-04-01 02:00:00.000 +0200</td>\n",
       "      <td>Mostly Cloudy</td>\n",
       "      <td>rain</td>\n",
       "      <td>9.377778</td>\n",
       "      <td>0.89</td>\n",
       "      <td>3.9284</td>\n",
       "      <td>204.0</td>\n",
       "      <td>14.9569</td>\n",
       "      <td>0.0</td>\n",
       "      <td>1015.94</td>\n",
       "      <td>Partly cloudy throughout the day.</td>\n",
       "    </tr>\n",
       "    <tr>\n",
       "      <th>3</th>\n",
       "      <td>2006-04-01 03:00:00.000 +0200</td>\n",
       "      <td>Partly Cloudy</td>\n",
       "      <td>rain</td>\n",
       "      <td>8.288889</td>\n",
       "      <td>0.83</td>\n",
       "      <td>14.1036</td>\n",
       "      <td>269.0</td>\n",
       "      <td>15.8263</td>\n",
       "      <td>0.0</td>\n",
       "      <td>1016.41</td>\n",
       "      <td>Partly cloudy throughout the day.</td>\n",
       "    </tr>\n",
       "    <tr>\n",
       "      <th>4</th>\n",
       "      <td>2006-04-01 04:00:00.000 +0200</td>\n",
       "      <td>Mostly Cloudy</td>\n",
       "      <td>rain</td>\n",
       "      <td>8.755556</td>\n",
       "      <td>0.83</td>\n",
       "      <td>11.0446</td>\n",
       "      <td>259.0</td>\n",
       "      <td>15.8263</td>\n",
       "      <td>0.0</td>\n",
       "      <td>1016.51</td>\n",
       "      <td>Partly cloudy throughout the day.</td>\n",
       "    </tr>\n",
       "  </tbody>\n",
       "</table>\n",
       "</div>"
      ],
      "text/plain": [
       "                  Formatted Date        Summary Precip Type  Temperature (C)  \\\n",
       "0  2006-04-01 00:00:00.000 +0200  Partly Cloudy        rain         9.472222   \n",
       "1  2006-04-01 01:00:00.000 +0200  Partly Cloudy        rain         9.355556   \n",
       "2  2006-04-01 02:00:00.000 +0200  Mostly Cloudy        rain         9.377778   \n",
       "3  2006-04-01 03:00:00.000 +0200  Partly Cloudy        rain         8.288889   \n",
       "4  2006-04-01 04:00:00.000 +0200  Mostly Cloudy        rain         8.755556   \n",
       "\n",
       "   Humidity  Wind Speed (km/h)  Wind Bearing (degrees)  Visibility (km)  \\\n",
       "0      0.89            14.1197                   251.0          15.8263   \n",
       "1      0.86            14.2646                   259.0          15.8263   \n",
       "2      0.89             3.9284                   204.0          14.9569   \n",
       "3      0.83            14.1036                   269.0          15.8263   \n",
       "4      0.83            11.0446                   259.0          15.8263   \n",
       "\n",
       "   Loud Cover  Pressure (millibars)                      Daily Summary  \n",
       "0         0.0               1015.13  Partly cloudy throughout the day.  \n",
       "1         0.0               1015.63  Partly cloudy throughout the day.  \n",
       "2         0.0               1015.94  Partly cloudy throughout the day.  \n",
       "3         0.0               1016.41  Partly cloudy throughout the day.  \n",
       "4         0.0               1016.51  Partly cloudy throughout the day.  "
      ]
     },
     "execution_count": 4,
     "metadata": {},
     "output_type": "execute_result"
    }
   ],
   "source": [
    "dataset_list[0].head()"
   ]
  },
  {
   "cell_type": "code",
   "execution_count": 5,
   "id": "58a5b22f",
   "metadata": {},
   "outputs": [
    {
     "data": {
      "text/html": [
       "<div>\n",
       "<style scoped>\n",
       "    .dataframe tbody tr th:only-of-type {\n",
       "        vertical-align: middle;\n",
       "    }\n",
       "\n",
       "    .dataframe tbody tr th {\n",
       "        vertical-align: top;\n",
       "    }\n",
       "\n",
       "    .dataframe thead th {\n",
       "        text-align: right;\n",
       "    }\n",
       "</style>\n",
       "<table border=\"1\" class=\"dataframe\">\n",
       "  <thead>\n",
       "    <tr style=\"text-align: right;\">\n",
       "      <th></th>\n",
       "      <th>Apparent Temperature (C)</th>\n",
       "    </tr>\n",
       "  </thead>\n",
       "  <tbody>\n",
       "    <tr>\n",
       "      <th>0</th>\n",
       "      <td>7.388889</td>\n",
       "    </tr>\n",
       "    <tr>\n",
       "      <th>1</th>\n",
       "      <td>7.227778</td>\n",
       "    </tr>\n",
       "    <tr>\n",
       "      <th>2</th>\n",
       "      <td>9.377778</td>\n",
       "    </tr>\n",
       "    <tr>\n",
       "      <th>3</th>\n",
       "      <td>5.944444</td>\n",
       "    </tr>\n",
       "    <tr>\n",
       "      <th>4</th>\n",
       "      <td>6.977778</td>\n",
       "    </tr>\n",
       "  </tbody>\n",
       "</table>\n",
       "</div>"
      ],
      "text/plain": [
       "   Apparent Temperature (C)\n",
       "0                  7.388889\n",
       "1                  7.227778\n",
       "2                  9.377778\n",
       "3                  5.944444\n",
       "4                  6.977778"
      ]
     },
     "execution_count": 5,
     "metadata": {},
     "output_type": "execute_result"
    }
   ],
   "source": [
    "dataset_list[1].head()"
   ]
  },
  {
   "cell_type": "code",
   "execution_count": 6,
   "id": "219c5a6e",
   "metadata": {},
   "outputs": [],
   "source": [
    "train_x = dataset_list[0]\n",
    "train_y = dataset_list[1]"
   ]
  },
  {
   "cell_type": "code",
   "execution_count": 7,
   "id": "062d0c10",
   "metadata": {},
   "outputs": [
    {
     "data": {
      "text/plain": [
       "0.0    96453\n",
       "Name: Loud Cover, dtype: int64"
      ]
     },
     "execution_count": 7,
     "metadata": {},
     "output_type": "execute_result"
    }
   ],
   "source": [
    "train_x[\"Loud Cover\"].value_counts(dropna = False).compute()"
   ]
  },
  {
   "cell_type": "code",
   "execution_count": 8,
   "id": "3a411965",
   "metadata": {},
   "outputs": [
    {
     "data": {
      "text/plain": [
       "rain    85224\n",
       "snow    10712\n",
       "NaN       517\n",
       "Name: Precip Type, dtype: int64"
      ]
     },
     "execution_count": 8,
     "metadata": {},
     "output_type": "execute_result"
    }
   ],
   "source": [
    "train_x[\"Precip Type\"].value_counts(dropna = False).compute()"
   ]
  },
  {
   "cell_type": "code",
   "execution_count": 9,
   "id": "e65cec56",
   "metadata": {},
   "outputs": [
    {
     "name": "stderr",
     "output_type": "stream",
     "text": [
      "/home/anish/anaconda3/envs/tfgpu/lib/python3.8/site-packages/dask/dataframe/core.py:5077: UserWarning: \n",
      "You did not provide metadata, so Dask is running your function on a small dataset to guess output types. It is possible that Dask will guess incorrectly.\n",
      "To provide an explicit output types or to silence this message, please provide the `meta=` keyword, as described in the map or apply function that you are using.\n",
      "  Before: .apply(func)\n",
      "  After:  .apply(func, meta=(None, 'int64'))\n",
      "\n",
      "  warnings.warn(meta_warning(meta))\n"
     ]
    }
   ],
   "source": [
    "def func(row):   \n",
    "    if row['Precip Type'] == 'rain':\n",
    "        return 1  \n",
    "    elif row['Precip Type'] == 'snow':\n",
    "        return 2\n",
    "    else:\n",
    "        return 0\n",
    "\n",
    "train_x['PrecipNo'] = train_x.apply(func, axis=1)"
   ]
  },
  {
   "cell_type": "code",
   "execution_count": 10,
   "id": "0735639e",
   "metadata": {},
   "outputs": [
    {
     "data": {
      "text/plain": [
       "1    85224\n",
       "2    10712\n",
       "0      517\n",
       "Name: PrecipNo, dtype: int64"
      ]
     },
     "execution_count": 10,
     "metadata": {},
     "output_type": "execute_result"
    }
   ],
   "source": [
    "train_x[\"PrecipNo\"].value_counts(dropna = False).compute()"
   ]
  },
  {
   "cell_type": "code",
   "execution_count": 11,
   "id": "ddd33007",
   "metadata": {},
   "outputs": [],
   "source": [
    "train_x = train_x.drop([\"Summary\", \"Precip Type\", \"Formatted Date\", \"Daily Summary\", \"Loud Cover\"], axis=1).compute()"
   ]
  },
  {
   "cell_type": "code",
   "execution_count": 12,
   "id": "123c563c",
   "metadata": {},
   "outputs": [],
   "source": [
    "train_x['PrecipNo'] = train_x['PrecipNo'].map({0: 'No Precip', 1: 'Rain', 2: 'Snow'})\n",
    "train_x = dd.get_dummies(train_x, columns=['PrecipNo'], prefix='', prefix_sep='')"
   ]
  },
  {
   "cell_type": "code",
   "execution_count": 13,
   "id": "d64fb4ff",
   "metadata": {},
   "outputs": [
    {
     "data": {
      "text/html": [
       "<div>\n",
       "<style scoped>\n",
       "    .dataframe tbody tr th:only-of-type {\n",
       "        vertical-align: middle;\n",
       "    }\n",
       "\n",
       "    .dataframe tbody tr th {\n",
       "        vertical-align: top;\n",
       "    }\n",
       "\n",
       "    .dataframe thead th {\n",
       "        text-align: right;\n",
       "    }\n",
       "</style>\n",
       "<table border=\"1\" class=\"dataframe\">\n",
       "  <thead>\n",
       "    <tr style=\"text-align: right;\">\n",
       "      <th></th>\n",
       "      <th>Temperature (C)</th>\n",
       "      <th>Humidity</th>\n",
       "      <th>Wind Speed (km/h)</th>\n",
       "      <th>Wind Bearing (degrees)</th>\n",
       "      <th>Visibility (km)</th>\n",
       "      <th>Pressure (millibars)</th>\n",
       "      <th>No Precip</th>\n",
       "      <th>Rain</th>\n",
       "      <th>Snow</th>\n",
       "    </tr>\n",
       "  </thead>\n",
       "  <tbody>\n",
       "    <tr>\n",
       "      <th>0</th>\n",
       "      <td>9.472222</td>\n",
       "      <td>0.89</td>\n",
       "      <td>14.1197</td>\n",
       "      <td>251.0</td>\n",
       "      <td>15.8263</td>\n",
       "      <td>1015.13</td>\n",
       "      <td>0</td>\n",
       "      <td>1</td>\n",
       "      <td>0</td>\n",
       "    </tr>\n",
       "    <tr>\n",
       "      <th>1</th>\n",
       "      <td>9.355556</td>\n",
       "      <td>0.86</td>\n",
       "      <td>14.2646</td>\n",
       "      <td>259.0</td>\n",
       "      <td>15.8263</td>\n",
       "      <td>1015.63</td>\n",
       "      <td>0</td>\n",
       "      <td>1</td>\n",
       "      <td>0</td>\n",
       "    </tr>\n",
       "    <tr>\n",
       "      <th>2</th>\n",
       "      <td>9.377778</td>\n",
       "      <td>0.89</td>\n",
       "      <td>3.9284</td>\n",
       "      <td>204.0</td>\n",
       "      <td>14.9569</td>\n",
       "      <td>1015.94</td>\n",
       "      <td>0</td>\n",
       "      <td>1</td>\n",
       "      <td>0</td>\n",
       "    </tr>\n",
       "    <tr>\n",
       "      <th>3</th>\n",
       "      <td>8.288889</td>\n",
       "      <td>0.83</td>\n",
       "      <td>14.1036</td>\n",
       "      <td>269.0</td>\n",
       "      <td>15.8263</td>\n",
       "      <td>1016.41</td>\n",
       "      <td>0</td>\n",
       "      <td>1</td>\n",
       "      <td>0</td>\n",
       "    </tr>\n",
       "    <tr>\n",
       "      <th>4</th>\n",
       "      <td>8.755556</td>\n",
       "      <td>0.83</td>\n",
       "      <td>11.0446</td>\n",
       "      <td>259.0</td>\n",
       "      <td>15.8263</td>\n",
       "      <td>1016.51</td>\n",
       "      <td>0</td>\n",
       "      <td>1</td>\n",
       "      <td>0</td>\n",
       "    </tr>\n",
       "  </tbody>\n",
       "</table>\n",
       "</div>"
      ],
      "text/plain": [
       "   Temperature (C)  Humidity  Wind Speed (km/h)  Wind Bearing (degrees)  \\\n",
       "0         9.472222      0.89            14.1197                   251.0   \n",
       "1         9.355556      0.86            14.2646                   259.0   \n",
       "2         9.377778      0.89             3.9284                   204.0   \n",
       "3         8.288889      0.83            14.1036                   269.0   \n",
       "4         8.755556      0.83            11.0446                   259.0   \n",
       "\n",
       "   Visibility (km)  Pressure (millibars)  No Precip  Rain  Snow  \n",
       "0          15.8263               1015.13          0     1     0  \n",
       "1          15.8263               1015.63          0     1     0  \n",
       "2          14.9569               1015.94          0     1     0  \n",
       "3          15.8263               1016.41          0     1     0  \n",
       "4          15.8263               1016.51          0     1     0  "
      ]
     },
     "execution_count": 13,
     "metadata": {},
     "output_type": "execute_result"
    }
   ],
   "source": [
    "train_x.head()"
   ]
  },
  {
   "cell_type": "code",
   "execution_count": null,
   "id": "f3fa8dd5",
   "metadata": {},
   "outputs": [],
   "source": []
  },
  {
   "cell_type": "code",
   "execution_count": null,
   "id": "85fc6a80",
   "metadata": {},
   "outputs": [],
   "source": []
  },
  {
   "cell_type": "code",
   "execution_count": 14,
   "id": "bddfe641",
   "metadata": {},
   "outputs": [
    {
     "name": "stdout",
     "output_type": "stream",
     "text": [
      "9\n"
     ]
    }
   ],
   "source": [
    "input_dim = train_x.shape[1]\n",
    "print(input_dim)"
   ]
  },
  {
   "cell_type": "code",
   "execution_count": 15,
   "id": "c2a5b439",
   "metadata": {},
   "outputs": [],
   "source": [
    "tf.keras.backend.clear_session()"
   ]
  },
  {
   "cell_type": "code",
   "execution_count": 16,
   "id": "4b2ac12b",
   "metadata": {},
   "outputs": [],
   "source": [
    "def baseline_model():\n",
    "    # create model\n",
    "    adam_optimizer = Adam(lr = 1e-3)\n",
    "    model = Sequential()\n",
    "    model.add(Dense(9, input_dim=input_dim, kernel_initializer='normal', activation='relu'))\n",
    "    model.add(Dense(1, kernel_initializer='normal'))\n",
    "    # Compile model\n",
    "    model.compile(loss='mean_squared_error', optimizer=adam_optimizer, \n",
    "                  metrics = [tf.keras.metrics.MeanAbsoluteError(), \"acc\"])\n",
    "    return model"
   ]
  },
  {
   "cell_type": "code",
   "execution_count": 17,
   "id": "54618489",
   "metadata": {},
   "outputs": [],
   "source": [
    "X = np.array(train_x.values)\n",
    "Y = np.array(train_y.values)"
   ]
  },
  {
   "cell_type": "code",
   "execution_count": 21,
   "id": "559238c7",
   "metadata": {},
   "outputs": [],
   "source": [
    "estimator = KerasRegressor(build_fn=baseline_model, epochs=30, batch_size=64, verbose=0)\n",
    "kfold = KFold(n_splits=5)\n",
    "results = cross_val_score(estimator, X, Y, cv=kfold)"
   ]
  },
  {
   "cell_type": "code",
   "execution_count": 22,
   "id": "6ac9f2b3",
   "metadata": {},
   "outputs": [
    {
     "name": "stdout",
     "output_type": "stream",
     "text": [
      "Baseline: -0.39 (0.22) MSE\n"
     ]
    }
   ],
   "source": [
    "print(\"Baseline: %.2f (%.2f) MSE\" % (results.mean(), results.std()))"
   ]
  },
  {
   "cell_type": "code",
   "execution_count": 23,
   "id": "412aa114",
   "metadata": {},
   "outputs": [],
   "source": [
    "def baseline_model2():\n",
    "    # create model\n",
    "    adam_optimizer = Adam(lr = 1e-3)\n",
    "    model = Sequential()\n",
    "    model.add(Dense(9, input_dim=input_dim, kernel_initializer='normal', activation='relu'))\n",
    "    model.add(Dense(32, kernel_initializer='normal'))\n",
    "    model.add(Dense(32, kernel_initializer='normal'))\n",
    "    model.add(Dense(1, kernel_initializer='normal'))\n",
    "    # Compile model\n",
    "    model.compile(loss='mean_squared_error', optimizer=adam_optimizer, \n",
    "                  metrics = [tf.keras.metrics.MeanAbsoluteError(), \"acc\"])\n",
    "    return model"
   ]
  },
  {
   "cell_type": "code",
   "execution_count": 27,
   "id": "880372de",
   "metadata": {},
   "outputs": [
    {
     "name": "stdout",
     "output_type": "stream",
     "text": [
      "Time elapsed: 166.60303807258606\n",
      "Baseline: -0.40 (0.16) MSE\n"
     ]
    }
   ],
   "source": [
    "start = time.time()\n",
    "\n",
    "estimator = KerasRegressor(build_fn=baseline_model2, epochs=30, batch_size=64, verbose=0)\n",
    "kfold = KFold(n_splits=5)\n",
    "results = cross_val_score(estimator, X, Y, cv=kfold)\n",
    "\n",
    "end = time.time()\n",
    "print (\"Time elapsed:\", end - start)\n",
    "print(\"Baseline: %.2f (%.2f) MSE\" % (results.mean(), results.std()))"
   ]
  },
  {
   "cell_type": "code",
   "execution_count": 30,
   "id": "c419609b",
   "metadata": {},
   "outputs": [],
   "source": [
    "def baseline_model3():\n",
    "    # create model\n",
    "    adam_optimizer = Adam(lr = 1e-3)\n",
    "    model = Sequential()\n",
    "    model.add(Dense(9, input_dim=input_dim, kernel_initializer='normal', activation='relu'))\n",
    "    model.add(Dense(32, kernel_initializer='normal', activation='relu'))\n",
    "    model.add(Dense(1, kernel_initializer='normal'))\n",
    "    # Compile model\n",
    "    model.compile(loss='mean_absolute_error', optimizer=adam_optimizer, \n",
    "                  metrics = [tf.keras.metrics.MeanAbsoluteError(), \"acc\"])\n",
    "    return model"
   ]
  },
  {
   "cell_type": "code",
   "execution_count": 31,
   "id": "aef7fa68",
   "metadata": {},
   "outputs": [
    {
     "name": "stdout",
     "output_type": "stream",
     "text": [
      "Time elapsed: 162.76261115074158\n",
      "Baseline: -0.29 (0.09) MSE\n"
     ]
    }
   ],
   "source": [
    "start = time.time()\n",
    "\n",
    "estimator = KerasRegressor(build_fn=baseline_model2, epochs=30, batch_size=64, verbose=0)\n",
    "kfold = KFold(n_splits=5)\n",
    "results = cross_val_score(estimator, X, Y, cv=kfold)\n",
    "\n",
    "end = time.time()\n",
    "print (\"Time elapsed:\", end - start)\n",
    "print(\"Baseline: %.2f (%.2f) MSE\" % (results.mean(), results.std()))"
   ]
  },
  {
   "cell_type": "code",
   "execution_count": null,
   "id": "9721acae",
   "metadata": {},
   "outputs": [],
   "source": []
  },
  {
   "cell_type": "code",
   "execution_count": null,
   "id": "576759a3",
   "metadata": {},
   "outputs": [],
   "source": []
  }
 ],
 "metadata": {
  "kernelspec": {
   "display_name": "Python 3 (ipykernel)",
   "language": "python",
   "name": "python3"
  },
  "language_info": {
   "codemirror_mode": {
    "name": "ipython",
    "version": 3
   },
   "file_extension": ".py",
   "mimetype": "text/x-python",
   "name": "python",
   "nbconvert_exporter": "python",
   "pygments_lexer": "ipython3",
   "version": "3.8.12"
  }
 },
 "nbformat": 4,
 "nbformat_minor": 5
}
