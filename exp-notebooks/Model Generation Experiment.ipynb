{
 "cells": [
  {
   "cell_type": "code",
   "execution_count": 1,
   "id": "b180be03",
   "metadata": {},
   "outputs": [],
   "source": [
    "import os\n",
    "import dask.dataframe as dd\n",
    "\n",
    "\n",
    "#Takes path of directory and finds train.csv, test.csv or direct path of singular .csv file\n",
    "#and returns list of dask dataframe [singular_df_x, singular_df_y] or [train_df_x, train_df_y, test_df_x, test_df_y]\n",
    "class DataframeExtractor_csv:\n",
    "    def __init__(self, directory_path, label_names = []):\n",
    "        self._directory_path = directory_path\n",
    "        self._label_names = label_names\n",
    "        self._df_list = []\n",
    "        self.get_df_list()\n",
    "        \n",
    "    @property\n",
    "    def directory_path(self):\n",
    "        return self._directory_path\n",
    "    \n",
    "    @property\n",
    "    def labels(self):\n",
    "        return self._labels\n",
    "    \n",
    "    @property\n",
    "    def df_list(self):\n",
    "        return self._df_list\n",
    "    \n",
    "    #returns list of dask dataframes\n",
    "    def get_df_list(self):\n",
    "        \n",
    "        #If csv file path has been entered\n",
    "        if self._directory_path.endswith(\".csv\"):\n",
    "            print(f\"Reading single csv from {self._directory_path}\")\n",
    "            csv_df = dd.read_csv(self._directory_path, assume_missing = True, sample_rows=1000)\n",
    "            self._df_list.append(csv_df.loc[:, ~csv_df.columns.isin(self._label_names)])\n",
    "            self._df_list.append(csv_df[self._label_names])\n",
    "            \n",
    "        elif self._no_of_csv(self._directory_path) == 1:\n",
    "            csv_dir = self._get_csv_path(self._directory_path)\n",
    "            self._check_dir_exists(csv_dir)\n",
    "            csv_df = dd.read_csv(csv_dir, assume_missing = True, sample_rows=1000)\n",
    "            self._df_list.append(csv_df.loc[:, ~csv_df.columns.isin(self._label_names)])\n",
    "            self._df_list.append(csv_df[self._label_names])\n",
    "            \n",
    "        #Finding train.csv and test.csv from directory\n",
    "        else:            \n",
    "            print(f\"Reading train.csv and test.csv of directory {self._directory_path}\")\n",
    "            \n",
    "            train_dir = os.path.join(self._directory_path, \"train.csv\")\n",
    "            self._check_dir_exists(train_dir)\n",
    "            csv_df = dd.read_csv(train_dir, assume_missing = True, sample_rows=1000)\n",
    "            self._df_list.append(csv_df.loc[:, ~csv_df.columns.isin(self._label_names)])\n",
    "            self._df_list.append(csv_df[self._label_names])\n",
    "            \n",
    "            \n",
    "            test_dir = os.path.join(self._directory_path, \"test.csv\")\n",
    "            self._check_dir_exists(test_dir)\n",
    "            csv_df = dd.read_csv(test_dir, assume_missing = True, sample_rows=1000)\n",
    "            self._df_list.append(csv_df.loc[:, ~csv_df.columns.isin(self._label_names)])\n",
    "            self._df_list.append(csv_df[self._label_names])\n",
    "\n",
    "        \n",
    "        #If no datasets are found\n",
    "        if not self._df_list:\n",
    "            raise EmptyListError(\"No Datasets found\")\n",
    "            \n",
    "        \n",
    "    @staticmethod\n",
    "    def _check_dir_exists(directory):\n",
    "        if(not os.path.isfile(directory)):\n",
    "            raise FileNotFoundError(f\"Directory {directory} does not exist\")\n",
    "            \n",
    "    @staticmethod\n",
    "    def _no_of_csv(directory):\n",
    "        i = 0\n",
    "        filenames = os.listdir(directory)\n",
    "        for filename in filenames:\n",
    "            if filename.endswith(\".csv\"):\n",
    "                i = i+1\n",
    "        return i\n",
    "    @staticmethod\n",
    "    def _get_csv_path(directory):\n",
    "        filenames = os.listdir(directory)\n",
    "        for filename in filenames:\n",
    "            if filename.endswith(\".csv\"):\n",
    "                return os.path.join(directory,filename)"
   ]
  },
  {
   "cell_type": "code",
   "execution_count": 2,
   "id": "5b018405",
   "metadata": {},
   "outputs": [
    {
     "name": "stdout",
     "output_type": "stream",
     "text": [
      "Reading single csv from /home/anish/ASC-ML-EXP-DATASETS/LinReg-tabular/weather-history-dataset/weatherHistory.csv\n"
     ]
    }
   ],
   "source": [
    "directory = \"/home/anish/ASC-ML-EXP-DATASETS/LinReg-tabular/weather-history-dataset/weatherHistory.csv\"\n",
    "dataset_list = DataframeExtractor_csv(directory, label_names = [\"Temperature (C)\"]).df_list"
   ]
  },
  {
   "cell_type": "code",
   "execution_count": 3,
   "id": "16814ad6",
   "metadata": {},
   "outputs": [
    {
     "data": {
      "text/html": [
       "<div>\n",
       "<style scoped>\n",
       "    .dataframe tbody tr th:only-of-type {\n",
       "        vertical-align: middle;\n",
       "    }\n",
       "\n",
       "    .dataframe tbody tr th {\n",
       "        vertical-align: top;\n",
       "    }\n",
       "\n",
       "    .dataframe thead th {\n",
       "        text-align: right;\n",
       "    }\n",
       "</style>\n",
       "<table border=\"1\" class=\"dataframe\">\n",
       "  <thead>\n",
       "    <tr style=\"text-align: right;\">\n",
       "      <th></th>\n",
       "      <th>Temperature (C)</th>\n",
       "    </tr>\n",
       "  </thead>\n",
       "  <tbody>\n",
       "    <tr>\n",
       "      <th>0</th>\n",
       "      <td>9.472222</td>\n",
       "    </tr>\n",
       "    <tr>\n",
       "      <th>1</th>\n",
       "      <td>9.355556</td>\n",
       "    </tr>\n",
       "    <tr>\n",
       "      <th>2</th>\n",
       "      <td>9.377778</td>\n",
       "    </tr>\n",
       "    <tr>\n",
       "      <th>3</th>\n",
       "      <td>8.288889</td>\n",
       "    </tr>\n",
       "    <tr>\n",
       "      <th>4</th>\n",
       "      <td>8.755556</td>\n",
       "    </tr>\n",
       "  </tbody>\n",
       "</table>\n",
       "</div>"
      ],
      "text/plain": [
       "   Temperature (C)\n",
       "0         9.472222\n",
       "1         9.355556\n",
       "2         9.377778\n",
       "3         8.288889\n",
       "4         8.755556"
      ]
     },
     "execution_count": 3,
     "metadata": {},
     "output_type": "execute_result"
    }
   ],
   "source": [
    "dataset_list[1].head()"
   ]
  },
  {
   "cell_type": "code",
   "execution_count": 4,
   "id": "481ee518",
   "metadata": {},
   "outputs": [],
   "source": [
    "dataset = dataset_list[0].copy()"
   ]
  },
  {
   "cell_type": "code",
   "execution_count": 5,
   "id": "01934b9e",
   "metadata": {},
   "outputs": [
    {
     "data": {
      "text/html": [
       "<div>\n",
       "<style scoped>\n",
       "    .dataframe tbody tr th:only-of-type {\n",
       "        vertical-align: middle;\n",
       "    }\n",
       "\n",
       "    .dataframe tbody tr th {\n",
       "        vertical-align: top;\n",
       "    }\n",
       "\n",
       "    .dataframe thead th {\n",
       "        text-align: right;\n",
       "    }\n",
       "</style>\n",
       "<table border=\"1\" class=\"dataframe\">\n",
       "  <thead>\n",
       "    <tr style=\"text-align: right;\">\n",
       "      <th></th>\n",
       "      <th>Formatted Date</th>\n",
       "      <th>Summary</th>\n",
       "      <th>Precip Type</th>\n",
       "      <th>Apparent Temperature (C)</th>\n",
       "      <th>Humidity</th>\n",
       "      <th>Wind Speed (km/h)</th>\n",
       "      <th>Wind Bearing (degrees)</th>\n",
       "      <th>Visibility (km)</th>\n",
       "      <th>Loud Cover</th>\n",
       "      <th>Pressure (millibars)</th>\n",
       "      <th>Daily Summary</th>\n",
       "    </tr>\n",
       "  </thead>\n",
       "  <tbody>\n",
       "    <tr>\n",
       "      <th>0</th>\n",
       "      <td>2006-04-01 00:00:00.000 +0200</td>\n",
       "      <td>Partly Cloudy</td>\n",
       "      <td>rain</td>\n",
       "      <td>7.388889</td>\n",
       "      <td>0.89</td>\n",
       "      <td>14.1197</td>\n",
       "      <td>251.0</td>\n",
       "      <td>15.8263</td>\n",
       "      <td>0.0</td>\n",
       "      <td>1015.13</td>\n",
       "      <td>Partly cloudy throughout the day.</td>\n",
       "    </tr>\n",
       "    <tr>\n",
       "      <th>1</th>\n",
       "      <td>2006-04-01 01:00:00.000 +0200</td>\n",
       "      <td>Partly Cloudy</td>\n",
       "      <td>rain</td>\n",
       "      <td>7.227778</td>\n",
       "      <td>0.86</td>\n",
       "      <td>14.2646</td>\n",
       "      <td>259.0</td>\n",
       "      <td>15.8263</td>\n",
       "      <td>0.0</td>\n",
       "      <td>1015.63</td>\n",
       "      <td>Partly cloudy throughout the day.</td>\n",
       "    </tr>\n",
       "    <tr>\n",
       "      <th>2</th>\n",
       "      <td>2006-04-01 02:00:00.000 +0200</td>\n",
       "      <td>Mostly Cloudy</td>\n",
       "      <td>rain</td>\n",
       "      <td>9.377778</td>\n",
       "      <td>0.89</td>\n",
       "      <td>3.9284</td>\n",
       "      <td>204.0</td>\n",
       "      <td>14.9569</td>\n",
       "      <td>0.0</td>\n",
       "      <td>1015.94</td>\n",
       "      <td>Partly cloudy throughout the day.</td>\n",
       "    </tr>\n",
       "    <tr>\n",
       "      <th>3</th>\n",
       "      <td>2006-04-01 03:00:00.000 +0200</td>\n",
       "      <td>Partly Cloudy</td>\n",
       "      <td>rain</td>\n",
       "      <td>5.944444</td>\n",
       "      <td>0.83</td>\n",
       "      <td>14.1036</td>\n",
       "      <td>269.0</td>\n",
       "      <td>15.8263</td>\n",
       "      <td>0.0</td>\n",
       "      <td>1016.41</td>\n",
       "      <td>Partly cloudy throughout the day.</td>\n",
       "    </tr>\n",
       "    <tr>\n",
       "      <th>4</th>\n",
       "      <td>2006-04-01 04:00:00.000 +0200</td>\n",
       "      <td>Mostly Cloudy</td>\n",
       "      <td>rain</td>\n",
       "      <td>6.977778</td>\n",
       "      <td>0.83</td>\n",
       "      <td>11.0446</td>\n",
       "      <td>259.0</td>\n",
       "      <td>15.8263</td>\n",
       "      <td>0.0</td>\n",
       "      <td>1016.51</td>\n",
       "      <td>Partly cloudy throughout the day.</td>\n",
       "    </tr>\n",
       "  </tbody>\n",
       "</table>\n",
       "</div>"
      ],
      "text/plain": [
       "                  Formatted Date        Summary Precip Type  \\\n",
       "0  2006-04-01 00:00:00.000 +0200  Partly Cloudy        rain   \n",
       "1  2006-04-01 01:00:00.000 +0200  Partly Cloudy        rain   \n",
       "2  2006-04-01 02:00:00.000 +0200  Mostly Cloudy        rain   \n",
       "3  2006-04-01 03:00:00.000 +0200  Partly Cloudy        rain   \n",
       "4  2006-04-01 04:00:00.000 +0200  Mostly Cloudy        rain   \n",
       "\n",
       "   Apparent Temperature (C)  Humidity  Wind Speed (km/h)  \\\n",
       "0                  7.388889      0.89            14.1197   \n",
       "1                  7.227778      0.86            14.2646   \n",
       "2                  9.377778      0.89             3.9284   \n",
       "3                  5.944444      0.83            14.1036   \n",
       "4                  6.977778      0.83            11.0446   \n",
       "\n",
       "   Wind Bearing (degrees)  Visibility (km)  Loud Cover  Pressure (millibars)  \\\n",
       "0                   251.0          15.8263         0.0               1015.13   \n",
       "1                   259.0          15.8263         0.0               1015.63   \n",
       "2                   204.0          14.9569         0.0               1015.94   \n",
       "3                   269.0          15.8263         0.0               1016.41   \n",
       "4                   259.0          15.8263         0.0               1016.51   \n",
       "\n",
       "                       Daily Summary  \n",
       "0  Partly cloudy throughout the day.  \n",
       "1  Partly cloudy throughout the day.  \n",
       "2  Partly cloudy throughout the day.  \n",
       "3  Partly cloudy throughout the day.  \n",
       "4  Partly cloudy throughout the day.  "
      ]
     },
     "execution_count": 5,
     "metadata": {},
     "output_type": "execute_result"
    }
   ],
   "source": [
    "dataset.head()"
   ]
  },
  {
   "cell_type": "code",
   "execution_count": 6,
   "id": "af7fc3bb",
   "metadata": {},
   "outputs": [
    {
     "data": {
      "text/plain": [
       "(96453, 11)"
      ]
     },
     "execution_count": 6,
     "metadata": {},
     "output_type": "execute_result"
    }
   ],
   "source": [
    "dataset.compute().shape"
   ]
  },
  {
   "cell_type": "code",
   "execution_count": 7,
   "id": "49993864",
   "metadata": {},
   "outputs": [
    {
     "data": {
      "text/plain": [
       "rain    85224\n",
       "snow    10712\n",
       "Name: Precip Type, dtype: int64"
      ]
     },
     "execution_count": 7,
     "metadata": {},
     "output_type": "execute_result"
    }
   ],
   "source": [
    "dataset[\"Precip Type\"].value_counts().compute()"
   ]
  },
  {
   "cell_type": "code",
   "execution_count": 8,
   "id": "bae59f0d",
   "metadata": {},
   "outputs": [
    {
     "data": {
      "text/plain": [
       "True     95936\n",
       "False      517\n",
       "Name: Precip Type, dtype: int64"
      ]
     },
     "execution_count": 8,
     "metadata": {},
     "output_type": "execute_result"
    }
   ],
   "source": [
    "dataset[\"Precip Type\"].notnull().value_counts().compute()"
   ]
  },
  {
   "cell_type": "code",
   "execution_count": 9,
   "id": "509ecb63",
   "metadata": {},
   "outputs": [
    {
     "data": {
      "text/plain": [
       "Partly Cloudy                          31733\n",
       "Mostly Cloudy                          28094\n",
       "Overcast                               16597\n",
       "Clear                                  10890\n",
       "Foggy                                   7148\n",
       "Breezy and Overcast                      528\n",
       "Breezy and Mostly Cloudy                 516\n",
       "Breezy and Partly Cloudy                 386\n",
       "Dry and Partly Cloudy                     86\n",
       "Windy and Partly Cloudy                   67\n",
       "Light Rain                                63\n",
       "Breezy                                    54\n",
       "Windy and Overcast                        45\n",
       "Humid and Mostly Cloudy                   40\n",
       "Drizzle                                   39\n",
       "Windy and Mostly Cloudy                   35\n",
       "Breezy and Foggy                          35\n",
       "Dry                                       34\n",
       "Humid and Partly Cloudy                   17\n",
       "Dry and Mostly Cloudy                     14\n",
       "Rain                                      10\n",
       "Windy                                      8\n",
       "Humid and Overcast                         7\n",
       "Windy and Foggy                            4\n",
       "Dangerously Windy and Partly Cloudy        1\n",
       "Windy and Dry                              1\n",
       "Breezy and Dry                             1\n",
       "Name: Summary, dtype: int64"
      ]
     },
     "execution_count": 9,
     "metadata": {},
     "output_type": "execute_result"
    }
   ],
   "source": [
    "dataset[\"Summary\"].value_counts().compute()"
   ]
  },
  {
   "cell_type": "code",
   "execution_count": 10,
   "id": "b478c0d2",
   "metadata": {},
   "outputs": [],
   "source": [
    "import seaborn as sns"
   ]
  },
  {
   "cell_type": "code",
   "execution_count": 11,
   "id": "8f53064e",
   "metadata": {},
   "outputs": [
    {
     "data": {
      "image/png": "[encoded data removed]",
      "text/plain": [
       "<Figure size 432x288 with 2 Axes>"
      ]
     },
     "metadata": {
      "needs_background": "light"
     },
     "output_type": "display_data"
    }
   ],
   "source": [
    "corr = dataset.corr().compute()\n",
    "ax = sns.heatmap(\n",
    "    corr, \n",
    "    vmin=-1, vmax=1, center=0,\n",
    "    cmap=sns.diverging_palette(20, 220, n=200),\n",
    "    square=True\n",
    ")\n",
    "ax.set_xticklabels(\n",
    "    ax.get_xticklabels(),\n",
    "    rotation=45,\n",
    "    horizontalalignment='right'\n",
    ");"
   ]
  },
  {
   "cell_type": "code",
   "execution_count": 22,
   "id": "ada38aeb",
   "metadata": {},
   "outputs": [
    {
     "data": {
      "text/html": [
       "<div>\n",
       "<style scoped>\n",
       "    .dataframe tbody tr th:only-of-type {\n",
       "        vertical-align: middle;\n",
       "    }\n",
       "\n",
       "    .dataframe tbody tr th {\n",
       "        vertical-align: top;\n",
       "    }\n",
       "\n",
       "    .dataframe thead th {\n",
       "        text-align: right;\n",
       "    }\n",
       "</style>\n",
       "<table border=\"1\" class=\"dataframe\">\n",
       "  <thead>\n",
       "    <tr style=\"text-align: right;\">\n",
       "      <th></th>\n",
       "      <th>Formatted Date</th>\n",
       "      <th>Summary</th>\n",
       "      <th>Precip Type</th>\n",
       "      <th>Apparent Temperature (C)</th>\n",
       "      <th>Humidity</th>\n",
       "      <th>Wind Speed (km/h)</th>\n",
       "      <th>Wind Bearing (degrees)</th>\n",
       "      <th>Visibility (km)</th>\n",
       "      <th>Loud Cover</th>\n",
       "      <th>Pressure (millibars)</th>\n",
       "      <th>Daily Summary</th>\n",
       "    </tr>\n",
       "  </thead>\n",
       "  <tbody>\n",
       "    <tr>\n",
       "      <th>0</th>\n",
       "      <td>2006-04-01 00:00:00.000 +0200</td>\n",
       "      <td>Partly Cloudy</td>\n",
       "      <td>rain</td>\n",
       "      <td>7.388889</td>\n",
       "      <td>0.89</td>\n",
       "      <td>14.1197</td>\n",
       "      <td>251.0</td>\n",
       "      <td>15.8263</td>\n",
       "      <td>0.0</td>\n",
       "      <td>1015.13</td>\n",
       "      <td>Partly cloudy throughout the day.</td>\n",
       "    </tr>\n",
       "    <tr>\n",
       "      <th>1</th>\n",
       "      <td>2006-04-01 01:00:00.000 +0200</td>\n",
       "      <td>Partly Cloudy</td>\n",
       "      <td>rain</td>\n",
       "      <td>7.227778</td>\n",
       "      <td>0.86</td>\n",
       "      <td>14.2646</td>\n",
       "      <td>259.0</td>\n",
       "      <td>15.8263</td>\n",
       "      <td>0.0</td>\n",
       "      <td>1015.63</td>\n",
       "      <td>Partly cloudy throughout the day.</td>\n",
       "    </tr>\n",
       "    <tr>\n",
       "      <th>2</th>\n",
       "      <td>2006-04-01 02:00:00.000 +0200</td>\n",
       "      <td>Mostly Cloudy</td>\n",
       "      <td>rain</td>\n",
       "      <td>9.377778</td>\n",
       "      <td>0.89</td>\n",
       "      <td>3.9284</td>\n",
       "      <td>204.0</td>\n",
       "      <td>14.9569</td>\n",
       "      <td>0.0</td>\n",
       "      <td>1015.94</td>\n",
       "      <td>Partly cloudy throughout the day.</td>\n",
       "    </tr>\n",
       "    <tr>\n",
       "      <th>3</th>\n",
       "      <td>2006-04-01 03:00:00.000 +0200</td>\n",
       "      <td>Partly Cloudy</td>\n",
       "      <td>rain</td>\n",
       "      <td>5.944444</td>\n",
       "      <td>0.83</td>\n",
       "      <td>14.1036</td>\n",
       "      <td>269.0</td>\n",
       "      <td>15.8263</td>\n",
       "      <td>0.0</td>\n",
       "      <td>1016.41</td>\n",
       "      <td>Partly cloudy throughout the day.</td>\n",
       "    </tr>\n",
       "    <tr>\n",
       "      <th>4</th>\n",
       "      <td>2006-04-01 04:00:00.000 +0200</td>\n",
       "      <td>Mostly Cloudy</td>\n",
       "      <td>rain</td>\n",
       "      <td>6.977778</td>\n",
       "      <td>0.83</td>\n",
       "      <td>11.0446</td>\n",
       "      <td>259.0</td>\n",
       "      <td>15.8263</td>\n",
       "      <td>0.0</td>\n",
       "      <td>1016.51</td>\n",
       "      <td>Partly cloudy throughout the day.</td>\n",
       "    </tr>\n",
       "  </tbody>\n",
       "</table>\n",
       "</div>"
      ],
      "text/plain": [
       "                  Formatted Date        Summary Precip Type  \\\n",
       "0  2006-04-01 00:00:00.000 +0200  Partly Cloudy        rain   \n",
       "1  2006-04-01 01:00:00.000 +0200  Partly Cloudy        rain   \n",
       "2  2006-04-01 02:00:00.000 +0200  Mostly Cloudy        rain   \n",
       "3  2006-04-01 03:00:00.000 +0200  Partly Cloudy        rain   \n",
       "4  2006-04-01 04:00:00.000 +0200  Mostly Cloudy        rain   \n",
       "\n",
       "   Apparent Temperature (C)  Humidity  Wind Speed (km/h)  \\\n",
       "0                  7.388889      0.89            14.1197   \n",
       "1                  7.227778      0.86            14.2646   \n",
       "2                  9.377778      0.89             3.9284   \n",
       "3                  5.944444      0.83            14.1036   \n",
       "4                  6.977778      0.83            11.0446   \n",
       "\n",
       "   Wind Bearing (degrees)  Visibility (km)  Loud Cover  Pressure (millibars)  \\\n",
       "0                   251.0          15.8263         0.0               1015.13   \n",
       "1                   259.0          15.8263         0.0               1015.63   \n",
       "2                   204.0          14.9569         0.0               1015.94   \n",
       "3                   269.0          15.8263         0.0               1016.41   \n",
       "4                   259.0          15.8263         0.0               1016.51   \n",
       "\n",
       "                       Daily Summary  \n",
       "0  Partly cloudy throughout the day.  \n",
       "1  Partly cloudy throughout the day.  \n",
       "2  Partly cloudy throughout the day.  \n",
       "3  Partly cloudy throughout the day.  \n",
       "4  Partly cloudy throughout the day.  "
      ]
     },
     "execution_count": 22,
     "metadata": {},
     "output_type": "execute_result"
    }
   ],
   "source": [
    "dataset.head()"
   ]
  },
  {
   "cell_type": "code",
   "execution_count": 39,
   "id": "936f6c66",
   "metadata": {},
   "outputs": [
    {
     "name": "stderr",
     "output_type": "stream",
     "text": [
      "/home/anish/anaconda3/envs/tfgpu/lib/python3.8/site-packages/dask/dataframe/core.py:5077: UserWarning: \n",
      "You did not provide metadata, so Dask is running your function on a small dataset to guess output types. It is possible that Dask will guess incorrectly.\n",
      "To provide an explicit output types or to silence this message, please provide the `meta=` keyword, as described in the map or apply function that you are using.\n",
      "  Before: .apply(func)\n",
      "  After:  .apply(func, meta=(None, 'int64'))\n",
      "\n",
      "  warnings.warn(meta_warning(meta))\n"
     ]
    }
   ],
   "source": [
    "def func(row):   \n",
    "    if row['Precip Type'] == 'rain':\n",
    "        return 1  \n",
    "    elif row['Precip Type'] == 'snow':\n",
    "        return 2\n",
    "    else:\n",
    "        return 0\n",
    "\n",
    "dataset['PrecipNo'] = dataset.apply(func, axis=1)"
   ]
  },
  {
   "cell_type": "code",
   "execution_count": 40,
   "id": "27e6787b",
   "metadata": {},
   "outputs": [
    {
     "data": {
      "text/html": [
       "<div>\n",
       "<style scoped>\n",
       "    .dataframe tbody tr th:only-of-type {\n",
       "        vertical-align: middle;\n",
       "    }\n",
       "\n",
       "    .dataframe tbody tr th {\n",
       "        vertical-align: top;\n",
       "    }\n",
       "\n",
       "    .dataframe thead th {\n",
       "        text-align: right;\n",
       "    }\n",
       "</style>\n",
       "<table border=\"1\" class=\"dataframe\">\n",
       "  <thead>\n",
       "    <tr style=\"text-align: right;\">\n",
       "      <th></th>\n",
       "      <th>Formatted Date</th>\n",
       "      <th>Summary</th>\n",
       "      <th>Precip Type</th>\n",
       "      <th>Apparent Temperature (C)</th>\n",
       "      <th>Humidity</th>\n",
       "      <th>Wind Speed (km/h)</th>\n",
       "      <th>Wind Bearing (degrees)</th>\n",
       "      <th>Visibility (km)</th>\n",
       "      <th>Loud Cover</th>\n",
       "      <th>Pressure (millibars)</th>\n",
       "      <th>Daily Summary</th>\n",
       "      <th>PrecipNo</th>\n",
       "    </tr>\n",
       "  </thead>\n",
       "  <tbody>\n",
       "    <tr>\n",
       "      <th>0</th>\n",
       "      <td>2006-04-01 00:00:00.000 +0200</td>\n",
       "      <td>Partly Cloudy</td>\n",
       "      <td>rain</td>\n",
       "      <td>7.388889</td>\n",
       "      <td>0.89</td>\n",
       "      <td>14.1197</td>\n",
       "      <td>251.0</td>\n",
       "      <td>15.8263</td>\n",
       "      <td>0.0</td>\n",
       "      <td>1015.13</td>\n",
       "      <td>Partly cloudy throughout the day.</td>\n",
       "      <td>1</td>\n",
       "    </tr>\n",
       "    <tr>\n",
       "      <th>1</th>\n",
       "      <td>2006-04-01 01:00:00.000 +0200</td>\n",
       "      <td>Partly Cloudy</td>\n",
       "      <td>rain</td>\n",
       "      <td>7.227778</td>\n",
       "      <td>0.86</td>\n",
       "      <td>14.2646</td>\n",
       "      <td>259.0</td>\n",
       "      <td>15.8263</td>\n",
       "      <td>0.0</td>\n",
       "      <td>1015.63</td>\n",
       "      <td>Partly cloudy throughout the day.</td>\n",
       "      <td>1</td>\n",
       "    </tr>\n",
       "    <tr>\n",
       "      <th>2</th>\n",
       "      <td>2006-04-01 02:00:00.000 +0200</td>\n",
       "      <td>Mostly Cloudy</td>\n",
       "      <td>rain</td>\n",
       "      <td>9.377778</td>\n",
       "      <td>0.89</td>\n",
       "      <td>3.9284</td>\n",
       "      <td>204.0</td>\n",
       "      <td>14.9569</td>\n",
       "      <td>0.0</td>\n",
       "      <td>1015.94</td>\n",
       "      <td>Partly cloudy throughout the day.</td>\n",
       "      <td>1</td>\n",
       "    </tr>\n",
       "    <tr>\n",
       "      <th>3</th>\n",
       "      <td>2006-04-01 03:00:00.000 +0200</td>\n",
       "      <td>Partly Cloudy</td>\n",
       "      <td>rain</td>\n",
       "      <td>5.944444</td>\n",
       "      <td>0.83</td>\n",
       "      <td>14.1036</td>\n",
       "      <td>269.0</td>\n",
       "      <td>15.8263</td>\n",
       "      <td>0.0</td>\n",
       "      <td>1016.41</td>\n",
       "      <td>Partly cloudy throughout the day.</td>\n",
       "      <td>1</td>\n",
       "    </tr>\n",
       "    <tr>\n",
       "      <th>4</th>\n",
       "      <td>2006-04-01 04:00:00.000 +0200</td>\n",
       "      <td>Mostly Cloudy</td>\n",
       "      <td>rain</td>\n",
       "      <td>6.977778</td>\n",
       "      <td>0.83</td>\n",
       "      <td>11.0446</td>\n",
       "      <td>259.0</td>\n",
       "      <td>15.8263</td>\n",
       "      <td>0.0</td>\n",
       "      <td>1016.51</td>\n",
       "      <td>Partly cloudy throughout the day.</td>\n",
       "      <td>1</td>\n",
       "    </tr>\n",
       "  </tbody>\n",
       "</table>\n",
       "</div>"
      ],
      "text/plain": [
       "                  Formatted Date        Summary Precip Type  \\\n",
       "0  2006-04-01 00:00:00.000 +0200  Partly Cloudy        rain   \n",
       "1  2006-04-01 01:00:00.000 +0200  Partly Cloudy        rain   \n",
       "2  2006-04-01 02:00:00.000 +0200  Mostly Cloudy        rain   \n",
       "3  2006-04-01 03:00:00.000 +0200  Partly Cloudy        rain   \n",
       "4  2006-04-01 04:00:00.000 +0200  Mostly Cloudy        rain   \n",
       "\n",
       "   Apparent Temperature (C)  Humidity  Wind Speed (km/h)  \\\n",
       "0                  7.388889      0.89            14.1197   \n",
       "1                  7.227778      0.86            14.2646   \n",
       "2                  9.377778      0.89             3.9284   \n",
       "3                  5.944444      0.83            14.1036   \n",
       "4                  6.977778      0.83            11.0446   \n",
       "\n",
       "   Wind Bearing (degrees)  Visibility (km)  Loud Cover  Pressure (millibars)  \\\n",
       "0                   251.0          15.8263         0.0               1015.13   \n",
       "1                   259.0          15.8263         0.0               1015.63   \n",
       "2                   204.0          14.9569         0.0               1015.94   \n",
       "3                   269.0          15.8263         0.0               1016.41   \n",
       "4                   259.0          15.8263         0.0               1016.51   \n",
       "\n",
       "                       Daily Summary  PrecipNo  \n",
       "0  Partly cloudy throughout the day.         1  \n",
       "1  Partly cloudy throughout the day.         1  \n",
       "2  Partly cloudy throughout the day.         1  \n",
       "3  Partly cloudy throughout the day.         1  \n",
       "4  Partly cloudy throughout the day.         1  "
      ]
     },
     "execution_count": 40,
     "metadata": {},
     "output_type": "execute_result"
    }
   ],
   "source": [
    "dataset.head()"
   ]
  },
  {
   "cell_type": "code",
   "execution_count": 12,
   "id": "d4164c8e",
   "metadata": {},
   "outputs": [],
   "source": [
    "# dataset = dataset[dataset[\"Precip Type\"].compute().notna()]"
   ]
  },
  {
   "cell_type": "code",
   "execution_count": 41,
   "id": "2270f9c6",
   "metadata": {},
   "outputs": [],
   "source": [
    "train_y = dataset[[\"Apparent Temperature (C)\"]]\n",
    "train_x = dataset.loc[:, ~dataset.columns.isin([\"Apparent Temperature (C)\"])]\n",
    "train_x = train_x.drop([\"Summary\", \"Precip Type\", \"Formatted Date\", \"Daily Summary\", \"Loud Cover\"], axis=1).compute()"
   ]
  },
  {
   "cell_type": "code",
   "execution_count": 42,
   "id": "ca010187",
   "metadata": {},
   "outputs": [
    {
     "data": {
      "text/html": [
       "<div>\n",
       "<style scoped>\n",
       "    .dataframe tbody tr th:only-of-type {\n",
       "        vertical-align: middle;\n",
       "    }\n",
       "\n",
       "    .dataframe tbody tr th {\n",
       "        vertical-align: top;\n",
       "    }\n",
       "\n",
       "    .dataframe thead th {\n",
       "        text-align: right;\n",
       "    }\n",
       "</style>\n",
       "<table border=\"1\" class=\"dataframe\">\n",
       "  <thead>\n",
       "    <tr style=\"text-align: right;\">\n",
       "      <th></th>\n",
       "      <th>Humidity</th>\n",
       "      <th>Wind Speed (km/h)</th>\n",
       "      <th>Wind Bearing (degrees)</th>\n",
       "      <th>Visibility (km)</th>\n",
       "      <th>Pressure (millibars)</th>\n",
       "      <th>PrecipNo</th>\n",
       "    </tr>\n",
       "  </thead>\n",
       "  <tbody>\n",
       "    <tr>\n",
       "      <th>0</th>\n",
       "      <td>0.89</td>\n",
       "      <td>14.1197</td>\n",
       "      <td>251.0</td>\n",
       "      <td>15.8263</td>\n",
       "      <td>1015.13</td>\n",
       "      <td>1</td>\n",
       "    </tr>\n",
       "    <tr>\n",
       "      <th>1</th>\n",
       "      <td>0.86</td>\n",
       "      <td>14.2646</td>\n",
       "      <td>259.0</td>\n",
       "      <td>15.8263</td>\n",
       "      <td>1015.63</td>\n",
       "      <td>1</td>\n",
       "    </tr>\n",
       "    <tr>\n",
       "      <th>2</th>\n",
       "      <td>0.89</td>\n",
       "      <td>3.9284</td>\n",
       "      <td>204.0</td>\n",
       "      <td>14.9569</td>\n",
       "      <td>1015.94</td>\n",
       "      <td>1</td>\n",
       "    </tr>\n",
       "    <tr>\n",
       "      <th>3</th>\n",
       "      <td>0.83</td>\n",
       "      <td>14.1036</td>\n",
       "      <td>269.0</td>\n",
       "      <td>15.8263</td>\n",
       "      <td>1016.41</td>\n",
       "      <td>1</td>\n",
       "    </tr>\n",
       "    <tr>\n",
       "      <th>4</th>\n",
       "      <td>0.83</td>\n",
       "      <td>11.0446</td>\n",
       "      <td>259.0</td>\n",
       "      <td>15.8263</td>\n",
       "      <td>1016.51</td>\n",
       "      <td>1</td>\n",
       "    </tr>\n",
       "  </tbody>\n",
       "</table>\n",
       "</div>"
      ],
      "text/plain": [
       "   Humidity  Wind Speed (km/h)  Wind Bearing (degrees)  Visibility (km)  \\\n",
       "0      0.89            14.1197                   251.0          15.8263   \n",
       "1      0.86            14.2646                   259.0          15.8263   \n",
       "2      0.89             3.9284                   204.0          14.9569   \n",
       "3      0.83            14.1036                   269.0          15.8263   \n",
       "4      0.83            11.0446                   259.0          15.8263   \n",
       "\n",
       "   Pressure (millibars)  PrecipNo  \n",
       "0               1015.13         1  \n",
       "1               1015.63         1  \n",
       "2               1015.94         1  \n",
       "3               1016.41         1  \n",
       "4               1016.51         1  "
      ]
     },
     "execution_count": 42,
     "metadata": {},
     "output_type": "execute_result"
    }
   ],
   "source": [
    "train_x.head()"
   ]
  },
  {
   "cell_type": "code",
   "execution_count": 43,
   "id": "ce5507a2",
   "metadata": {},
   "outputs": [
    {
     "data": {
      "text/html": [
       "<div>\n",
       "<style scoped>\n",
       "    .dataframe tbody tr th:only-of-type {\n",
       "        vertical-align: middle;\n",
       "    }\n",
       "\n",
       "    .dataframe tbody tr th {\n",
       "        vertical-align: top;\n",
       "    }\n",
       "\n",
       "    .dataframe thead th {\n",
       "        text-align: right;\n",
       "    }\n",
       "</style>\n",
       "<table border=\"1\" class=\"dataframe\">\n",
       "  <thead>\n",
       "    <tr style=\"text-align: right;\">\n",
       "      <th></th>\n",
       "      <th>Apparent Temperature (C)</th>\n",
       "    </tr>\n",
       "  </thead>\n",
       "  <tbody>\n",
       "    <tr>\n",
       "      <th>0</th>\n",
       "      <td>7.388889</td>\n",
       "    </tr>\n",
       "    <tr>\n",
       "      <th>1</th>\n",
       "      <td>7.227778</td>\n",
       "    </tr>\n",
       "    <tr>\n",
       "      <th>2</th>\n",
       "      <td>9.377778</td>\n",
       "    </tr>\n",
       "    <tr>\n",
       "      <th>3</th>\n",
       "      <td>5.944444</td>\n",
       "    </tr>\n",
       "    <tr>\n",
       "      <th>4</th>\n",
       "      <td>6.977778</td>\n",
       "    </tr>\n",
       "  </tbody>\n",
       "</table>\n",
       "</div>"
      ],
      "text/plain": [
       "   Apparent Temperature (C)\n",
       "0                  7.388889\n",
       "1                  7.227778\n",
       "2                  9.377778\n",
       "3                  5.944444\n",
       "4                  6.977778"
      ]
     },
     "execution_count": 43,
     "metadata": {},
     "output_type": "execute_result"
    }
   ],
   "source": [
    "train_y.head()"
   ]
  },
  {
   "cell_type": "code",
   "execution_count": 44,
   "id": "f1c320db",
   "metadata": {},
   "outputs": [
    {
     "data": {
      "text/plain": [
       "96453"
      ]
     },
     "execution_count": 44,
     "metadata": {},
     "output_type": "execute_result"
    }
   ],
   "source": [
    "len(train_x)\n",
    "len(train_y)"
   ]
  },
  {
   "cell_type": "code",
   "execution_count": 45,
   "id": "0119b755",
   "metadata": {},
   "outputs": [
    {
     "data": {
      "text/plain": [
       "6"
      ]
     },
     "execution_count": 45,
     "metadata": {},
     "output_type": "execute_result"
    }
   ],
   "source": [
    "len(train_x.columns)"
   ]
  },
  {
   "cell_type": "code",
   "execution_count": null,
   "id": "16f6356c",
   "metadata": {},
   "outputs": [],
   "source": []
  },
  {
   "cell_type": "code",
   "execution_count": 97,
   "id": "632a5aab",
   "metadata": {},
   "outputs": [],
   "source": [
    "import numpy as np\n",
    "import tensorflow as tf\n",
    "from sklearn import preprocessing\n",
    "from tensorflow.keras.callbacks import LearningRateScheduler\n",
    "from tensorflow.keras.models import Sequential, Model\n",
    "from tensorflow.keras.layers import Dense, Concatenate, Flatten, Input, Conv2D\n",
    "from tensorflow.keras.activations import tanh\n",
    "from tensorflow.keras.optimizers import Adam\n",
    "from tensorflow.keras.models import load_model\n",
    "from tensorflow.keras.wrappers.scikit_learn import KerasRegressor"
   ]
  },
  {
   "cell_type": "code",
   "execution_count": 63,
   "id": "0fc0b82b",
   "metadata": {},
   "outputs": [],
   "source": [
    "tf.keras.backend.clear_session()\n",
    "# model = Sequential([\n",
    "#     Dense(32, activation = \"relu\"),\n",
    "#     Dense(100, activation = \"relu\"),\n",
    "#     Dense(32, activation = \"relu\"),\n",
    "#     Dense(4)\n",
    "# ])\n",
    "\n",
    "# model = Sequential([\n",
    "#     Dense(32, activation = \"tanh\", input_shape = [6]),\n",
    "#     Dense(32, activation = \"tanh\"),\n",
    "#     Dense(1)\n",
    "# ])\n",
    "\n",
    "# input_layer = Input((5), name = \"Input_Layer\")\n",
    "# x = Dense(32, activation = \"tanh\")(input_layer)\n",
    "# x = Dense(32, activation = \"tanh\")(x)\n",
    "# final_layer = Dense(1)(x)\n",
    "\n",
    "# model = Model(inputs = [input_layer], outputs = [final_layer])\n",
    "\n",
    "# model = Sequential([\n",
    "#     Dense(16, activation = \"relu\"),\n",
    "#     Dense(16, activation = \"relu\"),\n",
    "#     Dense(4)\n",
    "# ])\n",
    "model = Sequential([\n",
    "    Dense(64, activation = \"relu\", input_shape = [6]),\n",
    "    Dense(256, activation = \"relu\"),\n",
    "    Dense(128, activation = \"relu\"),\n",
    "    Dense(32, activation = \"relu\"),\n",
    "    Dense(1)\n",
    "])"
   ]
  },
  {
   "cell_type": "code",
   "execution_count": 64,
   "id": "1baa4ea6",
   "metadata": {
    "scrolled": true
   },
   "outputs": [
    {
     "name": "stdout",
     "output_type": "stream",
     "text": [
      "Model: \"sequential\"\n",
      "_________________________________________________________________\n",
      "Layer (type)                 Output Shape              Param #   \n",
      "=================================================================\n",
      "dense (Dense)                (None, 64)                448       \n",
      "_________________________________________________________________\n",
      "dense_1 (Dense)              (None, 256)               16640     \n",
      "_________________________________________________________________\n",
      "dense_2 (Dense)              (None, 128)               32896     \n",
      "_________________________________________________________________\n",
      "dense_3 (Dense)              (None, 32)                4128      \n",
      "_________________________________________________________________\n",
      "dense_4 (Dense)              (None, 1)                 33        \n",
      "=================================================================\n",
      "Total params: 54,145\n",
      "Trainable params: 54,145\n",
      "Non-trainable params: 0\n",
      "_________________________________________________________________\n"
     ]
    }
   ],
   "source": [
    "model.summary()"
   ]
  },
  {
   "cell_type": "code",
   "execution_count": 65,
   "id": "379a997b",
   "metadata": {},
   "outputs": [],
   "source": [
    "adam_optimizer = Adam(lr = 1e-3)\n",
    "model.compile(loss = \"mean_squared_error\",\n",
    "             optimizer = adam_optimizer,\n",
    "             metrics = [tf.keras.metrics.MeanAbsoluteError(), \"acc\"])"
   ]
  },
  {
   "cell_type": "code",
   "execution_count": 66,
   "id": "19dacb27",
   "metadata": {},
   "outputs": [],
   "source": [
    "# print(train_x.to_records())\n",
    "# df.map_partitions(np.asarray)\n",
    "# dask.array<asarray, shape=(nan, 4), dtype=object, chunksize=(nan, 4)>\n",
    "\n",
    "# df.to_dask_array()\n",
    "\n",
    "# df.values\n",
    "\n",
    "# df.to_records()"
   ]
  },
  {
   "cell_type": "code",
   "execution_count": 67,
   "id": "3d663ec6",
   "metadata": {},
   "outputs": [
    {
     "data": {
      "text/plain": [
       "array([[8.90000e-01, 1.41197e+01, 2.51000e+02, 1.58263e+01, 1.01513e+03,\n",
       "        1.00000e+00],\n",
       "       [8.60000e-01, 1.42646e+01, 2.59000e+02, 1.58263e+01, 1.01563e+03,\n",
       "        1.00000e+00],\n",
       "       [8.90000e-01, 3.92840e+00, 2.04000e+02, 1.49569e+01, 1.01594e+03,\n",
       "        1.00000e+00],\n",
       "       ...,\n",
       "       [5.60000e-01, 8.98380e+00, 3.00000e+01, 1.61000e+01, 1.01566e+03,\n",
       "        1.00000e+00],\n",
       "       [6.00000e-01, 1.05294e+01, 2.00000e+01, 1.61000e+01, 1.01595e+03,\n",
       "        1.00000e+00],\n",
       "       [6.10000e-01, 5.87650e+00, 3.90000e+01, 1.55204e+01, 1.01616e+03,\n",
       "        1.00000e+00]])"
      ]
     },
     "execution_count": 67,
     "metadata": {},
     "output_type": "execute_result"
    }
   ],
   "source": [
    "train_x.values"
   ]
  },
  {
   "cell_type": "code",
   "execution_count": 68,
   "id": "762c10cb",
   "metadata": {},
   "outputs": [
    {
     "data": {
      "text/plain": [
       "numpy.ndarray"
      ]
     },
     "execution_count": 68,
     "metadata": {},
     "output_type": "execute_result"
    }
   ],
   "source": [
    "type(train_x.values)"
   ]
  },
  {
   "cell_type": "code",
   "execution_count": null,
   "id": "074f71fe",
   "metadata": {},
   "outputs": [],
   "source": []
  },
  {
   "cell_type": "code",
   "execution_count": 69,
   "id": "fd3b966b",
   "metadata": {},
   "outputs": [
    {
     "name": "stdout",
     "output_type": "stream",
     "text": [
      "Epoch 1/80\n",
      "1508/1508 [==============================] - 2s 1ms/step - loss: 120.2957 - mean_absolute_error: 8.9949 - acc: 1.3518e-04\n",
      "Epoch 2/80\n",
      "1508/1508 [==============================] - 2s 1ms/step - loss: 88.6541 - mean_absolute_error: 7.6389 - acc: 3.8338e-04\n",
      "Epoch 3/80\n",
      "1508/1508 [==============================] - 2s 1ms/step - loss: 76.5140 - mean_absolute_error: 7.0525 - acc: 3.7562e-04\n",
      "Epoch 4/80\n",
      "1508/1508 [==============================] - 2s 1ms/step - loss: 60.8814 - mean_absolute_error: 6.2799 - acc: 7.6628e-04\n",
      "Epoch 5/80\n",
      "1508/1508 [==============================] - 2s 1ms/step - loss: 53.6040 - mean_absolute_error: 5.8901 - acc: 7.4068e-04\n",
      "Epoch 6/80\n",
      "1508/1508 [==============================] - 2s 1ms/step - loss: 51.1399 - mean_absolute_error: 5.7399 - acc: 6.7023e-04\n",
      "Epoch 7/80\n",
      "1508/1508 [==============================] - 2s 1ms/step - loss: 51.2970 - mean_absolute_error: 5.7627 - acc: 6.9011e-04\n",
      "Epoch 8/80\n",
      "1508/1508 [==============================] - 2s 1ms/step - loss: 49.8620 - mean_absolute_error: 5.6718 - acc: 6.0923e-04\n",
      "Epoch 9/80\n",
      "1508/1508 [==============================] - 2s 1ms/step - loss: 49.4308 - mean_absolute_error: 5.6405 - acc: 6.1203e-04\n",
      "Epoch 10/80\n",
      "1508/1508 [==============================] - 2s 1ms/step - loss: 48.3941 - mean_absolute_error: 5.5906 - acc: 7.2985e-04\n",
      "Epoch 11/80\n",
      "1508/1508 [==============================] - 2s 1ms/step - loss: 47.2398 - mean_absolute_error: 5.4969 - acc: 6.1178e-04\n",
      "Epoch 12/80\n",
      "1508/1508 [==============================] - 2s 1ms/step - loss: 45.5792 - mean_absolute_error: 5.3991 - acc: 7.4846e-04\n",
      "Epoch 13/80\n",
      "1508/1508 [==============================] - 2s 1ms/step - loss: 45.6699 - mean_absolute_error: 5.3908 - acc: 6.4971e-04\n",
      "Epoch 14/80\n",
      "1508/1508 [==============================] - 2s 1ms/step - loss: 45.8658 - mean_absolute_error: 5.4029 - acc: 5.3747e-04\n",
      "Epoch 15/80\n",
      "1508/1508 [==============================] - 2s 1ms/step - loss: 44.9800 - mean_absolute_error: 5.3465 - acc: 6.4021e-04\n",
      "Epoch 16/80\n",
      "1508/1508 [==============================] - 2s 1ms/step - loss: 45.4942 - mean_absolute_error: 5.3829 - acc: 5.3952e-04\n",
      "Epoch 17/80\n",
      "1508/1508 [==============================] - 2s 1ms/step - loss: 45.4938 - mean_absolute_error: 5.3853 - acc: 6.0775e-04\n",
      "Epoch 18/80\n",
      "1508/1508 [==============================] - 2s 1ms/step - loss: 45.9245 - mean_absolute_error: 5.4201 - acc: 7.0234e-04\n",
      "Epoch 19/80\n",
      "1508/1508 [==============================] - 2s 1ms/step - loss: 44.5650 - mean_absolute_error: 5.3200 - acc: 6.7683e-04\n",
      "Epoch 20/80\n",
      "1508/1508 [==============================] - 2s 1ms/step - loss: 45.3495 - mean_absolute_error: 5.3617 - acc: 7.8121e-04\n",
      "Epoch 21/80\n",
      "1508/1508 [==============================] - 2s 1ms/step - loss: 45.3635 - mean_absolute_error: 5.3747 - acc: 7.9952e-04\n",
      "Epoch 22/80\n",
      "1508/1508 [==============================] - 2s 1ms/step - loss: 44.3931 - mean_absolute_error: 5.3172 - acc: 8.3850e-04\n",
      "Epoch 23/80\n",
      "1508/1508 [==============================] - 2s 1ms/step - loss: 44.3496 - mean_absolute_error: 5.3224 - acc: 7.1497e-04\n",
      "Epoch 24/80\n",
      "1508/1508 [==============================] - 2s 1ms/step - loss: 44.2168 - mean_absolute_error: 5.2940 - acc: 7.7856e-04\n",
      "Epoch 25/80\n",
      "1508/1508 [==============================] - 2s 1ms/step - loss: 44.5385 - mean_absolute_error: 5.3138 - acc: 7.1390e-04\n",
      "Epoch 26/80\n",
      "1508/1508 [==============================] - 2s 1ms/step - loss: 44.5054 - mean_absolute_error: 5.3250 - acc: 6.1524e-04\n",
      "Epoch 27/80\n",
      "1508/1508 [==============================] - 2s 1ms/step - loss: 44.1899 - mean_absolute_error: 5.2862 - acc: 7.8167e-04\n",
      "Epoch 28/80\n",
      "1508/1508 [==============================] - 2s 1ms/step - loss: 45.4323 - mean_absolute_error: 5.3580 - acc: 7.0183e-04\n",
      "Epoch 29/80\n",
      "1508/1508 [==============================] - 2s 1ms/step - loss: 43.5410 - mean_absolute_error: 5.2586 - acc: 7.4103e-04\n",
      "Epoch 30/80\n",
      "1508/1508 [==============================] - 2s 1ms/step - loss: 43.5557 - mean_absolute_error: 5.2506 - acc: 7.7500e-04\n",
      "Epoch 31/80\n",
      "1508/1508 [==============================] - 2s 1ms/step - loss: 43.9049 - mean_absolute_error: 5.2843 - acc: 6.2378e-04\n",
      "Epoch 32/80\n",
      "1508/1508 [==============================] - 2s 1ms/step - loss: 44.1320 - mean_absolute_error: 5.2816 - acc: 6.9760e-04\n",
      "Epoch 33/80\n",
      "1508/1508 [==============================] - 2s 1ms/step - loss: 43.2631 - mean_absolute_error: 5.2307 - acc: 6.6755e-04\n",
      "Epoch 34/80\n",
      "1508/1508 [==============================] - 2s 1ms/step - loss: 43.3306 - mean_absolute_error: 5.2344 - acc: 7.7257e-04\n",
      "Epoch 35/80\n",
      "1508/1508 [==============================] - 2s 1ms/step - loss: 43.0101 - mean_absolute_error: 5.2226 - acc: 7.1998e-04\n",
      "Epoch 36/80\n",
      "1508/1508 [==============================] - 2s 1ms/step - loss: 42.9093 - mean_absolute_error: 5.2099 - acc: 6.6520e-04\n",
      "Epoch 37/80\n",
      "1508/1508 [==============================] - 2s 1ms/step - loss: 42.2908 - mean_absolute_error: 5.1710 - acc: 6.8414e-04\n",
      "Epoch 38/80\n",
      "1508/1508 [==============================] - 2s 1ms/step - loss: 42.6659 - mean_absolute_error: 5.1956 - acc: 7.2753e-04\n",
      "Epoch 39/80\n",
      "1508/1508 [==============================] - 2s 1ms/step - loss: 42.4707 - mean_absolute_error: 5.1951 - acc: 7.0325e-04\n",
      "Epoch 40/80\n",
      "1508/1508 [==============================] - 2s 1ms/step - loss: 44.0291 - mean_absolute_error: 5.2821 - acc: 6.4414e-04\n",
      "Epoch 41/80\n",
      "1508/1508 [==============================] - 2s 1ms/step - loss: 42.4971 - mean_absolute_error: 5.1869 - acc: 7.4824e-04\n",
      "Epoch 42/80\n",
      "1508/1508 [==============================] - 2s 1ms/step - loss: 42.3807 - mean_absolute_error: 5.1864 - acc: 7.1418e-04\n",
      "Epoch 43/80\n",
      "1508/1508 [==============================] - 2s 1ms/step - loss: 42.4675 - mean_absolute_error: 5.1847 - acc: 6.3521e-04\n",
      "Epoch 44/80\n",
      "1508/1508 [==============================] - 2s 1ms/step - loss: 42.2744 - mean_absolute_error: 5.1700 - acc: 6.7271e-04\n",
      "Epoch 45/80\n",
      "1508/1508 [==============================] - 2s 1ms/step - loss: 42.7605 - mean_absolute_error: 5.2010 - acc: 6.2593e-04\n",
      "Epoch 46/80\n",
      "1508/1508 [==============================] - 2s 1ms/step - loss: 42.4120 - mean_absolute_error: 5.1891 - acc: 6.9289e-04\n",
      "Epoch 47/80\n",
      "1508/1508 [==============================] - 2s 1ms/step - loss: 42.5074 - mean_absolute_error: 5.1923 - acc: 6.9125e-04\n",
      "Epoch 48/80\n",
      "1508/1508 [==============================] - 2s 1ms/step - loss: 42.0703 - mean_absolute_error: 5.1505 - acc: 7.5223e-04\n",
      "Epoch 49/80\n",
      "1508/1508 [==============================] - 2s 1ms/step - loss: 42.0922 - mean_absolute_error: 5.1598 - acc: 5.8793e-04\n",
      "Epoch 50/80\n",
      "1508/1508 [==============================] - 2s 1ms/step - loss: 41.9500 - mean_absolute_error: 5.1643 - acc: 6.4010e-04\n",
      "Epoch 51/80\n",
      "1508/1508 [==============================] - 2s 1ms/step - loss: 41.5684 - mean_absolute_error: 5.1284 - acc: 7.8102e-04\n",
      "Epoch 52/80\n",
      "1508/1508 [==============================] - 2s 1ms/step - loss: 41.7323 - mean_absolute_error: 5.1369 - acc: 7.3995e-04\n",
      "Epoch 53/80\n",
      "1508/1508 [==============================] - 2s 1ms/step - loss: 41.8347 - mean_absolute_error: 5.1455 - acc: 5.7442e-04\n",
      "Epoch 54/80\n",
      "1508/1508 [==============================] - 2s 1ms/step - loss: 42.5075 - mean_absolute_error: 5.1827 - acc: 5.9881e-04\n",
      "Epoch 55/80\n",
      "1508/1508 [==============================] - 2s 1ms/step - loss: 41.7048 - mean_absolute_error: 5.1380 - acc: 9.1195e-04\n",
      "Epoch 56/80\n",
      "1508/1508 [==============================] - 2s 1ms/step - loss: 41.4203 - mean_absolute_error: 5.1173 - acc: 7.6295e-04\n",
      "Epoch 57/80\n",
      "1508/1508 [==============================] - 2s 1ms/step - loss: 41.9694 - mean_absolute_error: 5.1592 - acc: 7.9845e-04\n",
      "Epoch 58/80\n",
      "1508/1508 [==============================] - 2s 1ms/step - loss: 41.5400 - mean_absolute_error: 5.1189 - acc: 7.7593e-04\n",
      "Epoch 59/80\n",
      "1508/1508 [==============================] - 2s 1ms/step - loss: 41.9144 - mean_absolute_error: 5.1440 - acc: 7.1851e-04\n",
      "Epoch 60/80\n",
      "1508/1508 [==============================] - 2s 1ms/step - loss: 41.5256 - mean_absolute_error: 5.1271 - acc: 6.9845e-04\n",
      "Epoch 61/80\n",
      "1508/1508 [==============================] - 2s 1ms/step - loss: 41.3534 - mean_absolute_error: 5.1276 - acc: 8.9162e-04\n",
      "Epoch 62/80\n",
      "1508/1508 [==============================] - 2s 1ms/step - loss: 41.5347 - mean_absolute_error: 5.1345 - acc: 8.2031e-04\n",
      "Epoch 63/80\n",
      "1508/1508 [==============================] - 2s 1ms/step - loss: 41.9447 - mean_absolute_error: 5.1532 - acc: 6.8227e-04\n",
      "Epoch 64/80\n",
      "1508/1508 [==============================] - 2s 1ms/step - loss: 41.3850 - mean_absolute_error: 5.1175 - acc: 7.0745e-04\n",
      "Epoch 65/80\n",
      "1508/1508 [==============================] - 2s 1ms/step - loss: 41.8279 - mean_absolute_error: 5.1511 - acc: 6.3362e-04\n",
      "Epoch 66/80\n",
      "1508/1508 [==============================] - 2s 1ms/step - loss: 41.6448 - mean_absolute_error: 5.1345 - acc: 6.4247e-04\n",
      "Epoch 67/80\n",
      "1508/1508 [==============================] - 2s 1ms/step - loss: 41.4691 - mean_absolute_error: 5.1195 - acc: 7.3561e-04\n",
      "Epoch 68/80\n",
      "1508/1508 [==============================] - 2s 1ms/step - loss: 41.9870 - mean_absolute_error: 5.1512 - acc: 7.0015e-04\n",
      "Epoch 69/80\n",
      "1508/1508 [==============================] - 2s 1ms/step - loss: 41.3742 - mean_absolute_error: 5.1184 - acc: 7.3304e-04\n",
      "Epoch 70/80\n",
      "1508/1508 [==============================] - 2s 1ms/step - loss: 41.2110 - mean_absolute_error: 5.0938 - acc: 6.8608e-04\n",
      "Epoch 71/80\n",
      "1508/1508 [==============================] - 2s 1ms/step - loss: 41.9939 - mean_absolute_error: 5.1535 - acc: 6.9102e-04\n",
      "Epoch 72/80\n",
      "1508/1508 [==============================] - 2s 1ms/step - loss: 41.5802 - mean_absolute_error: 5.1308 - acc: 8.8342e-04\n",
      "Epoch 73/80\n",
      "1508/1508 [==============================] - 2s 1ms/step - loss: 41.1047 - mean_absolute_error: 5.0889 - acc: 6.8469e-04\n",
      "Epoch 74/80\n",
      "1508/1508 [==============================] - 2s 1ms/step - loss: 41.5397 - mean_absolute_error: 5.1229 - acc: 8.9477e-04\n",
      "Epoch 75/80\n",
      "1508/1508 [==============================] - 2s 1ms/step - loss: 41.3545 - mean_absolute_error: 5.1248 - acc: 7.3339e-04\n",
      "Epoch 76/80\n",
      "1508/1508 [==============================] - 2s 1ms/step - loss: 40.9039 - mean_absolute_error: 5.0857 - acc: 6.2608e-04\n",
      "Epoch 77/80\n",
      "1508/1508 [==============================] - 2s 1ms/step - loss: 40.7354 - mean_absolute_error: 5.0716 - acc: 7.4185e-04\n",
      "Epoch 78/80\n",
      "1508/1508 [==============================] - 2s 1ms/step - loss: 41.0213 - mean_absolute_error: 5.0973 - acc: 8.0316e-04\n",
      "Epoch 79/80\n",
      "1508/1508 [==============================] - 2s 1ms/step - loss: 41.1331 - mean_absolute_error: 5.0940 - acc: 8.0186e-04\n",
      "Epoch 80/80\n",
      "1508/1508 [==============================] - 2s 1ms/step - loss: 41.1288 - mean_absolute_error: 5.1042 - acc: 9.0005e-04\n"
     ]
    }
   ],
   "source": [
    "history = model.fit(np.array(train_x.values), np.array(train_y.values), epochs=80, batch_size=64)"
   ]
  },
  {
   "cell_type": "code",
   "execution_count": 71,
   "id": "c2775c1f",
   "metadata": {},
   "outputs": [
    {
     "name": "stdout",
     "output_type": "stream",
     "text": [
      "dict_keys(['loss', 'mean_absolute_error', 'acc'])\n"
     ]
    }
   ],
   "source": [
    "print(history.history.keys())"
   ]
  },
  {
   "cell_type": "code",
   "execution_count": 72,
   "id": "af7c8e84",
   "metadata": {},
   "outputs": [
    {
     "data": {
      "image/png": "[encoded data removed]",
      "text/plain": [
       "<Figure size 432x288 with 1 Axes>"
      ]
     },
     "metadata": {
      "needs_background": "light"
     },
     "output_type": "display_data"
    }
   ],
   "source": [
    "import matplotlib.pyplot as plt\n",
    "# summarize history for loss\n",
    "plt.plot(history.history['mean_absolute_error'])\n",
    "plt.title('model loss')\n",
    "plt.ylabel('loss')\n",
    "plt.xlabel('epoch')\n",
    "# plt.legend(['train', 'test'], loc='upper left')\n",
    "plt.show()"
   ]
  },
  {
   "cell_type": "code",
   "execution_count": 73,
   "id": "f0ed1e06",
   "metadata": {},
   "outputs": [
    {
     "data": {
      "image/png": "[encoded data removed]",
      "text/plain": [
       "<Figure size 432x288 with 1 Axes>"
      ]
     },
     "metadata": {
      "needs_background": "light"
     },
     "output_type": "display_data"
    }
   ],
   "source": [
    "plt.plot(history.history['acc'])\n",
    "plt.title('model loss')\n",
    "plt.ylabel('loss')\n",
    "plt.xlabel('epoch')\n",
    "# plt.legend(['train', 'test'], loc='upper left')\n",
    "plt.show()"
   ]
  },
  {
   "cell_type": "code",
   "execution_count": 95,
   "id": "02115003",
   "metadata": {},
   "outputs": [
    {
     "data": {
      "text/plain": [
       "array([[15.184239 ],\n",
       "       [12.774906 ],\n",
       "       [14.205779 ],\n",
       "       [15.618802 ],\n",
       "       [16.015747 ],\n",
       "       [15.317501 ],\n",
       "       [13.922018 ],\n",
       "       [14.369669 ],\n",
       "       [11.936341 ],\n",
       "       [10.9504795]], dtype=float32)"
      ]
     },
     "execution_count": 95,
     "metadata": {},
     "output_type": "execute_result"
    }
   ],
   "source": [
    "model.predict(train_x[500:510])"
   ]
  },
  {
   "cell_type": "code",
   "execution_count": 96,
   "id": "a77673dd",
   "metadata": {},
   "outputs": [
    {
     "data": {
      "text/html": [
       "<div>\n",
       "<style scoped>\n",
       "    .dataframe tbody tr th:only-of-type {\n",
       "        vertical-align: middle;\n",
       "    }\n",
       "\n",
       "    .dataframe tbody tr th {\n",
       "        vertical-align: top;\n",
       "    }\n",
       "\n",
       "    .dataframe thead th {\n",
       "        text-align: right;\n",
       "    }\n",
       "</style>\n",
       "<table border=\"1\" class=\"dataframe\">\n",
       "  <thead>\n",
       "    <tr style=\"text-align: right;\">\n",
       "      <th></th>\n",
       "      <th>Apparent Temperature (C)</th>\n",
       "    </tr>\n",
       "  </thead>\n",
       "  <tbody>\n",
       "    <tr>\n",
       "      <th>500</th>\n",
       "      <td>16.261111</td>\n",
       "    </tr>\n",
       "    <tr>\n",
       "      <th>501</th>\n",
       "      <td>14.983333</td>\n",
       "    </tr>\n",
       "    <tr>\n",
       "      <th>502</th>\n",
       "      <td>14.466667</td>\n",
       "    </tr>\n",
       "    <tr>\n",
       "      <th>503</th>\n",
       "      <td>13.944444</td>\n",
       "    </tr>\n",
       "    <tr>\n",
       "      <th>504</th>\n",
       "      <td>12.316667</td>\n",
       "    </tr>\n",
       "    <tr>\n",
       "      <th>505</th>\n",
       "      <td>11.761111</td>\n",
       "    </tr>\n",
       "    <tr>\n",
       "      <th>506</th>\n",
       "      <td>10.827778</td>\n",
       "    </tr>\n",
       "    <tr>\n",
       "      <th>507</th>\n",
       "      <td>10.138889</td>\n",
       "    </tr>\n",
       "    <tr>\n",
       "      <th>508</th>\n",
       "      <td>10.627778</td>\n",
       "    </tr>\n",
       "    <tr>\n",
       "      <th>509</th>\n",
       "      <td>10.605556</td>\n",
       "    </tr>\n",
       "  </tbody>\n",
       "</table>\n",
       "</div>"
      ],
      "text/plain": [
       "     Apparent Temperature (C)\n",
       "500                 16.261111\n",
       "501                 14.983333\n",
       "502                 14.466667\n",
       "503                 13.944444\n",
       "504                 12.316667\n",
       "505                 11.761111\n",
       "506                 10.827778\n",
       "507                 10.138889\n",
       "508                 10.627778\n",
       "509                 10.605556"
      ]
     },
     "execution_count": 96,
     "metadata": {},
     "output_type": "execute_result"
    }
   ],
   "source": [
    "train_y.compute()[500:510]"
   ]
  },
  {
   "cell_type": "code",
   "execution_count": null,
   "id": "7db0a65d",
   "metadata": {},
   "outputs": [],
   "source": []
  },
  {
   "cell_type": "code",
   "execution_count": null,
   "id": "784ba192",
   "metadata": {},
   "outputs": [],
   "source": []
  },
  {
   "cell_type": "code",
   "execution_count": null,
   "id": "79acead1",
   "metadata": {},
   "outputs": [],
   "source": [
    "X_np_array = np.array(train_x.values)\n",
    "Y_np_array = np.array(train_y.values)"
   ]
  },
  {
   "cell_type": "code",
   "execution_count": null,
   "id": "8772bd64",
   "metadata": {},
   "outputs": [],
   "source": []
  },
  {
   "cell_type": "code",
   "execution_count": null,
   "id": "4c013adc",
   "metadata": {},
   "outputs": [],
   "source": []
  },
  {
   "cell_type": "code",
   "execution_count": null,
   "id": "5ad88dd5",
   "metadata": {},
   "outputs": [],
   "source": []
  },
  {
   "cell_type": "code",
   "execution_count": null,
   "id": "010c8d66",
   "metadata": {},
   "outputs": [],
   "source": []
  },
  {
   "cell_type": "code",
   "execution_count": null,
   "id": "f8a34bfd",
   "metadata": {},
   "outputs": [],
   "source": [
    "X_np_array"
   ]
  },
  {
   "cell_type": "code",
   "execution_count": null,
   "id": "ea72612a",
   "metadata": {},
   "outputs": [],
   "source": []
  },
  {
   "cell_type": "code",
   "execution_count": null,
   "id": "2a3ef810",
   "metadata": {},
   "outputs": [],
   "source": [
    "history = model.fit(X_np_array, Y_np_array, epochs=150, batch_size=8)"
   ]
  },
  {
   "cell_type": "code",
   "execution_count": null,
   "id": "3a10f77d",
   "metadata": {},
   "outputs": [],
   "source": []
  },
  {
   "cell_type": "code",
   "execution_count": null,
   "id": "90e0ed88",
   "metadata": {},
   "outputs": [],
   "source": []
  },
  {
   "cell_type": "code",
   "execution_count": null,
   "id": "83d0c947",
   "metadata": {},
   "outputs": [],
   "source": []
  }
 ],
 "metadata": {
  "kernelspec": {
   "display_name": "Python 3 (ipykernel)",
   "language": "python",
   "name": "python3"
  },
  "language_info": {
   "codemirror_mode": {
    "name": "ipython",
    "version": 3
   },
   "file_extension": ".py",
   "mimetype": "text/x-python",
   "name": "python",
   "nbconvert_exporter": "python",
   "pygments_lexer": "ipython3",
   "version": "3.9.7"
  }
 },
 "nbformat": 4,
 "nbformat_minor": 5
}
