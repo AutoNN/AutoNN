{
 "cells": [
  {
   "cell_type": "code",
   "execution_count": 30,
   "id": "abfe70cc",
   "metadata": {},
   "outputs": [],
   "source": [
    "# Time Based Learning Rate Decay\n",
    "from pandas import read_csv\n",
    "from tensorflow.keras.models import Sequential\n",
    "from tensorflow.keras.layers import Dense, Input, Dropout\n",
    "from tensorflow.keras.optimizers import SGD\n",
    "from sklearn.preprocessing import LabelEncoder\n",
    "# load dataset\n",
    "dataframe = read_csv(\"/home/anish/Downloads/ionosphere.data\", header=None)\n",
    "dataset = dataframe.values\n",
    "# split into input (X) and output (Y) variables\n",
    "X = dataset[:,0:34].astype(float)\n",
    "Y = dataset[:,34]\n",
    "# encode class values as integers\n",
    "encoder = LabelEncoder()\n",
    "encoder.fit(Y)\n",
    "Y = encoder.transform(Y)\n",
    "# create model\n",
    "model = Sequential()\n",
    "model.add(Dropout(0.1))\n",
    "model.add(Dense(32, input_shape=(34,), activation='relu'))\n",
    "model.add(Dense(64, input_shape=(34,), activation='relu'))\n",
    "model.add(Dense(32, input_shape=(34,), activation='relu'))\n",
    "model.add(Dense(1, activation='sigmoid'))\n",
    "# Compile model\n",
    "# epochs = 50\n",
    "# learning_rate = 0.1\n",
    "# decay_rate = learning_rate / epochs\n",
    "# momentum = 0.8\n",
    "# sgd = SGD(learning_rate=learning_rate, momentum=momentum, decay=decay_rate, nesterov=False)\n",
    "# model.compile(loss='binary_crossentropy', optimizer=sgd, metrics=['accuracy'])\n",
    "# # Fit the model\n",
    "# model.fit(X, Y, validation_split=0.33, epochs=epochs, batch_size=28, verbose=2)"
   ]
  },
  {
   "cell_type": "code",
   "execution_count": 31,
   "id": "7a56c252",
   "metadata": {},
   "outputs": [
    {
     "name": "stdout",
     "output_type": "stream",
     "text": [
      "{'name': 'dropout', 'trainable': True, 'dtype': 'float32', 'rate': 0.1, 'noise_shape': None, 'seed': None}\n",
      "{'name': 'dense_12', 'trainable': True, 'batch_input_shape': (None, 34), 'dtype': 'float32', 'units': 32, 'activation': 'relu', 'use_bias': True, 'kernel_initializer': {'class_name': 'GlorotUniform', 'config': {'seed': None}}, 'bias_initializer': {'class_name': 'Zeros', 'config': {}}, 'kernel_regularizer': None, 'bias_regularizer': None, 'activity_regularizer': None, 'kernel_constraint': None, 'bias_constraint': None}\n",
      "{'name': 'dense_13', 'trainable': True, 'batch_input_shape': (None, 34), 'dtype': 'float32', 'units': 64, 'activation': 'relu', 'use_bias': True, 'kernel_initializer': {'class_name': 'GlorotUniform', 'config': {'seed': None}}, 'bias_initializer': {'class_name': 'Zeros', 'config': {}}, 'kernel_regularizer': None, 'bias_regularizer': None, 'activity_regularizer': None, 'kernel_constraint': None, 'bias_constraint': None}\n",
      "{'name': 'dense_14', 'trainable': True, 'batch_input_shape': (None, 34), 'dtype': 'float32', 'units': 32, 'activation': 'relu', 'use_bias': True, 'kernel_initializer': {'class_name': 'GlorotUniform', 'config': {'seed': None}}, 'bias_initializer': {'class_name': 'Zeros', 'config': {}}, 'kernel_regularizer': None, 'bias_regularizer': None, 'activity_regularizer': None, 'kernel_constraint': None, 'bias_constraint': None}\n",
      "{'name': 'dense_15', 'trainable': True, 'dtype': 'float32', 'units': 1, 'activation': 'sigmoid', 'use_bias': True, 'kernel_initializer': {'class_name': 'GlorotUniform', 'config': {'seed': None}}, 'bias_initializer': {'class_name': 'Zeros', 'config': {}}, 'kernel_regularizer': None, 'bias_regularizer': None, 'activity_regularizer': None, 'kernel_constraint': None, 'bias_constraint': None}\n"
     ]
    }
   ],
   "source": [
    "for layer in model.layers:\n",
    "        print(layer.get_config())"
   ]
  },
  {
   "cell_type": "code",
   "execution_count": 37,
   "id": "4ead96aa",
   "metadata": {},
   "outputs": [],
   "source": [
    "from tensorflow.keras.activations import tanh, relu\n",
    "for layer in model.layers:\n",
    "        layer.activation = relu"
   ]
  },
  {
   "cell_type": "code",
   "execution_count": 43,
   "id": "39a4d062",
   "metadata": {},
   "outputs": [
    {
     "name": "stdout",
     "output_type": "stream",
     "text": [
      "relu\n",
      "relu\n",
      "relu\n",
      "tanh\n"
     ]
    }
   ],
   "source": [
    "for layer in model.layers:\n",
    "        try:print(layer.get_config()[\"activation\"])\n",
    "        except Exception: None\n",
    "#         if layer.get_config()[\"activation\"] == \"tanh\":\n",
    "#             print(True)"
   ]
  },
  {
   "cell_type": "code",
   "execution_count": 50,
   "id": "e076f174",
   "metadata": {},
   "outputs": [
    {
     "name": "stdout",
     "output_type": "stream",
     "text": [
      "1\n"
     ]
    }
   ],
   "source": [
    "a = [[1,2],[100,200]]\n",
    "print(a[0][0])"
   ]
  },
  {
   "cell_type": "code",
   "execution_count": 40,
   "id": "cee42377",
   "metadata": {},
   "outputs": [],
   "source": [
    "model.layers[-1].activation = tanh"
   ]
  },
  {
   "cell_type": "code",
   "execution_count": 42,
   "id": "da2635e0",
   "metadata": {},
   "outputs": [
    {
     "data": {
      "text/plain": [
       "'tanh'"
      ]
     },
     "execution_count": 42,
     "metadata": {},
     "output_type": "execute_result"
    }
   ],
   "source": [
    "model.layers[-1].get_config()[\"activation\"]"
   ]
  },
  {
   "cell_type": "code",
   "execution_count": 46,
   "id": "6e884628",
   "metadata": {},
   "outputs": [
    {
     "data": {
      "text/plain": [
       "<function tensorflow.python.keras.activations.tanh(x)>"
      ]
     },
     "execution_count": 46,
     "metadata": {},
     "output_type": "execute_result"
    }
   ],
   "source": [
    "model.layers[-1].activation"
   ]
  },
  {
   "cell_type": "code",
   "execution_count": 8,
   "id": "88f05ea7",
   "metadata": {},
   "outputs": [],
   "source": [
    "from tensorflow.keras.optimizers import Adam\n",
    "from tensorflow.keras.callbacks import LearningRateScheduler\n",
    "import numpy as np\n",
    "import matplotlib.pyplot as plt"
   ]
  },
  {
   "cell_type": "code",
   "execution_count": 9,
   "id": "e40b8f68",
   "metadata": {},
   "outputs": [
    {
     "name": "stderr",
     "output_type": "stream",
     "text": [
      "2022-08-15 20:26:56.358818: I tensorflow/compiler/mlir/mlir_graph_optimization_pass.cc:116] None of the MLIR optimization passes are enabled (registered 2)\n",
      "2022-08-15 20:26:56.378755: I tensorflow/core/platform/profile_utils/cpu_utils.cc:112] CPU Frequency: 2899885000 Hz\n"
     ]
    },
    {
     "name": "stdout",
     "output_type": "stream",
     "text": [
      "Epoch 1/50\n"
     ]
    },
    {
     "name": "stderr",
     "output_type": "stream",
     "text": [
      "2022-08-15 20:26:58.000966: I tensorflow/stream_executor/platform/default/dso_loader.cc:49] Successfully opened dynamic library libcublas.so.10\n"
     ]
    },
    {
     "name": "stdout",
     "output_type": "stream",
     "text": [
      "11/11 [==============================] - 2s 1ms/step - loss: 0.4452\n",
      "Epoch 2/50\n",
      "11/11 [==============================] - 0s 1ms/step - loss: 0.4208\n",
      "Epoch 3/50\n",
      "11/11 [==============================] - 0s 1ms/step - loss: 0.4047\n",
      "Epoch 4/50\n",
      "11/11 [==============================] - 0s 1ms/step - loss: 0.3858\n",
      "Epoch 5/50\n",
      "11/11 [==============================] - 0s 1ms/step - loss: 0.3690\n",
      "Epoch 6/50\n",
      "11/11 [==============================] - 0s 1ms/step - loss: 0.3059\n",
      "Epoch 7/50\n",
      "11/11 [==============================] - 0s 1ms/step - loss: 0.2936\n",
      "Epoch 8/50\n",
      "11/11 [==============================] - 0s 2ms/step - loss: 0.2832\n",
      "Epoch 9/50\n",
      "11/11 [==============================] - 0s 1ms/step - loss: 0.2354\n",
      "Epoch 10/50\n",
      "11/11 [==============================] - 0s 1ms/step - loss: 0.2147\n",
      "Epoch 11/50\n",
      "11/11 [==============================] - 0s 1ms/step - loss: 0.1720\n",
      "Epoch 12/50\n",
      "11/11 [==============================] - 0s 1ms/step - loss: 0.1565\n",
      "Epoch 13/50\n",
      "11/11 [==============================] - 0s 1ms/step - loss: 0.1398\n",
      "Epoch 14/50\n",
      "11/11 [==============================] - 0s 1ms/step - loss: 0.1280\n",
      "Epoch 15/50\n",
      "11/11 [==============================] - 0s 1ms/step - loss: 0.1132\n",
      "Epoch 16/50\n",
      "11/11 [==============================] - 0s 1ms/step - loss: 0.1094\n",
      "Epoch 17/50\n",
      "11/11 [==============================] - 0s 1ms/step - loss: 0.1107\n",
      "Epoch 18/50\n",
      "11/11 [==============================] - 0s 1ms/step - loss: 0.1069\n",
      "Epoch 19/50\n",
      "11/11 [==============================] - 0s 1ms/step - loss: 0.1036\n",
      "Epoch 20/50\n",
      "11/11 [==============================] - 0s 1ms/step - loss: 0.1051\n",
      "Epoch 21/50\n",
      "11/11 [==============================] - 0s 1ms/step - loss: 0.0897\n",
      "Epoch 22/50\n",
      "11/11 [==============================] - 0s 1ms/step - loss: 0.0967\n",
      "Epoch 23/50\n",
      "11/11 [==============================] - 0s 1ms/step - loss: 0.0810\n",
      "Epoch 24/50\n",
      "11/11 [==============================] - 0s 1ms/step - loss: 0.0845\n",
      "Epoch 25/50\n",
      "11/11 [==============================] - 0s 1ms/step - loss: 0.0769\n",
      "Epoch 26/50\n",
      "11/11 [==============================] - 0s 1ms/step - loss: 0.0633\n",
      "Epoch 27/50\n",
      "11/11 [==============================] - 0s 1ms/step - loss: 0.0757\n",
      "Epoch 28/50\n",
      "11/11 [==============================] - 0s 2ms/step - loss: 0.0610\n",
      "Epoch 29/50\n",
      "11/11 [==============================] - 0s 1ms/step - loss: 0.0537\n",
      "Epoch 30/50\n",
      "11/11 [==============================] - 0s 2ms/step - loss: 0.0544\n",
      "Epoch 31/50\n",
      "11/11 [==============================] - 0s 1ms/step - loss: 0.0493\n",
      "Epoch 32/50\n",
      "11/11 [==============================] - 0s 1ms/step - loss: 0.0512\n",
      "Epoch 33/50\n",
      "11/11 [==============================] - 0s 1ms/step - loss: 0.0549\n",
      "Epoch 34/50\n",
      "11/11 [==============================] - 0s 1ms/step - loss: 0.0483\n",
      "Epoch 35/50\n",
      "11/11 [==============================] - 0s 1ms/step - loss: 0.0497\n",
      "Epoch 36/50\n",
      "11/11 [==============================] - 0s 1ms/step - loss: 0.0571\n",
      "Epoch 37/50\n",
      "11/11 [==============================] - 0s 1ms/step - loss: 0.0557\n",
      "Epoch 38/50\n",
      "11/11 [==============================] - 0s 1ms/step - loss: 0.0668\n",
      "Epoch 39/50\n",
      "11/11 [==============================] - 0s 1ms/step - loss: 0.1105\n",
      "Epoch 40/50\n",
      "11/11 [==============================] - 0s 1ms/step - loss: 0.1723\n",
      "Epoch 41/50\n",
      "11/11 [==============================] - 0s 1ms/step - loss: 0.1783\n",
      "Epoch 42/50\n",
      "11/11 [==============================] - 0s 1ms/step - loss: 0.3669\n",
      "Epoch 43/50\n",
      "11/11 [==============================] - 0s 1ms/step - loss: 0.3780\n",
      "Epoch 44/50\n",
      "11/11 [==============================] - 0s 1ms/step - loss: 0.4019\n",
      "Epoch 45/50\n",
      "11/11 [==============================] - 0s 1ms/step - loss: 0.3636\n",
      "Epoch 46/50\n",
      "11/11 [==============================] - 0s 1ms/step - loss: 1.0244\n",
      "Epoch 47/50\n",
      "11/11 [==============================] - 0s 1ms/step - loss: 0.5912\n",
      "Epoch 48/50\n",
      "11/11 [==============================] - 0s 1ms/step - loss: 0.5539\n",
      "Epoch 49/50\n",
      "11/11 [==============================] - 0s 1ms/step - loss: 0.5897\n",
      "Epoch 50/50\n",
      "11/11 [==============================] - 0s 1ms/step - loss: 0.5756\n"
     ]
    }
   ],
   "source": [
    "epoch = 50\n",
    "optimizer = Adam(lr = 1e-3)\n",
    "model.compile(loss = \"mean_squared_error\", optimizer = optimizer)\n",
    "lr_schedule = LearningRateScheduler(lambda epoch : 1e-5 * 10**(epoch/10))\n",
    "history = model.fit(X, Y, epochs = epoch, batch_size = 32, callbacks = [lr_schedule])"
   ]
  },
  {
   "cell_type": "code",
   "execution_count": 10,
   "id": "d45864e7",
   "metadata": {
    "scrolled": true
   },
   "outputs": [
    {
     "data": {
      "text/plain": [
       "(1e-05, 0.1, 0.0, 0.5)"
      ]
     },
     "execution_count": 10,
     "metadata": {},
     "output_type": "execute_result"
    },
    {
     "data": {
      "image/png": "[encoded data removed]",
      "text/plain": [
       "<Figure size 432x288 with 1 Axes>"
      ]
     },
     "metadata": {
      "needs_background": "light"
     },
     "output_type": "display_data"
    }
   ],
   "source": [
    "lrs = 1e-5 * 10**(np.arange(50)/10)\n",
    "history.history[\"loss\"]\n",
    "plt.semilogx(lrs,history.history[\"loss\"])\n",
    "plt.axis([1e-5, 1e-1, 0, 0.5])"
   ]
  },
  {
   "cell_type": "code",
   "execution_count": 11,
   "id": "17dad45f",
   "metadata": {},
   "outputs": [
    {
     "data": {
      "text/plain": [
       "50"
      ]
     },
     "execution_count": 11,
     "metadata": {},
     "output_type": "execute_result"
    }
   ],
   "source": [
    "len(lrs)"
   ]
  },
  {
   "cell_type": "code",
   "execution_count": 12,
   "id": "f347d56b",
   "metadata": {},
   "outputs": [
    {
     "data": {
      "text/plain": [
       "50"
      ]
     },
     "execution_count": 12,
     "metadata": {},
     "output_type": "execute_result"
    }
   ],
   "source": [
    "len(history.history[\"loss\"])"
   ]
  },
  {
   "cell_type": "code",
   "execution_count": 13,
   "id": "5e089b96",
   "metadata": {},
   "outputs": [
    {
     "name": "stdout",
     "output_type": "stream",
     "text": [
      "0.048180997371673584\n",
      "35\n",
      "0.0316227766016838\n",
      "0.03162\n"
     ]
    }
   ],
   "source": [
    "losses = history.history[\"loss\"].copy()\n",
    "print(min(losses))\n",
    "print(losses.index(min(losses)))\n",
    "print(lrs[losses.index(min(losses))])\n",
    "print(round(lrs[losses.index(min(losses))],5))"
   ]
  },
  {
   "cell_type": "code",
   "execution_count": 14,
   "id": "b0983ae3",
   "metadata": {},
   "outputs": [
    {
     "name": "stdout",
     "output_type": "stream",
     "text": [
      "0.03162\n"
     ]
    },
    {
     "data": {
      "text/plain": [
       "numpy.float64"
      ]
     },
     "execution_count": 14,
     "metadata": {},
     "output_type": "execute_result"
    }
   ],
   "source": [
    "best_lr = round(lrs[losses.index(min(losses))],5)\n",
    "print(best_lr)\n",
    "type(best_lr)"
   ]
  },
  {
   "cell_type": "code",
   "execution_count": 9,
   "id": "04284a57",
   "metadata": {},
   "outputs": [],
   "source": [
    "import tensorflow as tf"
   ]
  },
  {
   "cell_type": "code",
   "execution_count": 10,
   "id": "c96e93eb",
   "metadata": {},
   "outputs": [],
   "source": [
    "# epoch = 100\n",
    "# optimizer_new = Adam(lr = best_lr)\n",
    "# model.compile(loss = \"mean_squared_error\", optimizer = optimizer_new)\n",
    "# history = model.fit(X, Y, epochs = epoch, batch_size = 32)"
   ]
  },
  {
   "cell_type": "code",
   "execution_count": 11,
   "id": "096848d0",
   "metadata": {},
   "outputs": [],
   "source": [
    "# tf.keras.backend.clear_session()\n",
    "# new_model = Sequential()\n",
    "# new_model.add(Dense(32, input_shape=(34,), activation='relu'))\n",
    "# new_model.add(Dense(64, input_shape=(34,), activation='relu'))\n",
    "# new_model.add(Dense(32, input_shape=(34,), activation='relu'))\n",
    "# new_model.add(Dense(1, activation='sigmoid'))\n",
    "# epoch = 100\n",
    "# optimizer_new = Adam(lr = best_lr)\n",
    "# new_model.compile(loss = \"mean_squared_error\", optimizer = optimizer_new)\n",
    "# history = new_model.fit(X, Y, epochs = epoch, batch_size = 32)"
   ]
  },
  {
   "cell_type": "code",
   "execution_count": 12,
   "id": "2727323b",
   "metadata": {},
   "outputs": [],
   "source": [
    "def reinitialize_model(model, initializer = tf.keras.initializers.random_uniform()):\n",
    "    for layer in model.layers:\n",
    "        layer.set_weights([initializer(shape=w.shape) for w in layer.get_weights()])"
   ]
  },
  {
   "cell_type": "code",
   "execution_count": 13,
   "id": "4970ac9d",
   "metadata": {},
   "outputs": [
    {
     "name": "stdout",
     "output_type": "stream",
     "text": [
      "Epoch 1/100\n",
      "11/11 [==============================] - 0s 1ms/step - loss: 0.2428\n",
      "Epoch 2/100\n",
      "11/11 [==============================] - 0s 1ms/step - loss: 0.1850\n",
      "Epoch 3/100\n",
      "11/11 [==============================] - 0s 1ms/step - loss: 0.1540\n",
      "Epoch 4/100\n",
      "11/11 [==============================] - 0s 1ms/step - loss: 0.1076\n",
      "Epoch 5/100\n",
      "11/11 [==============================] - 0s 1ms/step - loss: 0.0627\n",
      "Epoch 6/100\n",
      "11/11 [==============================] - 0s 1ms/step - loss: 0.0477\n",
      "Epoch 7/100\n",
      "11/11 [==============================] - 0s 1ms/step - loss: 0.0327\n",
      "Epoch 8/100\n",
      "11/11 [==============================] - 0s 1ms/step - loss: 0.0149\n",
      "Epoch 9/100\n",
      "11/11 [==============================] - 0s 1ms/step - loss: 0.0203\n",
      "Epoch 10/100\n",
      "11/11 [==============================] - 0s 1ms/step - loss: 0.0168\n",
      "Epoch 11/100\n",
      "11/11 [==============================] - 0s 1ms/step - loss: 0.0179\n",
      "Epoch 12/100\n",
      "11/11 [==============================] - 0s 1ms/step - loss: 0.0180\n",
      "Epoch 13/100\n",
      "11/11 [==============================] - 0s 1ms/step - loss: 0.0124\n",
      "Epoch 14/100\n",
      "11/11 [==============================] - 0s 1ms/step - loss: 0.0147\n",
      "Epoch 15/100\n",
      "11/11 [==============================] - 0s 1ms/step - loss: 0.0040\n",
      "Epoch 16/100\n",
      "11/11 [==============================] - 0s 1ms/step - loss: 0.0031\n",
      "Epoch 17/100\n",
      "11/11 [==============================] - 0s 1ms/step - loss: 0.0046\n",
      "Epoch 18/100\n",
      "11/11 [==============================] - 0s 1ms/step - loss: 0.0048\n",
      "Epoch 19/100\n",
      "11/11 [==============================] - 0s 974us/step - loss: 0.0115\n",
      "Epoch 20/100\n",
      "11/11 [==============================] - 0s 1ms/step - loss: 0.0034\n",
      "Epoch 21/100\n",
      "11/11 [==============================] - 0s 2ms/step - loss: 0.0098\n",
      "Epoch 22/100\n",
      "11/11 [==============================] - 0s 1ms/step - loss: 0.0041\n",
      "Epoch 23/100\n",
      "11/11 [==============================] - 0s 1ms/step - loss: 0.0037\n",
      "Epoch 24/100\n",
      "11/11 [==============================] - 0s 1ms/step - loss: 0.0034\n",
      "Epoch 25/100\n",
      "11/11 [==============================] - 0s 1ms/step - loss: 0.0026\n",
      "Epoch 26/100\n",
      "11/11 [==============================] - 0s 1ms/step - loss: 0.0054\n",
      "Epoch 27/100\n",
      "11/11 [==============================] - 0s 1ms/step - loss: 0.0061\n",
      "Epoch 28/100\n",
      "11/11 [==============================] - 0s 1ms/step - loss: 0.0044\n",
      "Epoch 29/100\n",
      "11/11 [==============================] - 0s 1ms/step - loss: 0.0064\n",
      "Epoch 30/100\n",
      "11/11 [==============================] - 0s 1ms/step - loss: 0.0047\n",
      "Epoch 31/100\n",
      "11/11 [==============================] - 0s 1ms/step - loss: 0.0056\n",
      "Epoch 32/100\n",
      "11/11 [==============================] - 0s 1ms/step - loss: 0.0049\n",
      "Epoch 33/100\n",
      "11/11 [==============================] - 0s 1ms/step - loss: 0.0097\n",
      "Epoch 34/100\n",
      "11/11 [==============================] - 0s 1ms/step - loss: 0.0084\n",
      "Epoch 35/100\n",
      "11/11 [==============================] - 0s 1ms/step - loss: 0.0136\n",
      "Epoch 36/100\n",
      "11/11 [==============================] - 0s 1ms/step - loss: 0.0044\n",
      "Epoch 37/100\n",
      "11/11 [==============================] - 0s 1ms/step - loss: 0.0053\n",
      "Epoch 38/100\n",
      "11/11 [==============================] - 0s 1ms/step - loss: 0.0069\n",
      "Epoch 39/100\n",
      "11/11 [==============================] - 0s 1ms/step - loss: 0.0031\n",
      "Epoch 40/100\n",
      "11/11 [==============================] - 0s 1ms/step - loss: 0.0110\n",
      "Epoch 41/100\n",
      "11/11 [==============================] - 0s 1ms/step - loss: 0.0073\n",
      "Epoch 42/100\n",
      "11/11 [==============================] - 0s 1ms/step - loss: 0.0086\n",
      "Epoch 43/100\n",
      "11/11 [==============================] - 0s 1ms/step - loss: 0.0037\n",
      "Epoch 44/100\n",
      "11/11 [==============================] - 0s 1ms/step - loss: 0.0039\n",
      "Epoch 45/100\n",
      "11/11 [==============================] - 0s 1ms/step - loss: 0.0041\n",
      "Epoch 46/100\n",
      "11/11 [==============================] - 0s 1ms/step - loss: 0.0059\n",
      "Epoch 47/100\n",
      "11/11 [==============================] - 0s 1ms/step - loss: 0.0021\n",
      "Epoch 48/100\n",
      "11/11 [==============================] - 0s 1ms/step - loss: 0.0029\n",
      "Epoch 49/100\n",
      "11/11 [==============================] - 0s 1ms/step - loss: 0.0136\n",
      "Epoch 50/100\n",
      "11/11 [==============================] - 0s 1ms/step - loss: 0.0037\n",
      "Epoch 51/100\n",
      "11/11 [==============================] - 0s 1ms/step - loss: 0.0088\n",
      "Epoch 52/100\n",
      "11/11 [==============================] - 0s 1ms/step - loss: 0.0075\n",
      "Epoch 53/100\n",
      "11/11 [==============================] - 0s 2ms/step - loss: 0.0059\n",
      "Epoch 54/100\n",
      "11/11 [==============================] - 0s 1ms/step - loss: 0.0028\n",
      "Epoch 55/100\n",
      "11/11 [==============================] - 0s 1ms/step - loss: 0.0091\n",
      "Epoch 56/100\n",
      "11/11 [==============================] - 0s 1ms/step - loss: 0.0069\n",
      "Epoch 57/100\n",
      "11/11 [==============================] - 0s 1ms/step - loss: 0.0097\n",
      "Epoch 58/100\n",
      "11/11 [==============================] - 0s 1ms/step - loss: 0.0088\n",
      "Epoch 59/100\n",
      "11/11 [==============================] - 0s 1ms/step - loss: 0.0059\n",
      "Epoch 60/100\n",
      "11/11 [==============================] - 0s 1ms/step - loss: 0.0047\n",
      "Epoch 61/100\n",
      "11/11 [==============================] - 0s 1ms/step - loss: 0.0044\n",
      "Epoch 62/100\n",
      "11/11 [==============================] - 0s 1ms/step - loss: 0.0052\n",
      "Epoch 63/100\n",
      "11/11 [==============================] - 0s 1ms/step - loss: 0.0060\n",
      "Epoch 64/100\n",
      "11/11 [==============================] - 0s 1ms/step - loss: 0.0091\n",
      "Epoch 65/100\n",
      "11/11 [==============================] - 0s 1ms/step - loss: 0.0048\n",
      "Epoch 66/100\n",
      "11/11 [==============================] - 0s 1ms/step - loss: 0.0043\n",
      "Epoch 67/100\n",
      "11/11 [==============================] - 0s 1ms/step - loss: 0.0098\n",
      "Epoch 68/100\n",
      "11/11 [==============================] - 0s 997us/step - loss: 0.0068\n",
      "Epoch 69/100\n",
      "11/11 [==============================] - 0s 1ms/step - loss: 0.0072\n",
      "Epoch 70/100\n",
      "11/11 [==============================] - 0s 1ms/step - loss: 0.0037\n",
      "Epoch 71/100\n",
      "11/11 [==============================] - 0s 1ms/step - loss: 0.0068\n",
      "Epoch 72/100\n",
      "11/11 [==============================] - 0s 1ms/step - loss: 0.0091\n",
      "Epoch 73/100\n",
      "11/11 [==============================] - 0s 1ms/step - loss: 0.0086\n",
      "Epoch 74/100\n",
      "11/11 [==============================] - 0s 998us/step - loss: 0.0052\n",
      "Epoch 75/100\n",
      "11/11 [==============================] - 0s 1ms/step - loss: 0.0081\n",
      "Epoch 76/100\n",
      "11/11 [==============================] - 0s 1ms/step - loss: 0.0066\n",
      "Epoch 77/100\n",
      "11/11 [==============================] - 0s 1ms/step - loss: 0.0018\n",
      "Epoch 78/100\n",
      "11/11 [==============================] - 0s 959us/step - loss: 0.0018\n",
      "Epoch 79/100\n",
      "11/11 [==============================] - 0s 1ms/step - loss: 0.0039\n",
      "Epoch 80/100\n",
      "11/11 [==============================] - 0s 1ms/step - loss: 0.0047\n",
      "Epoch 81/100\n",
      "11/11 [==============================] - 0s 1ms/step - loss: 0.0055\n",
      "Epoch 82/100\n",
      "11/11 [==============================] - 0s 1ms/step - loss: 0.0050\n",
      "Epoch 83/100\n",
      "11/11 [==============================] - 0s 1ms/step - loss: 0.0046\n",
      "Epoch 84/100\n",
      "11/11 [==============================] - 0s 1ms/step - loss: 0.0038\n",
      "Epoch 85/100\n",
      "11/11 [==============================] - 0s 1ms/step - loss: 0.0035\n",
      "Epoch 86/100\n",
      "11/11 [==============================] - 0s 1ms/step - loss: 0.0097\n",
      "Epoch 87/100\n",
      "11/11 [==============================] - 0s 996us/step - loss: 0.0111\n",
      "Epoch 88/100\n",
      "11/11 [==============================] - 0s 1ms/step - loss: 0.0167\n",
      "Epoch 89/100\n",
      "11/11 [==============================] - 0s 1ms/step - loss: 0.0246\n",
      "Epoch 90/100\n",
      "11/11 [==============================] - 0s 1ms/step - loss: 0.0861\n",
      "Epoch 91/100\n",
      "11/11 [==============================] - 0s 1ms/step - loss: 0.0408\n",
      "Epoch 92/100\n",
      "11/11 [==============================] - 0s 944us/step - loss: 0.0414\n",
      "Epoch 93/100\n",
      "11/11 [==============================] - 0s 964us/step - loss: 0.0300\n",
      "Epoch 94/100\n",
      "11/11 [==============================] - 0s 999us/step - loss: 0.0752\n",
      "Epoch 95/100\n",
      "11/11 [==============================] - 0s 983us/step - loss: 0.0393\n",
      "Epoch 96/100\n",
      "11/11 [==============================] - 0s 972us/step - loss: 0.0137\n",
      "Epoch 97/100\n",
      "11/11 [==============================] - 0s 1ms/step - loss: 0.0177\n",
      "Epoch 98/100\n",
      "11/11 [==============================] - 0s 1ms/step - loss: 0.0110\n",
      "Epoch 99/100\n",
      "11/11 [==============================] - 0s 1ms/step - loss: 0.0163\n",
      "Epoch 100/100\n",
      "11/11 [==============================] - 0s 981us/step - loss: 0.0055\n"
     ]
    }
   ],
   "source": [
    "reinitialize_model(model)\n",
    "epoch = 100\n",
    "optimizer_new = Adam(lr = best_lr)\n",
    "model.compile(loss = \"mean_squared_error\", optimizer = optimizer_new)\n",
    "history = model.fit(X, Y, epochs = epoch, batch_size = 32)"
   ]
  },
  {
   "cell_type": "code",
   "execution_count": null,
   "id": "27d4a257",
   "metadata": {},
   "outputs": [],
   "source": []
  }
 ],
 "metadata": {
  "kernelspec": {
   "display_name": "Python 3 (ipykernel)",
   "language": "python",
   "name": "python3"
  },
  "language_info": {
   "codemirror_mode": {
    "name": "ipython",
    "version": 3
   },
   "file_extension": ".py",
   "mimetype": "text/x-python",
   "name": "python",
   "nbconvert_exporter": "python",
   "pygments_lexer": "ipython3",
   "version": "3.9.12"
  }
 },
 "nbformat": 4,
 "nbformat_minor": 5
}
