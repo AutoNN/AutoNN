{
 "cells": [
  {
   "cell_type": "code",
   "execution_count": 1,
   "metadata": {},
   "outputs": [],
   "source": [
    "import sys\n",
    "import time\n",
    "sys.path.insert(0, '/home/anish/AutoNN')"
   ]
  },
  {
   "cell_type": "code",
   "execution_count": 2,
   "metadata": {},
   "outputs": [],
   "source": [
    "from AutoNN.preprocessing import data_cleaning as dc\n",
    "import dask.dataframe as dd"
   ]
  },
  {
   "cell_type": "code",
   "execution_count": 3,
   "metadata": {},
   "outputs": [],
   "source": [
    "df = dd.read_csv(\"/home/anish/Downloads/diabetes.csv\", assume_missing=True)"
   ]
  },
  {
   "cell_type": "code",
   "execution_count": 4,
   "metadata": {},
   "outputs": [
    {
     "data": {
      "text/html": [
       "<div>\n",
       "<style scoped>\n",
       "    .dataframe tbody tr th:only-of-type {\n",
       "        vertical-align: middle;\n",
       "    }\n",
       "\n",
       "    .dataframe tbody tr th {\n",
       "        vertical-align: top;\n",
       "    }\n",
       "\n",
       "    .dataframe thead th {\n",
       "        text-align: right;\n",
       "    }\n",
       "</style>\n",
       "<table border=\"1\" class=\"dataframe\">\n",
       "  <thead>\n",
       "    <tr style=\"text-align: right;\">\n",
       "      <th></th>\n",
       "      <th>Pregnancies</th>\n",
       "      <th>Glucose</th>\n",
       "      <th>BloodPressure</th>\n",
       "      <th>SkinThickness</th>\n",
       "      <th>Insulin</th>\n",
       "      <th>BMI</th>\n",
       "      <th>DiabetesPedigreeFunction</th>\n",
       "      <th>Age</th>\n",
       "      <th>Outcome</th>\n",
       "    </tr>\n",
       "  </thead>\n",
       "  <tbody>\n",
       "    <tr>\n",
       "      <th>0</th>\n",
       "      <td>6.0</td>\n",
       "      <td>148.0</td>\n",
       "      <td>72.0</td>\n",
       "      <td>35.0</td>\n",
       "      <td>0.0</td>\n",
       "      <td>33.6</td>\n",
       "      <td>0.627</td>\n",
       "      <td>50.0</td>\n",
       "      <td>1.0</td>\n",
       "    </tr>\n",
       "    <tr>\n",
       "      <th>1</th>\n",
       "      <td>1.0</td>\n",
       "      <td>85.0</td>\n",
       "      <td>66.0</td>\n",
       "      <td>29.0</td>\n",
       "      <td>0.0</td>\n",
       "      <td>26.6</td>\n",
       "      <td>0.351</td>\n",
       "      <td>31.0</td>\n",
       "      <td>0.0</td>\n",
       "    </tr>\n",
       "    <tr>\n",
       "      <th>2</th>\n",
       "      <td>8.0</td>\n",
       "      <td>183.0</td>\n",
       "      <td>64.0</td>\n",
       "      <td>0.0</td>\n",
       "      <td>0.0</td>\n",
       "      <td>23.3</td>\n",
       "      <td>0.672</td>\n",
       "      <td>32.0</td>\n",
       "      <td>1.0</td>\n",
       "    </tr>\n",
       "    <tr>\n",
       "      <th>3</th>\n",
       "      <td>1.0</td>\n",
       "      <td>89.0</td>\n",
       "      <td>66.0</td>\n",
       "      <td>23.0</td>\n",
       "      <td>94.0</td>\n",
       "      <td>28.1</td>\n",
       "      <td>0.167</td>\n",
       "      <td>21.0</td>\n",
       "      <td>0.0</td>\n",
       "    </tr>\n",
       "    <tr>\n",
       "      <th>4</th>\n",
       "      <td>0.0</td>\n",
       "      <td>137.0</td>\n",
       "      <td>40.0</td>\n",
       "      <td>35.0</td>\n",
       "      <td>168.0</td>\n",
       "      <td>43.1</td>\n",
       "      <td>2.288</td>\n",
       "      <td>33.0</td>\n",
       "      <td>1.0</td>\n",
       "    </tr>\n",
       "  </tbody>\n",
       "</table>\n",
       "</div>"
      ],
      "text/plain": [
       "   Pregnancies  Glucose  BloodPressure  SkinThickness  Insulin   BMI  \\\n",
       "0          6.0    148.0           72.0           35.0      0.0  33.6   \n",
       "1          1.0     85.0           66.0           29.0      0.0  26.6   \n",
       "2          8.0    183.0           64.0            0.0      0.0  23.3   \n",
       "3          1.0     89.0           66.0           23.0     94.0  28.1   \n",
       "4          0.0    137.0           40.0           35.0    168.0  43.1   \n",
       "\n",
       "   DiabetesPedigreeFunction   Age  Outcome  \n",
       "0                     0.627  50.0      1.0  \n",
       "1                     0.351  31.0      0.0  \n",
       "2                     0.672  32.0      1.0  \n",
       "3                     0.167  21.0      0.0  \n",
       "4                     2.288  33.0      1.0  "
      ]
     },
     "execution_count": 4,
     "metadata": {},
     "output_type": "execute_result"
    }
   ],
   "source": [
    "df.head(5)"
   ]
  },
  {
   "cell_type": "code",
   "execution_count": 5,
   "metadata": {},
   "outputs": [],
   "source": [
    "df = df.dropna()\n",
    "df = df.reset_index(drop=True)"
   ]
  },
  {
   "cell_type": "code",
   "execution_count": 6,
   "metadata": {},
   "outputs": [
    {
     "data": {
      "text/html": [
       "<div>\n",
       "<style scoped>\n",
       "    .dataframe tbody tr th:only-of-type {\n",
       "        vertical-align: middle;\n",
       "    }\n",
       "\n",
       "    .dataframe tbody tr th {\n",
       "        vertical-align: top;\n",
       "    }\n",
       "\n",
       "    .dataframe thead th {\n",
       "        text-align: right;\n",
       "    }\n",
       "</style>\n",
       "<table border=\"1\" class=\"dataframe\">\n",
       "  <thead>\n",
       "    <tr style=\"text-align: right;\">\n",
       "      <th></th>\n",
       "      <th>Pregnancies</th>\n",
       "      <th>Glucose</th>\n",
       "      <th>BloodPressure</th>\n",
       "      <th>SkinThickness</th>\n",
       "      <th>Insulin</th>\n",
       "      <th>BMI</th>\n",
       "      <th>DiabetesPedigreeFunction</th>\n",
       "      <th>Age</th>\n",
       "      <th>Outcome</th>\n",
       "    </tr>\n",
       "  </thead>\n",
       "  <tbody>\n",
       "    <tr>\n",
       "      <th>0</th>\n",
       "      <td>6.0</td>\n",
       "      <td>148.0</td>\n",
       "      <td>72.0</td>\n",
       "      <td>35.0</td>\n",
       "      <td>0.0</td>\n",
       "      <td>33.6</td>\n",
       "      <td>0.627</td>\n",
       "      <td>50.0</td>\n",
       "      <td>1.0</td>\n",
       "    </tr>\n",
       "    <tr>\n",
       "      <th>1</th>\n",
       "      <td>1.0</td>\n",
       "      <td>85.0</td>\n",
       "      <td>66.0</td>\n",
       "      <td>29.0</td>\n",
       "      <td>0.0</td>\n",
       "      <td>26.6</td>\n",
       "      <td>0.351</td>\n",
       "      <td>31.0</td>\n",
       "      <td>0.0</td>\n",
       "    </tr>\n",
       "    <tr>\n",
       "      <th>2</th>\n",
       "      <td>8.0</td>\n",
       "      <td>183.0</td>\n",
       "      <td>64.0</td>\n",
       "      <td>0.0</td>\n",
       "      <td>0.0</td>\n",
       "      <td>23.3</td>\n",
       "      <td>0.672</td>\n",
       "      <td>32.0</td>\n",
       "      <td>1.0</td>\n",
       "    </tr>\n",
       "    <tr>\n",
       "      <th>3</th>\n",
       "      <td>1.0</td>\n",
       "      <td>89.0</td>\n",
       "      <td>66.0</td>\n",
       "      <td>23.0</td>\n",
       "      <td>94.0</td>\n",
       "      <td>28.1</td>\n",
       "      <td>0.167</td>\n",
       "      <td>21.0</td>\n",
       "      <td>0.0</td>\n",
       "    </tr>\n",
       "    <tr>\n",
       "      <th>4</th>\n",
       "      <td>0.0</td>\n",
       "      <td>137.0</td>\n",
       "      <td>40.0</td>\n",
       "      <td>35.0</td>\n",
       "      <td>168.0</td>\n",
       "      <td>43.1</td>\n",
       "      <td>2.288</td>\n",
       "      <td>33.0</td>\n",
       "      <td>1.0</td>\n",
       "    </tr>\n",
       "  </tbody>\n",
       "</table>\n",
       "</div>"
      ],
      "text/plain": [
       "   Pregnancies  Glucose  BloodPressure  SkinThickness  Insulin   BMI  \\\n",
       "0          6.0    148.0           72.0           35.0      0.0  33.6   \n",
       "1          1.0     85.0           66.0           29.0      0.0  26.6   \n",
       "2          8.0    183.0           64.0            0.0      0.0  23.3   \n",
       "3          1.0     89.0           66.0           23.0     94.0  28.1   \n",
       "4          0.0    137.0           40.0           35.0    168.0  43.1   \n",
       "\n",
       "   DiabetesPedigreeFunction   Age  Outcome  \n",
       "0                     0.627  50.0      1.0  \n",
       "1                     0.351  31.0      0.0  \n",
       "2                     0.672  32.0      1.0  \n",
       "3                     0.167  21.0      0.0  \n",
       "4                     2.288  33.0      1.0  "
      ]
     },
     "execution_count": 6,
     "metadata": {},
     "output_type": "execute_result"
    }
   ],
   "source": [
    "df.head()"
   ]
  },
  {
   "cell_type": "code",
   "execution_count": 7,
   "metadata": {},
   "outputs": [
    {
     "name": "stdout",
     "output_type": "stream",
     "text": [
      "[]\n"
     ]
    }
   ],
   "source": [
    "data_cl = dc.DataCleaning(train_dataframe=df, label=['Outcome'])"
   ]
  },
  {
   "cell_type": "code",
   "execution_count": 8,
   "metadata": {},
   "outputs": [
    {
     "data": {
      "text/html": [
       "<div>\n",
       "<style scoped>\n",
       "    .dataframe tbody tr th:only-of-type {\n",
       "        vertical-align: middle;\n",
       "    }\n",
       "\n",
       "    .dataframe tbody tr th {\n",
       "        vertical-align: top;\n",
       "    }\n",
       "\n",
       "    .dataframe thead th {\n",
       "        text-align: right;\n",
       "    }\n",
       "</style>\n",
       "<table border=\"1\" class=\"dataframe\">\n",
       "  <thead>\n",
       "    <tr style=\"text-align: right;\">\n",
       "      <th></th>\n",
       "      <th>Pregnancies</th>\n",
       "      <th>Glucose</th>\n",
       "      <th>BloodPressure</th>\n",
       "      <th>SkinThickness</th>\n",
       "      <th>Insulin</th>\n",
       "      <th>BMI</th>\n",
       "      <th>DiabetesPedigreeFunction</th>\n",
       "      <th>Age</th>\n",
       "      <th>Outcome</th>\n",
       "    </tr>\n",
       "  </thead>\n",
       "  <tbody>\n",
       "    <tr>\n",
       "      <th>0</th>\n",
       "      <td>6.0</td>\n",
       "      <td>148.0</td>\n",
       "      <td>72.0</td>\n",
       "      <td>35.0</td>\n",
       "      <td>0.0</td>\n",
       "      <td>33.6</td>\n",
       "      <td>0.627</td>\n",
       "      <td>50.0</td>\n",
       "      <td>1.0</td>\n",
       "    </tr>\n",
       "    <tr>\n",
       "      <th>1</th>\n",
       "      <td>1.0</td>\n",
       "      <td>85.0</td>\n",
       "      <td>66.0</td>\n",
       "      <td>29.0</td>\n",
       "      <td>0.0</td>\n",
       "      <td>26.6</td>\n",
       "      <td>0.351</td>\n",
       "      <td>31.0</td>\n",
       "      <td>0.0</td>\n",
       "    </tr>\n",
       "    <tr>\n",
       "      <th>2</th>\n",
       "      <td>8.0</td>\n",
       "      <td>183.0</td>\n",
       "      <td>64.0</td>\n",
       "      <td>0.0</td>\n",
       "      <td>0.0</td>\n",
       "      <td>23.3</td>\n",
       "      <td>0.672</td>\n",
       "      <td>32.0</td>\n",
       "      <td>1.0</td>\n",
       "    </tr>\n",
       "    <tr>\n",
       "      <th>3</th>\n",
       "      <td>1.0</td>\n",
       "      <td>89.0</td>\n",
       "      <td>66.0</td>\n",
       "      <td>23.0</td>\n",
       "      <td>94.0</td>\n",
       "      <td>28.1</td>\n",
       "      <td>0.167</td>\n",
       "      <td>21.0</td>\n",
       "      <td>0.0</td>\n",
       "    </tr>\n",
       "    <tr>\n",
       "      <th>4</th>\n",
       "      <td>0.0</td>\n",
       "      <td>137.0</td>\n",
       "      <td>40.0</td>\n",
       "      <td>35.0</td>\n",
       "      <td>168.0</td>\n",
       "      <td>43.1</td>\n",
       "      <td>2.288</td>\n",
       "      <td>33.0</td>\n",
       "      <td>1.0</td>\n",
       "    </tr>\n",
       "  </tbody>\n",
       "</table>\n",
       "</div>"
      ],
      "text/plain": [
       "   Pregnancies  Glucose  BloodPressure  SkinThickness  Insulin   BMI  \\\n",
       "0          6.0    148.0           72.0           35.0      0.0  33.6   \n",
       "1          1.0     85.0           66.0           29.0      0.0  26.6   \n",
       "2          8.0    183.0           64.0            0.0      0.0  23.3   \n",
       "3          1.0     89.0           66.0           23.0     94.0  28.1   \n",
       "4          0.0    137.0           40.0           35.0    168.0  43.1   \n",
       "\n",
       "   DiabetesPedigreeFunction   Age  Outcome  \n",
       "0                     0.627  50.0      1.0  \n",
       "1                     0.351  31.0      0.0  \n",
       "2                     0.672  32.0      1.0  \n",
       "3                     0.167  21.0      0.0  \n",
       "4                     2.288  33.0      1.0  "
      ]
     },
     "execution_count": 8,
     "metadata": {},
     "output_type": "execute_result"
    }
   ],
   "source": [
    "data_cl.dataset.get()[0].head()"
   ]
  },
  {
   "cell_type": "code",
   "execution_count": 9,
   "metadata": {},
   "outputs": [
    {
     "data": {
      "text/plain": [
       "{'Pregnancies': {'dtype': dtype('float64'),\n",
       "  'is_label': False,\n",
       "  'missing': 0.0,\n",
       "  'cardinality': 17},\n",
       " 'Glucose': {'dtype': dtype('float64'),\n",
       "  'is_label': False,\n",
       "  'missing': 0.0,\n",
       "  'cardinality': 136},\n",
       " 'BloodPressure': {'dtype': dtype('float64'),\n",
       "  'is_label': False,\n",
       "  'missing': 0.0,\n",
       "  'cardinality': 47},\n",
       " 'SkinThickness': {'dtype': dtype('float64'),\n",
       "  'is_label': False,\n",
       "  'missing': 0.0,\n",
       "  'cardinality': 51},\n",
       " 'Insulin': {'dtype': dtype('float64'),\n",
       "  'is_label': False,\n",
       "  'missing': 0.0,\n",
       "  'cardinality': 186},\n",
       " 'BMI': {'dtype': dtype('float64'),\n",
       "  'is_label': False,\n",
       "  'missing': 0.0,\n",
       "  'cardinality': 248},\n",
       " 'DiabetesPedigreeFunction': {'dtype': dtype('float64'),\n",
       "  'is_label': False,\n",
       "  'missing': 0.0,\n",
       "  'cardinality': 517},\n",
       " 'Age': {'dtype': dtype('float64'),\n",
       "  'is_label': False,\n",
       "  'missing': 0.0,\n",
       "  'cardinality': 52},\n",
       " 'Outcome': {'dtype': dtype('float64'),\n",
       "  'is_label': True,\n",
       "  'missing': 0.0,\n",
       "  'cardinality': 2}}"
      ]
     },
     "execution_count": 9,
     "metadata": {},
     "output_type": "execute_result"
    }
   ],
   "source": [
    "data_cl.col_info"
   ]
  },
  {
   "cell_type": "code",
   "execution_count": 10,
   "metadata": {},
   "outputs": [],
   "source": [
    "data_cl.encode()"
   ]
  },
  {
   "cell_type": "code",
   "execution_count": 11,
   "metadata": {},
   "outputs": [
    {
     "data": {
      "text/html": [
       "<div>\n",
       "<style scoped>\n",
       "    .dataframe tbody tr th:only-of-type {\n",
       "        vertical-align: middle;\n",
       "    }\n",
       "\n",
       "    .dataframe tbody tr th {\n",
       "        vertical-align: top;\n",
       "    }\n",
       "\n",
       "    .dataframe thead th {\n",
       "        text-align: right;\n",
       "    }\n",
       "</style>\n",
       "<table border=\"1\" class=\"dataframe\">\n",
       "  <thead>\n",
       "    <tr style=\"text-align: right;\">\n",
       "      <th></th>\n",
       "      <th>Pregnancies</th>\n",
       "      <th>Glucose</th>\n",
       "      <th>BloodPressure</th>\n",
       "      <th>SkinThickness</th>\n",
       "      <th>Insulin</th>\n",
       "      <th>BMI</th>\n",
       "      <th>DiabetesPedigreeFunction</th>\n",
       "      <th>Age</th>\n",
       "      <th>Outcome</th>\n",
       "    </tr>\n",
       "  </thead>\n",
       "  <tbody>\n",
       "    <tr>\n",
       "      <th>0</th>\n",
       "      <td>6.0</td>\n",
       "      <td>148.0</td>\n",
       "      <td>72.0</td>\n",
       "      <td>35.0</td>\n",
       "      <td>0.0</td>\n",
       "      <td>33.6</td>\n",
       "      <td>0.627</td>\n",
       "      <td>50.0</td>\n",
       "      <td>1.0</td>\n",
       "    </tr>\n",
       "    <tr>\n",
       "      <th>1</th>\n",
       "      <td>1.0</td>\n",
       "      <td>85.0</td>\n",
       "      <td>66.0</td>\n",
       "      <td>29.0</td>\n",
       "      <td>0.0</td>\n",
       "      <td>26.6</td>\n",
       "      <td>0.351</td>\n",
       "      <td>31.0</td>\n",
       "      <td>0.0</td>\n",
       "    </tr>\n",
       "    <tr>\n",
       "      <th>2</th>\n",
       "      <td>8.0</td>\n",
       "      <td>183.0</td>\n",
       "      <td>64.0</td>\n",
       "      <td>0.0</td>\n",
       "      <td>0.0</td>\n",
       "      <td>23.3</td>\n",
       "      <td>0.672</td>\n",
       "      <td>32.0</td>\n",
       "      <td>1.0</td>\n",
       "    </tr>\n",
       "    <tr>\n",
       "      <th>3</th>\n",
       "      <td>1.0</td>\n",
       "      <td>89.0</td>\n",
       "      <td>66.0</td>\n",
       "      <td>23.0</td>\n",
       "      <td>94.0</td>\n",
       "      <td>28.1</td>\n",
       "      <td>0.167</td>\n",
       "      <td>21.0</td>\n",
       "      <td>0.0</td>\n",
       "    </tr>\n",
       "    <tr>\n",
       "      <th>4</th>\n",
       "      <td>0.0</td>\n",
       "      <td>137.0</td>\n",
       "      <td>40.0</td>\n",
       "      <td>35.0</td>\n",
       "      <td>168.0</td>\n",
       "      <td>43.1</td>\n",
       "      <td>2.288</td>\n",
       "      <td>33.0</td>\n",
       "      <td>1.0</td>\n",
       "    </tr>\n",
       "  </tbody>\n",
       "</table>\n",
       "</div>"
      ],
      "text/plain": [
       "   Pregnancies  Glucose  BloodPressure  SkinThickness  Insulin   BMI  \\\n",
       "0          6.0    148.0           72.0           35.0      0.0  33.6   \n",
       "1          1.0     85.0           66.0           29.0      0.0  26.6   \n",
       "2          8.0    183.0           64.0            0.0      0.0  23.3   \n",
       "3          1.0     89.0           66.0           23.0     94.0  28.1   \n",
       "4          0.0    137.0           40.0           35.0    168.0  43.1   \n",
       "\n",
       "   DiabetesPedigreeFunction   Age  Outcome  \n",
       "0                     0.627  50.0      1.0  \n",
       "1                     0.351  31.0      0.0  \n",
       "2                     0.672  32.0      1.0  \n",
       "3                     0.167  21.0      0.0  \n",
       "4                     2.288  33.0      1.0  "
      ]
     },
     "execution_count": 11,
     "metadata": {},
     "output_type": "execute_result"
    }
   ],
   "source": [
    "data_cl.dataset.get()[0].head()"
   ]
  },
  {
   "cell_type": "code",
   "execution_count": 12,
   "metadata": {},
   "outputs": [],
   "source": [
    "from sklearn.preprocessing import MinMaxScaler"
   ]
  },
  {
   "cell_type": "code",
   "execution_count": 13,
   "metadata": {},
   "outputs": [],
   "source": [
    "scaler_x = MinMaxScaler()\n",
    "scaler_x.fit(data_cl.dataset.get()[0])\n",
    "scaled_np_arr = scaler_x.transform(data_cl.dataset.get()[0])"
   ]
  },
  {
   "cell_type": "code",
   "execution_count": 14,
   "metadata": {},
   "outputs": [
    {
     "data": {
      "text/plain": [
       "array([[0.35294118, 0.74371859, 0.59016393, ..., 0.23441503, 0.48333333,\n",
       "        1.        ],\n",
       "       [0.05882353, 0.42713568, 0.54098361, ..., 0.11656704, 0.16666667,\n",
       "        0.        ],\n",
       "       [0.47058824, 0.91959799, 0.52459016, ..., 0.25362938, 0.18333333,\n",
       "        1.        ],\n",
       "       ...,\n",
       "       [0.29411765, 0.6080402 , 0.59016393, ..., 0.07130658, 0.15      ,\n",
       "        0.        ],\n",
       "       [0.05882353, 0.63316583, 0.49180328, ..., 0.11571307, 0.43333333,\n",
       "        1.        ],\n",
       "       [0.05882353, 0.46733668, 0.57377049, ..., 0.10119556, 0.03333333,\n",
       "        0.        ]])"
      ]
     },
     "execution_count": 14,
     "metadata": {},
     "output_type": "execute_result"
    }
   ],
   "source": [
    "scaled_np_arr"
   ]
  },
  {
   "cell_type": "code",
   "execution_count": 15,
   "metadata": {},
   "outputs": [],
   "source": [
    "import numpy as np"
   ]
  },
  {
   "cell_type": "code",
   "execution_count": 16,
   "metadata": {},
   "outputs": [
    {
     "name": "stderr",
     "output_type": "stream",
     "text": [
      "2022-09-19 20:43:27.915750: I tensorflow/stream_executor/platform/default/dso_loader.cc:49] Successfully opened dynamic library libcudart.so.10.1\n"
     ]
    }
   ],
   "source": [
    "from AutoNN.networkbuilding import final"
   ]
  },
  {
   "cell_type": "code",
   "execution_count": 17,
   "metadata": {},
   "outputs": [],
   "source": [
    "data_cl.dataset.train_test_split()"
   ]
  },
  {
   "cell_type": "code",
   "execution_count": 18,
   "metadata": {},
   "outputs": [],
   "source": [
    "[traindf, testdf] = data_cl.dataset.get(types=['train', 'test'])"
   ]
  },
  {
   "cell_type": "code",
   "execution_count": 19,
   "metadata": {},
   "outputs": [
    {
     "data": {
      "text/html": [
       "<div>\n",
       "<style scoped>\n",
       "    .dataframe tbody tr th:only-of-type {\n",
       "        vertical-align: middle;\n",
       "    }\n",
       "\n",
       "    .dataframe tbody tr th {\n",
       "        vertical-align: top;\n",
       "    }\n",
       "\n",
       "    .dataframe thead th {\n",
       "        text-align: right;\n",
       "    }\n",
       "</style>\n",
       "<table border=\"1\" class=\"dataframe\">\n",
       "  <thead>\n",
       "    <tr style=\"text-align: right;\">\n",
       "      <th></th>\n",
       "      <th>Pregnancies</th>\n",
       "      <th>Glucose</th>\n",
       "      <th>BloodPressure</th>\n",
       "      <th>SkinThickness</th>\n",
       "      <th>Insulin</th>\n",
       "      <th>BMI</th>\n",
       "      <th>DiabetesPedigreeFunction</th>\n",
       "      <th>Age</th>\n",
       "      <th>Outcome</th>\n",
       "    </tr>\n",
       "  </thead>\n",
       "  <tbody>\n",
       "    <tr>\n",
       "      <th>247</th>\n",
       "      <td>0.0</td>\n",
       "      <td>165.0</td>\n",
       "      <td>90.0</td>\n",
       "      <td>33.0</td>\n",
       "      <td>680.0</td>\n",
       "      <td>52.3</td>\n",
       "      <td>0.427</td>\n",
       "      <td>23.0</td>\n",
       "      <td>0.0</td>\n",
       "    </tr>\n",
       "    <tr>\n",
       "      <th>580</th>\n",
       "      <td>0.0</td>\n",
       "      <td>151.0</td>\n",
       "      <td>90.0</td>\n",
       "      <td>46.0</td>\n",
       "      <td>0.0</td>\n",
       "      <td>42.1</td>\n",
       "      <td>0.371</td>\n",
       "      <td>21.0</td>\n",
       "      <td>1.0</td>\n",
       "    </tr>\n",
       "    <tr>\n",
       "      <th>43</th>\n",
       "      <td>9.0</td>\n",
       "      <td>171.0</td>\n",
       "      <td>110.0</td>\n",
       "      <td>24.0</td>\n",
       "      <td>240.0</td>\n",
       "      <td>45.4</td>\n",
       "      <td>0.721</td>\n",
       "      <td>54.0</td>\n",
       "      <td>1.0</td>\n",
       "    </tr>\n",
       "    <tr>\n",
       "      <th>251</th>\n",
       "      <td>2.0</td>\n",
       "      <td>129.0</td>\n",
       "      <td>84.0</td>\n",
       "      <td>0.0</td>\n",
       "      <td>0.0</td>\n",
       "      <td>28.0</td>\n",
       "      <td>0.284</td>\n",
       "      <td>27.0</td>\n",
       "      <td>0.0</td>\n",
       "    </tr>\n",
       "    <tr>\n",
       "      <th>3</th>\n",
       "      <td>1.0</td>\n",
       "      <td>89.0</td>\n",
       "      <td>66.0</td>\n",
       "      <td>23.0</td>\n",
       "      <td>94.0</td>\n",
       "      <td>28.1</td>\n",
       "      <td>0.167</td>\n",
       "      <td>21.0</td>\n",
       "      <td>0.0</td>\n",
       "    </tr>\n",
       "    <tr>\n",
       "      <th>...</th>\n",
       "      <td>...</td>\n",
       "      <td>...</td>\n",
       "      <td>...</td>\n",
       "      <td>...</td>\n",
       "      <td>...</td>\n",
       "      <td>...</td>\n",
       "      <td>...</td>\n",
       "      <td>...</td>\n",
       "      <td>...</td>\n",
       "    </tr>\n",
       "    <tr>\n",
       "      <th>657</th>\n",
       "      <td>1.0</td>\n",
       "      <td>120.0</td>\n",
       "      <td>80.0</td>\n",
       "      <td>48.0</td>\n",
       "      <td>200.0</td>\n",
       "      <td>38.9</td>\n",
       "      <td>1.162</td>\n",
       "      <td>41.0</td>\n",
       "      <td>0.0</td>\n",
       "    </tr>\n",
       "    <tr>\n",
       "      <th>579</th>\n",
       "      <td>2.0</td>\n",
       "      <td>197.0</td>\n",
       "      <td>70.0</td>\n",
       "      <td>99.0</td>\n",
       "      <td>0.0</td>\n",
       "      <td>34.7</td>\n",
       "      <td>0.575</td>\n",
       "      <td>62.0</td>\n",
       "      <td>1.0</td>\n",
       "    </tr>\n",
       "    <tr>\n",
       "      <th>359</th>\n",
       "      <td>1.0</td>\n",
       "      <td>196.0</td>\n",
       "      <td>76.0</td>\n",
       "      <td>36.0</td>\n",
       "      <td>249.0</td>\n",
       "      <td>36.5</td>\n",
       "      <td>0.875</td>\n",
       "      <td>29.0</td>\n",
       "      <td>1.0</td>\n",
       "    </tr>\n",
       "    <tr>\n",
       "      <th>553</th>\n",
       "      <td>1.0</td>\n",
       "      <td>88.0</td>\n",
       "      <td>62.0</td>\n",
       "      <td>24.0</td>\n",
       "      <td>44.0</td>\n",
       "      <td>29.9</td>\n",
       "      <td>0.422</td>\n",
       "      <td>23.0</td>\n",
       "      <td>0.0</td>\n",
       "    </tr>\n",
       "    <tr>\n",
       "      <th>27</th>\n",
       "      <td>1.0</td>\n",
       "      <td>97.0</td>\n",
       "      <td>66.0</td>\n",
       "      <td>15.0</td>\n",
       "      <td>140.0</td>\n",
       "      <td>23.2</td>\n",
       "      <td>0.487</td>\n",
       "      <td>22.0</td>\n",
       "      <td>0.0</td>\n",
       "    </tr>\n",
       "  </tbody>\n",
       "</table>\n",
       "<p>629 rows × 9 columns</p>\n",
       "</div>"
      ],
      "text/plain": [
       "     Pregnancies  Glucose  BloodPressure  SkinThickness  Insulin   BMI  \\\n",
       "247          0.0    165.0           90.0           33.0    680.0  52.3   \n",
       "580          0.0    151.0           90.0           46.0      0.0  42.1   \n",
       "43           9.0    171.0          110.0           24.0    240.0  45.4   \n",
       "251          2.0    129.0           84.0            0.0      0.0  28.0   \n",
       "3            1.0     89.0           66.0           23.0     94.0  28.1   \n",
       "..           ...      ...            ...            ...      ...   ...   \n",
       "657          1.0    120.0           80.0           48.0    200.0  38.9   \n",
       "579          2.0    197.0           70.0           99.0      0.0  34.7   \n",
       "359          1.0    196.0           76.0           36.0    249.0  36.5   \n",
       "553          1.0     88.0           62.0           24.0     44.0  29.9   \n",
       "27           1.0     97.0           66.0           15.0    140.0  23.2   \n",
       "\n",
       "     DiabetesPedigreeFunction   Age  Outcome  \n",
       "247                     0.427  23.0      0.0  \n",
       "580                     0.371  21.0      1.0  \n",
       "43                      0.721  54.0      1.0  \n",
       "251                     0.284  27.0      0.0  \n",
       "3                       0.167  21.0      0.0  \n",
       "..                        ...   ...      ...  \n",
       "657                     1.162  41.0      0.0  \n",
       "579                     0.575  62.0      1.0  \n",
       "359                     0.875  29.0      1.0  \n",
       "553                     0.422  23.0      0.0  \n",
       "27                      0.487  22.0      0.0  \n",
       "\n",
       "[629 rows x 9 columns]"
      ]
     },
     "execution_count": 19,
     "metadata": {},
     "output_type": "execute_result"
    }
   ],
   "source": [
    "traindf.compute()"
   ]
  },
  {
   "cell_type": "code",
   "execution_count": 20,
   "metadata": {},
   "outputs": [],
   "source": [
    "y_train = traindf.pop(data_cl.get_label()[0])\n",
    "X_train = traindf"
   ]
  },
  {
   "cell_type": "code",
   "execution_count": 21,
   "metadata": {},
   "outputs": [],
   "source": [
    "y_test = testdf.pop(data_cl.get_label()[0])\n",
    "X_test = testdf"
   ]
  },
  {
   "cell_type": "code",
   "execution_count": 22,
   "metadata": {},
   "outputs": [
    {
     "data": {
      "text/plain": [
       "(139, 8)"
      ]
     },
     "execution_count": 22,
     "metadata": {},
     "output_type": "execute_result"
    }
   ],
   "source": [
    "testdf.compute().shape"
   ]
  },
  {
   "cell_type": "code",
   "execution_count": 23,
   "metadata": {},
   "outputs": [],
   "source": [
    "scaler_x = MinMaxScaler()\n",
    "scaler_x.fit(X_train)\n",
    "X_train = scaler_x.transform(X_train)\n",
    "X_test = scaler_x.transform(X_test)"
   ]
  },
  {
   "cell_type": "code",
   "execution_count": 24,
   "metadata": {},
   "outputs": [],
   "source": [
    "y_train = np.asarray(y_train).reshape([-1, 1])\n",
    "y_test = np.asarray(y_test).reshape([-1, 1])"
   ]
  },
  {
   "cell_type": "code",
   "execution_count": 25,
   "metadata": {},
   "outputs": [
    {
     "data": {
      "text/plain": [
       "(629, 1)"
      ]
     },
     "execution_count": 25,
     "metadata": {},
     "output_type": "execute_result"
    }
   ],
   "source": [
    "y_train.shape"
   ]
  },
  {
   "cell_type": "code",
   "execution_count": 26,
   "metadata": {},
   "outputs": [
    {
     "name": "stderr",
     "output_type": "stream",
     "text": [
      "2022-09-19 20:43:28.811692: I tensorflow/compiler/jit/xla_cpu_device.cc:41] Not creating XLA devices, tf_xla_enable_xla_devices not set\n",
      "2022-09-19 20:43:28.812370: I tensorflow/stream_executor/platform/default/dso_loader.cc:49] Successfully opened dynamic library libcuda.so.1\n",
      "2022-09-19 20:43:28.883612: I tensorflow/stream_executor/cuda/cuda_gpu_executor.cc:941] successful NUMA node read from SysFS had negative value (-1), but there must be at least one NUMA node, so returning NUMA node zero\n",
      "2022-09-19 20:43:28.883765: I tensorflow/core/common_runtime/gpu/gpu_device.cc:1720] Found device 0 with properties: \n",
      "pciBusID: 0000:01:00.0 name: NVIDIA GeForce RTX 2060 computeCapability: 7.5\n",
      "coreClock: 1.695GHz coreCount: 30 deviceMemorySize: 5.79GiB deviceMemoryBandwidth: 312.97GiB/s\n",
      "2022-09-19 20:43:28.883798: I tensorflow/stream_executor/platform/default/dso_loader.cc:49] Successfully opened dynamic library libcudart.so.10.1\n",
      "2022-09-19 20:43:28.885158: I tensorflow/stream_executor/platform/default/dso_loader.cc:49] Successfully opened dynamic library libcublas.so.10\n",
      "2022-09-19 20:43:28.885199: I tensorflow/stream_executor/platform/default/dso_loader.cc:49] Successfully opened dynamic library libcublasLt.so.10\n",
      "2022-09-19 20:43:28.886445: I tensorflow/stream_executor/platform/default/dso_loader.cc:49] Successfully opened dynamic library libcufft.so.10\n",
      "2022-09-19 20:43:28.886703: I tensorflow/stream_executor/platform/default/dso_loader.cc:49] Successfully opened dynamic library libcurand.so.10\n",
      "2022-09-19 20:43:28.888120: I tensorflow/stream_executor/platform/default/dso_loader.cc:49] Successfully opened dynamic library libcusolver.so.10\n",
      "2022-09-19 20:43:28.888915: I tensorflow/stream_executor/platform/default/dso_loader.cc:49] Successfully opened dynamic library libcusparse.so.10\n",
      "2022-09-19 20:43:28.891910: I tensorflow/stream_executor/platform/default/dso_loader.cc:49] Successfully opened dynamic library libcudnn.so.7\n",
      "2022-09-19 20:43:28.892047: I tensorflow/stream_executor/cuda/cuda_gpu_executor.cc:941] successful NUMA node read from SysFS had negative value (-1), but there must be at least one NUMA node, so returning NUMA node zero\n",
      "2022-09-19 20:43:28.892245: I tensorflow/stream_executor/cuda/cuda_gpu_executor.cc:941] successful NUMA node read from SysFS had negative value (-1), but there must be at least one NUMA node, so returning NUMA node zero\n",
      "2022-09-19 20:43:28.892347: I tensorflow/core/common_runtime/gpu/gpu_device.cc:1862] Adding visible gpu devices: 0\n",
      "2022-09-19 20:43:28.892552: I tensorflow/core/platform/cpu_feature_guard.cc:142] This TensorFlow binary is optimized with oneAPI Deep Neural Network Library (oneDNN) to use the following CPU instructions in performance-critical operations:  SSE4.1 SSE4.2 AVX AVX2 FMA\n",
      "To enable them in other operations, rebuild TensorFlow with the appropriate compiler flags.\n",
      "2022-09-19 20:43:28.892913: I tensorflow/compiler/jit/xla_gpu_device.cc:99] Not creating XLA devices, tf_xla_enable_xla_devices not set\n",
      "2022-09-19 20:43:28.892994: I tensorflow/stream_executor/cuda/cuda_gpu_executor.cc:941] successful NUMA node read from SysFS had negative value (-1), but there must be at least one NUMA node, so returning NUMA node zero\n",
      "2022-09-19 20:43:28.893104: I tensorflow/core/common_runtime/gpu/gpu_device.cc:1720] Found device 0 with properties: \n",
      "pciBusID: 0000:01:00.0 name: NVIDIA GeForce RTX 2060 computeCapability: 7.5\n",
      "coreClock: 1.695GHz coreCount: 30 deviceMemorySize: 5.79GiB deviceMemoryBandwidth: 312.97GiB/s\n",
      "2022-09-19 20:43:28.893134: I tensorflow/stream_executor/platform/default/dso_loader.cc:49] Successfully opened dynamic library libcudart.so.10.1\n",
      "2022-09-19 20:43:28.893154: I tensorflow/stream_executor/platform/default/dso_loader.cc:49] Successfully opened dynamic library libcublas.so.10\n",
      "2022-09-19 20:43:28.893170: I tensorflow/stream_executor/platform/default/dso_loader.cc:49] Successfully opened dynamic library libcublasLt.so.10\n",
      "2022-09-19 20:43:28.893185: I tensorflow/stream_executor/platform/default/dso_loader.cc:49] Successfully opened dynamic library libcufft.so.10\n",
      "2022-09-19 20:43:28.893201: I tensorflow/stream_executor/platform/default/dso_loader.cc:49] Successfully opened dynamic library libcurand.so.10\n",
      "2022-09-19 20:43:28.893216: I tensorflow/stream_executor/platform/default/dso_loader.cc:49] Successfully opened dynamic library libcusolver.so.10\n",
      "2022-09-19 20:43:28.893233: I tensorflow/stream_executor/platform/default/dso_loader.cc:49] Successfully opened dynamic library libcusparse.so.10\n",
      "2022-09-19 20:43:28.893249: I tensorflow/stream_executor/platform/default/dso_loader.cc:49] Successfully opened dynamic library libcudnn.so.7\n",
      "2022-09-19 20:43:28.893301: I tensorflow/stream_executor/cuda/cuda_gpu_executor.cc:941] successful NUMA node read from SysFS had negative value (-1), but there must be at least one NUMA node, so returning NUMA node zero\n",
      "2022-09-19 20:43:28.893445: I tensorflow/stream_executor/cuda/cuda_gpu_executor.cc:941] successful NUMA node read from SysFS had negative value (-1), but there must be at least one NUMA node, so returning NUMA node zero\n",
      "2022-09-19 20:43:28.893542: I tensorflow/core/common_runtime/gpu/gpu_device.cc:1862] Adding visible gpu devices: 0\n",
      "2022-09-19 20:43:28.893573: I tensorflow/stream_executor/platform/default/dso_loader.cc:49] Successfully opened dynamic library libcudart.so.10.1\n",
      "2022-09-19 20:43:29.335477: I tensorflow/core/common_runtime/gpu/gpu_device.cc:1261] Device interconnect StreamExecutor with strength 1 edge matrix:\n",
      "2022-09-19 20:43:29.335500: I tensorflow/core/common_runtime/gpu/gpu_device.cc:1267]      0 \n",
      "2022-09-19 20:43:29.335507: I tensorflow/core/common_runtime/gpu/gpu_device.cc:1280] 0:   N \n",
      "2022-09-19 20:43:29.335686: I tensorflow/stream_executor/cuda/cuda_gpu_executor.cc:941] successful NUMA node read from SysFS had negative value (-1), but there must be at least one NUMA node, so returning NUMA node zero\n",
      "2022-09-19 20:43:29.335867: I tensorflow/stream_executor/cuda/cuda_gpu_executor.cc:941] successful NUMA node read from SysFS had negative value (-1), but there must be at least one NUMA node, so returning NUMA node zero\n",
      "2022-09-19 20:43:29.336010: I tensorflow/stream_executor/cuda/cuda_gpu_executor.cc:941] successful NUMA node read from SysFS had negative value (-1), but there must be at least one NUMA node, so returning NUMA node zero\n",
      "2022-09-19 20:43:29.336120: I tensorflow/core/common_runtime/gpu/gpu_device.cc:1406] Created TensorFlow device (/job:localhost/replica:0/task:0/device:GPU:0 with 4892 MB memory) -> physical GPU (device: 0, name: NVIDIA GeForce RTX 2060, pci bus id: 0000:01:00.0, compute capability: 7.5)\n",
      "2022-09-19 20:43:29.573481: I tensorflow/compiler/mlir/mlir_graph_optimization_pass.cc:116] None of the MLIR optimization passes are enabled (registered 2)\n",
      "2022-09-19 20:43:29.596482: I tensorflow/core/platform/profile_utils/cpu_utils.cc:112] CPU Frequency: 2899885000 Hz\n",
      "2022-09-19 20:43:31.214500: I tensorflow/stream_executor/platform/default/dso_loader.cc:49] Successfully opened dynamic library libcublas.so.10\n"
     ]
    },
    {
     "name": "stdout",
     "output_type": "stream",
     "text": [
      "\n",
      " \n",
      " \n",
      "\n",
      "loss  :  3.55377459526062 , TEST :  4.16708517074585\n",
      "output_layer_dense_16_16_loss  :  0.4487924873828888 , TEST :  0.43323060870170593\n",
      "output_layer_dense_16_64_loss  :  0.44368109107017517 , TEST :  0.4224235415458679\n",
      "output_layer_dense_16_512_loss  :  0.4198547899723053 , TEST :  0.4411255717277527\n",
      "output_layer_dense_64_16_loss  :  0.4247172176837921 , TEST :  0.43731048703193665\n",
      "output_layer_dense_64_64_loss  :  0.4069501757621765 , TEST :  0.42118945717811584\n",
      "output_layer_dense_64_512_loss  :  0.3755263686180115 , TEST :  0.4935704469680786\n",
      "output_layer_dense_512_16_loss  :  0.3913739323616028 , TEST :  0.45781421661376953\n",
      "output_layer_dense_512_64_loss  :  0.3506911098957062 , TEST :  0.4895961284637451\n",
      "output_layer_dense_512_512_loss  :  0.2921876013278961 , TEST :  0.5708246827125549\n",
      "\n",
      " \n",
      " \n",
      "\n",
      "loss  :  3.893350601196289 , TEST :  4.809457302093506\n",
      "output_layer_dense_16_16_16_loss  :  0.4312341809272766 , TEST :  0.44130396842956543\n",
      "output_layer_dense_16_16_64_loss  :  0.4228796660900116 , TEST :  0.46864527463912964\n",
      "output_layer_dense_16_16_512_loss  :  0.4080369472503662 , TEST :  0.47099584341049194\n",
      "output_layer_dense_16_64_16_loss  :  0.4043210744857788 , TEST :  0.4428269565105438\n",
      "output_layer_dense_16_64_64_loss  :  0.4105086326599121 , TEST :  0.46619370579719543\n",
      "output_layer_dense_16_64_512_loss  :  0.38995158672332764 , TEST :  0.5086783170700073\n",
      "output_layer_dense_16_512_16_loss  :  0.3739573359489441 , TEST :  0.4576694667339325\n",
      "output_layer_dense_16_512_64_loss  :  0.3377668261528015 , TEST :  0.5373178124427795\n",
      "output_layer_dense_16_512_512_loss  :  0.31449776887893677 , TEST :  0.5583657622337341\n",
      "output_layer_dense_64_16_16_loss  :  0.4001964330673218 , TEST :  0.4574604034423828\n",
      "\n",
      " \n",
      " \n",
      "\n",
      "loss  :  3.227665662765503 , TEST :  6.040795803070068\n",
      "output_layer_dense_64_64_16_loss  :  0.39152705669403076 , TEST :  0.47280916571617126\n",
      "output_layer_dense_64_64_64_loss  :  0.3847416639328003 , TEST :  0.4684242308139801\n",
      "output_layer_dense_64_64_512_loss  :  0.3192099332809448 , TEST :  0.6037660241127014\n",
      "output_layer_dense_64_512_16_loss  :  0.3604032099246979 , TEST :  0.49805352091789246\n",
      "output_layer_dense_64_512_64_loss  :  0.30024996399879456 , TEST :  0.5923672318458557\n",
      "output_layer_dense_64_512_512_loss  :  0.1743820756673813 , TEST :  1.09624183177948\n",
      "output_layer_dense_512_16_16_loss  :  0.3911743760108948 , TEST :  0.5035693049430847\n",
      "output_layer_dense_512_64_16_loss  :  0.3305623531341553 , TEST :  0.569380521774292\n",
      "output_layer_dense_512_64_64_loss  :  0.31706124544143677 , TEST :  0.5954879522323608\n",
      "output_layer_dense_512_512_16_loss  :  0.2583540380001068 , TEST :  0.6406954526901245\n",
      "\n",
      " \n",
      " \n",
      "\n",
      "loss  :  0.3001852333545685 , TEST :  2.403240919113159\n",
      "output_layer_dense_512_512_64_loss  :  0.1949341893196106 , TEST :  0.8865947127342224\n",
      "output_layer_dense_512_512_512_loss  :  0.1052510142326355 , TEST :  1.516646146774292\n",
      "\n",
      "-------------------------------------------------------------------------------\n",
      "[{'model_name': 'dense_64_64', 'score': 0.42118945717811584, 'path_weights': '/home/anish/AutoNN_test_weights/dense_64_64', 'model_conf': ['', 8, 2, 'relu', {'layer1': 64, 'layer2': 64}, [1, 'sigmoid']], 'model': <tensorflow.python.keras.engine.functional.Functional object at 0x7f784838e9d0>}, {'model_name': 'dense_16_64', 'score': 0.4224235415458679, 'path_weights': '/home/anish/AutoNN_test_weights/dense_16_64', 'model_conf': ['', 8, 2, 'relu', {'layer1': 16, 'layer2': 64}, [1, 'sigmoid']], 'model': <tensorflow.python.keras.engine.functional.Functional object at 0x7f784838e610>}, {'model_name': 'dense_16_16', 'score': 0.43323060870170593, 'path_weights': '/home/anish/AutoNN_test_weights/dense_16_16', 'model_conf': ['', 8, 2, 'relu', {'layer1': 16, 'layer2': 16}, [1, 'sigmoid']], 'model': <tensorflow.python.keras.engine.functional.Functional object at 0x7f78483e48b0>}, {'model_name': 'dense_64_16', 'score': 0.43731048703193665, 'path_weights': '/home/anish/AutoNN_test_weights/dense_64_16', 'model_conf': ['', 8, 2, 'relu', {'layer1': 64, 'layer2': 16}, [1, 'sigmoid']], 'model': <tensorflow.python.keras.engine.functional.Functional object at 0x7f784838e400>}, {'model_name': 'dense_16_512', 'score': 0.4411255717277527, 'path_weights': '/home/anish/AutoNN_test_weights/dense_16_512', 'model_conf': ['', 8, 2, 'relu', {'layer1': 16, 'layer2': 512}, [1, 'sigmoid']], 'model': <tensorflow.python.keras.engine.functional.Functional object at 0x7f784838edf0>}]\n",
      "\n",
      "-------------------------------------------------------------------------------\n",
      "--------------------------------------------------------------------------------\n",
      "Model Name : dense_64_64_dr\n",
      "\n",
      "BEST HYPERPARAMETERS : BEST_LOSS : 0.3694552481174469, BEST_ACTIVATION : relu, BEST_INITIALIZER : GlorotUniform, BEST_LEARINING_RATE : 0.00631, BEST_BATCHSIZE : 16, BEST_DROPOUT_RATE : 0.0, BEST_DROPOUT_LOSS : 0.3857615888118744\n",
      "\n",
      " \n",
      " \n",
      "\n",
      "loss  :  0.32641589641571045 , TEST :  0.5336472392082214\n",
      "--------------------------------------------------------------------------------\n",
      "Model Name : dense_16_64_dr\n",
      "\n",
      "BEST HYPERPARAMETERS : BEST_LOSS : 0.42015835642814636, BEST_ACTIVATION : relu, BEST_INITIALIZER : GlorotUniform, BEST_LEARINING_RATE : 0.01259, BEST_BATCHSIZE : 32, BEST_DROPOUT_RATE : 0.0, BEST_DROPOUT_LOSS : 0.42517268657684326\n",
      "\n",
      " \n",
      " \n",
      "\n",
      "loss  :  0.406024694442749 , TEST :  0.5542764663696289\n",
      "--------------------------------------------------------------------------------\n",
      "Model Name : dense_16_16_dr\n",
      "\n",
      "BEST HYPERPARAMETERS : BEST_LOSS : 0.4344003200531006, BEST_ACTIVATION : relu, BEST_INITIALIZER : GlorotNormal, BEST_LEARINING_RATE : 0.01995, BEST_BATCHSIZE : 16, BEST_DROPOUT_RATE : 0.0, BEST_DROPOUT_LOSS : 0.45227715373039246\n",
      "\n",
      " \n",
      " \n",
      "\n",
      "loss  :  0.41558557748794556 , TEST :  0.4542750120162964\n",
      "--------------------------------------------------------------------------------\n",
      "Model Name : dense_64_16_dr\n",
      "\n",
      "BEST HYPERPARAMETERS : BEST_LOSS : 0.4237683117389679, BEST_ACTIVATION : selu, BEST_INITIALIZER : LecunUniform, BEST_LEARINING_RATE : 0.01995, BEST_BATCHSIZE : 32, BEST_DROPOUT_RATE : 0.0, BEST_DROPOUT_LOSS : 0.4380545914173126\n",
      "\n",
      " \n",
      " \n",
      "\n",
      "loss  :  0.4060867726802826 , TEST :  0.49131616950035095\n",
      "--------------------------------------------------------------------------------\n",
      "Model Name : dense_16_512_dr\n",
      "\n",
      "BEST HYPERPARAMETERS : BEST_LOSS : 0.4146125316619873, BEST_ACTIVATION : relu, BEST_INITIALIZER : GlorotNormal, BEST_LEARINING_RATE : 0.00631, BEST_BATCHSIZE : 32, BEST_DROPOUT_RATE : 0.0, BEST_DROPOUT_LOSS : 0.4181039333343506\n",
      "\n",
      " \n",
      " \n",
      "\n",
      "loss  :  0.38928818702697754 , TEST :  0.4994816482067108\n",
      "[{'model_name': 'dense_16_16_dr', 'score': 0.4542750120162964, 'path_weights': '/home/anish/AutoNN_test_weights/candidate_models/dense_16_16_dr', 'model_conf': ['', 8, 2, 'relu', {'layer1': 16, 'layer2': 16}, [1, 'sigmoid'], True], 'model': <tensorflow.python.keras.engine.functional.Functional object at 0x7f7637600d60>}, {'model_name': 'dense_64_16_dr', 'score': 0.49131616950035095, 'path_weights': '/home/anish/AutoNN_test_weights/candidate_models/dense_64_16_dr', 'model_conf': ['', 8, 2, 'relu', {'layer1': 64, 'layer2': 16}, [1, 'sigmoid'], True], 'model': <tensorflow.python.keras.engine.functional.Functional object at 0x7f78b480bf70>}, {'model_name': 'dense_16_512_dr', 'score': 0.4994816482067108, 'path_weights': '/home/anish/AutoNN_test_weights/candidate_models/dense_16_512_dr', 'model_conf': ['', 8, 2, 'relu', {'layer1': 16, 'layer2': 512}, [1, 'sigmoid'], True], 'model': <tensorflow.python.keras.engine.functional.Functional object at 0x7f7626c31580>}]\n"
     ]
    },
    {
     "name": "stderr",
     "output_type": "stream",
     "text": [
      "2022-09-19 20:54:31.512594: W tensorflow/python/util/util.cc:348] Sets are not currently considered sequences, but this may change in the future, so consider avoiding using them.\n"
     ]
    },
    {
     "name": "stdout",
     "output_type": "stream",
     "text": [
      "INFO:tensorflow:Assets written to: /home/anish/AutoNN_test_weights/candidate_models/dense_16_16_dr/assets\n",
      "INFO:tensorflow:Assets written to: /home/anish/AutoNN_test_weights/candidate_models/dense_64_16_dr/assets\n",
      "INFO:tensorflow:Assets written to: /home/anish/AutoNN_test_weights/candidate_models/dense_16_512_dr/assets\n",
      "-------------------------------------------------------------------------------------------------------------------\n",
      "dense_16_16_dr_st_dense_64_16_dr\n",
      "Model: \"dense_16_16_dr_st_dense_64_16_dr\"\n",
      "_________________________________________________________________\n",
      "Layer (type)                 Output Shape              Param #   \n",
      "=================================================================\n",
      "input_layer_dense_16_16_dr ( [(None, 8)]               0         \n",
      "_________________________________________________________________\n",
      "layer1_dense_16_16_dr (Dense (None, 16)                144       \n",
      "_________________________________________________________________\n",
      "layer2_dense_16_16_dr (Dense (None, 16)                272       \n",
      "_________________________________________________________________\n",
      "dropout_6 (Dropout)          (None, 16)                0         \n",
      "_________________________________________________________________\n",
      "layer1_dense_64_16_dr_2nd (D (None, 64)                1088      \n",
      "_________________________________________________________________\n",
      "layer2_dense_64_16_dr_2nd (D (None, 16)                1040      \n",
      "_________________________________________________________________\n",
      "dropout_7 (Dropout)          (None, 16)                0         \n",
      "_________________________________________________________________\n",
      "output_layer_dense_64_16_dr  (None, 1)                 17        \n",
      "=================================================================\n",
      "Total params: 2,561\n",
      "Trainable params: 2,561\n",
      "Non-trainable params: 0\n",
      "_________________________________________________________________\n",
      "None\n",
      "BEST HYPERPARAMETERS : BEST_LOSS : 0.40159469842910767, BEST_ACTIVATION : relu, BEST_INITIALIZER : GlorotNormal, BEST_LEARINING_RATE : 0.00631, BEST_BATCHSIZE : 32, BEST_DROPOUT_RATE : None, BEST_DROPOUT_LOSS : None\n",
      "GlorotNormal\n",
      "DROPOUT RATES : [0.5, 0.2]\n",
      "TRAIN_LOSS = 0.43639039993286133, TEST_LOSS = 0.514621376991272\n",
      "INFO:tensorflow:Assets written to: /home/anish/AutoNN_test_weights/stacked_models/dense_16_16_dr_st_dense_64_16_dr/assets\n",
      "-------------------------------------------------------------------------------------------------------------------\n",
      "dense_16_16_dr_st_dense_16_512_dr\n",
      "Model: \"dense_16_16_dr_st_dense_16_512_dr\"\n",
      "_________________________________________________________________\n",
      "Layer (type)                 Output Shape              Param #   \n",
      "=================================================================\n",
      "input_layer_dense_16_16_dr ( [(None, 8)]               0         \n",
      "_________________________________________________________________\n",
      "layer1_dense_16_16_dr (Dense (None, 16)                144       \n",
      "_________________________________________________________________\n",
      "layer2_dense_16_16_dr (Dense (None, 16)                272       \n",
      "_________________________________________________________________\n",
      "dropout_9 (Dropout)          (None, 16)                0         \n",
      "_________________________________________________________________\n",
      "layer1_dense_16_512_dr_2nd ( (None, 16)                272       \n",
      "_________________________________________________________________\n",
      "layer2_dense_16_512_dr_2nd ( (None, 512)               8704      \n",
      "_________________________________________________________________\n",
      "dropout_10 (Dropout)         (None, 512)               0         \n",
      "_________________________________________________________________\n",
      "output_layer_dense_16_512_dr (None, 1)                 513       \n",
      "=================================================================\n",
      "Total params: 9,905\n",
      "Trainable params: 9,905\n",
      "Non-trainable params: 0\n",
      "_________________________________________________________________\n",
      "None\n",
      "BEST HYPERPARAMETERS : BEST_LOSS : 0.4043082296848297, BEST_ACTIVATION : relu, BEST_INITIALIZER : GlorotNormal, BEST_LEARINING_RATE : 0.01, BEST_BATCHSIZE : 64, BEST_DROPOUT_RATE : None, BEST_DROPOUT_LOSS : None\n",
      "GlorotNormal\n",
      "DROPOUT RATES : [0.5, 0]\n",
      "TRAIN_LOSS = 0.5041189193725586, TEST_LOSS = 0.4826001524925232\n",
      "INFO:tensorflow:Assets written to: /home/anish/AutoNN_test_weights/stacked_models/dense_16_16_dr_st_dense_16_512_dr/assets\n",
      "-------------------------------------------------------------------------------------------------------------------\n",
      "dense_64_16_dr_st_dense_16_16_dr\n",
      "Model: \"dense_64_16_dr_st_dense_16_16_dr\"\n",
      "_________________________________________________________________\n",
      "Layer (type)                 Output Shape              Param #   \n",
      "=================================================================\n",
      "input_layer_dense_64_16_dr ( [(None, 8)]               0         \n",
      "_________________________________________________________________\n",
      "layer1_dense_64_16_dr (Dense (None, 64)                576       \n",
      "_________________________________________________________________\n",
      "layer2_dense_64_16_dr (Dense (None, 16)                1040      \n",
      "_________________________________________________________________\n",
      "dropout_12 (Dropout)         (None, 16)                0         \n",
      "_________________________________________________________________\n",
      "layer1_dense_16_16_dr_2nd (D (None, 16)                272       \n",
      "_________________________________________________________________\n",
      "layer2_dense_16_16_dr_2nd (D (None, 16)                272       \n",
      "_________________________________________________________________\n",
      "dropout_13 (Dropout)         (None, 16)                0         \n",
      "_________________________________________________________________\n",
      "output_layer_dense_16_16_dr  (None, 1)                 17        \n",
      "=================================================================\n",
      "Total params: 2,177\n",
      "Trainable params: 2,177\n",
      "Non-trainable params: 0\n",
      "_________________________________________________________________\n",
      "None\n",
      "BEST HYPERPARAMETERS : BEST_LOSS : 0.37491723895072937, BEST_ACTIVATION : relu, BEST_INITIALIZER : GlorotNormal, BEST_LEARINING_RATE : 0.00501, BEST_BATCHSIZE : 64, BEST_DROPOUT_RATE : None, BEST_DROPOUT_LOSS : None\n",
      "GlorotNormal\n",
      "DROPOUT RATES : [0.5, 0]\n",
      "TRAIN_LOSS = 0.3417290449142456, TEST_LOSS = 0.4595332741737366\n",
      "INFO:tensorflow:Assets written to: /home/anish/AutoNN_test_weights/stacked_models/dense_64_16_dr_st_dense_16_16_dr/assets\n",
      "-------------------------------------------------------------------------------------------------------------------\n",
      "dense_64_16_dr_st_dense_16_512_dr\n",
      "Model: \"dense_64_16_dr_st_dense_16_512_dr\"\n",
      "_________________________________________________________________\n",
      "Layer (type)                 Output Shape              Param #   \n",
      "=================================================================\n",
      "input_layer_dense_64_16_dr ( [(None, 8)]               0         \n",
      "_________________________________________________________________\n",
      "layer1_dense_64_16_dr (Dense (None, 64)                576       \n",
      "_________________________________________________________________\n",
      "layer2_dense_64_16_dr (Dense (None, 16)                1040      \n",
      "_________________________________________________________________\n",
      "dropout_15 (Dropout)         (None, 16)                0         \n",
      "_________________________________________________________________\n",
      "layer1_dense_16_512_dr_2nd ( (None, 16)                272       \n",
      "_________________________________________________________________\n",
      "layer2_dense_16_512_dr_2nd ( (None, 512)               8704      \n",
      "_________________________________________________________________\n",
      "dropout_16 (Dropout)         (None, 512)               0         \n",
      "_________________________________________________________________\n",
      "output_layer_dense_16_512_dr (None, 1)                 513       \n",
      "=================================================================\n",
      "Total params: 11,105\n",
      "Trainable params: 11,105\n",
      "Non-trainable params: 0\n",
      "_________________________________________________________________\n",
      "None\n",
      "BEST HYPERPARAMETERS : BEST_LOSS : 0.3764803111553192, BEST_ACTIVATION : relu, BEST_INITIALIZER : GlorotNormal, BEST_LEARINING_RATE : 0.00316, BEST_BATCHSIZE : 32, BEST_DROPOUT_RATE : None, BEST_DROPOUT_LOSS : None\n",
      "GlorotNormal\n"
     ]
    },
    {
     "name": "stdout",
     "output_type": "stream",
     "text": [
      "DROPOUT RATES : [0.5, 0.5]\n",
      "TRAIN_LOSS = 0.37791749835014343, TEST_LOSS = 0.47709545493125916\n",
      "INFO:tensorflow:Assets written to: /home/anish/AutoNN_test_weights/stacked_models/dense_64_16_dr_st_dense_16_512_dr/assets\n",
      "-------------------------------------------------------------------------------------------------------------------\n",
      "dense_16_512_dr_st_dense_16_16_dr\n",
      "Model: \"dense_16_512_dr_st_dense_16_16_dr\"\n",
      "_________________________________________________________________\n",
      "Layer (type)                 Output Shape              Param #   \n",
      "=================================================================\n",
      "input_layer_dense_16_512_dr  [(None, 8)]               0         \n",
      "_________________________________________________________________\n",
      "layer1_dense_16_512_dr (Dens (None, 16)                144       \n",
      "_________________________________________________________________\n",
      "layer2_dense_16_512_dr (Dens (None, 512)               8704      \n",
      "_________________________________________________________________\n",
      "dropout_18 (Dropout)         (None, 512)               0         \n",
      "_________________________________________________________________\n",
      "layer1_dense_16_16_dr_2nd (D (None, 16)                8208      \n",
      "_________________________________________________________________\n",
      "layer2_dense_16_16_dr_2nd (D (None, 16)                272       \n",
      "_________________________________________________________________\n",
      "dropout_19 (Dropout)         (None, 16)                0         \n",
      "_________________________________________________________________\n",
      "output_layer_dense_16_16_dr  (None, 1)                 17        \n",
      "=================================================================\n",
      "Total params: 17,345\n",
      "Trainable params: 17,345\n",
      "Non-trainable params: 0\n",
      "_________________________________________________________________\n",
      "None\n",
      "BEST HYPERPARAMETERS : BEST_LOSS : 0.3979966342449188, BEST_ACTIVATION : selu, BEST_INITIALIZER : LecunUniform, BEST_LEARINING_RATE : 0.00631, BEST_BATCHSIZE : 64, BEST_DROPOUT_RATE : None, BEST_DROPOUT_LOSS : None\n",
      "LecunUniform\n",
      "DROPOUT RATES : [0.5, 0.5]\n",
      "TRAIN_LOSS = 0.3550153970718384, TEST_LOSS = 0.4345412254333496\n",
      "INFO:tensorflow:Assets written to: /home/anish/AutoNN_test_weights/stacked_models/dense_16_512_dr_st_dense_16_16_dr/assets\n",
      "-------------------------------------------------------------------------------------------------------------------\n",
      "dense_16_512_dr_st_dense_64_16_dr\n",
      "Model: \"dense_16_512_dr_st_dense_64_16_dr\"\n",
      "_________________________________________________________________\n",
      "Layer (type)                 Output Shape              Param #   \n",
      "=================================================================\n",
      "input_layer_dense_16_512_dr  [(None, 8)]               0         \n",
      "_________________________________________________________________\n",
      "layer1_dense_16_512_dr (Dens (None, 16)                144       \n",
      "_________________________________________________________________\n",
      "layer2_dense_16_512_dr (Dens (None, 512)               8704      \n",
      "_________________________________________________________________\n",
      "dropout_21 (Dropout)         (None, 512)               0         \n",
      "_________________________________________________________________\n",
      "layer1_dense_64_16_dr_2nd (D (None, 64)                32832     \n",
      "_________________________________________________________________\n",
      "layer2_dense_64_16_dr_2nd (D (None, 16)                1040      \n",
      "_________________________________________________________________\n",
      "dropout_22 (Dropout)         (None, 16)                0         \n",
      "_________________________________________________________________\n",
      "output_layer_dense_64_16_dr  (None, 1)                 17        \n",
      "=================================================================\n",
      "Total params: 42,737\n",
      "Trainable params: 42,737\n",
      "Non-trainable params: 0\n",
      "_________________________________________________________________\n",
      "None\n",
      "BEST HYPERPARAMETERS : BEST_LOSS : 0.3740435242652893, BEST_ACTIVATION : selu, BEST_INITIALIZER : LecunNormal, BEST_LEARINING_RATE : 0.01, BEST_BATCHSIZE : 64, BEST_DROPOUT_RATE : None, BEST_DROPOUT_LOSS : None\n",
      "LecunNormal\n",
      "DROPOUT RATES : [0.5, 0.5]\n",
      "TRAIN_LOSS = 0.3341747522354126, TEST_LOSS = 0.43799108266830444\n",
      "INFO:tensorflow:Assets written to: /home/anish/AutoNN_test_weights/stacked_models/dense_16_512_dr_st_dense_64_16_dr/assets\n"
     ]
    }
   ],
   "source": [
    "f = final.Final(X_train, y_train, X_test, y_test, \"binary_crossentropy\", 100, 64, input_shape = 8, \n",
    "                                   max_no_layers = 3, model_per_batch = 10, output_activation = \"sigmoid\")\n",
    "f.get_all_best_models()"
   ]
  },
  {
   "cell_type": "code",
   "execution_count": 52,
   "metadata": {},
   "outputs": [],
   "source": [
    "from tensorflow.keras.models import load_model"
   ]
  },
  {
   "cell_type": "code",
   "execution_count": 53,
   "metadata": {},
   "outputs": [],
   "source": [
    "model = load_model(\"/home/anish/AutoNN_test_weights/candidate_models/dense_16_16_dr\")\n",
    "model.compile(loss='binary_crossentropy', optimizer='adam', metrics=['accuracy'])"
   ]
  },
  {
   "cell_type": "code",
   "execution_count": 54,
   "metadata": {},
   "outputs": [
    {
     "name": "stdout",
     "output_type": "stream",
     "text": [
      "20/20 [==============================] - 0s 924us/step - loss: 0.3898 - accuracy: 0.8166\n"
     ]
    },
    {
     "data": {
      "text/plain": [
       "[0.41558557748794556, 0.8012718558311462]"
      ]
     },
     "execution_count": 54,
     "metadata": {},
     "output_type": "execute_result"
    }
   ],
   "source": [
    "model.evaluate(X_train, y_train)"
   ]
  },
  {
   "cell_type": "code",
   "execution_count": 55,
   "metadata": {},
   "outputs": [
    {
     "name": "stdout",
     "output_type": "stream",
     "text": [
      "5/5 [==============================] - 0s 2ms/step - loss: 0.4543 - accuracy: 0.7698\n"
     ]
    },
    {
     "data": {
      "text/plain": [
       "[0.4542750120162964, 0.769784152507782]"
      ]
     },
     "execution_count": 55,
     "metadata": {},
     "output_type": "execute_result"
    }
   ],
   "source": [
    "model.evaluate(X_test, y_test)"
   ]
  },
  {
   "cell_type": "code",
   "execution_count": 31,
   "metadata": {},
   "outputs": [],
   "source": [
    "model = load_model(\"/home/anish/AutoNN_test_weights/candidate_models/dense_16_64_16_dr\")\n",
    "model.compile(loss='binary_crossentropy', optimizer='adam', metrics=['accuracy'])"
   ]
  },
  {
   "cell_type": "code",
   "execution_count": 32,
   "metadata": {},
   "outputs": [
    {
     "name": "stdout",
     "output_type": "stream",
     "text": [
      "20/20 [==============================] - 0s 1ms/step - loss: 0.4488 - accuracy: 0.7915\n"
     ]
    },
    {
     "data": {
      "text/plain": [
       "[0.47204139828681946, 0.7726550102233887]"
      ]
     },
     "execution_count": 32,
     "metadata": {},
     "output_type": "execute_result"
    }
   ],
   "source": [
    "model.evaluate(X_train, y_train)"
   ]
  },
  {
   "cell_type": "code",
   "execution_count": 33,
   "metadata": {},
   "outputs": [
    {
     "name": "stdout",
     "output_type": "stream",
     "text": [
      "5/5 [==============================] - 0s 2ms/step - loss: 0.4249 - accuracy: 0.7842\n"
     ]
    },
    {
     "data": {
      "text/plain": [
       "[0.4249419867992401, 0.7841726541519165]"
      ]
     },
     "execution_count": 33,
     "metadata": {},
     "output_type": "execute_result"
    }
   ],
   "source": [
    "model.evaluate(X_test, y_test)"
   ]
  },
  {
   "cell_type": "code",
   "execution_count": 34,
   "metadata": {},
   "outputs": [],
   "source": [
    "model = load_model(\"/home/anish/AutoNN_test_weights/candidate_models/dense_64_16_16_dr\")\n",
    "model.compile(loss='binary_crossentropy', optimizer='adam', metrics=['accuracy'])"
   ]
  },
  {
   "cell_type": "code",
   "execution_count": 35,
   "metadata": {},
   "outputs": [
    {
     "name": "stdout",
     "output_type": "stream",
     "text": [
      "20/20 [==============================] - 0s 2ms/step - loss: 0.4932 - accuracy: 0.7741\n"
     ]
    },
    {
     "data": {
      "text/plain": [
       "[0.5146235227584839, 0.7615262269973755]"
      ]
     },
     "execution_count": 35,
     "metadata": {},
     "output_type": "execute_result"
    }
   ],
   "source": [
    "model.evaluate(X_train, y_train)"
   ]
  },
  {
   "cell_type": "code",
   "execution_count": 36,
   "metadata": {},
   "outputs": [
    {
     "name": "stdout",
     "output_type": "stream",
     "text": [
      "5/5 [==============================] - 0s 2ms/step - loss: 0.5172 - accuracy: 0.7410\n"
     ]
    },
    {
     "data": {
      "text/plain": [
       "[0.5172277688980103, 0.7410072088241577]"
      ]
     },
     "execution_count": 36,
     "metadata": {},
     "output_type": "execute_result"
    }
   ],
   "source": [
    "model.evaluate(X_test, y_test)"
   ]
  },
  {
   "cell_type": "code",
   "execution_count": null,
   "metadata": {},
   "outputs": [],
   "source": []
  },
  {
   "cell_type": "code",
   "execution_count": 60,
   "metadata": {},
   "outputs": [],
   "source": [
    "model = load_model(\"/home/anish/AutoNN_test_weights/stacked_models/dense_64_16_dr_st_dense_16_16_dr\")\n",
    "model.compile(loss='binary_crossentropy', optimizer='adam', metrics=['accuracy'])"
   ]
  },
  {
   "cell_type": "code",
   "execution_count": 62,
   "metadata": {},
   "outputs": [
    {
     "name": "stdout",
     "output_type": "stream",
     "text": [
      "20/20 [==============================] - 0s 857us/step - loss: 0.3227 - accuracy: 0.8535\n"
     ]
    },
    {
     "data": {
      "text/plain": [
       "[0.3417290449142456, 0.8473767638206482]"
      ]
     },
     "execution_count": 62,
     "metadata": {},
     "output_type": "execute_result"
    }
   ],
   "source": [
    "model.evaluate(X_train, y_train)"
   ]
  },
  {
   "cell_type": "code",
   "execution_count": 63,
   "metadata": {},
   "outputs": [
    {
     "name": "stdout",
     "output_type": "stream",
     "text": [
      "5/5 [==============================] - 0s 1ms/step - loss: 0.4595 - accuracy: 0.7914\n"
     ]
    },
    {
     "data": {
      "text/plain": [
       "[0.4595332741737366, 0.7913669347763062]"
      ]
     },
     "execution_count": 63,
     "metadata": {},
     "output_type": "execute_result"
    }
   ],
   "source": [
    "model.evaluate(X_test, y_test)"
   ]
  },
  {
   "cell_type": "code",
   "execution_count": 64,
   "metadata": {},
   "outputs": [],
   "source": [
    "model = load_model(\"/home/anish/AutoNN_test_weights/stacked_models/dense_64_16_dr_st_dense_16_512_dr\")\n",
    "model.compile(loss='binary_crossentropy', optimizer='adam', metrics=['accuracy'])"
   ]
  },
  {
   "cell_type": "code",
   "execution_count": 65,
   "metadata": {},
   "outputs": [
    {
     "name": "stdout",
     "output_type": "stream",
     "text": [
      "20/20 [==============================] - 0s 994us/step - loss: 0.3529 - accuracy: 0.8446\n"
     ]
    },
    {
     "data": {
      "text/plain": [
       "[0.37791749835014343, 0.837837815284729]"
      ]
     },
     "execution_count": 65,
     "metadata": {},
     "output_type": "execute_result"
    }
   ],
   "source": [
    "model.evaluate(X_train, y_train)"
   ]
  },
  {
   "cell_type": "code",
   "execution_count": 66,
   "metadata": {},
   "outputs": [
    {
     "name": "stdout",
     "output_type": "stream",
     "text": [
      "5/5 [==============================] - 0s 1ms/step - loss: 0.4771 - accuracy: 0.7770\n"
     ]
    },
    {
     "data": {
      "text/plain": [
       "[0.47709545493125916, 0.7769784331321716]"
      ]
     },
     "execution_count": 66,
     "metadata": {},
     "output_type": "execute_result"
    }
   ],
   "source": [
    "model.evaluate(X_test, y_test)"
   ]
  },
  {
   "cell_type": "code",
   "execution_count": 68,
   "metadata": {},
   "outputs": [],
   "source": [
    "model = load_model(\"/home/anish/AutoNN_test_weights/stacked_models/dense_16_512_dr_st_dense_64_16_dr\")\n",
    "model.compile(loss='binary_crossentropy', optimizer='adam', metrics=['accuracy'])"
   ]
  },
  {
   "cell_type": "code",
   "execution_count": 69,
   "metadata": {},
   "outputs": [
    {
     "name": "stdout",
     "output_type": "stream",
     "text": [
      "20/20 [==============================] - 0s 922us/step - loss: 0.3228 - accuracy: 0.8447\n"
     ]
    },
    {
     "data": {
      "text/plain": [
       "[0.3341747522354126, 0.8187599182128906]"
      ]
     },
     "execution_count": 69,
     "metadata": {},
     "output_type": "execute_result"
    }
   ],
   "source": [
    "model.evaluate(X_train, y_train)"
   ]
  },
  {
   "cell_type": "code",
   "execution_count": 70,
   "metadata": {},
   "outputs": [
    {
     "name": "stdout",
     "output_type": "stream",
     "text": [
      "5/5 [==============================] - 0s 2ms/step - loss: 0.4380 - accuracy: 0.8058\n"
     ]
    },
    {
     "data": {
      "text/plain": [
       "[0.43799108266830444, 0.8057553768157959]"
      ]
     },
     "execution_count": 70,
     "metadata": {},
     "output_type": "execute_result"
    }
   ],
   "source": [
    "model.evaluate(X_test, y_test)"
   ]
  },
  {
   "cell_type": "code",
   "execution_count": 47,
   "metadata": {},
   "outputs": [],
   "source": [
    "model = load_model(\"/home/anish/ASC_ML_test_weights/stacked_models/dense_64_64_dr_st_dense_64_64_dr\")\n",
    "model.compile(loss='binary_crossentropy', optimizer='adam', metrics=['accuracy'])"
   ]
  },
  {
   "cell_type": "code",
   "execution_count": 48,
   "metadata": {},
   "outputs": [
    {
     "name": "stdout",
     "output_type": "stream",
     "text": [
      "20/20 [==============================] - 1s 5ms/step - loss: 0.6328 - accuracy: 0.7214\n"
     ]
    },
    {
     "data": {
      "text/plain": [
       "[0.6301463842391968, 0.7313195466995239]"
      ]
     },
     "execution_count": 48,
     "metadata": {},
     "output_type": "execute_result"
    }
   ],
   "source": [
    "model.evaluate(X_train, y_train)"
   ]
  },
  {
   "cell_type": "code",
   "execution_count": 49,
   "metadata": {},
   "outputs": [
    {
     "name": "stdout",
     "output_type": "stream",
     "text": [
      "5/5 [==============================] - 0s 5ms/step - loss: 0.4861 - accuracy: 0.7842\n"
     ]
    },
    {
     "data": {
      "text/plain": [
       "[0.48610737919807434, 0.7841726541519165]"
      ]
     },
     "execution_count": 49,
     "metadata": {},
     "output_type": "execute_result"
    }
   ],
   "source": [
    "model.evaluate(X_test, y_test)"
   ]
  },
  {
   "cell_type": "code",
   "execution_count": 71,
   "metadata": {},
   "outputs": [
    {
     "name": "stdout",
     "output_type": "stream",
     "text": [
      "Gaussian Naive Bayes model accuracy(in %): 82.01438848920863\n"
     ]
    },
    {
     "name": "stderr",
     "output_type": "stream",
     "text": [
      "/home/anish/anaconda3/envs/tfgpu/lib/python3.9/site-packages/sklearn/utils/validation.py:1111: DataConversionWarning: A column-vector y was passed when a 1d array was expected. Please change the shape of y to (n_samples, ), for example using ravel().\n",
      "  y = column_or_1d(y, warn=True)\n"
     ]
    }
   ],
   "source": [
    "from sklearn.naive_bayes import GaussianNB\n",
    "gnb = GaussianNB()\n",
    "gnb.fit(X_train, y_train)\n",
    "\n",
    "# making predictions on the testing set\n",
    "y_pred = gnb.predict(X_test)\n",
    "\n",
    "# comparing actual response values (y_test) with predicted response values (y_pred)\n",
    "from sklearn import metrics\n",
    "print(\"Gaussian Naive Bayes model accuracy(in %):\", metrics.accuracy_score(y_test, y_pred)*100)"
   ]
  },
  {
   "cell_type": "code",
   "execution_count": 72,
   "metadata": {},
   "outputs": [
    {
     "name": "stdout",
     "output_type": "stream",
     "text": [
      "Gaussian Naive Bayes model accuracy(in %): 74.88076311605724\n"
     ]
    }
   ],
   "source": [
    "y_pred_train = gnb.predict(X_train)\n",
    "print(\"Gaussian Naive Bayes model accuracy(in %):\", metrics.accuracy_score(y_train, y_pred_train)*100)"
   ]
  },
  {
   "cell_type": "code",
   "execution_count": null,
   "metadata": {},
   "outputs": [],
   "source": []
  }
 ],
 "metadata": {
  "kernelspec": {
   "display_name": "Python 3 (ipykernel)",
   "language": "python",
   "name": "python3"
  },
  "language_info": {
   "codemirror_mode": {
    "name": "ipython",
    "version": 3
   },
   "file_extension": ".py",
   "mimetype": "text/x-python",
   "name": "python",
   "nbconvert_exporter": "python",
   "pygments_lexer": "ipython3",
   "version": "3.9.13"
  },
  "vscode": {
   "interpreter": {
    "hash": "441a79e7978ad007ee49ac1a1197fffc94e685236b0df2483283c16abedd4251"
   }
  }
 },
 "nbformat": 4,
 "nbformat_minor": 2
}
