{
 "cells": [
  {
   "cell_type": "code",
   "execution_count": 1,
   "id": "8273d359",
   "metadata": {},
   "outputs": [],
   "source": [
    "import sys\n",
    "sys.path.insert(0, '/home/anish/ASC_ML')\n",
    "from ASC_ML import dataframe_extractor as de"
   ]
  },
  {
   "cell_type": "code",
   "execution_count": 2,
   "id": "1fec340d",
   "metadata": {},
   "outputs": [
    {
     "name": "stderr",
     "output_type": "stream",
     "text": [
      "2022-02-19 02:09:23.854782: I tensorflow/stream_executor/platform/default/dso_loader.cc:49] Successfully opened dynamic library libcudart.so.10.1\n"
     ]
    }
   ],
   "source": [
    "import numpy as np\n",
    "import tensorflow as tf\n",
    "from sklearn import preprocessing\n",
    "from tensorflow.keras.callbacks import LearningRateScheduler\n",
    "from tensorflow.keras.models import Sequential, Model\n",
    "from tensorflow.keras.layers import Dense, Concatenate, Flatten, Input, Conv2D\n",
    "from tensorflow.keras.activations import tanh\n",
    "from tensorflow.keras.optimizers import Adam\n",
    "from tensorflow.keras.models import load_model\n",
    "from tensorflow.keras.wrappers.scikit_learn import KerasRegressor\n",
    "from sklearn.model_selection import cross_val_score\n",
    "from sklearn.model_selection import KFold\n",
    "from sklearn.pipeline import Pipeline\n",
    "from sklearn.preprocessing import StandardScaler\n",
    "from sklearn.metrics import mean_absolute_error\n",
    "\n",
    "import time"
   ]
  },
  {
   "cell_type": "code",
   "execution_count": 3,
   "id": "23dc69f9",
   "metadata": {},
   "outputs": [
    {
     "name": "stdout",
     "output_type": "stream",
     "text": [
      "Reading single csv from /home/anish/ASC-ML-EXP-DATASETS/LinReg-tabular/weather-history-dataset/weatherHistory.csv\n"
     ]
    }
   ],
   "source": [
    "directory = \"/home/anish/ASC-ML-EXP-DATASETS/LinReg-tabular/weather-history-dataset/weatherHistory.csv\"\n",
    "dataset_list = de.DataframeExtractor_csv(directory, label_names = [\"Apparent Temperature (C)\"]).df_list"
   ]
  },
  {
   "cell_type": "code",
   "execution_count": 4,
   "id": "cd652a47",
   "metadata": {},
   "outputs": [
    {
     "data": {
      "text/html": [
       "<div>\n",
       "<style scoped>\n",
       "    .dataframe tbody tr th:only-of-type {\n",
       "        vertical-align: middle;\n",
       "    }\n",
       "\n",
       "    .dataframe tbody tr th {\n",
       "        vertical-align: top;\n",
       "    }\n",
       "\n",
       "    .dataframe thead th {\n",
       "        text-align: right;\n",
       "    }\n",
       "</style>\n",
       "<table border=\"1\" class=\"dataframe\">\n",
       "  <thead>\n",
       "    <tr style=\"text-align: right;\">\n",
       "      <th></th>\n",
       "      <th>Formatted Date</th>\n",
       "      <th>Summary</th>\n",
       "      <th>Precip Type</th>\n",
       "      <th>Temperature (C)</th>\n",
       "      <th>Humidity</th>\n",
       "      <th>Wind Speed (km/h)</th>\n",
       "      <th>Wind Bearing (degrees)</th>\n",
       "      <th>Visibility (km)</th>\n",
       "      <th>Loud Cover</th>\n",
       "      <th>Pressure (millibars)</th>\n",
       "      <th>Daily Summary</th>\n",
       "    </tr>\n",
       "  </thead>\n",
       "  <tbody>\n",
       "    <tr>\n",
       "      <th>0</th>\n",
       "      <td>2006-04-01 00:00:00.000 +0200</td>\n",
       "      <td>Partly Cloudy</td>\n",
       "      <td>rain</td>\n",
       "      <td>9.472222</td>\n",
       "      <td>0.89</td>\n",
       "      <td>14.1197</td>\n",
       "      <td>251.0</td>\n",
       "      <td>15.8263</td>\n",
       "      <td>0.0</td>\n",
       "      <td>1015.13</td>\n",
       "      <td>Partly cloudy throughout the day.</td>\n",
       "    </tr>\n",
       "    <tr>\n",
       "      <th>1</th>\n",
       "      <td>2006-04-01 01:00:00.000 +0200</td>\n",
       "      <td>Partly Cloudy</td>\n",
       "      <td>rain</td>\n",
       "      <td>9.355556</td>\n",
       "      <td>0.86</td>\n",
       "      <td>14.2646</td>\n",
       "      <td>259.0</td>\n",
       "      <td>15.8263</td>\n",
       "      <td>0.0</td>\n",
       "      <td>1015.63</td>\n",
       "      <td>Partly cloudy throughout the day.</td>\n",
       "    </tr>\n",
       "    <tr>\n",
       "      <th>2</th>\n",
       "      <td>2006-04-01 02:00:00.000 +0200</td>\n",
       "      <td>Mostly Cloudy</td>\n",
       "      <td>rain</td>\n",
       "      <td>9.377778</td>\n",
       "      <td>0.89</td>\n",
       "      <td>3.9284</td>\n",
       "      <td>204.0</td>\n",
       "      <td>14.9569</td>\n",
       "      <td>0.0</td>\n",
       "      <td>1015.94</td>\n",
       "      <td>Partly cloudy throughout the day.</td>\n",
       "    </tr>\n",
       "    <tr>\n",
       "      <th>3</th>\n",
       "      <td>2006-04-01 03:00:00.000 +0200</td>\n",
       "      <td>Partly Cloudy</td>\n",
       "      <td>rain</td>\n",
       "      <td>8.288889</td>\n",
       "      <td>0.83</td>\n",
       "      <td>14.1036</td>\n",
       "      <td>269.0</td>\n",
       "      <td>15.8263</td>\n",
       "      <td>0.0</td>\n",
       "      <td>1016.41</td>\n",
       "      <td>Partly cloudy throughout the day.</td>\n",
       "    </tr>\n",
       "    <tr>\n",
       "      <th>4</th>\n",
       "      <td>2006-04-01 04:00:00.000 +0200</td>\n",
       "      <td>Mostly Cloudy</td>\n",
       "      <td>rain</td>\n",
       "      <td>8.755556</td>\n",
       "      <td>0.83</td>\n",
       "      <td>11.0446</td>\n",
       "      <td>259.0</td>\n",
       "      <td>15.8263</td>\n",
       "      <td>0.0</td>\n",
       "      <td>1016.51</td>\n",
       "      <td>Partly cloudy throughout the day.</td>\n",
       "    </tr>\n",
       "  </tbody>\n",
       "</table>\n",
       "</div>"
      ],
      "text/plain": [
       "                  Formatted Date        Summary Precip Type  Temperature (C)  \\\n",
       "0  2006-04-01 00:00:00.000 +0200  Partly Cloudy        rain         9.472222   \n",
       "1  2006-04-01 01:00:00.000 +0200  Partly Cloudy        rain         9.355556   \n",
       "2  2006-04-01 02:00:00.000 +0200  Mostly Cloudy        rain         9.377778   \n",
       "3  2006-04-01 03:00:00.000 +0200  Partly Cloudy        rain         8.288889   \n",
       "4  2006-04-01 04:00:00.000 +0200  Mostly Cloudy        rain         8.755556   \n",
       "\n",
       "   Humidity  Wind Speed (km/h)  Wind Bearing (degrees)  Visibility (km)  \\\n",
       "0      0.89            14.1197                   251.0          15.8263   \n",
       "1      0.86            14.2646                   259.0          15.8263   \n",
       "2      0.89             3.9284                   204.0          14.9569   \n",
       "3      0.83            14.1036                   269.0          15.8263   \n",
       "4      0.83            11.0446                   259.0          15.8263   \n",
       "\n",
       "   Loud Cover  Pressure (millibars)                      Daily Summary  \n",
       "0         0.0               1015.13  Partly cloudy throughout the day.  \n",
       "1         0.0               1015.63  Partly cloudy throughout the day.  \n",
       "2         0.0               1015.94  Partly cloudy throughout the day.  \n",
       "3         0.0               1016.41  Partly cloudy throughout the day.  \n",
       "4         0.0               1016.51  Partly cloudy throughout the day.  "
      ]
     },
     "execution_count": 4,
     "metadata": {},
     "output_type": "execute_result"
    }
   ],
   "source": [
    "dataset_list[0].head()"
   ]
  },
  {
   "cell_type": "code",
   "execution_count": 5,
   "id": "0dc65475",
   "metadata": {},
   "outputs": [
    {
     "data": {
      "text/html": [
       "<div>\n",
       "<style scoped>\n",
       "    .dataframe tbody tr th:only-of-type {\n",
       "        vertical-align: middle;\n",
       "    }\n",
       "\n",
       "    .dataframe tbody tr th {\n",
       "        vertical-align: top;\n",
       "    }\n",
       "\n",
       "    .dataframe thead th {\n",
       "        text-align: right;\n",
       "    }\n",
       "</style>\n",
       "<table border=\"1\" class=\"dataframe\">\n",
       "  <thead>\n",
       "    <tr style=\"text-align: right;\">\n",
       "      <th></th>\n",
       "      <th>Apparent Temperature (C)</th>\n",
       "    </tr>\n",
       "  </thead>\n",
       "  <tbody>\n",
       "    <tr>\n",
       "      <th>0</th>\n",
       "      <td>7.388889</td>\n",
       "    </tr>\n",
       "    <tr>\n",
       "      <th>1</th>\n",
       "      <td>7.227778</td>\n",
       "    </tr>\n",
       "    <tr>\n",
       "      <th>2</th>\n",
       "      <td>9.377778</td>\n",
       "    </tr>\n",
       "    <tr>\n",
       "      <th>3</th>\n",
       "      <td>5.944444</td>\n",
       "    </tr>\n",
       "    <tr>\n",
       "      <th>4</th>\n",
       "      <td>6.977778</td>\n",
       "    </tr>\n",
       "  </tbody>\n",
       "</table>\n",
       "</div>"
      ],
      "text/plain": [
       "   Apparent Temperature (C)\n",
       "0                  7.388889\n",
       "1                  7.227778\n",
       "2                  9.377778\n",
       "3                  5.944444\n",
       "4                  6.977778"
      ]
     },
     "execution_count": 5,
     "metadata": {},
     "output_type": "execute_result"
    }
   ],
   "source": [
    "dataset_list[1].head()"
   ]
  },
  {
   "cell_type": "code",
   "execution_count": 6,
   "id": "8d3b3b3f",
   "metadata": {},
   "outputs": [],
   "source": [
    "train_x = dataset_list[0]\n",
    "train_y = dataset_list[1]"
   ]
  },
  {
   "cell_type": "code",
   "execution_count": 7,
   "id": "2a325a91",
   "metadata": {},
   "outputs": [
    {
     "data": {
      "text/plain": [
       "0.0    96453\n",
       "Name: Loud Cover, dtype: int64"
      ]
     },
     "execution_count": 7,
     "metadata": {},
     "output_type": "execute_result"
    }
   ],
   "source": [
    "train_x[\"Loud Cover\"].value_counts(dropna = False).compute()"
   ]
  },
  {
   "cell_type": "code",
   "execution_count": 8,
   "id": "12e09ddf",
   "metadata": {},
   "outputs": [
    {
     "data": {
      "text/plain": [
       "rain    85224\n",
       "snow    10712\n",
       "NaN       517\n",
       "Name: Precip Type, dtype: int64"
      ]
     },
     "execution_count": 8,
     "metadata": {},
     "output_type": "execute_result"
    }
   ],
   "source": [
    "train_x[\"Precip Type\"].value_counts(dropna = False).compute()"
   ]
  },
  {
   "cell_type": "code",
   "execution_count": 9,
   "id": "8d88a424",
   "metadata": {},
   "outputs": [
    {
     "name": "stderr",
     "output_type": "stream",
     "text": [
      "/home/anish/anaconda3/envs/tfgpu/lib/python3.8/site-packages/dask/dataframe/core.py:5077: UserWarning: \n",
      "You did not provide metadata, so Dask is running your function on a small dataset to guess output types. It is possible that Dask will guess incorrectly.\n",
      "To provide an explicit output types or to silence this message, please provide the `meta=` keyword, as described in the map or apply function that you are using.\n",
      "  Before: .apply(func)\n",
      "  After:  .apply(func, meta=(None, 'int64'))\n",
      "\n",
      "  warnings.warn(meta_warning(meta))\n"
     ]
    }
   ],
   "source": [
    "def func(row):   \n",
    "    if row['Precip Type'] == 'rain':\n",
    "        return 1  \n",
    "    elif row['Precip Type'] == 'snow':\n",
    "        return 2\n",
    "    else:\n",
    "        return 0\n",
    "\n",
    "train_x['PrecipNo'] = train_x.apply(func, axis=1)"
   ]
  },
  {
   "cell_type": "code",
   "execution_count": 10,
   "id": "d68b2baf",
   "metadata": {},
   "outputs": [
    {
     "data": {
      "text/plain": [
       "1    85224\n",
       "2    10712\n",
       "0      517\n",
       "Name: PrecipNo, dtype: int64"
      ]
     },
     "execution_count": 10,
     "metadata": {},
     "output_type": "execute_result"
    }
   ],
   "source": [
    "train_x[\"PrecipNo\"].value_counts(dropna = False).compute()"
   ]
  },
  {
   "cell_type": "code",
   "execution_count": 11,
   "id": "11e8a243",
   "metadata": {},
   "outputs": [],
   "source": [
    "train_x = train_x.drop([\"Summary\", \"Precip Type\", \"Formatted Date\", \"Daily Summary\", \"Loud Cover\"], axis=1).compute()"
   ]
  },
  {
   "cell_type": "code",
   "execution_count": 12,
   "id": "282f2721",
   "metadata": {},
   "outputs": [],
   "source": [
    "train_x['PrecipNo'] = train_x['PrecipNo'].map({0: 'No Precip', 1: 'Rain', 2: 'Snow'})\n",
    "train_x = dd.get_dummies(train_x, columns=['PrecipNo'], prefix='', prefix_sep='')"
   ]
  },
  {
   "cell_type": "code",
   "execution_count": 13,
   "id": "0cafa8f2",
   "metadata": {},
   "outputs": [
    {
     "data": {
      "text/html": [
       "<div>\n",
       "<style scoped>\n",
       "    .dataframe tbody tr th:only-of-type {\n",
       "        vertical-align: middle;\n",
       "    }\n",
       "\n",
       "    .dataframe tbody tr th {\n",
       "        vertical-align: top;\n",
       "    }\n",
       "\n",
       "    .dataframe thead th {\n",
       "        text-align: right;\n",
       "    }\n",
       "</style>\n",
       "<table border=\"1\" class=\"dataframe\">\n",
       "  <thead>\n",
       "    <tr style=\"text-align: right;\">\n",
       "      <th></th>\n",
       "      <th>Temperature (C)</th>\n",
       "      <th>Humidity</th>\n",
       "      <th>Wind Speed (km/h)</th>\n",
       "      <th>Wind Bearing (degrees)</th>\n",
       "      <th>Visibility (km)</th>\n",
       "      <th>Pressure (millibars)</th>\n",
       "      <th>No Precip</th>\n",
       "      <th>Rain</th>\n",
       "      <th>Snow</th>\n",
       "    </tr>\n",
       "  </thead>\n",
       "  <tbody>\n",
       "    <tr>\n",
       "      <th>0</th>\n",
       "      <td>9.472222</td>\n",
       "      <td>0.89</td>\n",
       "      <td>14.1197</td>\n",
       "      <td>251.0</td>\n",
       "      <td>15.8263</td>\n",
       "      <td>1015.13</td>\n",
       "      <td>0</td>\n",
       "      <td>1</td>\n",
       "      <td>0</td>\n",
       "    </tr>\n",
       "    <tr>\n",
       "      <th>1</th>\n",
       "      <td>9.355556</td>\n",
       "      <td>0.86</td>\n",
       "      <td>14.2646</td>\n",
       "      <td>259.0</td>\n",
       "      <td>15.8263</td>\n",
       "      <td>1015.63</td>\n",
       "      <td>0</td>\n",
       "      <td>1</td>\n",
       "      <td>0</td>\n",
       "    </tr>\n",
       "    <tr>\n",
       "      <th>2</th>\n",
       "      <td>9.377778</td>\n",
       "      <td>0.89</td>\n",
       "      <td>3.9284</td>\n",
       "      <td>204.0</td>\n",
       "      <td>14.9569</td>\n",
       "      <td>1015.94</td>\n",
       "      <td>0</td>\n",
       "      <td>1</td>\n",
       "      <td>0</td>\n",
       "    </tr>\n",
       "    <tr>\n",
       "      <th>3</th>\n",
       "      <td>8.288889</td>\n",
       "      <td>0.83</td>\n",
       "      <td>14.1036</td>\n",
       "      <td>269.0</td>\n",
       "      <td>15.8263</td>\n",
       "      <td>1016.41</td>\n",
       "      <td>0</td>\n",
       "      <td>1</td>\n",
       "      <td>0</td>\n",
       "    </tr>\n",
       "    <tr>\n",
       "      <th>4</th>\n",
       "      <td>8.755556</td>\n",
       "      <td>0.83</td>\n",
       "      <td>11.0446</td>\n",
       "      <td>259.0</td>\n",
       "      <td>15.8263</td>\n",
       "      <td>1016.51</td>\n",
       "      <td>0</td>\n",
       "      <td>1</td>\n",
       "      <td>0</td>\n",
       "    </tr>\n",
       "  </tbody>\n",
       "</table>\n",
       "</div>"
      ],
      "text/plain": [
       "   Temperature (C)  Humidity  Wind Speed (km/h)  Wind Bearing (degrees)  \\\n",
       "0         9.472222      0.89            14.1197                   251.0   \n",
       "1         9.355556      0.86            14.2646                   259.0   \n",
       "2         9.377778      0.89             3.9284                   204.0   \n",
       "3         8.288889      0.83            14.1036                   269.0   \n",
       "4         8.755556      0.83            11.0446                   259.0   \n",
       "\n",
       "   Visibility (km)  Pressure (millibars)  No Precip  Rain  Snow  \n",
       "0          15.8263               1015.13          0     1     0  \n",
       "1          15.8263               1015.63          0     1     0  \n",
       "2          14.9569               1015.94          0     1     0  \n",
       "3          15.8263               1016.41          0     1     0  \n",
       "4          15.8263               1016.51          0     1     0  "
      ]
     },
     "execution_count": 13,
     "metadata": {},
     "output_type": "execute_result"
    }
   ],
   "source": [
    "train_x.head()"
   ]
  },
  {
   "cell_type": "code",
   "execution_count": null,
   "id": "e102a6c5",
   "metadata": {},
   "outputs": [],
   "source": []
  },
  {
   "cell_type": "code",
   "execution_count": null,
   "id": "b452f9dc",
   "metadata": {},
   "outputs": [],
   "source": []
  },
  {
   "cell_type": "code",
   "execution_count": 14,
   "id": "5ad7e58f",
   "metadata": {},
   "outputs": [
    {
     "name": "stdout",
     "output_type": "stream",
     "text": [
      "9\n"
     ]
    }
   ],
   "source": [
    "input_dim = train_x.shape[1]\n",
    "print(input_dim)"
   ]
  },
  {
   "cell_type": "code",
   "execution_count": 15,
   "id": "6e8ae6e3",
   "metadata": {},
   "outputs": [],
   "source": [
    "tf.keras.backend.clear_session()"
   ]
  },
  {
   "cell_type": "code",
   "execution_count": 16,
   "id": "2bc69188",
   "metadata": {},
   "outputs": [],
   "source": [
    "def baseline_model():\n",
    "    # create model\n",
    "    adam_optimizer = Adam(lr = 1e-3)\n",
    "    model = Sequential()\n",
    "    model.add(Dense(9, input_dim=input_dim, kernel_initializer='normal', activation='relu'))\n",
    "    model.add(Dense(1, kernel_initializer='normal'))\n",
    "    # Compile model\n",
    "    model.compile(loss='mean_squared_error', optimizer=adam_optimizer, \n",
    "                  metrics = [tf.keras.metrics.MeanAbsoluteError(), \"acc\"])\n",
    "    return model"
   ]
  },
  {
   "cell_type": "code",
   "execution_count": 17,
   "id": "1f5dafd4",
   "metadata": {},
   "outputs": [],
   "source": [
    "X = np.array(train_x.values)\n",
    "Y = np.array(train_y.values)"
   ]
  },
  {
   "cell_type": "code",
   "execution_count": 19,
   "id": "5d30bddb",
   "metadata": {},
   "outputs": [
    {
     "name": "stderr",
     "output_type": "stream",
     "text": [
      "2022-02-18 16:55:54.227304: I tensorflow/compiler/jit/xla_cpu_device.cc:41] Not creating XLA devices, tf_xla_enable_xla_devices not set\n",
      "2022-02-18 16:55:54.228016: I tensorflow/stream_executor/platform/default/dso_loader.cc:49] Successfully opened dynamic library libcuda.so.1\n",
      "2022-02-18 16:55:54.273485: I tensorflow/stream_executor/cuda/cuda_gpu_executor.cc:941] successful NUMA node read from SysFS had negative value (-1), but there must be at least one NUMA node, so returning NUMA node zero\n",
      "2022-02-18 16:55:54.273856: I tensorflow/core/common_runtime/gpu/gpu_device.cc:1720] Found device 0 with properties: \n",
      "pciBusID: 0000:01:00.0 name: NVIDIA GeForce RTX 2060 computeCapability: 7.5\n",
      "coreClock: 1.695GHz coreCount: 30 deviceMemorySize: 5.79GiB deviceMemoryBandwidth: 312.97GiB/s\n",
      "2022-02-18 16:55:54.273884: I tensorflow/stream_executor/platform/default/dso_loader.cc:49] Successfully opened dynamic library libcudart.so.10.1\n",
      "2022-02-18 16:55:54.275017: I tensorflow/stream_executor/platform/default/dso_loader.cc:49] Successfully opened dynamic library libcublas.so.10\n",
      "2022-02-18 16:55:54.275049: I tensorflow/stream_executor/platform/default/dso_loader.cc:49] Successfully opened dynamic library libcublasLt.so.10\n",
      "2022-02-18 16:55:54.276024: I tensorflow/stream_executor/platform/default/dso_loader.cc:49] Successfully opened dynamic library libcufft.so.10\n",
      "2022-02-18 16:55:54.276198: I tensorflow/stream_executor/platform/default/dso_loader.cc:49] Successfully opened dynamic library libcurand.so.10\n",
      "2022-02-18 16:55:54.277246: I tensorflow/stream_executor/platform/default/dso_loader.cc:49] Successfully opened dynamic library libcusolver.so.10\n",
      "2022-02-18 16:55:54.277729: I tensorflow/stream_executor/platform/default/dso_loader.cc:49] Successfully opened dynamic library libcusparse.so.10\n",
      "2022-02-18 16:55:54.279949: I tensorflow/stream_executor/platform/default/dso_loader.cc:49] Successfully opened dynamic library libcudnn.so.7\n",
      "2022-02-18 16:55:54.280047: I tensorflow/stream_executor/cuda/cuda_gpu_executor.cc:941] successful NUMA node read from SysFS had negative value (-1), but there must be at least one NUMA node, so returning NUMA node zero\n",
      "2022-02-18 16:55:54.280382: I tensorflow/stream_executor/cuda/cuda_gpu_executor.cc:941] successful NUMA node read from SysFS had negative value (-1), but there must be at least one NUMA node, so returning NUMA node zero\n",
      "2022-02-18 16:55:54.280616: I tensorflow/core/common_runtime/gpu/gpu_device.cc:1862] Adding visible gpu devices: 0\n",
      "2022-02-18 16:55:54.280941: I tensorflow/core/platform/cpu_feature_guard.cc:142] This TensorFlow binary is optimized with oneAPI Deep Neural Network Library (oneDNN) to use the following CPU instructions in performance-critical operations:  SSE4.1 SSE4.2 AVX AVX2 FMA\n",
      "To enable them in other operations, rebuild TensorFlow with the appropriate compiler flags.\n",
      "2022-02-18 16:55:54.281094: I tensorflow/compiler/jit/xla_gpu_device.cc:99] Not creating XLA devices, tf_xla_enable_xla_devices not set\n",
      "2022-02-18 16:55:54.281163: I tensorflow/stream_executor/cuda/cuda_gpu_executor.cc:941] successful NUMA node read from SysFS had negative value (-1), but there must be at least one NUMA node, so returning NUMA node zero\n",
      "2022-02-18 16:55:54.281411: I tensorflow/core/common_runtime/gpu/gpu_device.cc:1720] Found device 0 with properties: \n",
      "pciBusID: 0000:01:00.0 name: NVIDIA GeForce RTX 2060 computeCapability: 7.5\n",
      "coreClock: 1.695GHz coreCount: 30 deviceMemorySize: 5.79GiB deviceMemoryBandwidth: 312.97GiB/s\n",
      "2022-02-18 16:55:54.281427: I tensorflow/stream_executor/platform/default/dso_loader.cc:49] Successfully opened dynamic library libcudart.so.10.1\n",
      "2022-02-18 16:55:54.281444: I tensorflow/stream_executor/platform/default/dso_loader.cc:49] Successfully opened dynamic library libcublas.so.10\n",
      "2022-02-18 16:55:54.281456: I tensorflow/stream_executor/platform/default/dso_loader.cc:49] Successfully opened dynamic library libcublasLt.so.10\n",
      "2022-02-18 16:55:54.281468: I tensorflow/stream_executor/platform/default/dso_loader.cc:49] Successfully opened dynamic library libcufft.so.10\n",
      "2022-02-18 16:55:54.281479: I tensorflow/stream_executor/platform/default/dso_loader.cc:49] Successfully opened dynamic library libcurand.so.10\n",
      "2022-02-18 16:55:54.281491: I tensorflow/stream_executor/platform/default/dso_loader.cc:49] Successfully opened dynamic library libcusolver.so.10\n",
      "2022-02-18 16:55:54.281503: I tensorflow/stream_executor/platform/default/dso_loader.cc:49] Successfully opened dynamic library libcusparse.so.10\n",
      "2022-02-18 16:55:54.281515: I tensorflow/stream_executor/platform/default/dso_loader.cc:49] Successfully opened dynamic library libcudnn.so.7\n",
      "2022-02-18 16:55:54.281556: I tensorflow/stream_executor/cuda/cuda_gpu_executor.cc:941] successful NUMA node read from SysFS had negative value (-1), but there must be at least one NUMA node, so returning NUMA node zero\n",
      "2022-02-18 16:55:54.281824: I tensorflow/stream_executor/cuda/cuda_gpu_executor.cc:941] successful NUMA node read from SysFS had negative value (-1), but there must be at least one NUMA node, so returning NUMA node zero\n",
      "2022-02-18 16:55:54.282055: I tensorflow/core/common_runtime/gpu/gpu_device.cc:1862] Adding visible gpu devices: 0\n",
      "2022-02-18 16:55:54.282078: I tensorflow/stream_executor/platform/default/dso_loader.cc:49] Successfully opened dynamic library libcudart.so.10.1\n",
      "2022-02-18 16:55:54.696947: I tensorflow/core/common_runtime/gpu/gpu_device.cc:1261] Device interconnect StreamExecutor with strength 1 edge matrix:\n",
      "2022-02-18 16:55:54.696991: I tensorflow/core/common_runtime/gpu/gpu_device.cc:1267]      0 \n",
      "2022-02-18 16:55:54.696996: I tensorflow/core/common_runtime/gpu/gpu_device.cc:1280] 0:   N \n",
      "2022-02-18 16:55:54.697257: I tensorflow/stream_executor/cuda/cuda_gpu_executor.cc:941] successful NUMA node read from SysFS had negative value (-1), but there must be at least one NUMA node, so returning NUMA node zero\n",
      "2022-02-18 16:55:54.697698: I tensorflow/stream_executor/cuda/cuda_gpu_executor.cc:941] successful NUMA node read from SysFS had negative value (-1), but there must be at least one NUMA node, so returning NUMA node zero\n",
      "2022-02-18 16:55:54.698085: I tensorflow/stream_executor/cuda/cuda_gpu_executor.cc:941] successful NUMA node read from SysFS had negative value (-1), but there must be at least one NUMA node, so returning NUMA node zero\n",
      "2022-02-18 16:55:54.698416: I tensorflow/core/common_runtime/gpu/gpu_device.cc:1406] Created TensorFlow device (/job:localhost/replica:0/task:0/device:GPU:0 with 5126 MB memory) -> physical GPU (device: 0, name: NVIDIA GeForce RTX 2060, pci bus id: 0000:01:00.0, compute capability: 7.5)\n",
      "2022-02-18 16:55:54.802312: I tensorflow/compiler/mlir/mlir_graph_optimization_pass.cc:116] None of the MLIR optimization passes are enabled (registered 2)\n",
      "2022-02-18 16:55:54.802691: I tensorflow/core/platform/profile_utils/cpu_utils.cc:112] CPU Frequency: 2899885000 Hz\n",
      "2022-02-18 16:55:55.037916: I tensorflow/stream_executor/platform/default/dso_loader.cc:49] Successfully opened dynamic library libcublas.so.10\n"
     ]
    },
    {
     "name": "stdout",
     "output_type": "stream",
     "text": [
      "Time elapsed: 145.84883975982666\n",
      "Baseline: -0.87 (1.11) MSE\n"
     ]
    }
   ],
   "source": [
    "start = time.time()\n",
    "\n",
    "estimators = []\n",
    "estimators.append(('standardize', StandardScaler()))\n",
    "estimators.append(('mlp', KerasRegressor(build_fn=baseline_model, epochs=30, batch_size=64, verbose=0)))\n",
    "pipeline = Pipeline(estimators)\n",
    "kfold = KFold(n_splits=5)\n",
    "results = cross_val_score(pipeline, X, Y, cv=kfold)\n",
    "\n",
    "end = time.time()\n",
    "print (\"Time elapsed:\", end - start)\n",
    "print(\"Baseline: %.2f (%.2f) MSE\" % (results.mean(), results.std()))"
   ]
  },
  {
   "cell_type": "code",
   "execution_count": 20,
   "id": "d6d78d21",
   "metadata": {},
   "outputs": [],
   "source": [
    "def model2():\n",
    "    # create model\n",
    "    adam_optimizer = Adam(lr = 1e-3)\n",
    "    model = Sequential()\n",
    "    model.add(Dense(16, input_dim=input_dim, kernel_initializer='normal', activation='relu'))\n",
    "    model.add(Dense(1, kernel_initializer='normal'))\n",
    "    # Compile model\n",
    "    model.compile(loss='mean_squared_error', optimizer=adam_optimizer, \n",
    "                  metrics = [tf.keras.metrics.MeanAbsoluteError(), \"acc\"])\n",
    "    return model"
   ]
  },
  {
   "cell_type": "code",
   "execution_count": 22,
   "id": "f9b9c773",
   "metadata": {},
   "outputs": [
    {
     "name": "stdout",
     "output_type": "stream",
     "text": [
      "Time elapsed: 141.44713973999023\n",
      "Baseline: -0.18 (0.08) MSE\n"
     ]
    }
   ],
   "source": [
    "start = time.time()\n",
    "\n",
    "estimators = []\n",
    "estimators.append(('standardize', StandardScaler()))\n",
    "estimators.append(('mlp', KerasRegressor(build_fn=model2, epochs=30, batch_size=64, verbose=0)))\n",
    "pipeline = Pipeline(estimators)\n",
    "kfold = KFold(n_splits=5)\n",
    "results = cross_val_score(pipeline, X, Y, cv=kfold)\n",
    "\n",
    "end = time.time()\n",
    "print (\"Time elapsed:\", end - start)\n",
    "print(\"Baseline: %.2f (%.2f) MSE\" % (results.mean(), results.std()))"
   ]
  },
  {
   "cell_type": "code",
   "execution_count": 23,
   "id": "87fc4c00",
   "metadata": {},
   "outputs": [],
   "source": [
    "def model3():\n",
    "    # create model\n",
    "    adam_optimizer = Adam(lr = 1e-3)\n",
    "    model = Sequential()\n",
    "    model.add(Dense(9, input_dim=input_dim, kernel_initializer='normal', activation='relu'))\n",
    "    model.add(Dense(32, kernel_initializer='normal', activation='relu'))\n",
    "    model.add(Dense(1, kernel_initializer='normal'))\n",
    "    # Compile model\n",
    "    model.compile(loss='mean_absolute_error', optimizer=adam_optimizer, \n",
    "                  metrics = [tf.keras.metrics.MeanAbsoluteError(), \"acc\"])\n",
    "    return model"
   ]
  },
  {
   "cell_type": "code",
   "execution_count": 24,
   "id": "d5a051df",
   "metadata": {},
   "outputs": [
    {
     "name": "stdout",
     "output_type": "stream",
     "text": [
      "Time elapsed: 148.88164520263672\n",
      "Baseline: -0.18 (0.04) MSE\n"
     ]
    }
   ],
   "source": [
    "start = time.time()\n",
    "\n",
    "estimators = []\n",
    "estimators.append(('standardize', StandardScaler()))\n",
    "estimators.append(('mlp', KerasRegressor(build_fn=model3, epochs=30, batch_size=64, verbose=0)))\n",
    "pipeline = Pipeline(estimators)\n",
    "kfold = KFold(n_splits=5)\n",
    "results = cross_val_score(pipeline, X, Y, cv=kfold)\n",
    "\n",
    "end = time.time()\n",
    "print (\"Time elapsed:\", end - start)\n",
    "print(\"Baseline: %.2f (%.2f) MSE\" % (results.mean(), results.std()))"
   ]
  },
  {
   "cell_type": "code",
   "execution_count": 25,
   "id": "d866ac07",
   "metadata": {},
   "outputs": [],
   "source": [
    "def model4():\n",
    "    # create model\n",
    "    adam_optimizer = Adam(lr = 1e-3)\n",
    "    model = Sequential()\n",
    "    model.add(Dense(16, input_dim=input_dim, kernel_initializer='normal', activation='relu'))\n",
    "    model.add(Dense(32, kernel_initializer='normal', activation='relu'))\n",
    "    model.add(Dense(1, kernel_initializer='normal'))\n",
    "    # Compile model\n",
    "    model.compile(loss='mean_absolute_error', optimizer=adam_optimizer, \n",
    "                  metrics = [tf.keras.metrics.MeanAbsoluteError(), \"acc\"])\n",
    "    return model"
   ]
  },
  {
   "cell_type": "code",
   "execution_count": 26,
   "id": "85a225d6",
   "metadata": {},
   "outputs": [
    {
     "name": "stdout",
     "output_type": "stream",
     "text": [
      "Time elapsed: 148.58093857765198\n",
      "Baseline: -0.17 (0.02) MSE\n"
     ]
    }
   ],
   "source": [
    "start = time.time()\n",
    "\n",
    "estimators = []\n",
    "estimators.append(('standardize', StandardScaler()))\n",
    "estimators.append(('mlp', KerasRegressor(build_fn=model4, epochs=30, batch_size=64, verbose=0)))\n",
    "pipeline = Pipeline(estimators)\n",
    "kfold = KFold(n_splits=5)\n",
    "results = cross_val_score(pipeline, X, Y, cv=kfold)\n",
    "\n",
    "end = time.time()\n",
    "print (\"Time elapsed:\", end - start)\n",
    "print(\"Baseline: %.2f (%.2f) MSE\" % (results.mean(), results.std()))"
   ]
  },
  {
   "cell_type": "code",
   "execution_count": 29,
   "id": "2ab82a92",
   "metadata": {},
   "outputs": [],
   "source": [
    "def model5():\n",
    "    # create model\n",
    "    adam_optimizer = Adam(lr = 1e-3)\n",
    "    model = Sequential()\n",
    "    model.add(Dense(16, input_dim=input_dim, kernel_initializer='normal', activation='relu'))\n",
    "    model.add(Dense(32, kernel_initializer='normal', activation='relu'))\n",
    "    model.add(Dense(32, kernel_initializer='normal', activation='relu'))\n",
    "    model.add(Dense(1, kernel_initializer='normal'))\n",
    "    # Compile model\n",
    "    model.compile(loss='mean_absolute_error', optimizer=adam_optimizer, \n",
    "                  metrics = [tf.keras.metrics.MeanAbsoluteError(), \"acc\"])\n",
    "    return model"
   ]
  },
  {
   "cell_type": "code",
   "execution_count": 30,
   "id": "87d68bb0",
   "metadata": {},
   "outputs": [
    {
     "name": "stdout",
     "output_type": "stream",
     "text": [
      "Time elapsed: 158.92162919044495\n",
      "Baseline: -0.15 (0.03) MSE\n"
     ]
    }
   ],
   "source": [
    "start = time.time()\n",
    "\n",
    "estimators = []\n",
    "estimators.append(('standardize', StandardScaler()))\n",
    "estimators.append(('mlp', KerasRegressor(build_fn=model5, epochs=30, batch_size=64, verbose=0)))\n",
    "pipeline = Pipeline(estimators)\n",
    "kfold = KFold(n_splits=5)\n",
    "results = cross_val_score(pipeline, X, Y, cv=kfold)\n",
    "\n",
    "end = time.time()\n",
    "print (\"Time elapsed:\", end - start)\n",
    "print(\"Baseline: %.2f (%.2f) MSE\" % (results.mean(), results.std()))"
   ]
  },
  {
   "cell_type": "code",
   "execution_count": 31,
   "id": "4eaffda9",
   "metadata": {},
   "outputs": [],
   "source": [
    "def model6():\n",
    "    # create model\n",
    "    adam_optimizer = Adam(lr = 1e-3)\n",
    "    model = Sequential()\n",
    "    model.add(Dense(16, input_dim=input_dim, kernel_initializer='normal', activation='relu'))\n",
    "    model.add(Dense(64, kernel_initializer='normal', activation='relu'))\n",
    "    model.add(Dense(64, kernel_initializer='normal', activation='relu'))\n",
    "    model.add(Dense(1, kernel_initializer='normal'))\n",
    "    # Compile model\n",
    "    model.compile(loss='mean_absolute_error', optimizer=adam_optimizer, \n",
    "                  metrics = [tf.keras.metrics.MeanAbsoluteError(), \"acc\"])\n",
    "    return model"
   ]
  },
  {
   "cell_type": "code",
   "execution_count": 33,
   "id": "f844c78b",
   "metadata": {},
   "outputs": [
    {
     "name": "stdout",
     "output_type": "stream",
     "text": [
      "Time elapsed: 157.42704486846924\n",
      "Baseline: -0.12 (0.03) MSE\n"
     ]
    }
   ],
   "source": [
    "start = time.time()\n",
    "\n",
    "estimators = []\n",
    "estimators.append(('standardize', StandardScaler()))\n",
    "estimators.append(('mlp', KerasRegressor(build_fn=model6, epochs=30, batch_size=64, verbose=0)))\n",
    "pipeline = Pipeline(estimators)\n",
    "kfold = KFold(n_splits=5)\n",
    "results = cross_val_score(pipeline, X, Y, cv=kfold)\n",
    "\n",
    "end = time.time()\n",
    "print (\"Time elapsed:\", end - start)\n",
    "print(\"Baseline: %.2f (%.2f) MSE\" % (results.mean(), results.std()))"
   ]
  },
  {
   "cell_type": "code",
   "execution_count": 67,
   "id": "40fc12d3",
   "metadata": {},
   "outputs": [],
   "source": [
    "indices = round(X.shape[0]*0.9)\n",
    "\n",
    "X_train = X[:indices,:]\n",
    "Y_train = Y[:indices,:]\n",
    "X_test = X[:(input_dim-indices),:]\n",
    "Y_test = Y[:(input_dim-indices),:]"
   ]
  },
  {
   "cell_type": "code",
   "execution_count": 57,
   "id": "40b49e8d",
   "metadata": {},
   "outputs": [
    {
     "name": "stdout",
     "output_type": "stream",
     "text": [
      "Time elapsed: 35.33163905143738\n"
     ]
    }
   ],
   "source": [
    "start = time.time()\n",
    "pipeline.fit(X_train,Y_train)\n",
    "prediction = pipeline.predict(X_test)\n",
    "end = time.time()\n",
    "print(\"Time elapsed:\", end - start)"
   ]
  },
  {
   "cell_type": "code",
   "execution_count": 59,
   "id": "75970c9b",
   "metadata": {},
   "outputs": [
    {
     "data": {
      "text/plain": [
       "0.09937471481529861"
      ]
     },
     "execution_count": 59,
     "metadata": {},
     "output_type": "execute_result"
    }
   ],
   "source": [
    "prediction = pipeline.predict(X_train)\n",
    "mean_absolute_error(Y_train, prediction)"
   ]
  },
  {
   "cell_type": "code",
   "execution_count": 65,
   "id": "5d1a5c5c",
   "metadata": {},
   "outputs": [
    {
     "data": {
      "text/plain": [
       "0.10064993430578757"
      ]
     },
     "execution_count": 65,
     "metadata": {},
     "output_type": "execute_result"
    }
   ],
   "source": [
    "prediction = pipeline.predict(X_test)\n",
    "mean_absolute_error(Y_test, prediction)"
   ]
  },
  {
   "cell_type": "code",
   "execution_count": 66,
   "id": "733217ad",
   "metadata": {},
   "outputs": [
    {
     "name": "stdout",
     "output_type": "stream",
     "text": [
      "[7.38888889] 7.2842026\n",
      "[7.22777778] 7.124077\n",
      "[9.37777778] 9.298915\n",
      "[5.94444444] 5.8622494\n",
      "[6.97777778] 6.955845\n",
      "[7.11111111] 7.022196\n",
      "[5.52222222] 5.4859056\n",
      "[6.52777778] 6.451088\n",
      "[10.82222222] 10.825314\n",
      "[13.77222222] 13.749904\n"
     ]
    }
   ],
   "source": [
    "for i in range(10):\n",
    "    print(Y_test[i], prediction[i])"
   ]
  },
  {
   "cell_type": "code",
   "execution_count": null,
   "id": "9d497831",
   "metadata": {},
   "outputs": [],
   "source": []
  },
  {
   "cell_type": "code",
   "execution_count": null,
   "id": "b1aab75f",
   "metadata": {},
   "outputs": [],
   "source": [
    "import ASCML\n",
    "asc = ASCML(directory = \"Dataset Directory\"/url = \"URL\")\n",
    "asc.visualize()\n",
    "model = asc.get_model(label_names = \"......\")"
   ]
  },
  {
   "cell_type": "code",
   "execution_count": null,
   "id": "e50a4d98",
   "metadata": {},
   "outputs": [],
   "source": []
  },
  {
   "cell_type": "code",
   "execution_count": null,
   "id": "7c299f1e",
   "metadata": {},
   "outputs": [],
   "source": []
  }
 ],
 "metadata": {
  "kernelspec": {
   "display_name": "Python 3 (ipykernel)",
   "language": "python",
   "name": "python3"
  },
  "language_info": {
   "codemirror_mode": {
    "name": "ipython",
    "version": 3
   },
   "file_extension": ".py",
   "mimetype": "text/x-python",
   "name": "python",
   "nbconvert_exporter": "python",
   "pygments_lexer": "ipython3",
   "version": "3.8.12"
  }
 },
 "nbformat": 4,
 "nbformat_minor": 5
}
