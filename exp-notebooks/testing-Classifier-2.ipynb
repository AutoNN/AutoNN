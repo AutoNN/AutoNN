{
 "cells": [
  {
   "cell_type": "code",
   "execution_count": 1,
   "metadata": {},
   "outputs": [],
   "source": [
    "import sys\n",
    "import time\n",
    "sys.path.insert(0, '/home/anish/AutoNN')"
   ]
  },
  {
   "cell_type": "code",
   "execution_count": 2,
   "metadata": {},
   "outputs": [],
   "source": [
    "from ASC_ML.preprocessing import data_cleaning as dc\n",
    "import dask.dataframe as dd"
   ]
  },
  {
   "cell_type": "code",
   "execution_count": 3,
   "metadata": {},
   "outputs": [],
   "source": [
    "df = dd.read_csv(\"/home/anish/Downloads/diabetes1.csv\", assume_missing=True)"
   ]
  },
  {
   "cell_type": "code",
   "execution_count": 4,
   "metadata": {},
   "outputs": [
    {
     "data": {
      "text/html": [
       "<div>\n",
       "<style scoped>\n",
       "    .dataframe tbody tr th:only-of-type {\n",
       "        vertical-align: middle;\n",
       "    }\n",
       "\n",
       "    .dataframe tbody tr th {\n",
       "        vertical-align: top;\n",
       "    }\n",
       "\n",
       "    .dataframe thead th {\n",
       "        text-align: right;\n",
       "    }\n",
       "</style>\n",
       "<table border=\"1\" class=\"dataframe\">\n",
       "  <thead>\n",
       "    <tr style=\"text-align: right;\">\n",
       "      <th></th>\n",
       "      <th>Pregnancies</th>\n",
       "      <th>Glucose</th>\n",
       "      <th>BloodPressure</th>\n",
       "      <th>SkinThickness</th>\n",
       "      <th>Insulin</th>\n",
       "      <th>BMI</th>\n",
       "      <th>DiabetesPedigreeFunction</th>\n",
       "      <th>Age</th>\n",
       "      <th>Outcome</th>\n",
       "    </tr>\n",
       "  </thead>\n",
       "  <tbody>\n",
       "    <tr>\n",
       "      <th>0</th>\n",
       "      <td>6.0</td>\n",
       "      <td>148.0</td>\n",
       "      <td>72.0</td>\n",
       "      <td>35.0</td>\n",
       "      <td>NaN</td>\n",
       "      <td>33.6</td>\n",
       "      <td>0.627</td>\n",
       "      <td>50.0</td>\n",
       "      <td>yes</td>\n",
       "    </tr>\n",
       "    <tr>\n",
       "      <th>1</th>\n",
       "      <td>1.0</td>\n",
       "      <td>85.0</td>\n",
       "      <td>66.0</td>\n",
       "      <td>29.0</td>\n",
       "      <td>NaN</td>\n",
       "      <td>26.6</td>\n",
       "      <td>0.351</td>\n",
       "      <td>31.0</td>\n",
       "      <td>no</td>\n",
       "    </tr>\n",
       "    <tr>\n",
       "      <th>2</th>\n",
       "      <td>8.0</td>\n",
       "      <td>183.0</td>\n",
       "      <td>64.0</td>\n",
       "      <td>NaN</td>\n",
       "      <td>NaN</td>\n",
       "      <td>23.3</td>\n",
       "      <td>0.672</td>\n",
       "      <td>32.0</td>\n",
       "      <td>yes</td>\n",
       "    </tr>\n",
       "    <tr>\n",
       "      <th>3</th>\n",
       "      <td>1.0</td>\n",
       "      <td>89.0</td>\n",
       "      <td>66.0</td>\n",
       "      <td>23.0</td>\n",
       "      <td>94.0</td>\n",
       "      <td>28.1</td>\n",
       "      <td>0.167</td>\n",
       "      <td>21.0</td>\n",
       "      <td>no</td>\n",
       "    </tr>\n",
       "    <tr>\n",
       "      <th>4</th>\n",
       "      <td>NaN</td>\n",
       "      <td>137.0</td>\n",
       "      <td>40.0</td>\n",
       "      <td>35.0</td>\n",
       "      <td>168.0</td>\n",
       "      <td>43.1</td>\n",
       "      <td>2.288</td>\n",
       "      <td>33.0</td>\n",
       "      <td>yes</td>\n",
       "    </tr>\n",
       "  </tbody>\n",
       "</table>\n",
       "</div>"
      ],
      "text/plain": [
       "   Pregnancies  Glucose  BloodPressure  SkinThickness  Insulin   BMI  \\\n",
       "0          6.0    148.0           72.0           35.0      NaN  33.6   \n",
       "1          1.0     85.0           66.0           29.0      NaN  26.6   \n",
       "2          8.0    183.0           64.0            NaN      NaN  23.3   \n",
       "3          1.0     89.0           66.0           23.0     94.0  28.1   \n",
       "4          NaN    137.0           40.0           35.0    168.0  43.1   \n",
       "\n",
       "   DiabetesPedigreeFunction   Age Outcome  \n",
       "0                     0.627  50.0     yes  \n",
       "1                     0.351  31.0      no  \n",
       "2                     0.672  32.0     yes  \n",
       "3                     0.167  21.0      no  \n",
       "4                     2.288  33.0     yes  "
      ]
     },
     "execution_count": 4,
     "metadata": {},
     "output_type": "execute_result"
    }
   ],
   "source": [
    "df.head(5)"
   ]
  },
  {
   "cell_type": "code",
   "execution_count": 5,
   "metadata": {},
   "outputs": [],
   "source": [
    "df = df.dropna()\n",
    "df = df.reset_index(drop=True)"
   ]
  },
  {
   "cell_type": "code",
   "execution_count": 6,
   "metadata": {},
   "outputs": [
    {
     "data": {
      "text/html": [
       "<div>\n",
       "<style scoped>\n",
       "    .dataframe tbody tr th:only-of-type {\n",
       "        vertical-align: middle;\n",
       "    }\n",
       "\n",
       "    .dataframe tbody tr th {\n",
       "        vertical-align: top;\n",
       "    }\n",
       "\n",
       "    .dataframe thead th {\n",
       "        text-align: right;\n",
       "    }\n",
       "</style>\n",
       "<table border=\"1\" class=\"dataframe\">\n",
       "  <thead>\n",
       "    <tr style=\"text-align: right;\">\n",
       "      <th></th>\n",
       "      <th>Pregnancies</th>\n",
       "      <th>Glucose</th>\n",
       "      <th>BloodPressure</th>\n",
       "      <th>SkinThickness</th>\n",
       "      <th>Insulin</th>\n",
       "      <th>BMI</th>\n",
       "      <th>DiabetesPedigreeFunction</th>\n",
       "      <th>Age</th>\n",
       "      <th>Outcome</th>\n",
       "    </tr>\n",
       "  </thead>\n",
       "  <tbody>\n",
       "    <tr>\n",
       "      <th>0</th>\n",
       "      <td>1.0</td>\n",
       "      <td>89.0</td>\n",
       "      <td>66.0</td>\n",
       "      <td>23.0</td>\n",
       "      <td>94.0</td>\n",
       "      <td>28.1</td>\n",
       "      <td>0.167</td>\n",
       "      <td>21.0</td>\n",
       "      <td>no</td>\n",
       "    </tr>\n",
       "    <tr>\n",
       "      <th>1</th>\n",
       "      <td>3.0</td>\n",
       "      <td>78.0</td>\n",
       "      <td>50.0</td>\n",
       "      <td>32.0</td>\n",
       "      <td>88.0</td>\n",
       "      <td>31.0</td>\n",
       "      <td>0.248</td>\n",
       "      <td>26.0</td>\n",
       "      <td>yes</td>\n",
       "    </tr>\n",
       "    <tr>\n",
       "      <th>2</th>\n",
       "      <td>2.0</td>\n",
       "      <td>197.0</td>\n",
       "      <td>70.0</td>\n",
       "      <td>45.0</td>\n",
       "      <td>543.0</td>\n",
       "      <td>30.5</td>\n",
       "      <td>0.158</td>\n",
       "      <td>53.0</td>\n",
       "      <td>yes</td>\n",
       "    </tr>\n",
       "    <tr>\n",
       "      <th>3</th>\n",
       "      <td>1.0</td>\n",
       "      <td>189.0</td>\n",
       "      <td>60.0</td>\n",
       "      <td>23.0</td>\n",
       "      <td>846.0</td>\n",
       "      <td>30.1</td>\n",
       "      <td>0.398</td>\n",
       "      <td>59.0</td>\n",
       "      <td>yes</td>\n",
       "    </tr>\n",
       "    <tr>\n",
       "      <th>4</th>\n",
       "      <td>5.0</td>\n",
       "      <td>166.0</td>\n",
       "      <td>72.0</td>\n",
       "      <td>19.0</td>\n",
       "      <td>175.0</td>\n",
       "      <td>25.8</td>\n",
       "      <td>0.587</td>\n",
       "      <td>51.0</td>\n",
       "      <td>yes</td>\n",
       "    </tr>\n",
       "  </tbody>\n",
       "</table>\n",
       "</div>"
      ],
      "text/plain": [
       "   Pregnancies  Glucose  BloodPressure  SkinThickness  Insulin   BMI  \\\n",
       "0          1.0     89.0           66.0           23.0     94.0  28.1   \n",
       "1          3.0     78.0           50.0           32.0     88.0  31.0   \n",
       "2          2.0    197.0           70.0           45.0    543.0  30.5   \n",
       "3          1.0    189.0           60.0           23.0    846.0  30.1   \n",
       "4          5.0    166.0           72.0           19.0    175.0  25.8   \n",
       "\n",
       "   DiabetesPedigreeFunction   Age Outcome  \n",
       "0                     0.167  21.0      no  \n",
       "1                     0.248  26.0     yes  \n",
       "2                     0.158  53.0     yes  \n",
       "3                     0.398  59.0     yes  \n",
       "4                     0.587  51.0     yes  "
      ]
     },
     "execution_count": 6,
     "metadata": {},
     "output_type": "execute_result"
    }
   ],
   "source": [
    "df.head()"
   ]
  },
  {
   "cell_type": "code",
   "execution_count": 7,
   "metadata": {},
   "outputs": [],
   "source": [
    "data_cl = dc.DataCleaning(train_dataframe=df, label=['Outcome'])"
   ]
  },
  {
   "cell_type": "code",
   "execution_count": 8,
   "metadata": {},
   "outputs": [
    {
     "data": {
      "text/html": [
       "<div>\n",
       "<style scoped>\n",
       "    .dataframe tbody tr th:only-of-type {\n",
       "        vertical-align: middle;\n",
       "    }\n",
       "\n",
       "    .dataframe tbody tr th {\n",
       "        vertical-align: top;\n",
       "    }\n",
       "\n",
       "    .dataframe thead th {\n",
       "        text-align: right;\n",
       "    }\n",
       "</style>\n",
       "<table border=\"1\" class=\"dataframe\">\n",
       "  <thead>\n",
       "    <tr style=\"text-align: right;\">\n",
       "      <th></th>\n",
       "      <th>Pregnancies</th>\n",
       "      <th>Glucose</th>\n",
       "      <th>BloodPressure</th>\n",
       "      <th>SkinThickness</th>\n",
       "      <th>Insulin</th>\n",
       "      <th>BMI</th>\n",
       "      <th>DiabetesPedigreeFunction</th>\n",
       "      <th>Age</th>\n",
       "      <th>Outcome</th>\n",
       "    </tr>\n",
       "  </thead>\n",
       "  <tbody>\n",
       "    <tr>\n",
       "      <th>0</th>\n",
       "      <td>1.0</td>\n",
       "      <td>89.0</td>\n",
       "      <td>66.0</td>\n",
       "      <td>23.0</td>\n",
       "      <td>94.0</td>\n",
       "      <td>28.1</td>\n",
       "      <td>0.167</td>\n",
       "      <td>21.0</td>\n",
       "      <td>no</td>\n",
       "    </tr>\n",
       "    <tr>\n",
       "      <th>1</th>\n",
       "      <td>3.0</td>\n",
       "      <td>78.0</td>\n",
       "      <td>50.0</td>\n",
       "      <td>32.0</td>\n",
       "      <td>88.0</td>\n",
       "      <td>31.0</td>\n",
       "      <td>0.248</td>\n",
       "      <td>26.0</td>\n",
       "      <td>yes</td>\n",
       "    </tr>\n",
       "    <tr>\n",
       "      <th>2</th>\n",
       "      <td>2.0</td>\n",
       "      <td>197.0</td>\n",
       "      <td>70.0</td>\n",
       "      <td>45.0</td>\n",
       "      <td>543.0</td>\n",
       "      <td>30.5</td>\n",
       "      <td>0.158</td>\n",
       "      <td>53.0</td>\n",
       "      <td>yes</td>\n",
       "    </tr>\n",
       "    <tr>\n",
       "      <th>3</th>\n",
       "      <td>1.0</td>\n",
       "      <td>189.0</td>\n",
       "      <td>60.0</td>\n",
       "      <td>23.0</td>\n",
       "      <td>846.0</td>\n",
       "      <td>30.1</td>\n",
       "      <td>0.398</td>\n",
       "      <td>59.0</td>\n",
       "      <td>yes</td>\n",
       "    </tr>\n",
       "    <tr>\n",
       "      <th>4</th>\n",
       "      <td>5.0</td>\n",
       "      <td>166.0</td>\n",
       "      <td>72.0</td>\n",
       "      <td>19.0</td>\n",
       "      <td>175.0</td>\n",
       "      <td>25.8</td>\n",
       "      <td>0.587</td>\n",
       "      <td>51.0</td>\n",
       "      <td>yes</td>\n",
       "    </tr>\n",
       "  </tbody>\n",
       "</table>\n",
       "</div>"
      ],
      "text/plain": [
       "   Pregnancies  Glucose  BloodPressure  SkinThickness  Insulin   BMI  \\\n",
       "0          1.0     89.0           66.0           23.0     94.0  28.1   \n",
       "1          3.0     78.0           50.0           32.0     88.0  31.0   \n",
       "2          2.0    197.0           70.0           45.0    543.0  30.5   \n",
       "3          1.0    189.0           60.0           23.0    846.0  30.1   \n",
       "4          5.0    166.0           72.0           19.0    175.0  25.8   \n",
       "\n",
       "   DiabetesPedigreeFunction   Age Outcome  \n",
       "0                     0.167  21.0      no  \n",
       "1                     0.248  26.0     yes  \n",
       "2                     0.158  53.0     yes  \n",
       "3                     0.398  59.0     yes  \n",
       "4                     0.587  51.0     yes  "
      ]
     },
     "execution_count": 8,
     "metadata": {},
     "output_type": "execute_result"
    }
   ],
   "source": [
    "data_cl.dataset.get()[0].head()"
   ]
  },
  {
   "cell_type": "code",
   "execution_count": 9,
   "metadata": {},
   "outputs": [
    {
     "data": {
      "text/plain": [
       "{'Pregnancies': {'dtype': dtype('float64'),\n",
       "  'is_label': False,\n",
       "  'missing': 0.0,\n",
       "  'cardinality': 16},\n",
       " 'Glucose': {'dtype': dtype('float64'),\n",
       "  'is_label': False,\n",
       "  'missing': 0.0,\n",
       "  'cardinality': 111},\n",
       " 'BloodPressure': {'dtype': dtype('float64'),\n",
       "  'is_label': False,\n",
       "  'missing': 0.0,\n",
       "  'cardinality': 36},\n",
       " 'SkinThickness': {'dtype': dtype('float64'),\n",
       "  'is_label': False,\n",
       "  'missing': 0.0,\n",
       "  'cardinality': 45},\n",
       " 'Insulin': {'dtype': dtype('float64'),\n",
       "  'is_label': False,\n",
       "  'missing': 0.0,\n",
       "  'cardinality': 168},\n",
       " 'BMI': {'dtype': dtype('float64'),\n",
       "  'is_label': False,\n",
       "  'missing': 0.0,\n",
       "  'cardinality': 175},\n",
       " 'DiabetesPedigreeFunction': {'dtype': dtype('float64'),\n",
       "  'is_label': False,\n",
       "  'missing': 0.0,\n",
       "  'cardinality': 289},\n",
       " 'Age': {'dtype': dtype('float64'),\n",
       "  'is_label': False,\n",
       "  'missing': 0.0,\n",
       "  'cardinality': 43},\n",
       " 'Outcome': {'dtype': dtype('O'),\n",
       "  'is_label': True,\n",
       "  'missing': 0.0,\n",
       "  'cardinality': 2}}"
      ]
     },
     "execution_count": 9,
     "metadata": {},
     "output_type": "execute_result"
    }
   ],
   "source": [
    "data_cl.col_info"
   ]
  },
  {
   "cell_type": "code",
   "execution_count": 10,
   "metadata": {},
   "outputs": [],
   "source": [
    "data_cl.encode()"
   ]
  },
  {
   "cell_type": "code",
   "execution_count": 11,
   "metadata": {},
   "outputs": [
    {
     "data": {
      "text/html": [
       "<div>\n",
       "<style scoped>\n",
       "    .dataframe tbody tr th:only-of-type {\n",
       "        vertical-align: middle;\n",
       "    }\n",
       "\n",
       "    .dataframe tbody tr th {\n",
       "        vertical-align: top;\n",
       "    }\n",
       "\n",
       "    .dataframe thead th {\n",
       "        text-align: right;\n",
       "    }\n",
       "</style>\n",
       "<table border=\"1\" class=\"dataframe\">\n",
       "  <thead>\n",
       "    <tr style=\"text-align: right;\">\n",
       "      <th></th>\n",
       "      <th>Pregnancies</th>\n",
       "      <th>Glucose</th>\n",
       "      <th>BloodPressure</th>\n",
       "      <th>SkinThickness</th>\n",
       "      <th>Insulin</th>\n",
       "      <th>BMI</th>\n",
       "      <th>DiabetesPedigreeFunction</th>\n",
       "      <th>Age</th>\n",
       "      <th>Outcome</th>\n",
       "    </tr>\n",
       "  </thead>\n",
       "  <tbody>\n",
       "    <tr>\n",
       "      <th>0</th>\n",
       "      <td>1.0</td>\n",
       "      <td>89.0</td>\n",
       "      <td>66.0</td>\n",
       "      <td>23.0</td>\n",
       "      <td>94.0</td>\n",
       "      <td>28.1</td>\n",
       "      <td>0.167</td>\n",
       "      <td>21.0</td>\n",
       "      <td>0</td>\n",
       "    </tr>\n",
       "    <tr>\n",
       "      <th>1</th>\n",
       "      <td>3.0</td>\n",
       "      <td>78.0</td>\n",
       "      <td>50.0</td>\n",
       "      <td>32.0</td>\n",
       "      <td>88.0</td>\n",
       "      <td>31.0</td>\n",
       "      <td>0.248</td>\n",
       "      <td>26.0</td>\n",
       "      <td>1</td>\n",
       "    </tr>\n",
       "    <tr>\n",
       "      <th>2</th>\n",
       "      <td>2.0</td>\n",
       "      <td>197.0</td>\n",
       "      <td>70.0</td>\n",
       "      <td>45.0</td>\n",
       "      <td>543.0</td>\n",
       "      <td>30.5</td>\n",
       "      <td>0.158</td>\n",
       "      <td>53.0</td>\n",
       "      <td>1</td>\n",
       "    </tr>\n",
       "    <tr>\n",
       "      <th>3</th>\n",
       "      <td>1.0</td>\n",
       "      <td>189.0</td>\n",
       "      <td>60.0</td>\n",
       "      <td>23.0</td>\n",
       "      <td>846.0</td>\n",
       "      <td>30.1</td>\n",
       "      <td>0.398</td>\n",
       "      <td>59.0</td>\n",
       "      <td>1</td>\n",
       "    </tr>\n",
       "    <tr>\n",
       "      <th>4</th>\n",
       "      <td>5.0</td>\n",
       "      <td>166.0</td>\n",
       "      <td>72.0</td>\n",
       "      <td>19.0</td>\n",
       "      <td>175.0</td>\n",
       "      <td>25.8</td>\n",
       "      <td>0.587</td>\n",
       "      <td>51.0</td>\n",
       "      <td>1</td>\n",
       "    </tr>\n",
       "  </tbody>\n",
       "</table>\n",
       "</div>"
      ],
      "text/plain": [
       "   Pregnancies  Glucose  BloodPressure  SkinThickness  Insulin   BMI  \\\n",
       "0          1.0     89.0           66.0           23.0     94.0  28.1   \n",
       "1          3.0     78.0           50.0           32.0     88.0  31.0   \n",
       "2          2.0    197.0           70.0           45.0    543.0  30.5   \n",
       "3          1.0    189.0           60.0           23.0    846.0  30.1   \n",
       "4          5.0    166.0           72.0           19.0    175.0  25.8   \n",
       "\n",
       "   DiabetesPedigreeFunction   Age  Outcome  \n",
       "0                     0.167  21.0        0  \n",
       "1                     0.248  26.0        1  \n",
       "2                     0.158  53.0        1  \n",
       "3                     0.398  59.0        1  \n",
       "4                     0.587  51.0        1  "
      ]
     },
     "execution_count": 11,
     "metadata": {},
     "output_type": "execute_result"
    }
   ],
   "source": [
    "data_cl.dataset.get()[0].head()"
   ]
  },
  {
   "cell_type": "code",
   "execution_count": 12,
   "metadata": {},
   "outputs": [],
   "source": [
    "from sklearn.preprocessing import MinMaxScaler"
   ]
  },
  {
   "cell_type": "code",
   "execution_count": 13,
   "metadata": {},
   "outputs": [],
   "source": [
    "scaler_x = MinMaxScaler()\n",
    "scaler_x.fit(data_cl.dataset.get()[0])\n",
    "scaled_np_arr = scaler_x.transform(data_cl.dataset.get()[0])"
   ]
  },
  {
   "cell_type": "code",
   "execution_count": 14,
   "metadata": {},
   "outputs": [
    {
     "data": {
      "text/plain": [
       "array([[0.        , 0.23404255, 0.48837209, ..., 0.03654189, 0.        ,\n",
       "        0.        ],\n",
       "       [0.125     , 0.15602837, 0.30232558, ..., 0.07263815, 0.08333333,\n",
       "        1.        ],\n",
       "       [0.0625    , 1.        , 0.53488372, ..., 0.03253119, 0.53333333,\n",
       "        1.        ],\n",
       "       ...,\n",
       "       [0.0625    , 0.22695035, 0.39534884, ..., 0.30347594, 0.01666667,\n",
       "        0.        ],\n",
       "       [0.5625    , 0.31914894, 0.60465116, ..., 0.03832442, 0.7       ,\n",
       "        0.        ],\n",
       "       [0.25      , 0.46099291, 0.55813953, ..., 0.07130125, 0.15      ,\n",
       "        0.        ]])"
      ]
     },
     "execution_count": 14,
     "metadata": {},
     "output_type": "execute_result"
    }
   ],
   "source": [
    "scaled_np_arr"
   ]
  },
  {
   "cell_type": "code",
   "execution_count": 15,
   "metadata": {},
   "outputs": [],
   "source": [
    "import numpy as np"
   ]
  },
  {
   "cell_type": "code",
   "execution_count": 16,
   "metadata": {},
   "outputs": [
    {
     "name": "stderr",
     "output_type": "stream",
     "text": [
      "2022-09-16 19:34:48.321356: I tensorflow/stream_executor/platform/default/dso_loader.cc:49] Successfully opened dynamic library libcudart.so.10.1\n"
     ]
    }
   ],
   "source": [
    "from ASC_ML.networkbuilding import final"
   ]
  },
  {
   "cell_type": "code",
   "execution_count": 17,
   "metadata": {},
   "outputs": [],
   "source": [
    "data_cl.dataset.train_test_split()"
   ]
  },
  {
   "cell_type": "code",
   "execution_count": 18,
   "metadata": {},
   "outputs": [],
   "source": [
    "[traindf, testdf] = data_cl.dataset.get(types=['train', 'test'])"
   ]
  },
  {
   "cell_type": "code",
   "execution_count": 19,
   "metadata": {},
   "outputs": [
    {
     "data": {
      "text/html": [
       "<div>\n",
       "<style scoped>\n",
       "    .dataframe tbody tr th:only-of-type {\n",
       "        vertical-align: middle;\n",
       "    }\n",
       "\n",
       "    .dataframe tbody tr th {\n",
       "        vertical-align: top;\n",
       "    }\n",
       "\n",
       "    .dataframe thead th {\n",
       "        text-align: right;\n",
       "    }\n",
       "</style>\n",
       "<table border=\"1\" class=\"dataframe\">\n",
       "  <thead>\n",
       "    <tr style=\"text-align: right;\">\n",
       "      <th></th>\n",
       "      <th>Pregnancies</th>\n",
       "      <th>Glucose</th>\n",
       "      <th>BloodPressure</th>\n",
       "      <th>SkinThickness</th>\n",
       "      <th>Insulin</th>\n",
       "      <th>BMI</th>\n",
       "      <th>DiabetesPedigreeFunction</th>\n",
       "      <th>Age</th>\n",
       "      <th>Outcome</th>\n",
       "    </tr>\n",
       "  </thead>\n",
       "  <tbody>\n",
       "    <tr>\n",
       "      <th>100</th>\n",
       "      <td>3.0</td>\n",
       "      <td>74.0</td>\n",
       "      <td>68.0</td>\n",
       "      <td>28.0</td>\n",
       "      <td>45.0</td>\n",
       "      <td>29.7</td>\n",
       "      <td>0.293</td>\n",
       "      <td>23.0</td>\n",
       "      <td>0</td>\n",
       "    </tr>\n",
       "    <tr>\n",
       "      <th>144</th>\n",
       "      <td>2.0</td>\n",
       "      <td>87.0</td>\n",
       "      <td>58.0</td>\n",
       "      <td>16.0</td>\n",
       "      <td>52.0</td>\n",
       "      <td>32.7</td>\n",
       "      <td>0.166</td>\n",
       "      <td>25.0</td>\n",
       "      <td>0</td>\n",
       "    </tr>\n",
       "    <tr>\n",
       "      <th>53</th>\n",
       "      <td>1.0</td>\n",
       "      <td>118.0</td>\n",
       "      <td>58.0</td>\n",
       "      <td>36.0</td>\n",
       "      <td>94.0</td>\n",
       "      <td>33.3</td>\n",
       "      <td>0.261</td>\n",
       "      <td>23.0</td>\n",
       "      <td>0</td>\n",
       "    </tr>\n",
       "    <tr>\n",
       "      <th>45</th>\n",
       "      <td>3.0</td>\n",
       "      <td>171.0</td>\n",
       "      <td>72.0</td>\n",
       "      <td>33.0</td>\n",
       "      <td>135.0</td>\n",
       "      <td>33.3</td>\n",
       "      <td>0.199</td>\n",
       "      <td>24.0</td>\n",
       "      <td>1</td>\n",
       "    </tr>\n",
       "    <tr>\n",
       "      <th>15</th>\n",
       "      <td>4.0</td>\n",
       "      <td>111.0</td>\n",
       "      <td>72.0</td>\n",
       "      <td>47.0</td>\n",
       "      <td>207.0</td>\n",
       "      <td>37.1</td>\n",
       "      <td>1.390</td>\n",
       "      <td>56.0</td>\n",
       "      <td>1</td>\n",
       "    </tr>\n",
       "    <tr>\n",
       "      <th>...</th>\n",
       "      <td>...</td>\n",
       "      <td>...</td>\n",
       "      <td>...</td>\n",
       "      <td>...</td>\n",
       "      <td>...</td>\n",
       "      <td>...</td>\n",
       "      <td>...</td>\n",
       "      <td>...</td>\n",
       "      <td>...</td>\n",
       "    </tr>\n",
       "    <tr>\n",
       "      <th>277</th>\n",
       "      <td>3.0</td>\n",
       "      <td>103.0</td>\n",
       "      <td>72.0</td>\n",
       "      <td>30.0</td>\n",
       "      <td>152.0</td>\n",
       "      <td>27.6</td>\n",
       "      <td>0.730</td>\n",
       "      <td>27.0</td>\n",
       "      <td>0</td>\n",
       "    </tr>\n",
       "    <tr>\n",
       "      <th>71</th>\n",
       "      <td>6.0</td>\n",
       "      <td>104.0</td>\n",
       "      <td>74.0</td>\n",
       "      <td>18.0</td>\n",
       "      <td>156.0</td>\n",
       "      <td>29.9</td>\n",
       "      <td>0.722</td>\n",
       "      <td>41.0</td>\n",
       "      <td>1</td>\n",
       "    </tr>\n",
       "    <tr>\n",
       "      <th>66</th>\n",
       "      <td>2.0</td>\n",
       "      <td>99.0</td>\n",
       "      <td>52.0</td>\n",
       "      <td>15.0</td>\n",
       "      <td>94.0</td>\n",
       "      <td>24.6</td>\n",
       "      <td>0.637</td>\n",
       "      <td>21.0</td>\n",
       "      <td>0</td>\n",
       "    </tr>\n",
       "    <tr>\n",
       "      <th>193</th>\n",
       "      <td>1.0</td>\n",
       "      <td>80.0</td>\n",
       "      <td>74.0</td>\n",
       "      <td>11.0</td>\n",
       "      <td>60.0</td>\n",
       "      <td>30.0</td>\n",
       "      <td>0.527</td>\n",
       "      <td>22.0</td>\n",
       "      <td>0</td>\n",
       "    </tr>\n",
       "    <tr>\n",
       "      <th>115</th>\n",
       "      <td>2.0</td>\n",
       "      <td>108.0</td>\n",
       "      <td>62.0</td>\n",
       "      <td>10.0</td>\n",
       "      <td>278.0</td>\n",
       "      <td>25.3</td>\n",
       "      <td>0.881</td>\n",
       "      <td>22.0</td>\n",
       "      <td>0</td>\n",
       "    </tr>\n",
       "  </tbody>\n",
       "</table>\n",
       "<p>267 rows × 9 columns</p>\n",
       "</div>"
      ],
      "text/plain": [
       "     Pregnancies  Glucose  BloodPressure  SkinThickness  Insulin   BMI  \\\n",
       "100          3.0     74.0           68.0           28.0     45.0  29.7   \n",
       "144          2.0     87.0           58.0           16.0     52.0  32.7   \n",
       "53           1.0    118.0           58.0           36.0     94.0  33.3   \n",
       "45           3.0    171.0           72.0           33.0    135.0  33.3   \n",
       "15           4.0    111.0           72.0           47.0    207.0  37.1   \n",
       "..           ...      ...            ...            ...      ...   ...   \n",
       "277          3.0    103.0           72.0           30.0    152.0  27.6   \n",
       "71           6.0    104.0           74.0           18.0    156.0  29.9   \n",
       "66           2.0     99.0           52.0           15.0     94.0  24.6   \n",
       "193          1.0     80.0           74.0           11.0     60.0  30.0   \n",
       "115          2.0    108.0           62.0           10.0    278.0  25.3   \n",
       "\n",
       "     DiabetesPedigreeFunction   Age  Outcome  \n",
       "100                     0.293  23.0        0  \n",
       "144                     0.166  25.0        0  \n",
       "53                      0.261  23.0        0  \n",
       "45                      0.199  24.0        1  \n",
       "15                      1.390  56.0        1  \n",
       "..                        ...   ...      ...  \n",
       "277                     0.730  27.0        0  \n",
       "71                      0.722  41.0        1  \n",
       "66                      0.637  21.0        0  \n",
       "193                     0.527  22.0        0  \n",
       "115                     0.881  22.0        0  \n",
       "\n",
       "[267 rows x 9 columns]"
      ]
     },
     "execution_count": 19,
     "metadata": {},
     "output_type": "execute_result"
    }
   ],
   "source": [
    "traindf.compute()"
   ]
  },
  {
   "cell_type": "code",
   "execution_count": 20,
   "metadata": {},
   "outputs": [],
   "source": [
    "y_train = traindf.pop(data_cl.get_label()[0])\n",
    "X_train = traindf"
   ]
  },
  {
   "cell_type": "code",
   "execution_count": 21,
   "metadata": {},
   "outputs": [],
   "source": [
    "y_test = testdf.pop(data_cl.get_label()[0])\n",
    "X_test = testdf"
   ]
  },
  {
   "cell_type": "code",
   "execution_count": 22,
   "metadata": {},
   "outputs": [
    {
     "data": {
      "text/plain": [
       "(69, 8)"
      ]
     },
     "execution_count": 22,
     "metadata": {},
     "output_type": "execute_result"
    }
   ],
   "source": [
    "testdf.compute().shape"
   ]
  },
  {
   "cell_type": "code",
   "execution_count": 23,
   "metadata": {},
   "outputs": [],
   "source": [
    "scaler_x = MinMaxScaler()\n",
    "scaler_x.fit(X_train)\n",
    "X_train = scaler_x.transform(X_train)\n",
    "X_test = scaler_x.transform(X_test)"
   ]
  },
  {
   "cell_type": "code",
   "execution_count": 24,
   "metadata": {},
   "outputs": [],
   "source": [
    "y_train = np.asarray(y_train).reshape([-1, 1])\n",
    "y_test = np.asarray(y_test).reshape([-1, 1])"
   ]
  },
  {
   "cell_type": "code",
   "execution_count": 25,
   "metadata": {},
   "outputs": [
    {
     "data": {
      "text/plain": [
       "(267, 1)"
      ]
     },
     "execution_count": 25,
     "metadata": {},
     "output_type": "execute_result"
    }
   ],
   "source": [
    "y_train.shape"
   ]
  },
  {
   "cell_type": "code",
   "execution_count": 26,
   "metadata": {},
   "outputs": [
    {
     "name": "stderr",
     "output_type": "stream",
     "text": [
      "2022-09-16 19:34:49.204153: I tensorflow/compiler/jit/xla_cpu_device.cc:41] Not creating XLA devices, tf_xla_enable_xla_devices not set\n",
      "2022-09-16 19:34:49.204839: I tensorflow/stream_executor/platform/default/dso_loader.cc:49] Successfully opened dynamic library libcuda.so.1\n",
      "2022-09-16 19:34:49.282685: I tensorflow/stream_executor/cuda/cuda_gpu_executor.cc:941] successful NUMA node read from SysFS had negative value (-1), but there must be at least one NUMA node, so returning NUMA node zero\n",
      "2022-09-16 19:34:49.282851: I tensorflow/core/common_runtime/gpu/gpu_device.cc:1720] Found device 0 with properties: \n",
      "pciBusID: 0000:01:00.0 name: NVIDIA GeForce RTX 2060 computeCapability: 7.5\n",
      "coreClock: 1.695GHz coreCount: 30 deviceMemorySize: 5.79GiB deviceMemoryBandwidth: 312.97GiB/s\n",
      "2022-09-16 19:34:49.282880: I tensorflow/stream_executor/platform/default/dso_loader.cc:49] Successfully opened dynamic library libcudart.so.10.1\n",
      "2022-09-16 19:34:49.284515: I tensorflow/stream_executor/platform/default/dso_loader.cc:49] Successfully opened dynamic library libcublas.so.10\n",
      "2022-09-16 19:34:49.284560: I tensorflow/stream_executor/platform/default/dso_loader.cc:49] Successfully opened dynamic library libcublasLt.so.10\n",
      "2022-09-16 19:34:49.285980: I tensorflow/stream_executor/platform/default/dso_loader.cc:49] Successfully opened dynamic library libcufft.so.10\n",
      "2022-09-16 19:34:49.286234: I tensorflow/stream_executor/platform/default/dso_loader.cc:49] Successfully opened dynamic library libcurand.so.10\n",
      "2022-09-16 19:34:49.287919: I tensorflow/stream_executor/platform/default/dso_loader.cc:49] Successfully opened dynamic library libcusolver.so.10\n",
      "2022-09-16 19:34:49.288838: I tensorflow/stream_executor/platform/default/dso_loader.cc:49] Successfully opened dynamic library libcusparse.so.10\n",
      "2022-09-16 19:34:49.292440: I tensorflow/stream_executor/platform/default/dso_loader.cc:49] Successfully opened dynamic library libcudnn.so.7\n",
      "2022-09-16 19:34:49.292635: I tensorflow/stream_executor/cuda/cuda_gpu_executor.cc:941] successful NUMA node read from SysFS had negative value (-1), but there must be at least one NUMA node, so returning NUMA node zero\n",
      "2022-09-16 19:34:49.293017: I tensorflow/stream_executor/cuda/cuda_gpu_executor.cc:941] successful NUMA node read from SysFS had negative value (-1), but there must be at least one NUMA node, so returning NUMA node zero\n",
      "2022-09-16 19:34:49.293139: I tensorflow/core/common_runtime/gpu/gpu_device.cc:1862] Adding visible gpu devices: 0\n",
      "2022-09-16 19:34:49.293477: I tensorflow/core/platform/cpu_feature_guard.cc:142] This TensorFlow binary is optimized with oneAPI Deep Neural Network Library (oneDNN) to use the following CPU instructions in performance-critical operations:  SSE4.1 SSE4.2 AVX AVX2 FMA\n",
      "To enable them in other operations, rebuild TensorFlow with the appropriate compiler flags.\n",
      "2022-09-16 19:34:49.293847: I tensorflow/compiler/jit/xla_gpu_device.cc:99] Not creating XLA devices, tf_xla_enable_xla_devices not set\n",
      "2022-09-16 19:34:49.293964: I tensorflow/stream_executor/cuda/cuda_gpu_executor.cc:941] successful NUMA node read from SysFS had negative value (-1), but there must be at least one NUMA node, so returning NUMA node zero\n",
      "2022-09-16 19:34:49.294099: I tensorflow/core/common_runtime/gpu/gpu_device.cc:1720] Found device 0 with properties: \n",
      "pciBusID: 0000:01:00.0 name: NVIDIA GeForce RTX 2060 computeCapability: 7.5\n",
      "coreClock: 1.695GHz coreCount: 30 deviceMemorySize: 5.79GiB deviceMemoryBandwidth: 312.97GiB/s\n",
      "2022-09-16 19:34:49.294141: I tensorflow/stream_executor/platform/default/dso_loader.cc:49] Successfully opened dynamic library libcudart.so.10.1\n",
      "2022-09-16 19:34:49.294165: I tensorflow/stream_executor/platform/default/dso_loader.cc:49] Successfully opened dynamic library libcublas.so.10\n",
      "2022-09-16 19:34:49.294185: I tensorflow/stream_executor/platform/default/dso_loader.cc:49] Successfully opened dynamic library libcublasLt.so.10\n",
      "2022-09-16 19:34:49.294204: I tensorflow/stream_executor/platform/default/dso_loader.cc:49] Successfully opened dynamic library libcufft.so.10\n",
      "2022-09-16 19:34:49.294224: I tensorflow/stream_executor/platform/default/dso_loader.cc:49] Successfully opened dynamic library libcurand.so.10\n",
      "2022-09-16 19:34:49.294244: I tensorflow/stream_executor/platform/default/dso_loader.cc:49] Successfully opened dynamic library libcusolver.so.10\n",
      "2022-09-16 19:34:49.294265: I tensorflow/stream_executor/platform/default/dso_loader.cc:49] Successfully opened dynamic library libcusparse.so.10\n",
      "2022-09-16 19:34:49.294286: I tensorflow/stream_executor/platform/default/dso_loader.cc:49] Successfully opened dynamic library libcudnn.so.7\n",
      "2022-09-16 19:34:49.294354: I tensorflow/stream_executor/cuda/cuda_gpu_executor.cc:941] successful NUMA node read from SysFS had negative value (-1), but there must be at least one NUMA node, so returning NUMA node zero\n",
      "2022-09-16 19:34:49.294529: I tensorflow/stream_executor/cuda/cuda_gpu_executor.cc:941] successful NUMA node read from SysFS had negative value (-1), but there must be at least one NUMA node, so returning NUMA node zero\n",
      "2022-09-16 19:34:49.294645: I tensorflow/core/common_runtime/gpu/gpu_device.cc:1862] Adding visible gpu devices: 0\n",
      "2022-09-16 19:34:49.294683: I tensorflow/stream_executor/platform/default/dso_loader.cc:49] Successfully opened dynamic library libcudart.so.10.1\n",
      "2022-09-16 19:34:49.757981: I tensorflow/core/common_runtime/gpu/gpu_device.cc:1261] Device interconnect StreamExecutor with strength 1 edge matrix:\n",
      "2022-09-16 19:34:49.758007: I tensorflow/core/common_runtime/gpu/gpu_device.cc:1267]      0 \n",
      "2022-09-16 19:34:49.758013: I tensorflow/core/common_runtime/gpu/gpu_device.cc:1280] 0:   N \n",
      "2022-09-16 19:34:49.758192: I tensorflow/stream_executor/cuda/cuda_gpu_executor.cc:941] successful NUMA node read from SysFS had negative value (-1), but there must be at least one NUMA node, so returning NUMA node zero\n",
      "2022-09-16 19:34:49.758380: I tensorflow/stream_executor/cuda/cuda_gpu_executor.cc:941] successful NUMA node read from SysFS had negative value (-1), but there must be at least one NUMA node, so returning NUMA node zero\n",
      "2022-09-16 19:34:49.758527: I tensorflow/stream_executor/cuda/cuda_gpu_executor.cc:941] successful NUMA node read from SysFS had negative value (-1), but there must be at least one NUMA node, so returning NUMA node zero\n",
      "2022-09-16 19:34:49.758637: I tensorflow/core/common_runtime/gpu/gpu_device.cc:1406] Created TensorFlow device (/job:localhost/replica:0/task:0/device:GPU:0 with 4959 MB memory) -> physical GPU (device: 0, name: NVIDIA GeForce RTX 2060, pci bus id: 0000:01:00.0, compute capability: 7.5)\n",
      "2022-09-16 19:34:50.005083: I tensorflow/compiler/mlir/mlir_graph_optimization_pass.cc:116] None of the MLIR optimization passes are enabled (registered 2)\n",
      "2022-09-16 19:34:50.023356: I tensorflow/core/platform/profile_utils/cpu_utils.cc:112] CPU Frequency: 2899885000 Hz\n",
      "2022-09-16 19:34:51.861065: I tensorflow/stream_executor/platform/default/dso_loader.cc:49] Successfully opened dynamic library libcublas.so.10\n"
     ]
    },
    {
     "name": "stdout",
     "output_type": "stream",
     "text": [
      "\n",
      " \n",
      " \n",
      "\n",
      "loss  :  3.8225440979003906 , TEST :  5.370141506195068\n",
      "output_layer_dense_16_16_loss  :  0.41048935055732727 , TEST :  0.5250293016433716\n",
      "output_layer_dense_16_32_loss  :  0.4128481447696686 , TEST :  0.5367937088012695\n",
      "output_layer_dense_16_64_loss  :  0.37900692224502563 , TEST :  0.4867844581604004\n",
      "output_layer_dense_16_128_loss  :  0.4016419053077698 , TEST :  0.5240912437438965\n",
      "output_layer_dense_16_512_loss  :  0.35205668210983276 , TEST :  0.5580409169197083\n",
      "output_layer_dense_16_1024_loss  :  0.3514776825904846 , TEST :  0.6319695115089417\n",
      "output_layer_dense_32_16_loss  :  0.40097445249557495 , TEST :  0.5344153046607971\n",
      "output_layer_dense_32_32_loss  :  0.39222365617752075 , TEST :  0.5065541863441467\n",
      "output_layer_dense_32_64_loss  :  0.36423900723457336 , TEST :  0.5096432566642761\n",
      "output_layer_dense_32_128_loss  :  0.3575858771800995 , TEST :  0.5568193793296814\n",
      "\n",
      " \n",
      " \n",
      "\n",
      "loss  :  3.3747825622558594 , TEST :  5.352097511291504\n",
      "output_layer_dense_32_512_loss  :  0.3379107713699341 , TEST :  0.5263034701347351\n",
      "output_layer_dense_32_1024_loss  :  0.30312874913215637 , TEST :  0.587505042552948\n",
      "output_layer_dense_64_16_loss  :  0.38623249530792236 , TEST :  0.5252348184585571\n",
      "output_layer_dense_64_32_loss  :  0.36632591485977173 , TEST :  0.5288123488426208\n",
      "output_layer_dense_64_64_loss  :  0.35496196150779724 , TEST :  0.5265508890151978\n",
      "output_layer_dense_64_128_loss  :  0.33966347575187683 , TEST :  0.5218441486358643\n",
      "output_layer_dense_64_512_loss  :  0.2955884635448456 , TEST :  0.5665116906166077\n",
      "output_layer_dense_64_1024_loss  :  0.2903335988521576 , TEST :  0.5500621795654297\n",
      "output_layer_dense_128_16_loss  :  0.3565971851348877 , TEST :  0.5108839273452759\n",
      "output_layer_dense_128_32_loss  :  0.34403976798057556 , TEST :  0.508388876914978\n",
      "\n",
      " \n",
      " \n",
      "\n",
      "loss  :  2.8541147708892822 , TEST :  5.335416316986084\n",
      "output_layer_dense_128_64_loss  :  0.3387332260608673 , TEST :  0.5133246183395386\n",
      "output_layer_dense_128_128_loss  :  0.3104390501976013 , TEST :  0.5302157402038574\n",
      "output_layer_dense_128_512_loss  :  0.2802320122718811 , TEST :  0.5505292415618896\n",
      "output_layer_dense_128_1024_loss  :  0.25911492109298706 , TEST :  0.5436053276062012\n",
      "output_layer_dense_512_16_loss  :  0.3489723801612854 , TEST :  0.5047523975372314\n",
      "output_layer_dense_512_32_loss  :  0.31986695528030396 , TEST :  0.5157825350761414\n",
      "output_layer_dense_512_64_loss  :  0.31746038794517517 , TEST :  0.49875739216804504\n",
      "output_layer_dense_512_128_loss  :  0.2697708308696747 , TEST :  0.5252415537834167\n",
      "output_layer_dense_512_512_loss  :  0.21732036769390106 , TEST :  0.5618042349815369\n",
      "output_layer_dense_512_1024_loss  :  0.19220475852489471 , TEST :  0.5914035439491272\n",
      "\n",
      " \n",
      " \n",
      "\n",
      "loss  :  1.546338677406311 , TEST :  3.4315884113311768\n",
      "output_layer_dense_1024_16_loss  :  0.3242645859718323 , TEST :  0.5154150724411011\n",
      "output_layer_dense_1024_32_loss  :  0.29958194494247437 , TEST :  0.5361043810844421\n",
      "output_layer_dense_1024_64_loss  :  0.2869953513145447 , TEST :  0.5515298843383789\n",
      "output_layer_dense_1024_128_loss  :  0.26532062888145447 , TEST :  0.5526255965232849\n",
      "output_layer_dense_1024_512_loss  :  0.20329611003398895 , TEST :  0.6007267236709595\n",
      "output_layer_dense_1024_1024_loss  :  0.1668800264596939 , TEST :  0.675186812877655\n",
      "\n",
      " \n",
      " \n",
      "\n",
      "loss  :  3.5445361137390137 , TEST :  5.439455032348633\n",
      "output_layer_dense_16_16_16_loss  :  0.4054815173149109 , TEST :  0.5460625290870667\n",
      "output_layer_dense_16_16_32_loss  :  0.37271448969841003 , TEST :  0.564461350440979\n",
      "output_layer_dense_16_16_64_loss  :  0.3667249083518982 , TEST :  0.5783460140228271\n",
      "output_layer_dense_16_16_128_loss  :  0.3474985957145691 , TEST :  0.5138572454452515\n",
      "output_layer_dense_16_16_512_loss  :  0.2944979965686798 , TEST :  0.4919692277908325\n",
      "output_layer_dense_16_16_1024_loss  :  0.30794790387153625 , TEST :  0.5346255302429199\n",
      "output_layer_dense_16_32_16_loss  :  0.38818907737731934 , TEST :  0.5809925198554993\n",
      "output_layer_dense_16_32_32_loss  :  0.3583640158176422 , TEST :  0.5437028408050537\n",
      "output_layer_dense_16_32_64_loss  :  0.3383972942829132 , TEST :  0.5169610381126404\n",
      "output_layer_dense_16_32_128_loss  :  0.3647204041481018 , TEST :  0.5684763789176941\n",
      "\n",
      " \n",
      " \n",
      "\n",
      "loss  :  3.209437608718872 , TEST :  5.403625011444092\n",
      "output_layer_dense_16_32_512_loss  :  0.28793400526046753 , TEST :  0.5525350570678711\n",
      "output_layer_dense_16_32_1024_loss  :  0.2848411202430725 , TEST :  0.5436632633209229\n",
      "output_layer_dense_16_64_16_loss  :  0.3748302757740021 , TEST :  0.5228318572044373\n",
      "output_layer_dense_16_64_32_loss  :  0.32352712750434875 , TEST :  0.5205401182174683\n",
      "output_layer_dense_16_64_64_loss  :  0.3692502975463867 , TEST :  0.5482602119445801\n",
      "output_layer_dense_16_64_128_loss  :  0.32060497999191284 , TEST :  0.5129045844078064\n",
      "output_layer_dense_16_64_512_loss  :  0.3069278597831726 , TEST :  0.5506942272186279\n",
      "output_layer_dense_16_64_1024_loss  :  0.3026876747608185 , TEST :  0.5791221261024475\n",
      "output_layer_dense_16_128_16_loss  :  0.3040109872817993 , TEST :  0.5470165014266968\n",
      "output_layer_dense_16_128_32_loss  :  0.3348237872123718 , TEST :  0.526056706905365\n",
      "\n",
      " \n",
      " \n",
      "\n",
      "loss  :  2.8019678592681885 , TEST :  6.30346155166626\n",
      "output_layer_dense_16_128_64_loss  :  0.3366796672344208 , TEST :  0.5280781388282776\n",
      "output_layer_dense_16_128_128_loss  :  0.31604254245758057 , TEST :  0.5870200991630554\n",
      "output_layer_dense_16_128_512_loss  :  0.3022419512271881 , TEST :  0.6277838945388794\n",
      "output_layer_dense_16_128_1024_loss  :  0.22055256366729736 , TEST :  0.612209677696228\n",
      "output_layer_dense_16_512_16_loss  :  0.3180268108844757 , TEST :  0.7730640172958374\n",
      "output_layer_dense_16_512_32_loss  :  0.32857489585876465 , TEST :  0.5218957662582397\n",
      "output_layer_dense_16_512_64_loss  :  0.2988915741443634 , TEST :  0.6182230114936829\n",
      "output_layer_dense_16_512_128_loss  :  0.31824302673339844 , TEST :  0.5465624332427979\n",
      "output_layer_dense_16_512_512_loss  :  0.25591936707496643 , TEST :  0.6392360925674438\n",
      "output_layer_dense_16_512_1024_loss  :  0.10679523646831512 , TEST :  0.8493884801864624\n",
      "\n",
      " \n",
      " \n",
      "\n",
      "loss  :  3.025843381881714 , TEST :  6.508716106414795\n",
      "output_layer_dense_16_1024_16_loss  :  0.31910428404808044 , TEST :  0.6360557079315186\n",
      "output_layer_dense_16_1024_32_loss  :  0.3300083577632904 , TEST :  0.5913873910903931\n",
      "output_layer_dense_16_1024_64_loss  :  0.30308306217193604 , TEST :  0.674066424369812\n",
      "output_layer_dense_16_1024_128_loss  :  0.28502383828163147 , TEST :  0.6354769468307495\n",
      "output_layer_dense_16_1024_512_loss  :  0.19893904030323029 , TEST :  0.9049625992774963\n",
      "output_layer_dense_16_1024_1024_loss  :  0.22501759231090546 , TEST :  0.9636565446853638\n",
      "output_layer_dense_32_16_16_loss  :  0.339353084564209 , TEST :  0.48437151312828064\n",
      "output_layer_dense_32_32_16_loss  :  0.3435371220111847 , TEST :  0.5043182969093323\n",
      "output_layer_dense_32_32_32_loss  :  0.34453651309013367 , TEST :  0.5645474195480347\n",
      "output_layer_dense_32_32_64_loss  :  0.33724066615104675 , TEST :  0.5498729348182678\n",
      "\n",
      " \n",
      " \n",
      "\n",
      "loss  :  2.926499128341675 , TEST :  5.692667007446289\n",
      "output_layer_dense_32_32_128_loss  :  0.31206685304641724 , TEST :  0.495058536529541\n",
      "output_layer_dense_32_32_512_loss  :  0.30073922872543335 , TEST :  0.6302258372306824\n",
      "output_layer_dense_32_32_1024_loss  :  0.22902663052082062 , TEST :  0.5922289490699768\n",
      "output_layer_dense_32_64_16_loss  :  0.32784155011177063 , TEST :  0.5677957534790039\n",
      "output_layer_dense_32_64_32_loss  :  0.3141358196735382 , TEST :  0.529749870300293\n",
      "output_layer_dense_32_64_64_loss  :  0.31850841641426086 , TEST :  0.5600587129592896\n",
      "output_layer_dense_32_64_128_loss  :  0.29187697172164917 , TEST :  0.5600284337997437\n",
      "output_layer_dense_32_64_512_loss  :  0.25702589750289917 , TEST :  0.571256697177887\n",
      "output_layer_dense_32_64_1024_loss  :  0.22574575245380402 , TEST :  0.6445325613021851\n",
      "output_layer_dense_32_128_16_loss  :  0.34953200817108154 , TEST :  0.5417314767837524\n",
      "\n",
      " \n",
      " \n",
      "\n",
      "loss  :  2.642086982727051 , TEST :  5.97512674331665\n",
      "output_layer_dense_32_128_32_loss  :  0.31475159525871277 , TEST :  0.5532639622688293\n",
      "output_layer_dense_32_128_64_loss  :  0.3116489350795746 , TEST :  0.5474568605422974\n",
      "output_layer_dense_32_128_128_loss  :  0.2847205400466919 , TEST :  0.5404101610183716\n",
      "output_layer_dense_32_128_512_loss  :  0.26185932755470276 , TEST :  0.5307278037071228\n",
      "output_layer_dense_32_128_1024_loss  :  0.2058790922164917 , TEST :  0.5771895051002502\n",
      "output_layer_dense_32_512_16_loss  :  0.2761649489402771 , TEST :  0.6284497976303101\n",
      "output_layer_dense_32_512_32_loss  :  0.2635115683078766 , TEST :  0.5787700414657593\n",
      "output_layer_dense_32_512_64_loss  :  0.28930458426475525 , TEST :  0.5489087700843811\n",
      "output_layer_dense_32_512_128_loss  :  0.24919414520263672 , TEST :  0.6750484108924866\n",
      "output_layer_dense_32_512_512_loss  :  0.1850525587797165 , TEST :  0.7949018478393555\n"
     ]
    },
    {
     "name": "stdout",
     "output_type": "stream",
     "text": [
      "\n",
      " \n",
      " \n",
      "\n",
      "loss  :  2.4052841663360596 , TEST :  6.730459690093994\n",
      "output_layer_dense_32_512_1024_loss  :  0.15406690537929535 , TEST :  0.6794086694717407\n",
      "output_layer_dense_32_1024_16_loss  :  0.2766819894313812 , TEST :  0.6467318534851074\n",
      "output_layer_dense_32_1024_32_loss  :  0.2579151391983032 , TEST :  0.7327903509140015\n",
      "output_layer_dense_32_1024_64_loss  :  0.22982089221477509 , TEST :  0.6728805303573608\n",
      "output_layer_dense_32_1024_128_loss  :  0.2213883250951767 , TEST :  0.6741237640380859\n",
      "output_layer_dense_32_1024_512_loss  :  0.11420596390962601 , TEST :  0.8812278509140015\n",
      "output_layer_dense_32_1024_1024_loss  :  0.1412310004234314 , TEST :  0.8319689035415649\n",
      "output_layer_dense_64_16_16_loss  :  0.36060547828674316 , TEST :  0.5149433016777039\n",
      "output_layer_dense_64_32_16_loss  :  0.31982704997062683 , TEST :  0.5348705053329468\n",
      "output_layer_dense_64_32_32_loss  :  0.32954153418540955 , TEST :  0.5615136623382568\n",
      "\n",
      " \n",
      " \n",
      "\n",
      "loss  :  2.7013015747070312 , TEST :  5.889101028442383\n",
      "output_layer_dense_64_64_16_loss  :  0.33175697922706604 , TEST :  0.5244825482368469\n",
      "output_layer_dense_64_64_32_loss  :  0.31155532598495483 , TEST :  0.5167300701141357\n",
      "output_layer_dense_64_64_64_loss  :  0.29033133387565613 , TEST :  0.5214624404907227\n",
      "output_layer_dense_64_64_128_loss  :  0.29061993956565857 , TEST :  0.5386343002319336\n",
      "output_layer_dense_64_64_512_loss  :  0.21484686434268951 , TEST :  0.6706567406654358\n",
      "output_layer_dense_64_64_1024_loss  :  0.19924698770046234 , TEST :  0.7014268040657043\n",
      "output_layer_dense_64_128_16_loss  :  0.30868980288505554 , TEST :  0.5909368395805359\n",
      "output_layer_dense_64_128_32_loss  :  0.2579552233219147 , TEST :  0.6036131978034973\n",
      "output_layer_dense_64_128_64_loss  :  0.26998525857925415 , TEST :  0.5673685669898987\n",
      "output_layer_dense_64_128_128_loss  :  0.22631359100341797 , TEST :  0.6537896990776062\n",
      "\n",
      " \n",
      " \n",
      "\n",
      "loss  :  1.9863797426223755 , TEST :  6.53766393661499\n",
      "output_layer_dense_64_128_512_loss  :  0.20664307475090027 , TEST :  0.5940686464309692\n",
      "output_layer_dense_64_128_1024_loss  :  0.15248873829841614 , TEST :  0.7252100110054016\n",
      "output_layer_dense_64_512_16_loss  :  0.27407824993133545 , TEST :  0.543959379196167\n",
      "output_layer_dense_64_512_32_loss  :  0.26224657893180847 , TEST :  0.5865688323974609\n",
      "output_layer_dense_64_512_64_loss  :  0.20959067344665527 , TEST :  0.5738089084625244\n",
      "output_layer_dense_64_512_128_loss  :  0.16888290643692017 , TEST :  0.6329118013381958\n",
      "output_layer_dense_64_512_512_loss  :  0.12101457267999649 , TEST :  0.8331554532051086\n",
      "output_layer_dense_64_512_1024_loss  :  0.07892945408821106 , TEST :  0.9156673550605774\n",
      "output_layer_dense_64_1024_16_loss  :  0.27462247014045715 , TEST :  0.5722153186798096\n",
      "output_layer_dense_64_1024_32_loss  :  0.23788326978683472 , TEST :  0.5600985884666443\n",
      "\n",
      " \n",
      " \n",
      "\n",
      "loss  :  2.4395618438720703 , TEST :  6.506711483001709\n",
      "output_layer_dense_64_1024_64_loss  :  0.1886681616306305 , TEST :  0.6610282063484192\n",
      "output_layer_dense_64_1024_128_loss  :  0.18946319818496704 , TEST :  0.7384580373764038\n",
      "output_layer_dense_64_1024_512_loss  :  0.11399080604314804 , TEST :  1.014007806777954\n",
      "output_layer_dense_64_1024_1024_loss  :  0.1163935661315918 , TEST :  0.865007758140564\n",
      "output_layer_dense_128_16_16_loss  :  0.3367644250392914 , TEST :  0.5345150232315063\n",
      "output_layer_dense_128_32_16_loss  :  0.3131449222564697 , TEST :  0.5266715288162231\n",
      "output_layer_dense_128_32_32_loss  :  0.3121444284915924 , TEST :  0.5845208764076233\n",
      "output_layer_dense_128_64_16_loss  :  0.2932664453983307 , TEST :  0.5490422248840332\n",
      "output_layer_dense_128_64_32_loss  :  0.2927301824092865 , TEST :  0.5212965607643127\n",
      "output_layer_dense_128_64_64_loss  :  0.2829957902431488 , TEST :  0.5121633410453796\n",
      "\n",
      " \n",
      " \n",
      "\n",
      "loss  :  2.195402145385742 , TEST :  6.793167591094971\n",
      "output_layer_dense_128_128_16_loss  :  0.29162856936454773 , TEST :  0.5721380710601807\n",
      "output_layer_dense_128_128_32_loss  :  0.278018981218338 , TEST :  0.6010069847106934\n",
      "output_layer_dense_128_128_64_loss  :  0.2634090483188629 , TEST :  0.5812389850616455\n",
      "output_layer_dense_128_128_128_loss  :  0.2248798906803131 , TEST :  0.6708793044090271\n",
      "output_layer_dense_128_128_512_loss  :  0.13772843778133392 , TEST :  0.8586426377296448\n",
      "output_layer_dense_128_128_1024_loss  :  0.12645411491394043 , TEST :  0.8582074642181396\n",
      "output_layer_dense_128_512_16_loss  :  0.3028116524219513 , TEST :  0.5580475926399231\n",
      "output_layer_dense_128_512_32_loss  :  0.2162792831659317 , TEST :  0.6684414744377136\n",
      "output_layer_dense_128_512_64_loss  :  0.17891380190849304 , TEST :  0.6727421283721924\n",
      "output_layer_dense_128_512_128_loss  :  0.17527832090854645 , TEST :  0.7518226504325867\n",
      "\n",
      " \n",
      " \n",
      "\n",
      "loss  :  1.6093239784240723 , TEST :  8.771317481994629\n",
      "output_layer_dense_128_512_512_loss  :  0.08191952109336853 , TEST :  0.9407459497451782\n",
      "output_layer_dense_128_512_1024_loss  :  0.0678316280245781 , TEST :  1.2190572023391724\n",
      "output_layer_dense_128_1024_16_loss  :  0.2500060796737671 , TEST :  0.6392216682434082\n",
      "output_layer_dense_128_1024_32_loss  :  0.20679961144924164 , TEST :  0.7029159069061279\n",
      "output_layer_dense_128_1024_64_loss  :  0.15134620666503906 , TEST :  0.7717597484588623\n",
      "output_layer_dense_128_1024_128_loss  :  0.11326989531517029 , TEST :  0.9759590029716492\n",
      "output_layer_dense_128_1024_512_loss  :  0.08477529138326645 , TEST :  0.9640496373176575\n",
      "output_layer_dense_128_1024_1024_loss  :  0.040315017104148865 , TEST :  1.462212324142456\n",
      "output_layer_dense_512_16_16_loss  :  0.3089679479598999 , TEST :  0.5458037257194519\n",
      "output_layer_dense_512_32_16_loss  :  0.30409279465675354 , TEST :  0.5495923161506653\n",
      "\n",
      " \n",
      " \n",
      "\n",
      "loss  :  2.353440523147583 , TEST :  6.4602484703063965\n",
      "output_layer_dense_512_32_32_loss  :  0.2961813807487488 , TEST :  0.5513256788253784\n",
      "output_layer_dense_512_64_16_loss  :  0.30330196022987366 , TEST :  0.6097418665885925\n",
      "output_layer_dense_512_64_32_loss  :  0.23444275557994843 , TEST :  0.641883909702301\n",
      "output_layer_dense_512_64_64_loss  :  0.26178136467933655 , TEST :  0.6178295612335205\n",
      "output_layer_dense_512_128_16_loss  :  0.24457475543022156 , TEST :  0.6131287813186646\n",
      "output_layer_dense_512_128_32_loss  :  0.2332645058631897 , TEST :  0.6174030900001526\n",
      "output_layer_dense_512_128_64_loss  :  0.2130274474620819 , TEST :  0.6908517479896545\n",
      "output_layer_dense_512_128_128_loss  :  0.1847340315580368 , TEST :  0.776787519454956\n",
      "output_layer_dense_512_512_16_loss  :  0.18138417601585388 , TEST :  0.7170151472091675\n",
      "output_layer_dense_512_512_32_loss  :  0.20074811577796936 , TEST :  0.6242806911468506\n",
      "\n",
      " \n",
      " \n",
      "\n",
      "loss  :  1.0928950309753418 , TEST :  12.93974494934082\n",
      "output_layer_dense_512_512_64_loss  :  0.18157343566417694 , TEST :  0.8718745112419128\n",
      "output_layer_dense_512_512_128_loss  :  0.14755092561244965 , TEST :  0.9702232480049133\n",
      "output_layer_dense_512_512_512_loss  :  0.05691917613148689 , TEST :  1.451851725578308\n",
      "output_layer_dense_512_512_1024_loss  :  0.038836609572172165 , TEST :  1.9847005605697632\n",
      "output_layer_dense_512_1024_16_loss  :  0.1836664080619812 , TEST :  0.9248026013374329\n",
      "output_layer_dense_512_1024_32_loss  :  0.16798026859760284 , TEST :  0.7906540632247925\n",
      "output_layer_dense_512_1024_64_loss  :  0.1405089944601059 , TEST :  0.9632476568222046\n",
      "output_layer_dense_512_1024_128_loss  :  0.09705408662557602 , TEST :  1.1124311685562134\n",
      "output_layer_dense_512_1024_512_loss  :  0.017727231606841087 , TEST :  1.6644691228866577\n",
      "output_layer_dense_512_1024_1024_loss  :  0.061077941209077835 , TEST :  2.2054898738861084\n",
      "\n",
      " \n",
      " \n",
      "\n",
      "loss  :  2.463487148284912 , TEST :  5.880417823791504\n",
      "output_layer_dense_1024_16_16_loss  :  0.32468530535697937 , TEST :  0.5325368642807007\n",
      "output_layer_dense_1024_32_16_loss  :  0.29460546374320984 , TEST :  0.5557606816291809\n",
      "output_layer_dense_1024_32_32_loss  :  0.2575099468231201 , TEST :  0.563971221446991\n",
      "output_layer_dense_1024_64_16_loss  :  0.2511615455150604 , TEST :  0.5535693168640137\n",
      "output_layer_dense_1024_64_32_loss  :  0.23641884326934814 , TEST :  0.6071636080741882\n",
      "output_layer_dense_1024_64_64_loss  :  0.2339642196893692 , TEST :  0.5842819213867188\n",
      "output_layer_dense_1024_128_16_loss  :  0.24763192236423492 , TEST :  0.5812533497810364\n",
      "output_layer_dense_1024_128_32_loss  :  0.22175875306129456 , TEST :  0.6136398911476135\n",
      "output_layer_dense_1024_128_64_loss  :  0.20787230134010315 , TEST :  0.635386049747467\n",
      "output_layer_dense_1024_128_128_loss  :  0.18787911534309387 , TEST :  0.6528552770614624\n"
     ]
    },
    {
     "name": "stdout",
     "output_type": "stream",
     "text": [
      "\n",
      " \n",
      " \n",
      "\n",
      "loss  :  1.38011634349823 , TEST :  8.918476104736328\n",
      "output_layer_dense_1024_512_16_loss  :  0.16564983129501343 , TEST :  0.6622819900512695\n",
      "output_layer_dense_1024_512_32_loss  :  0.1785757839679718 , TEST :  0.7346681356430054\n",
      "output_layer_dense_1024_512_64_loss  :  0.17064137756824493 , TEST :  0.7219173312187195\n",
      "output_layer_dense_1024_512_128_loss  :  0.11860804259777069 , TEST :  0.8493417501449585\n",
      "output_layer_dense_1024_512_512_loss  :  0.1092822402715683 , TEST :  0.8639769554138184\n",
      "output_layer_dense_1024_1024_16_loss  :  0.18542852997779846 , TEST :  0.6979911923408508\n",
      "output_layer_dense_1024_1024_32_loss  :  0.19071754813194275 , TEST :  0.7614604830741882\n",
      "output_layer_dense_1024_1024_64_loss  :  0.10844603180885315 , TEST :  0.9692968726158142\n",
      "output_layer_dense_1024_1024_128_loss  :  0.10847746580839157 , TEST :  1.0824004411697388\n",
      "output_layer_dense_1024_1024_512_loss  :  0.04428949952125549 , TEST :  1.5751417875289917\n",
      "\n",
      " \n",
      " \n",
      "\n",
      "loss  :  0.04957611486315727 , TEST :  1.7863647937774658\n",
      "\n",
      "-------------------------------------------------------------------------------\n",
      "[{'model_name': 'dense_32_16_16', 'score': 0.48437151312828064, 'path_weights': '/home/anish/ASC_ML_test_weights/dense_32_16_16', 'model_conf': ['', 8, 3, 'relu', {'layer1': 32, 'layer2': 16, 'layer3': 16}, [1, 'sigmoid']], 'model': <tensorflow.python.keras.engine.functional.Functional object at 0x7f7f40317e50>}, {'model_name': 'dense_16_64', 'score': 0.4867844581604004, 'path_weights': '/home/anish/ASC_ML_test_weights/dense_16_64', 'model_conf': ['', 8, 2, 'relu', {'layer1': 16, 'layer2': 64}, [1, 'sigmoid']], 'model': <tensorflow.python.keras.engine.functional.Functional object at 0x7f7f90183ac0>}]\n",
      "\n",
      "-------------------------------------------------------------------------------\n",
      "--------------------------------------------------------------------------------\n",
      "Model Name : dense_32_16_16_dr\n",
      "\n",
      "BEST HYPERPARAMETERS : BEST_LOSS : 0.2746609151363373, BEST_ACTIVATION : relu, BEST_INITIALIZER : GlorotNormal, BEST_LEARINING_RATE : 0.01259, BEST_BATCHSIZE : 16, BEST_DROPOUT_RATE : 0.0, BEST_DROPOUT_LOSS : 0.28450503945350647\n",
      "\n",
      " \n",
      " \n",
      "\n",
      "loss  :  0.2547592520713806 , TEST :  0.9947646856307983\n"
     ]
    },
    {
     "name": "stderr",
     "output_type": "stream",
     "text": [
      "2022-09-16 19:39:46.778226: W tensorflow/python/util/util.cc:348] Sets are not currently considered sequences, but this may change in the future, so consider avoiding using them.\n"
     ]
    },
    {
     "name": "stdout",
     "output_type": "stream",
     "text": [
      "INFO:tensorflow:Assets written to: /home/anish/ASC_ML_test_weights/candidate_models/dense_32_16_16_dr/assets\n",
      "--------------------------------------------------------------------------------\n",
      "Model Name : dense_16_64_dr\n",
      "\n",
      "BEST HYPERPARAMETERS : BEST_LOSS : 0.30741041898727417, BEST_ACTIVATION : relu, BEST_INITIALIZER : GlorotUniform, BEST_LEARINING_RATE : 0.03162, BEST_BATCHSIZE : 16, BEST_DROPOUT_RATE : 0.2, BEST_DROPOUT_LOSS : 0.31400296092033386\n",
      "\n",
      " \n",
      " \n",
      "\n",
      "loss  :  0.3120606243610382 , TEST :  0.7318111658096313\n",
      "INFO:tensorflow:Assets written to: /home/anish/ASC_ML_test_weights/candidate_models/dense_16_64_dr/assets\n",
      "-------------------------------------------------------------------------------------------------------------------\n",
      "dense_32_16_16_dr_st_dense_32_16_16_dr\n",
      "Model: \"dense_32_16_16_dr_st_dense_32_16_16_dr\"\n",
      "_________________________________________________________________\n",
      "Layer (type)                 Output Shape              Param #   \n",
      "=================================================================\n",
      "input_layer_dense_32_16_16_d [(None, 8)]               0         \n",
      "_________________________________________________________________\n",
      "layer1_dense_32_16_16_dr (De (None, 32)                288       \n",
      "_________________________________________________________________\n",
      "layer2_dense_32_16_16_dr (De (None, 16)                528       \n",
      "_________________________________________________________________\n",
      "layer3_dense_32_16_16_dr (De (None, 16)                272       \n",
      "_________________________________________________________________\n",
      "dropout_3 (Dropout)          (None, 16)                0         \n",
      "_________________________________________________________________\n",
      "layer1_dense_32_16_16_dr_2nd (None, 32)                544       \n",
      "_________________________________________________________________\n",
      "layer2_dense_32_16_16_dr_2nd (None, 16)                528       \n",
      "_________________________________________________________________\n",
      "layer3_dense_32_16_16_dr_2nd (None, 16)                272       \n",
      "_________________________________________________________________\n",
      "dropout_4 (Dropout)          (None, 16)                0         \n",
      "_________________________________________________________________\n",
      "output_layer_dense_32_16_16_ (None, 1)                 17        \n",
      "=================================================================\n",
      "Total params: 2,449\n",
      "Trainable params: 2,449\n",
      "Non-trainable params: 0\n",
      "_________________________________________________________________\n",
      "None\n",
      "BEST HYPERPARAMETERS : BEST_LOSS : 0.28183820843696594, BEST_ACTIVATION : relu, BEST_INITIALIZER : GlorotUniform, BEST_LEARINING_RATE : 0.00398, BEST_BATCHSIZE : 16, BEST_DROPOUT_RATE : None, BEST_DROPOUT_LOSS : None\n",
      "GlorotUniform\n",
      "DROPOUT RATES : [0.2, 0]\n",
      "TRAIN_LOSS = 0.23035554587841034, TEST_LOSS = 1.0826835632324219\n",
      "INFO:tensorflow:Assets written to: /home/anish/ASC_ML_test_weights/stacked_models/dense_32_16_16_dr_st_dense_32_16_16_dr/assets\n",
      "-------------------------------------------------------------------------------------------------------------------\n",
      "dense_32_16_16_dr_st_dense_16_64_dr\n",
      "Model: \"dense_32_16_16_dr_st_dense_16_64_dr\"\n",
      "_________________________________________________________________\n",
      "Layer (type)                 Output Shape              Param #   \n",
      "=================================================================\n",
      "input_layer_dense_32_16_16_d [(None, 8)]               0         \n",
      "_________________________________________________________________\n",
      "layer1_dense_32_16_16_dr (De (None, 32)                288       \n",
      "_________________________________________________________________\n",
      "layer2_dense_32_16_16_dr (De (None, 16)                528       \n",
      "_________________________________________________________________\n",
      "layer3_dense_32_16_16_dr (De (None, 16)                272       \n",
      "_________________________________________________________________\n",
      "dropout_6 (Dropout)          (None, 16)                0         \n",
      "_________________________________________________________________\n",
      "layer1_dense_16_64_dr_2nd (D (None, 16)                272       \n",
      "_________________________________________________________________\n",
      "layer2_dense_16_64_dr_2nd (D (None, 64)                1088      \n",
      "_________________________________________________________________\n",
      "dropout_7 (Dropout)          (None, 64)                0         \n",
      "_________________________________________________________________\n",
      "output_layer_dense_16_64_dr  (None, 1)                 65        \n",
      "=================================================================\n",
      "Total params: 2,513\n",
      "Trainable params: 2,513\n",
      "Non-trainable params: 0\n",
      "_________________________________________________________________\n",
      "None\n",
      "BEST HYPERPARAMETERS : BEST_LOSS : 0.30714288353919983, BEST_ACTIVATION : selu, BEST_INITIALIZER : LecunUniform, BEST_LEARINING_RATE : 0.00398, BEST_BATCHSIZE : 16, BEST_DROPOUT_RATE : None, BEST_DROPOUT_LOSS : None\n",
      "LecunUniform\n",
      "DROPOUT RATES : [0, 0.2]\n",
      "TRAIN_LOSS = 0.15818873047828674, TEST_LOSS = 0.8271191120147705\n",
      "INFO:tensorflow:Assets written to: /home/anish/ASC_ML_test_weights/stacked_models/dense_32_16_16_dr_st_dense_16_64_dr/assets\n",
      "-------------------------------------------------------------------------------------------------------------------\n",
      "dense_16_64_dr_st_dense_32_16_16_dr\n",
      "Model: \"dense_16_64_dr_st_dense_32_16_16_dr\"\n",
      "_________________________________________________________________\n",
      "Layer (type)                 Output Shape              Param #   \n",
      "=================================================================\n",
      "input_layer_dense_16_64_dr ( [(None, 8)]               0         \n",
      "_________________________________________________________________\n",
      "layer1_dense_16_64_dr (Dense (None, 16)                144       \n",
      "_________________________________________________________________\n",
      "layer2_dense_16_64_dr (Dense (None, 64)                1088      \n",
      "_________________________________________________________________\n",
      "dropout_9 (Dropout)          (None, 64)                0         \n",
      "_________________________________________________________________\n",
      "layer1_dense_32_16_16_dr_2nd (None, 32)                2080      \n",
      "_________________________________________________________________\n",
      "layer2_dense_32_16_16_dr_2nd (None, 16)                528       \n",
      "_________________________________________________________________\n",
      "layer3_dense_32_16_16_dr_2nd (None, 16)                272       \n",
      "_________________________________________________________________\n",
      "dropout_10 (Dropout)         (None, 16)                0         \n",
      "_________________________________________________________________\n",
      "output_layer_dense_32_16_16_ (None, 1)                 17        \n",
      "=================================================================\n",
      "Total params: 4,129\n",
      "Trainable params: 4,129\n",
      "Non-trainable params: 0\n",
      "_________________________________________________________________\n",
      "None\n",
      "BEST HYPERPARAMETERS : BEST_LOSS : 0.27132555842399597, BEST_ACTIVATION : selu, BEST_INITIALIZER : LecunNormal, BEST_LEARINING_RATE : 0.00794, BEST_BATCHSIZE : 16, BEST_DROPOUT_RATE : None, BEST_DROPOUT_LOSS : None\n",
      "LecunNormal\n",
      "DROPOUT RATES : [0.5, 0]\n",
      "TRAIN_LOSS = 0.2690649926662445, TEST_LOSS = 0.7931109666824341\n",
      "INFO:tensorflow:Assets written to: /home/anish/ASC_ML_test_weights/stacked_models/dense_16_64_dr_st_dense_32_16_16_dr/assets\n",
      "-------------------------------------------------------------------------------------------------------------------\n",
      "dense_16_64_dr_st_dense_16_64_dr\n",
      "Model: \"dense_16_64_dr_st_dense_16_64_dr\"\n",
      "_________________________________________________________________\n",
      "Layer (type)                 Output Shape              Param #   \n",
      "=================================================================\n",
      "input_layer_dense_16_64_dr ( [(None, 8)]               0         \n",
      "_________________________________________________________________\n",
      "layer1_dense_16_64_dr (Dense (None, 16)                144       \n",
      "_________________________________________________________________\n",
      "layer2_dense_16_64_dr (Dense (None, 64)                1088      \n",
      "_________________________________________________________________\n",
      "dropout_12 (Dropout)         (None, 64)                0         \n",
      "_________________________________________________________________\n",
      "layer1_dense_16_64_dr_2nd (D (None, 16)                1040      \n",
      "_________________________________________________________________\n",
      "layer2_dense_16_64_dr_2nd (D (None, 64)                1088      \n",
      "_________________________________________________________________\n",
      "dropout_13 (Dropout)         (None, 64)                0         \n",
      "_________________________________________________________________\n",
      "output_layer_dense_16_64_dr  (None, 1)                 65        \n",
      "=================================================================\n",
      "Total params: 3,425\n",
      "Trainable params: 3,425\n",
      "Non-trainable params: 0\n",
      "_________________________________________________________________\n",
      "None\n"
     ]
    },
    {
     "name": "stdout",
     "output_type": "stream",
     "text": [
      "BEST HYPERPARAMETERS : BEST_LOSS : 0.28449562191963196, BEST_ACTIVATION : selu, BEST_INITIALIZER : LecunNormal, BEST_LEARINING_RATE : 0.00794, BEST_BATCHSIZE : 16, BEST_DROPOUT_RATE : None, BEST_DROPOUT_LOSS : None\n",
      "LecunNormal\n",
      "DROPOUT RATES : [0.5, 0.5]\n",
      "TRAIN_LOSS = 0.28652718663215637, TEST_LOSS = 0.6865410208702087\n",
      "INFO:tensorflow:Assets written to: /home/anish/ASC_ML_test_weights/stacked_models/dense_16_64_dr_st_dense_16_64_dr/assets\n"
     ]
    }
   ],
   "source": [
    "f = final.Final(X_train, y_train, X_test, y_test, \"binary_crossentropy\", 100, 64, input_shape = 8, \n",
    "                                   max_no_layers = 3, model_per_batch = 10, output_activation = \"sigmoid\")\n",
    "f.get_all_best_models()"
   ]
  },
  {
   "cell_type": "code",
   "execution_count": 27,
   "metadata": {},
   "outputs": [],
   "source": [
    "from tensorflow.keras.models import load_model"
   ]
  },
  {
   "cell_type": "code",
   "execution_count": 28,
   "metadata": {},
   "outputs": [],
   "source": [
    "model = load_model(\"/home/anish/ASC_ML_test_weights/candidate_models/dense_64_64_16_dr\")\n",
    "model.compile(loss='binary_crossentropy', optimizer='adam', metrics=['accuracy'])"
   ]
  },
  {
   "cell_type": "code",
   "execution_count": 29,
   "metadata": {},
   "outputs": [
    {
     "name": "stdout",
     "output_type": "stream",
     "text": [
      "9/9 [==============================] - 1s 9ms/step - loss: 0.5787 - accuracy: 0.8010\n"
     ]
    },
    {
     "data": {
      "text/plain": [
       "[0.521237313747406, 0.8014981150627136]"
      ]
     },
     "execution_count": 29,
     "metadata": {},
     "output_type": "execute_result"
    }
   ],
   "source": [
    "model.evaluate(X_train, y_train)"
   ]
  },
  {
   "cell_type": "code",
   "execution_count": 30,
   "metadata": {},
   "outputs": [
    {
     "name": "stdout",
     "output_type": "stream",
     "text": [
      "3/3 [==============================] - 0s 19ms/step - loss: 0.3580 - accuracy: 0.8551\n"
     ]
    },
    {
     "data": {
      "text/plain": [
       "[0.35799556970596313, 0.8550724387168884]"
      ]
     },
     "execution_count": 30,
     "metadata": {},
     "output_type": "execute_result"
    }
   ],
   "source": [
    "model.evaluate(X_test, y_test)"
   ]
  },
  {
   "cell_type": "code",
   "execution_count": 31,
   "metadata": {},
   "outputs": [],
   "source": [
    "model = load_model(\"/home/anish/ASC_ML_test_weights/candidate_models/dense_64_64_dr\")\n",
    "model.compile(loss='binary_crossentropy', optimizer='adam', metrics=['accuracy'])"
   ]
  },
  {
   "cell_type": "code",
   "execution_count": 32,
   "metadata": {},
   "outputs": [
    {
     "name": "stdout",
     "output_type": "stream",
     "text": [
      "9/9 [==============================] - 1s 9ms/step - loss: 0.4871 - accuracy: 0.8146\n"
     ]
    },
    {
     "data": {
      "text/plain": [
       "[0.516235888004303, 0.7940074801445007]"
      ]
     },
     "execution_count": 32,
     "metadata": {},
     "output_type": "execute_result"
    }
   ],
   "source": [
    "model.evaluate(X_train, y_train)"
   ]
  },
  {
   "cell_type": "code",
   "execution_count": 33,
   "metadata": {},
   "outputs": [
    {
     "name": "stdout",
     "output_type": "stream",
     "text": [
      "3/3 [==============================] - 0s 18ms/step - loss: 0.4869 - accuracy: 0.8261\n"
     ]
    },
    {
     "data": {
      "text/plain": [
       "[0.48688843846321106, 0.8260869383811951]"
      ]
     },
     "execution_count": 33,
     "metadata": {},
     "output_type": "execute_result"
    }
   ],
   "source": [
    "model.evaluate(X_test, y_test)"
   ]
  },
  {
   "cell_type": "code",
   "execution_count": 34,
   "metadata": {},
   "outputs": [],
   "source": [
    "model = load_model(\"/home/anish/ASC_ML_test_weights/stacked_models/dense_64_64_16_dr_st_dense_64_64_16_dr\")\n",
    "model.compile(loss='binary_crossentropy', optimizer='adam', metrics=['accuracy'])"
   ]
  },
  {
   "cell_type": "code",
   "execution_count": 35,
   "metadata": {},
   "outputs": [
    {
     "name": "stdout",
     "output_type": "stream",
     "text": [
      "9/9 [==============================] - 1s 14ms/step - loss: 0.6032 - accuracy: 0.7549\n"
     ]
    },
    {
     "data": {
      "text/plain": [
       "[0.5857816338539124, 0.7602996230125427]"
      ]
     },
     "execution_count": 35,
     "metadata": {},
     "output_type": "execute_result"
    }
   ],
   "source": [
    "model.evaluate(X_train, y_train)"
   ]
  },
  {
   "cell_type": "code",
   "execution_count": 36,
   "metadata": {},
   "outputs": [
    {
     "name": "stdout",
     "output_type": "stream",
     "text": [
      "3/3 [==============================] - 0s 21ms/step - loss: 0.6724 - accuracy: 0.7971\n"
     ]
    },
    {
     "data": {
      "text/plain": [
       "[0.6724402904510498, 0.7971014380455017]"
      ]
     },
     "execution_count": 36,
     "metadata": {},
     "output_type": "execute_result"
    }
   ],
   "source": [
    "model.evaluate(X_test, y_test)"
   ]
  },
  {
   "cell_type": "code",
   "execution_count": 37,
   "metadata": {},
   "outputs": [],
   "source": [
    "model = load_model(\"/home/anish/ASC_ML_test_weights/stacked_models/dense_64_64_16_dr_st_dense_64_64_dr\")\n",
    "model.compile(loss='binary_crossentropy', optimizer='adam', metrics=['accuracy'])"
   ]
  },
  {
   "cell_type": "code",
   "execution_count": 38,
   "metadata": {},
   "outputs": [
    {
     "name": "stdout",
     "output_type": "stream",
     "text": [
      "9/9 [==============================] - 1s 10ms/step - loss: 2.4980 - accuracy: 0.7785\n"
     ]
    },
    {
     "data": {
      "text/plain": [
       "[2.259253978729248, 0.7602996230125427]"
      ]
     },
     "execution_count": 38,
     "metadata": {},
     "output_type": "execute_result"
    }
   ],
   "source": [
    "model.evaluate(X_train, y_train)"
   ]
  },
  {
   "cell_type": "code",
   "execution_count": 39,
   "metadata": {},
   "outputs": [
    {
     "name": "stdout",
     "output_type": "stream",
     "text": [
      "3/3 [==============================] - 0s 23ms/step - loss: 2.4597 - accuracy: 0.8116\n"
     ]
    },
    {
     "data": {
      "text/plain": [
       "[2.4597318172454834, 0.8115941882133484]"
      ]
     },
     "execution_count": 39,
     "metadata": {},
     "output_type": "execute_result"
    }
   ],
   "source": [
    "model.evaluate(X_test, y_test)"
   ]
  },
  {
   "cell_type": "code",
   "execution_count": 40,
   "metadata": {},
   "outputs": [],
   "source": [
    "model = load_model(\"/home/anish/ASC_ML_test_weights/stacked_models/dense_64_64_dr_st_dense_64_64_16_dr\")\n",
    "model.compile(loss='binary_crossentropy', optimizer='adam', metrics=['accuracy'])"
   ]
  },
  {
   "cell_type": "code",
   "execution_count": 41,
   "metadata": {},
   "outputs": [
    {
     "name": "stdout",
     "output_type": "stream",
     "text": [
      "9/9 [==============================] - 1s 8ms/step - loss: 1.1347 - accuracy: 0.8278\n"
     ]
    },
    {
     "data": {
      "text/plain": [
       "[1.1076922416687012, 0.8202247023582458]"
      ]
     },
     "execution_count": 41,
     "metadata": {},
     "output_type": "execute_result"
    }
   ],
   "source": [
    "model.evaluate(X_train, y_train)"
   ]
  },
  {
   "cell_type": "code",
   "execution_count": 42,
   "metadata": {},
   "outputs": [
    {
     "name": "stdout",
     "output_type": "stream",
     "text": [
      "3/3 [==============================] - 0s 7ms/step - loss: 1.3341 - accuracy: 0.8406\n"
     ]
    },
    {
     "data": {
      "text/plain": [
       "[1.3340851068496704, 0.8405796885490417]"
      ]
     },
     "execution_count": 42,
     "metadata": {},
     "output_type": "execute_result"
    }
   ],
   "source": [
    "model.evaluate(X_test, y_test)"
   ]
  },
  {
   "cell_type": "code",
   "execution_count": 43,
   "metadata": {},
   "outputs": [],
   "source": [
    "model = load_model(\"/home/anish/ASC_ML_test_weights/stacked_models/dense_64_64_dr_st_dense_64_64_dr\")\n",
    "model.compile(loss='binary_crossentropy', optimizer='adam', metrics=['accuracy'])"
   ]
  },
  {
   "cell_type": "code",
   "execution_count": 44,
   "metadata": {},
   "outputs": [
    {
     "name": "stdout",
     "output_type": "stream",
     "text": [
      "9/9 [==============================] - 1s 11ms/step - loss: 0.6160 - accuracy: 0.7567\n"
     ]
    },
    {
     "data": {
      "text/plain": [
       "[0.5939391851425171, 0.7640449404716492]"
      ]
     },
     "execution_count": 44,
     "metadata": {},
     "output_type": "execute_result"
    }
   ],
   "source": [
    "model.evaluate(X_train, y_train)"
   ]
  },
  {
   "cell_type": "code",
   "execution_count": 45,
   "metadata": {},
   "outputs": [
    {
     "name": "stdout",
     "output_type": "stream",
     "text": [
      "3/3 [==============================] - 0s 23ms/step - loss: 0.6107 - accuracy: 0.7681\n"
     ]
    },
    {
     "data": {
      "text/plain": [
       "[0.6106883883476257, 0.7681159377098083]"
      ]
     },
     "execution_count": 45,
     "metadata": {},
     "output_type": "execute_result"
    }
   ],
   "source": [
    "model.evaluate(X_test, y_test)"
   ]
  },
  {
   "cell_type": "code",
   "execution_count": 46,
   "metadata": {},
   "outputs": [
    {
     "name": "stdout",
     "output_type": "stream",
     "text": [
      "Gaussian Naive Bayes model accuracy(in %): 79.71014492753623\n"
     ]
    },
    {
     "name": "stderr",
     "output_type": "stream",
     "text": [
      "/home/anish/anaconda3/envs/tfgpu/lib/python3.9/site-packages/sklearn/utils/validation.py:1111: DataConversionWarning: A column-vector y was passed when a 1d array was expected. Please change the shape of y to (n_samples, ), for example using ravel().\n",
      "  y = column_or_1d(y, warn=True)\n"
     ]
    }
   ],
   "source": [
    "from sklearn.naive_bayes import GaussianNB\n",
    "gnb = GaussianNB()\n",
    "gnb.fit(X_train, y_train)\n",
    "\n",
    "# making predictions on the testing set\n",
    "y_pred = gnb.predict(X_test)\n",
    "\n",
    "# comparing actual response values (y_test) with predicted response values (y_pred)\n",
    "from sklearn import metrics\n",
    "print(\"Gaussian Naive Bayes model accuracy(in %):\", metrics.accuracy_score(y_test, y_pred)*100)"
   ]
  },
  {
   "cell_type": "code",
   "execution_count": 47,
   "metadata": {},
   "outputs": [
    {
     "name": "stdout",
     "output_type": "stream",
     "text": [
      "Gaussian Naive Bayes model accuracy(in %): 77.90262172284645\n"
     ]
    }
   ],
   "source": [
    "y_pred_train = gnb.predict(X_train)\n",
    "print(\"Gaussian Naive Bayes model accuracy(in %):\", metrics.accuracy_score(y_train, y_pred_train)*100)"
   ]
  },
  {
   "cell_type": "code",
   "execution_count": null,
   "metadata": {},
   "outputs": [],
   "source": []
  }
 ],
 "metadata": {
  "kernelspec": {
   "display_name": "Python 3 (ipykernel)",
   "language": "python",
   "name": "python3"
  },
  "language_info": {
   "codemirror_mode": {
    "name": "ipython",
    "version": 3
   },
   "file_extension": ".py",
   "mimetype": "text/x-python",
   "name": "python",
   "nbconvert_exporter": "python",
   "pygments_lexer": "ipython3",
   "version": "3.9.13"
  },
  "vscode": {
   "interpreter": {
    "hash": "441a79e7978ad007ee49ac1a1197fffc94e685236b0df2483283c16abedd4251"
   }
  }
 },
 "nbformat": 4,
 "nbformat_minor": 2
}
