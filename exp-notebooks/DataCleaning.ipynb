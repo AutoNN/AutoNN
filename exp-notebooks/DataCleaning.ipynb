{
  "nbformat": 4,
  "nbformat_minor": 0,
  "metadata": {
    "colab": {
      "name": "ASC-ML",
      "provenance": [],
      "collapsed_sections": []
    },
    "kernelspec": {
      "name": "python3",
      "display_name": "Python 3"
    },
    "language_info": {
      "name": "python"
    }
  },
  "cells": [
    {
      "cell_type": "code",
      "execution_count": 32,
      "metadata": {
        "colab": {
          "base_uri": "https://localhost:8080/"
        },
        "id": "zfml6AdG-DTC",
        "outputId": "d31463e2-3bd1-4292-90df-10aa6a4cd067"
      },
      "outputs": [
        {
          "output_type": "stream",
          "name": "stdout",
          "text": [
            "Requirement already satisfied: kaggle in /usr/local/lib/python3.7/dist-packages (1.5.12)\n",
            "Requirement already satisfied: urllib3 in /usr/local/lib/python3.7/dist-packages (from kaggle) (1.24.3)\n",
            "Requirement already satisfied: requests in /usr/local/lib/python3.7/dist-packages (from kaggle) (2.23.0)\n",
            "Requirement already satisfied: tqdm in /usr/local/lib/python3.7/dist-packages (from kaggle) (4.64.0)\n",
            "Requirement already satisfied: certifi in /usr/local/lib/python3.7/dist-packages (from kaggle) (2021.10.8)\n",
            "Requirement already satisfied: python-dateutil in /usr/local/lib/python3.7/dist-packages (from kaggle) (2.8.2)\n",
            "Requirement already satisfied: python-slugify in /usr/local/lib/python3.7/dist-packages (from kaggle) (6.1.2)\n",
            "Requirement already satisfied: six>=1.10 in /usr/local/lib/python3.7/dist-packages (from kaggle) (1.15.0)\n",
            "Requirement already satisfied: text-unidecode>=1.3 in /usr/local/lib/python3.7/dist-packages (from python-slugify->kaggle) (1.3)\n",
            "Requirement already satisfied: idna<3,>=2.5 in /usr/local/lib/python3.7/dist-packages (from requests->kaggle) (2.10)\n",
            "Requirement already satisfied: chardet<4,>=3.0.2 in /usr/local/lib/python3.7/dist-packages (from requests->kaggle) (3.0.4)\n"
          ]
        }
      ],
      "source": [
        "! pip install kaggle"
      ]
    },
    {
      "cell_type": "code",
      "source": [
        "! mkdir ~/.kaggle"
      ],
      "metadata": {
        "id": "LBjzC2phBTX8",
        "colab": {
          "base_uri": "https://localhost:8080/"
        },
        "outputId": "4eed507f-308f-435f-9847-b21f6faba507"
      },
      "execution_count": 33,
      "outputs": [
        {
          "output_type": "stream",
          "name": "stdout",
          "text": [
            "mkdir: cannot create directory ‘/root/.kaggle’: File exists\n"
          ]
        }
      ]
    },
    {
      "cell_type": "code",
      "source": [
        "! cp kaggle.json ~/.kaggle/"
      ],
      "metadata": {
        "id": "-xYrQEhtBxl-"
      },
      "execution_count": 34,
      "outputs": []
    },
    {
      "cell_type": "code",
      "source": [
        "! chmod 600 ~/.kaggle/kaggle.json"
      ],
      "metadata": {
        "id": "DRMcLhLoEOAm"
      },
      "execution_count": 35,
      "outputs": []
    },
    {
      "cell_type": "code",
      "source": [
        "! kaggle datasets download berkeleyearth/climate-change-earth-surface-temperature-data"
      ],
      "metadata": {
        "colab": {
          "base_uri": "https://localhost:8080/"
        },
        "id": "CsYStCcaEQe2",
        "outputId": "f1a664cf-ad00-4351-c2f5-bb647e2f4d57"
      },
      "execution_count": 36,
      "outputs": [
        {
          "output_type": "stream",
          "name": "stdout",
          "text": [
            "climate-change-earth-surface-temperature-data.zip: Skipping, found more recently modified local copy (use --force to force download)\n"
          ]
        }
      ]
    },
    {
      "cell_type": "code",
      "source": [
        "! unzip climate-change-earth-surface-temperature-data.zip"
      ],
      "metadata": {
        "colab": {
          "base_uri": "https://localhost:8080/"
        },
        "id": "V2fIUfmGEgQb",
        "outputId": "757ae8ee-5072-4569-85a7-5741ab7796f4"
      },
      "execution_count": null,
      "outputs": [
        {
          "output_type": "stream",
          "name": "stdout",
          "text": [
            "Archive:  climate-change-earth-surface-temperature-data.zip\n",
            "replace GlobalLandTemperaturesByCity.csv? [y]es, [n]o, [A]ll, [N]one, [r]ename: "
          ]
        }
      ]
    },
    {
      "cell_type": "code",
      "source": [
        "import pandas as pd"
      ],
      "metadata": {
        "id": "8vkOcrnCEqOj"
      },
      "execution_count": 1,
      "outputs": []
    },
    {
      "cell_type": "code",
      "source": [
        "df = pd.read_csv(\"GlobalLandTemperaturesByCity.csv\")"
      ],
      "metadata": {
        "id": "zy5p7972EvA7"
      },
      "execution_count": 2,
      "outputs": []
    },
    {
      "cell_type": "code",
      "source": [
        "# df = pd.read_csv(\"/content/sample_data/california_housing_train.csv\")"
      ],
      "metadata": {
        "id": "sK0mtVBpSpqn"
      },
      "execution_count": 3,
      "outputs": []
    },
    {
      "cell_type": "code",
      "source": [
        "df"
      ],
      "metadata": {
        "colab": {
          "base_uri": "https://localhost:8080/",
          "height": 423
        },
        "id": "Qw6rmknbE07Y",
        "outputId": "c26a287d-ce01-4827-c33f-6e2708dc0832"
      },
      "execution_count": 4,
      "outputs": [
        {
          "output_type": "execute_result",
          "data": {
            "text/plain": [
              "                 dt  AverageTemperature  AverageTemperatureUncertainty  \\\n",
              "0        1743-11-01               6.068                          1.737   \n",
              "1        1743-12-01                 NaN                            NaN   \n",
              "2        1744-01-01                 NaN                            NaN   \n",
              "3        1744-02-01                 NaN                            NaN   \n",
              "4        1744-03-01                 NaN                            NaN   \n",
              "...             ...                 ...                            ...   \n",
              "8599207  2013-05-01              11.464                          0.236   \n",
              "8599208  2013-06-01              15.043                          0.261   \n",
              "8599209  2013-07-01              18.775                          0.193   \n",
              "8599210  2013-08-01              18.025                          0.298   \n",
              "8599211  2013-09-01                 NaN                            NaN   \n",
              "\n",
              "           City      Country Latitude Longitude  \n",
              "0         Århus      Denmark   57.05N    10.33E  \n",
              "1         Århus      Denmark   57.05N    10.33E  \n",
              "2         Århus      Denmark   57.05N    10.33E  \n",
              "3         Århus      Denmark   57.05N    10.33E  \n",
              "4         Århus      Denmark   57.05N    10.33E  \n",
              "...         ...          ...      ...       ...  \n",
              "8599207  Zwolle  Netherlands   52.24N     5.26E  \n",
              "8599208  Zwolle  Netherlands   52.24N     5.26E  \n",
              "8599209  Zwolle  Netherlands   52.24N     5.26E  \n",
              "8599210  Zwolle  Netherlands   52.24N     5.26E  \n",
              "8599211  Zwolle  Netherlands   52.24N     5.26E  \n",
              "\n",
              "[8599212 rows x 7 columns]"
            ],
            "text/html": [
              "\n",
              "  <div id=\"df-183bd14a-9ba4-4af6-aed0-4ca32e78cc61\">\n",
              "    <div class=\"colab-df-container\">\n",
              "      <div>\n",
              "<style scoped>\n",
              "    .dataframe tbody tr th:only-of-type {\n",
              "        vertical-align: middle;\n",
              "    }\n",
              "\n",
              "    .dataframe tbody tr th {\n",
              "        vertical-align: top;\n",
              "    }\n",
              "\n",
              "    .dataframe thead th {\n",
              "        text-align: right;\n",
              "    }\n",
              "</style>\n",
              "<table border=\"1\" class=\"dataframe\">\n",
              "  <thead>\n",
              "    <tr style=\"text-align: right;\">\n",
              "      <th></th>\n",
              "      <th>dt</th>\n",
              "      <th>AverageTemperature</th>\n",
              "      <th>AverageTemperatureUncertainty</th>\n",
              "      <th>City</th>\n",
              "      <th>Country</th>\n",
              "      <th>Latitude</th>\n",
              "      <th>Longitude</th>\n",
              "    </tr>\n",
              "  </thead>\n",
              "  <tbody>\n",
              "    <tr>\n",
              "      <th>0</th>\n",
              "      <td>1743-11-01</td>\n",
              "      <td>6.068</td>\n",
              "      <td>1.737</td>\n",
              "      <td>Århus</td>\n",
              "      <td>Denmark</td>\n",
              "      <td>57.05N</td>\n",
              "      <td>10.33E</td>\n",
              "    </tr>\n",
              "    <tr>\n",
              "      <th>1</th>\n",
              "      <td>1743-12-01</td>\n",
              "      <td>NaN</td>\n",
              "      <td>NaN</td>\n",
              "      <td>Århus</td>\n",
              "      <td>Denmark</td>\n",
              "      <td>57.05N</td>\n",
              "      <td>10.33E</td>\n",
              "    </tr>\n",
              "    <tr>\n",
              "      <th>2</th>\n",
              "      <td>1744-01-01</td>\n",
              "      <td>NaN</td>\n",
              "      <td>NaN</td>\n",
              "      <td>Århus</td>\n",
              "      <td>Denmark</td>\n",
              "      <td>57.05N</td>\n",
              "      <td>10.33E</td>\n",
              "    </tr>\n",
              "    <tr>\n",
              "      <th>3</th>\n",
              "      <td>1744-02-01</td>\n",
              "      <td>NaN</td>\n",
              "      <td>NaN</td>\n",
              "      <td>Århus</td>\n",
              "      <td>Denmark</td>\n",
              "      <td>57.05N</td>\n",
              "      <td>10.33E</td>\n",
              "    </tr>\n",
              "    <tr>\n",
              "      <th>4</th>\n",
              "      <td>1744-03-01</td>\n",
              "      <td>NaN</td>\n",
              "      <td>NaN</td>\n",
              "      <td>Århus</td>\n",
              "      <td>Denmark</td>\n",
              "      <td>57.05N</td>\n",
              "      <td>10.33E</td>\n",
              "    </tr>\n",
              "    <tr>\n",
              "      <th>...</th>\n",
              "      <td>...</td>\n",
              "      <td>...</td>\n",
              "      <td>...</td>\n",
              "      <td>...</td>\n",
              "      <td>...</td>\n",
              "      <td>...</td>\n",
              "      <td>...</td>\n",
              "    </tr>\n",
              "    <tr>\n",
              "      <th>8599207</th>\n",
              "      <td>2013-05-01</td>\n",
              "      <td>11.464</td>\n",
              "      <td>0.236</td>\n",
              "      <td>Zwolle</td>\n",
              "      <td>Netherlands</td>\n",
              "      <td>52.24N</td>\n",
              "      <td>5.26E</td>\n",
              "    </tr>\n",
              "    <tr>\n",
              "      <th>8599208</th>\n",
              "      <td>2013-06-01</td>\n",
              "      <td>15.043</td>\n",
              "      <td>0.261</td>\n",
              "      <td>Zwolle</td>\n",
              "      <td>Netherlands</td>\n",
              "      <td>52.24N</td>\n",
              "      <td>5.26E</td>\n",
              "    </tr>\n",
              "    <tr>\n",
              "      <th>8599209</th>\n",
              "      <td>2013-07-01</td>\n",
              "      <td>18.775</td>\n",
              "      <td>0.193</td>\n",
              "      <td>Zwolle</td>\n",
              "      <td>Netherlands</td>\n",
              "      <td>52.24N</td>\n",
              "      <td>5.26E</td>\n",
              "    </tr>\n",
              "    <tr>\n",
              "      <th>8599210</th>\n",
              "      <td>2013-08-01</td>\n",
              "      <td>18.025</td>\n",
              "      <td>0.298</td>\n",
              "      <td>Zwolle</td>\n",
              "      <td>Netherlands</td>\n",
              "      <td>52.24N</td>\n",
              "      <td>5.26E</td>\n",
              "    </tr>\n",
              "    <tr>\n",
              "      <th>8599211</th>\n",
              "      <td>2013-09-01</td>\n",
              "      <td>NaN</td>\n",
              "      <td>NaN</td>\n",
              "      <td>Zwolle</td>\n",
              "      <td>Netherlands</td>\n",
              "      <td>52.24N</td>\n",
              "      <td>5.26E</td>\n",
              "    </tr>\n",
              "  </tbody>\n",
              "</table>\n",
              "<p>8599212 rows × 7 columns</p>\n",
              "</div>\n",
              "      <button class=\"colab-df-convert\" onclick=\"convertToInteractive('df-183bd14a-9ba4-4af6-aed0-4ca32e78cc61')\"\n",
              "              title=\"Convert this dataframe to an interactive table.\"\n",
              "              style=\"display:none;\">\n",
              "        \n",
              "  <svg xmlns=\"http://www.w3.org/2000/svg\" height=\"24px\"viewBox=\"0 0 24 24\"\n",
              "       width=\"24px\">\n",
              "    <path d=\"M0 0h24v24H0V0z\" fill=\"none\"/>\n",
              "    <path d=\"M18.56 5.44l.94 2.06.94-2.06 2.06-.94-2.06-.94-.94-2.06-.94 2.06-2.06.94zm-11 1L8.5 8.5l.94-2.06 2.06-.94-2.06-.94L8.5 2.5l-.94 2.06-2.06.94zm10 10l.94 2.06.94-2.06 2.06-.94-2.06-.94-.94-2.06-.94 2.06-2.06.94z\"/><path d=\"M17.41 7.96l-1.37-1.37c-.4-.4-.92-.59-1.43-.59-.52 0-1.04.2-1.43.59L10.3 9.45l-7.72 7.72c-.78.78-.78 2.05 0 2.83L4 21.41c.39.39.9.59 1.41.59.51 0 1.02-.2 1.41-.59l7.78-7.78 2.81-2.81c.8-.78.8-2.07 0-2.86zM5.41 20L4 18.59l7.72-7.72 1.47 1.35L5.41 20z\"/>\n",
              "  </svg>\n",
              "      </button>\n",
              "      \n",
              "  <style>\n",
              "    .colab-df-container {\n",
              "      display:flex;\n",
              "      flex-wrap:wrap;\n",
              "      gap: 12px;\n",
              "    }\n",
              "\n",
              "    .colab-df-convert {\n",
              "      background-color: #E8F0FE;\n",
              "      border: none;\n",
              "      border-radius: 50%;\n",
              "      cursor: pointer;\n",
              "      display: none;\n",
              "      fill: #1967D2;\n",
              "      height: 32px;\n",
              "      padding: 0 0 0 0;\n",
              "      width: 32px;\n",
              "    }\n",
              "\n",
              "    .colab-df-convert:hover {\n",
              "      background-color: #E2EBFA;\n",
              "      box-shadow: 0px 1px 2px rgba(60, 64, 67, 0.3), 0px 1px 3px 1px rgba(60, 64, 67, 0.15);\n",
              "      fill: #174EA6;\n",
              "    }\n",
              "\n",
              "    [theme=dark] .colab-df-convert {\n",
              "      background-color: #3B4455;\n",
              "      fill: #D2E3FC;\n",
              "    }\n",
              "\n",
              "    [theme=dark] .colab-df-convert:hover {\n",
              "      background-color: #434B5C;\n",
              "      box-shadow: 0px 1px 3px 1px rgba(0, 0, 0, 0.15);\n",
              "      filter: drop-shadow(0px 1px 2px rgba(0, 0, 0, 0.3));\n",
              "      fill: #FFFFFF;\n",
              "    }\n",
              "  </style>\n",
              "\n",
              "      <script>\n",
              "        const buttonEl =\n",
              "          document.querySelector('#df-183bd14a-9ba4-4af6-aed0-4ca32e78cc61 button.colab-df-convert');\n",
              "        buttonEl.style.display =\n",
              "          google.colab.kernel.accessAllowed ? 'block' : 'none';\n",
              "\n",
              "        async function convertToInteractive(key) {\n",
              "          const element = document.querySelector('#df-183bd14a-9ba4-4af6-aed0-4ca32e78cc61');\n",
              "          const dataTable =\n",
              "            await google.colab.kernel.invokeFunction('convertToInteractive',\n",
              "                                                     [key], {});\n",
              "          if (!dataTable) return;\n",
              "\n",
              "          const docLinkHtml = 'Like what you see? Visit the ' +\n",
              "            '<a target=\"_blank\" href=https://colab.research.google.com/notebooks/data_table.ipynb>data table notebook</a>'\n",
              "            + ' to learn more about interactive tables.';\n",
              "          element.innerHTML = '';\n",
              "          dataTable['output_type'] = 'display_data';\n",
              "          await google.colab.output.renderOutput(dataTable, element);\n",
              "          const docLink = document.createElement('div');\n",
              "          docLink.innerHTML = docLinkHtml;\n",
              "          element.appendChild(docLink);\n",
              "        }\n",
              "      </script>\n",
              "    </div>\n",
              "  </div>\n",
              "  "
            ]
          },
          "metadata": {},
          "execution_count": 4
        }
      ]
    },
    {
      "cell_type": "code",
      "source": [
        "df.dtypes"
      ],
      "metadata": {
        "colab": {
          "base_uri": "https://localhost:8080/"
        },
        "id": "vfaeafLehczd",
        "outputId": "49edc379-6d28-48cb-a7e6-c59c38b9c0b2"
      },
      "execution_count": 5,
      "outputs": [
        {
          "output_type": "execute_result",
          "data": {
            "text/plain": [
              "dt                                object\n",
              "AverageTemperature               float64\n",
              "AverageTemperatureUncertainty    float64\n",
              "City                              object\n",
              "Country                           object\n",
              "Latitude                          object\n",
              "Longitude                         object\n",
              "dtype: object"
            ]
          },
          "metadata": {},
          "execution_count": 5
        }
      ]
    },
    {
      "cell_type": "code",
      "source": [
        "import numpy as np\n",
        "import seaborn as sns\n",
        "import matplotlib.pyplot as plt"
      ],
      "metadata": {
        "id": "1nLF46GSE1qN"
      },
      "execution_count": 6,
      "outputs": []
    },
    {
      "cell_type": "code",
      "source": [
        ""
      ],
      "metadata": {
        "id": "uRRqU4WtF8hX"
      },
      "execution_count": 6,
      "outputs": []
    },
    {
      "cell_type": "code",
      "source": [
        "sns.heatmap(df.isnull())"
      ],
      "metadata": {
        "colab": {
          "base_uri": "https://localhost:8080/",
          "height": 441
        },
        "id": "y_VEBAN5FFw_",
        "outputId": "0c962279-15bb-432a-9594-bd266e21d14a"
      },
      "execution_count": 7,
      "outputs": [
        {
          "output_type": "execute_result",
          "data": {
            "text/plain": [
              "<matplotlib.axes._subplots.AxesSubplot at 0x7f3057630cd0>"
            ]
          },
          "metadata": {},
          "execution_count": 7
        },
        {
          "output_type": "display_data",
          "data": {
            "text/plain": [
              "<Figure size 432x288 with 2 Axes>"
            ],
            "image/png": "[encoded data removed]"
          },
          "metadata": {
            "needs_background": "light"
          }
        }
      ]
    },
    {
      "cell_type": "code",
      "source": [
        "# sum(df['AverageTemperature'].isnull())/len(df['AverageTemperature'])"
      ],
      "metadata": {
        "id": "tEh8wU6uLBy_"
      },
      "execution_count": 8,
      "outputs": []
    },
    {
      "cell_type": "code",
      "source": [
        "def percent(dataset):\n",
        "  percentages = dict()\n",
        "  for col in dataset.columns:\n",
        "    column = dataset[col]\n",
        "    percentages[col] = (sum(column.isnull())/len(column))*100\n",
        "  return percentages\n"
      ],
      "metadata": {
        "id": "BzTLhVcGFOwM"
      },
      "execution_count": 9,
      "outputs": []
    },
    {
      "cell_type": "code",
      "source": [
        "missing = percent(df)"
      ],
      "metadata": {
        "id": "5augP2THNSMm"
      },
      "execution_count": 10,
      "outputs": []
    },
    {
      "cell_type": "code",
      "source": [
        "drop_columns = [x for x,y in list(filter(lambda x : x[1] > 15,[(x,missing[x]) for x in missing.keys()]))]"
      ],
      "metadata": {
        "id": "GPngnPd_xwk_"
      },
      "execution_count": 11,
      "outputs": []
    },
    {
      "cell_type": "code",
      "source": [
        "fill_columns = [x for x,y in list(filter(lambda x : 0 < x[1] <= 15,[(x,missing[x]) for x in missing.keys()]))]"
      ],
      "metadata": {
        "id": "5F7inX_Ix5bj"
      },
      "execution_count": 12,
      "outputs": []
    },
    {
      "cell_type": "code",
      "source": [
        "full_columns = [x for x,y in list(filter(lambda x : x[1] == 0,[(x,missing[x]) for x in missing.keys()]))]"
      ],
      "metadata": {
        "id": "bVpSEg3WyA4Y"
      },
      "execution_count": 13,
      "outputs": []
    },
    {
      "cell_type": "code",
      "source": [
        "drop_columns"
      ],
      "metadata": {
        "colab": {
          "base_uri": "https://localhost:8080/"
        },
        "id": "3Qur-9L8yFfe",
        "outputId": "a8440a57-023e-4a21-923b-c0923aef931c"
      },
      "execution_count": 14,
      "outputs": [
        {
          "output_type": "execute_result",
          "data": {
            "text/plain": [
              "[]"
            ]
          },
          "metadata": {},
          "execution_count": 14
        }
      ]
    },
    {
      "cell_type": "code",
      "source": [
        "fill_columns"
      ],
      "metadata": {
        "colab": {
          "base_uri": "https://localhost:8080/"
        },
        "id": "9yfJceCwyISU",
        "outputId": "a6813e27-a317-4466-b70f-a5931a919444"
      },
      "execution_count": 15,
      "outputs": [
        {
          "output_type": "execute_result",
          "data": {
            "text/plain": [
              "['AverageTemperature', 'AverageTemperatureUncertainty']"
            ]
          },
          "metadata": {},
          "execution_count": 15
        }
      ]
    },
    {
      "cell_type": "code",
      "source": [
        "full_columns"
      ],
      "metadata": {
        "colab": {
          "base_uri": "https://localhost:8080/"
        },
        "id": "Erx02jlXyLe3",
        "outputId": "55b408a9-2a95-4701-bae4-a89e9abca186"
      },
      "execution_count": 16,
      "outputs": [
        {
          "output_type": "execute_result",
          "data": {
            "text/plain": [
              "['dt', 'City', 'Country', 'Latitude', 'Longitude']"
            ]
          },
          "metadata": {},
          "execution_count": 16
        }
      ]
    },
    {
      "cell_type": "code",
      "source": [
        "new_df = df[full_columns]"
      ],
      "metadata": {
        "id": "fTk7lheMNWRk"
      },
      "execution_count": 17,
      "outputs": []
    },
    {
      "cell_type": "code",
      "source": [
        "missing"
      ],
      "metadata": {
        "colab": {
          "base_uri": "https://localhost:8080/"
        },
        "id": "wpbrY3wNxUZr",
        "outputId": "bff011c4-ca02-4703-e4ea-87994fe64a28"
      },
      "execution_count": 18,
      "outputs": [
        {
          "output_type": "execute_result",
          "data": {
            "text/plain": [
              "{'AverageTemperature': 4.234457761943769,\n",
              " 'AverageTemperatureUncertainty': 4.234457761943769,\n",
              " 'City': 0.0,\n",
              " 'Country': 0.0,\n",
              " 'Latitude': 0.0,\n",
              " 'Longitude': 0.0,\n",
              " 'dt': 0.0}"
            ]
          },
          "metadata": {},
          "execution_count": 18
        }
      ]
    },
    {
      "cell_type": "code",
      "source": [
        "new_df"
      ],
      "metadata": {
        "colab": {
          "base_uri": "https://localhost:8080/",
          "height": 423
        },
        "id": "2W1sN39FvVKR",
        "outputId": "36aa74af-61b2-4aba-d398-03ffe6042ac9"
      },
      "execution_count": 19,
      "outputs": [
        {
          "output_type": "execute_result",
          "data": {
            "text/plain": [
              "                 dt    City      Country Latitude Longitude\n",
              "0        1743-11-01   Århus      Denmark   57.05N    10.33E\n",
              "1        1743-12-01   Århus      Denmark   57.05N    10.33E\n",
              "2        1744-01-01   Århus      Denmark   57.05N    10.33E\n",
              "3        1744-02-01   Århus      Denmark   57.05N    10.33E\n",
              "4        1744-03-01   Århus      Denmark   57.05N    10.33E\n",
              "...             ...     ...          ...      ...       ...\n",
              "8599207  2013-05-01  Zwolle  Netherlands   52.24N     5.26E\n",
              "8599208  2013-06-01  Zwolle  Netherlands   52.24N     5.26E\n",
              "8599209  2013-07-01  Zwolle  Netherlands   52.24N     5.26E\n",
              "8599210  2013-08-01  Zwolle  Netherlands   52.24N     5.26E\n",
              "8599211  2013-09-01  Zwolle  Netherlands   52.24N     5.26E\n",
              "\n",
              "[8599212 rows x 5 columns]"
            ],
            "text/html": [
              "\n",
              "  <div id=\"df-dcf7a987-51b6-487b-8f4a-83b8ad8206f6\">\n",
              "    <div class=\"colab-df-container\">\n",
              "      <div>\n",
              "<style scoped>\n",
              "    .dataframe tbody tr th:only-of-type {\n",
              "        vertical-align: middle;\n",
              "    }\n",
              "\n",
              "    .dataframe tbody tr th {\n",
              "        vertical-align: top;\n",
              "    }\n",
              "\n",
              "    .dataframe thead th {\n",
              "        text-align: right;\n",
              "    }\n",
              "</style>\n",
              "<table border=\"1\" class=\"dataframe\">\n",
              "  <thead>\n",
              "    <tr style=\"text-align: right;\">\n",
              "      <th></th>\n",
              "      <th>dt</th>\n",
              "      <th>City</th>\n",
              "      <th>Country</th>\n",
              "      <th>Latitude</th>\n",
              "      <th>Longitude</th>\n",
              "    </tr>\n",
              "  </thead>\n",
              "  <tbody>\n",
              "    <tr>\n",
              "      <th>0</th>\n",
              "      <td>1743-11-01</td>\n",
              "      <td>Århus</td>\n",
              "      <td>Denmark</td>\n",
              "      <td>57.05N</td>\n",
              "      <td>10.33E</td>\n",
              "    </tr>\n",
              "    <tr>\n",
              "      <th>1</th>\n",
              "      <td>1743-12-01</td>\n",
              "      <td>Århus</td>\n",
              "      <td>Denmark</td>\n",
              "      <td>57.05N</td>\n",
              "      <td>10.33E</td>\n",
              "    </tr>\n",
              "    <tr>\n",
              "      <th>2</th>\n",
              "      <td>1744-01-01</td>\n",
              "      <td>Århus</td>\n",
              "      <td>Denmark</td>\n",
              "      <td>57.05N</td>\n",
              "      <td>10.33E</td>\n",
              "    </tr>\n",
              "    <tr>\n",
              "      <th>3</th>\n",
              "      <td>1744-02-01</td>\n",
              "      <td>Århus</td>\n",
              "      <td>Denmark</td>\n",
              "      <td>57.05N</td>\n",
              "      <td>10.33E</td>\n",
              "    </tr>\n",
              "    <tr>\n",
              "      <th>4</th>\n",
              "      <td>1744-03-01</td>\n",
              "      <td>Århus</td>\n",
              "      <td>Denmark</td>\n",
              "      <td>57.05N</td>\n",
              "      <td>10.33E</td>\n",
              "    </tr>\n",
              "    <tr>\n",
              "      <th>...</th>\n",
              "      <td>...</td>\n",
              "      <td>...</td>\n",
              "      <td>...</td>\n",
              "      <td>...</td>\n",
              "      <td>...</td>\n",
              "    </tr>\n",
              "    <tr>\n",
              "      <th>8599207</th>\n",
              "      <td>2013-05-01</td>\n",
              "      <td>Zwolle</td>\n",
              "      <td>Netherlands</td>\n",
              "      <td>52.24N</td>\n",
              "      <td>5.26E</td>\n",
              "    </tr>\n",
              "    <tr>\n",
              "      <th>8599208</th>\n",
              "      <td>2013-06-01</td>\n",
              "      <td>Zwolle</td>\n",
              "      <td>Netherlands</td>\n",
              "      <td>52.24N</td>\n",
              "      <td>5.26E</td>\n",
              "    </tr>\n",
              "    <tr>\n",
              "      <th>8599209</th>\n",
              "      <td>2013-07-01</td>\n",
              "      <td>Zwolle</td>\n",
              "      <td>Netherlands</td>\n",
              "      <td>52.24N</td>\n",
              "      <td>5.26E</td>\n",
              "    </tr>\n",
              "    <tr>\n",
              "      <th>8599210</th>\n",
              "      <td>2013-08-01</td>\n",
              "      <td>Zwolle</td>\n",
              "      <td>Netherlands</td>\n",
              "      <td>52.24N</td>\n",
              "      <td>5.26E</td>\n",
              "    </tr>\n",
              "    <tr>\n",
              "      <th>8599211</th>\n",
              "      <td>2013-09-01</td>\n",
              "      <td>Zwolle</td>\n",
              "      <td>Netherlands</td>\n",
              "      <td>52.24N</td>\n",
              "      <td>5.26E</td>\n",
              "    </tr>\n",
              "  </tbody>\n",
              "</table>\n",
              "<p>8599212 rows × 5 columns</p>\n",
              "</div>\n",
              "      <button class=\"colab-df-convert\" onclick=\"convertToInteractive('df-dcf7a987-51b6-487b-8f4a-83b8ad8206f6')\"\n",
              "              title=\"Convert this dataframe to an interactive table.\"\n",
              "              style=\"display:none;\">\n",
              "        \n",
              "  <svg xmlns=\"http://www.w3.org/2000/svg\" height=\"24px\"viewBox=\"0 0 24 24\"\n",
              "       width=\"24px\">\n",
              "    <path d=\"M0 0h24v24H0V0z\" fill=\"none\"/>\n",
              "    <path d=\"M18.56 5.44l.94 2.06.94-2.06 2.06-.94-2.06-.94-.94-2.06-.94 2.06-2.06.94zm-11 1L8.5 8.5l.94-2.06 2.06-.94-2.06-.94L8.5 2.5l-.94 2.06-2.06.94zm10 10l.94 2.06.94-2.06 2.06-.94-2.06-.94-.94-2.06-.94 2.06-2.06.94z\"/><path d=\"M17.41 7.96l-1.37-1.37c-.4-.4-.92-.59-1.43-.59-.52 0-1.04.2-1.43.59L10.3 9.45l-7.72 7.72c-.78.78-.78 2.05 0 2.83L4 21.41c.39.39.9.59 1.41.59.51 0 1.02-.2 1.41-.59l7.78-7.78 2.81-2.81c.8-.78.8-2.07 0-2.86zM5.41 20L4 18.59l7.72-7.72 1.47 1.35L5.41 20z\"/>\n",
              "  </svg>\n",
              "      </button>\n",
              "      \n",
              "  <style>\n",
              "    .colab-df-container {\n",
              "      display:flex;\n",
              "      flex-wrap:wrap;\n",
              "      gap: 12px;\n",
              "    }\n",
              "\n",
              "    .colab-df-convert {\n",
              "      background-color: #E8F0FE;\n",
              "      border: none;\n",
              "      border-radius: 50%;\n",
              "      cursor: pointer;\n",
              "      display: none;\n",
              "      fill: #1967D2;\n",
              "      height: 32px;\n",
              "      padding: 0 0 0 0;\n",
              "      width: 32px;\n",
              "    }\n",
              "\n",
              "    .colab-df-convert:hover {\n",
              "      background-color: #E2EBFA;\n",
              "      box-shadow: 0px 1px 2px rgba(60, 64, 67, 0.3), 0px 1px 3px 1px rgba(60, 64, 67, 0.15);\n",
              "      fill: #174EA6;\n",
              "    }\n",
              "\n",
              "    [theme=dark] .colab-df-convert {\n",
              "      background-color: #3B4455;\n",
              "      fill: #D2E3FC;\n",
              "    }\n",
              "\n",
              "    [theme=dark] .colab-df-convert:hover {\n",
              "      background-color: #434B5C;\n",
              "      box-shadow: 0px 1px 3px 1px rgba(0, 0, 0, 0.15);\n",
              "      filter: drop-shadow(0px 1px 2px rgba(0, 0, 0, 0.3));\n",
              "      fill: #FFFFFF;\n",
              "    }\n",
              "  </style>\n",
              "\n",
              "      <script>\n",
              "        const buttonEl =\n",
              "          document.querySelector('#df-dcf7a987-51b6-487b-8f4a-83b8ad8206f6 button.colab-df-convert');\n",
              "        buttonEl.style.display =\n",
              "          google.colab.kernel.accessAllowed ? 'block' : 'none';\n",
              "\n",
              "        async function convertToInteractive(key) {\n",
              "          const element = document.querySelector('#df-dcf7a987-51b6-487b-8f4a-83b8ad8206f6');\n",
              "          const dataTable =\n",
              "            await google.colab.kernel.invokeFunction('convertToInteractive',\n",
              "                                                     [key], {});\n",
              "          if (!dataTable) return;\n",
              "\n",
              "          const docLinkHtml = 'Like what you see? Visit the ' +\n",
              "            '<a target=\"_blank\" href=https://colab.research.google.com/notebooks/data_table.ipynb>data table notebook</a>'\n",
              "            + ' to learn more about interactive tables.';\n",
              "          element.innerHTML = '';\n",
              "          dataTable['output_type'] = 'display_data';\n",
              "          await google.colab.output.renderOutput(dataTable, element);\n",
              "          const docLink = document.createElement('div');\n",
              "          docLink.innerHTML = docLinkHtml;\n",
              "          element.appendChild(docLink);\n",
              "        }\n",
              "      </script>\n",
              "    </div>\n",
              "  </div>\n",
              "  "
            ]
          },
          "metadata": {},
          "execution_count": 19
        }
      ]
    },
    {
      "cell_type": "code",
      "source": [
        "compile = pd.concat([new_df,df[fill_columns[0]]],axis = 1)"
      ],
      "metadata": {
        "id": "kMJy6HNHxRO1"
      },
      "execution_count": 20,
      "outputs": []
    },
    {
      "cell_type": "code",
      "source": [
        "compile"
      ],
      "metadata": {
        "colab": {
          "base_uri": "https://localhost:8080/",
          "height": 423
        },
        "id": "N2secwri1WuY",
        "outputId": "8c733721-0737-4f2d-b954-0bd39a7e8c6c"
      },
      "execution_count": 21,
      "outputs": [
        {
          "output_type": "execute_result",
          "data": {
            "text/plain": [
              "                 dt    City      Country Latitude Longitude  \\\n",
              "0        1743-11-01   Århus      Denmark   57.05N    10.33E   \n",
              "1        1743-12-01   Århus      Denmark   57.05N    10.33E   \n",
              "2        1744-01-01   Århus      Denmark   57.05N    10.33E   \n",
              "3        1744-02-01   Århus      Denmark   57.05N    10.33E   \n",
              "4        1744-03-01   Århus      Denmark   57.05N    10.33E   \n",
              "...             ...     ...          ...      ...       ...   \n",
              "8599207  2013-05-01  Zwolle  Netherlands   52.24N     5.26E   \n",
              "8599208  2013-06-01  Zwolle  Netherlands   52.24N     5.26E   \n",
              "8599209  2013-07-01  Zwolle  Netherlands   52.24N     5.26E   \n",
              "8599210  2013-08-01  Zwolle  Netherlands   52.24N     5.26E   \n",
              "8599211  2013-09-01  Zwolle  Netherlands   52.24N     5.26E   \n",
              "\n",
              "         AverageTemperature  \n",
              "0                     6.068  \n",
              "1                       NaN  \n",
              "2                       NaN  \n",
              "3                       NaN  \n",
              "4                       NaN  \n",
              "...                     ...  \n",
              "8599207              11.464  \n",
              "8599208              15.043  \n",
              "8599209              18.775  \n",
              "8599210              18.025  \n",
              "8599211                 NaN  \n",
              "\n",
              "[8599212 rows x 6 columns]"
            ],
            "text/html": [
              "\n",
              "  <div id=\"df-9810a225-9265-4ebb-9287-d2dc2b3d797f\">\n",
              "    <div class=\"colab-df-container\">\n",
              "      <div>\n",
              "<style scoped>\n",
              "    .dataframe tbody tr th:only-of-type {\n",
              "        vertical-align: middle;\n",
              "    }\n",
              "\n",
              "    .dataframe tbody tr th {\n",
              "        vertical-align: top;\n",
              "    }\n",
              "\n",
              "    .dataframe thead th {\n",
              "        text-align: right;\n",
              "    }\n",
              "</style>\n",
              "<table border=\"1\" class=\"dataframe\">\n",
              "  <thead>\n",
              "    <tr style=\"text-align: right;\">\n",
              "      <th></th>\n",
              "      <th>dt</th>\n",
              "      <th>City</th>\n",
              "      <th>Country</th>\n",
              "      <th>Latitude</th>\n",
              "      <th>Longitude</th>\n",
              "      <th>AverageTemperature</th>\n",
              "    </tr>\n",
              "  </thead>\n",
              "  <tbody>\n",
              "    <tr>\n",
              "      <th>0</th>\n",
              "      <td>1743-11-01</td>\n",
              "      <td>Århus</td>\n",
              "      <td>Denmark</td>\n",
              "      <td>57.05N</td>\n",
              "      <td>10.33E</td>\n",
              "      <td>6.068</td>\n",
              "    </tr>\n",
              "    <tr>\n",
              "      <th>1</th>\n",
              "      <td>1743-12-01</td>\n",
              "      <td>Århus</td>\n",
              "      <td>Denmark</td>\n",
              "      <td>57.05N</td>\n",
              "      <td>10.33E</td>\n",
              "      <td>NaN</td>\n",
              "    </tr>\n",
              "    <tr>\n",
              "      <th>2</th>\n",
              "      <td>1744-01-01</td>\n",
              "      <td>Århus</td>\n",
              "      <td>Denmark</td>\n",
              "      <td>57.05N</td>\n",
              "      <td>10.33E</td>\n",
              "      <td>NaN</td>\n",
              "    </tr>\n",
              "    <tr>\n",
              "      <th>3</th>\n",
              "      <td>1744-02-01</td>\n",
              "      <td>Århus</td>\n",
              "      <td>Denmark</td>\n",
              "      <td>57.05N</td>\n",
              "      <td>10.33E</td>\n",
              "      <td>NaN</td>\n",
              "    </tr>\n",
              "    <tr>\n",
              "      <th>4</th>\n",
              "      <td>1744-03-01</td>\n",
              "      <td>Århus</td>\n",
              "      <td>Denmark</td>\n",
              "      <td>57.05N</td>\n",
              "      <td>10.33E</td>\n",
              "      <td>NaN</td>\n",
              "    </tr>\n",
              "    <tr>\n",
              "      <th>...</th>\n",
              "      <td>...</td>\n",
              "      <td>...</td>\n",
              "      <td>...</td>\n",
              "      <td>...</td>\n",
              "      <td>...</td>\n",
              "      <td>...</td>\n",
              "    </tr>\n",
              "    <tr>\n",
              "      <th>8599207</th>\n",
              "      <td>2013-05-01</td>\n",
              "      <td>Zwolle</td>\n",
              "      <td>Netherlands</td>\n",
              "      <td>52.24N</td>\n",
              "      <td>5.26E</td>\n",
              "      <td>11.464</td>\n",
              "    </tr>\n",
              "    <tr>\n",
              "      <th>8599208</th>\n",
              "      <td>2013-06-01</td>\n",
              "      <td>Zwolle</td>\n",
              "      <td>Netherlands</td>\n",
              "      <td>52.24N</td>\n",
              "      <td>5.26E</td>\n",
              "      <td>15.043</td>\n",
              "    </tr>\n",
              "    <tr>\n",
              "      <th>8599209</th>\n",
              "      <td>2013-07-01</td>\n",
              "      <td>Zwolle</td>\n",
              "      <td>Netherlands</td>\n",
              "      <td>52.24N</td>\n",
              "      <td>5.26E</td>\n",
              "      <td>18.775</td>\n",
              "    </tr>\n",
              "    <tr>\n",
              "      <th>8599210</th>\n",
              "      <td>2013-08-01</td>\n",
              "      <td>Zwolle</td>\n",
              "      <td>Netherlands</td>\n",
              "      <td>52.24N</td>\n",
              "      <td>5.26E</td>\n",
              "      <td>18.025</td>\n",
              "    </tr>\n",
              "    <tr>\n",
              "      <th>8599211</th>\n",
              "      <td>2013-09-01</td>\n",
              "      <td>Zwolle</td>\n",
              "      <td>Netherlands</td>\n",
              "      <td>52.24N</td>\n",
              "      <td>5.26E</td>\n",
              "      <td>NaN</td>\n",
              "    </tr>\n",
              "  </tbody>\n",
              "</table>\n",
              "<p>8599212 rows × 6 columns</p>\n",
              "</div>\n",
              "      <button class=\"colab-df-convert\" onclick=\"convertToInteractive('df-9810a225-9265-4ebb-9287-d2dc2b3d797f')\"\n",
              "              title=\"Convert this dataframe to an interactive table.\"\n",
              "              style=\"display:none;\">\n",
              "        \n",
              "  <svg xmlns=\"http://www.w3.org/2000/svg\" height=\"24px\"viewBox=\"0 0 24 24\"\n",
              "       width=\"24px\">\n",
              "    <path d=\"M0 0h24v24H0V0z\" fill=\"none\"/>\n",
              "    <path d=\"M18.56 5.44l.94 2.06.94-2.06 2.06-.94-2.06-.94-.94-2.06-.94 2.06-2.06.94zm-11 1L8.5 8.5l.94-2.06 2.06-.94-2.06-.94L8.5 2.5l-.94 2.06-2.06.94zm10 10l.94 2.06.94-2.06 2.06-.94-2.06-.94-.94-2.06-.94 2.06-2.06.94z\"/><path d=\"M17.41 7.96l-1.37-1.37c-.4-.4-.92-.59-1.43-.59-.52 0-1.04.2-1.43.59L10.3 9.45l-7.72 7.72c-.78.78-.78 2.05 0 2.83L4 21.41c.39.39.9.59 1.41.59.51 0 1.02-.2 1.41-.59l7.78-7.78 2.81-2.81c.8-.78.8-2.07 0-2.86zM5.41 20L4 18.59l7.72-7.72 1.47 1.35L5.41 20z\"/>\n",
              "  </svg>\n",
              "      </button>\n",
              "      \n",
              "  <style>\n",
              "    .colab-df-container {\n",
              "      display:flex;\n",
              "      flex-wrap:wrap;\n",
              "      gap: 12px;\n",
              "    }\n",
              "\n",
              "    .colab-df-convert {\n",
              "      background-color: #E8F0FE;\n",
              "      border: none;\n",
              "      border-radius: 50%;\n",
              "      cursor: pointer;\n",
              "      display: none;\n",
              "      fill: #1967D2;\n",
              "      height: 32px;\n",
              "      padding: 0 0 0 0;\n",
              "      width: 32px;\n",
              "    }\n",
              "\n",
              "    .colab-df-convert:hover {\n",
              "      background-color: #E2EBFA;\n",
              "      box-shadow: 0px 1px 2px rgba(60, 64, 67, 0.3), 0px 1px 3px 1px rgba(60, 64, 67, 0.15);\n",
              "      fill: #174EA6;\n",
              "    }\n",
              "\n",
              "    [theme=dark] .colab-df-convert {\n",
              "      background-color: #3B4455;\n",
              "      fill: #D2E3FC;\n",
              "    }\n",
              "\n",
              "    [theme=dark] .colab-df-convert:hover {\n",
              "      background-color: #434B5C;\n",
              "      box-shadow: 0px 1px 3px 1px rgba(0, 0, 0, 0.15);\n",
              "      filter: drop-shadow(0px 1px 2px rgba(0, 0, 0, 0.3));\n",
              "      fill: #FFFFFF;\n",
              "    }\n",
              "  </style>\n",
              "\n",
              "      <script>\n",
              "        const buttonEl =\n",
              "          document.querySelector('#df-9810a225-9265-4ebb-9287-d2dc2b3d797f button.colab-df-convert');\n",
              "        buttonEl.style.display =\n",
              "          google.colab.kernel.accessAllowed ? 'block' : 'none';\n",
              "\n",
              "        async function convertToInteractive(key) {\n",
              "          const element = document.querySelector('#df-9810a225-9265-4ebb-9287-d2dc2b3d797f');\n",
              "          const dataTable =\n",
              "            await google.colab.kernel.invokeFunction('convertToInteractive',\n",
              "                                                     [key], {});\n",
              "          if (!dataTable) return;\n",
              "\n",
              "          const docLinkHtml = 'Like what you see? Visit the ' +\n",
              "            '<a target=\"_blank\" href=https://colab.research.google.com/notebooks/data_table.ipynb>data table notebook</a>'\n",
              "            + ' to learn more about interactive tables.';\n",
              "          element.innerHTML = '';\n",
              "          dataTable['output_type'] = 'display_data';\n",
              "          await google.colab.output.renderOutput(dataTable, element);\n",
              "          const docLink = document.createElement('div');\n",
              "          docLink.innerHTML = docLinkHtml;\n",
              "          element.appendChild(docLink);\n",
              "        }\n",
              "      </script>\n",
              "    </div>\n",
              "  </div>\n",
              "  "
            ]
          },
          "metadata": {},
          "execution_count": 21
        }
      ]
    },
    {
      "cell_type": "code",
      "source": [
        "compile.dtypes"
      ],
      "metadata": {
        "colab": {
          "base_uri": "https://localhost:8080/"
        },
        "id": "ef2QJL1mfu1F",
        "outputId": "94225b09-db8d-47c8-bd58-c92c96e5d06b"
      },
      "execution_count": 22,
      "outputs": [
        {
          "output_type": "execute_result",
          "data": {
            "text/plain": [
              "dt                     object\n",
              "City                   object\n",
              "Country                object\n",
              "Latitude               object\n",
              "Longitude              object\n",
              "AverageTemperature    float64\n",
              "dtype: object"
            ]
          },
          "metadata": {},
          "execution_count": 22
        }
      ]
    },
    {
      "cell_type": "code",
      "source": [
        ""
      ],
      "metadata": {
        "id": "0yIUQYG4t2ug"
      },
      "execution_count": null,
      "outputs": []
    },
    {
      "cell_type": "code",
      "source": [
        "df.drop(drop_columns, axis=1, inplace=True)"
      ],
      "metadata": {
        "id": "m_H5ADDd0joc"
      },
      "execution_count": 27,
      "outputs": []
    },
    {
      "cell_type": "code",
      "source": [
        "def handle_nan(df,full_col,fill_col):\n",
        "  df_fullcolmns = df[full_col]\n",
        "  for to_fill in fill_col:\n",
        "    dataf = pd.concat([df_fullcolmns,df[to_fill]],axis=1)\n",
        "    ref_df = dataf.dropna(axis=0)\n",
        "    "
      ],
      "metadata": {
        "id": "xYoIz-A0hsns"
      },
      "execution_count": 36,
      "outputs": []
    },
    {
      "cell_type": "code",
      "source": [
        "handle_nan(df,full_columns,fill_columns)"
      ],
      "metadata": {
        "id": "EDXUvn08h5zz",
        "colab": {
          "base_uri": "https://localhost:8080/"
        },
        "outputId": "c1e2d5b6-4fa6-4618-bf0a-285265276c09"
      },
      "execution_count": 37,
      "outputs": [
        {
          "output_type": "stream",
          "name": "stdout",
          "text": [
            "                 dt    City      Country Latitude Longitude  \\\n",
            "0        1743-11-01   Århus      Denmark   57.05N    10.33E   \n",
            "5        1744-04-01   Århus      Denmark   57.05N    10.33E   \n",
            "6        1744-05-01   Århus      Denmark   57.05N    10.33E   \n",
            "7        1744-06-01   Århus      Denmark   57.05N    10.33E   \n",
            "8        1744-07-01   Århus      Denmark   57.05N    10.33E   \n",
            "...             ...     ...          ...      ...       ...   \n",
            "8599206  2013-04-01  Zwolle  Netherlands   52.24N     5.26E   \n",
            "8599207  2013-05-01  Zwolle  Netherlands   52.24N     5.26E   \n",
            "8599208  2013-06-01  Zwolle  Netherlands   52.24N     5.26E   \n",
            "8599209  2013-07-01  Zwolle  Netherlands   52.24N     5.26E   \n",
            "8599210  2013-08-01  Zwolle  Netherlands   52.24N     5.26E   \n",
            "\n",
            "         AverageTemperature  \n",
            "0                     6.068  \n",
            "5                     5.788  \n",
            "6                    10.644  \n",
            "7                    14.051  \n",
            "8                    16.082  \n",
            "...                     ...  \n",
            "8599206               7.710  \n",
            "8599207              11.464  \n",
            "8599208              15.043  \n",
            "8599209              18.775  \n",
            "8599210              18.025  \n",
            "\n",
            "[8235082 rows x 6 columns]\n",
            "                 dt    City      Country Latitude Longitude  \\\n",
            "0        1743-11-01   Århus      Denmark   57.05N    10.33E   \n",
            "5        1744-04-01   Århus      Denmark   57.05N    10.33E   \n",
            "6        1744-05-01   Århus      Denmark   57.05N    10.33E   \n",
            "7        1744-06-01   Århus      Denmark   57.05N    10.33E   \n",
            "8        1744-07-01   Århus      Denmark   57.05N    10.33E   \n",
            "...             ...     ...          ...      ...       ...   \n",
            "8599206  2013-04-01  Zwolle  Netherlands   52.24N     5.26E   \n",
            "8599207  2013-05-01  Zwolle  Netherlands   52.24N     5.26E   \n",
            "8599208  2013-06-01  Zwolle  Netherlands   52.24N     5.26E   \n",
            "8599209  2013-07-01  Zwolle  Netherlands   52.24N     5.26E   \n",
            "8599210  2013-08-01  Zwolle  Netherlands   52.24N     5.26E   \n",
            "\n",
            "         AverageTemperatureUncertainty  \n",
            "0                                1.737  \n",
            "5                                3.624  \n",
            "6                                1.283  \n",
            "7                                1.347  \n",
            "8                                1.396  \n",
            "...                                ...  \n",
            "8599206                          0.182  \n",
            "8599207                          0.236  \n",
            "8599208                          0.261  \n",
            "8599209                          0.193  \n",
            "8599210                          0.298  \n",
            "\n",
            "[8235082 rows x 6 columns]\n"
          ]
        }
      ]
    },
    {
      "cell_type": "code",
      "source": [
        ""
      ],
      "metadata": {
        "id": "WTsBwDiswEEl"
      },
      "execution_count": null,
      "outputs": []
    }
  ]
}